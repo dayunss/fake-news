{
 "cells": [
  {
   "cell_type": "code",
   "execution_count": 1,
   "id": "nDpU2SCeRlsA",
   "metadata": {
    "id": "nDpU2SCeRlsA"
   },
   "outputs": [],
   "source": [
    "# from google.colab import drive\n",
    "# drive.mount('/content/drive')"
   ]
  },
  {
   "cell_type": "markdown",
   "id": "2cc03c1e",
   "metadata": {
    "id": "2cc03c1e"
   },
   "source": [
    "### 가짜 뉴스 탐지기"
   ]
  },
  {
   "cell_type": "markdown",
   "id": "a9cf4eaf",
   "metadata": {
    "id": "a9cf4eaf"
   },
   "source": [
    "# 기본 데이터"
   ]
  },
  {
   "cell_type": "markdown",
   "id": "edc23582",
   "metadata": {
    "id": "edc23582"
   },
   "source": [
    "# 데이터 전처리"
   ]
  },
  {
   "cell_type": "code",
   "execution_count": 2,
   "id": "52dd0671",
   "metadata": {
    "id": "52dd0671"
   },
   "outputs": [],
   "source": [
    "import pandas as pd\n",
    "\n",
    "fake_path = 'Fake.csv'\n",
    "true_path = 'True.csv'\n",
    "fake_df = pd.read_csv(fake_path)\n",
    "true_df = pd.read_csv(true_path)"
   ]
  },
  {
   "cell_type": "markdown",
   "id": "e539ca15",
   "metadata": {
    "id": "e539ca15"
   },
   "source": [
    "## 데이터 불러오기"
   ]
  },
  {
   "cell_type": "code",
   "execution_count": 3,
   "id": "02dcbe70",
   "metadata": {
    "colab": {
     "base_uri": "https://localhost:8080/"
    },
    "id": "02dcbe70",
    "outputId": "af5dae15-bc75-4417-a535-d456edd6b456"
   },
   "outputs": [
    {
     "name": "stdout",
     "output_type": "stream",
     "text": [
      "                                                   title  \\\n",
      "23478  Sunnistan: US and Allied ‘Safe Zone’ Plan to T...   \n",
      "23479  How to Blow $700 Million: Al Jazeera America F...   \n",
      "23480  10 U.S. Navy Sailors Held by Iranian Military ...   \n",
      "\n",
      "                                                    text      subject  \\\n",
      "23478  Patrick Henningsen  21st Century WireRemember ...  Middle-east   \n",
      "23479  21st Century Wire says Al Jazeera America will...  Middle-east   \n",
      "23480  21st Century Wire says As 21WIRE predicted in ...  Middle-east   \n",
      "\n",
      "                   date  \n",
      "23478  January 15, 2016  \n",
      "23479  January 14, 2016  \n",
      "23480  January 12, 2016  \n"
     ]
    }
   ],
   "source": [
    "print(fake_df.tail(3))"
   ]
  },
  {
   "cell_type": "markdown",
   "id": "f9d514e3",
   "metadata": {
    "id": "f9d514e3"
   },
   "source": [
    "## fake_df의 데이터 확인"
   ]
  },
  {
   "cell_type": "code",
   "execution_count": 4,
   "id": "920b9929",
   "metadata": {
    "colab": {
     "base_uri": "https://localhost:8080/"
    },
    "id": "920b9929",
    "outputId": "1e4c8209-28d9-4618-915e-70f8b1597fa2"
   },
   "outputs": [
    {
     "name": "stdout",
     "output_type": "stream",
     "text": [
      "                                                   title  \\\n",
      "21414  Minsk cultural hub becomes haven from authorities   \n",
      "21415  Vatican upbeat on possibility of Pope Francis ...   \n",
      "21416  Indonesia to buy $1.14 billion worth of Russia...   \n",
      "\n",
      "                                                    text    subject  \\\n",
      "21414  MINSK (Reuters) - In the shadow of disused Sov...  worldnews   \n",
      "21415  MOSCOW (Reuters) - Vatican Secretary of State ...  worldnews   \n",
      "21416  JAKARTA (Reuters) - Indonesia will buy 11 Sukh...  worldnews   \n",
      "\n",
      "                   date  \n",
      "21414  August 22, 2017   \n",
      "21415  August 22, 2017   \n",
      "21416  August 22, 2017   \n"
     ]
    }
   ],
   "source": [
    "print(true_df.tail(3))"
   ]
  },
  {
   "cell_type": "markdown",
   "id": "70fad814",
   "metadata": {
    "id": "70fad814"
   },
   "source": [
    "## ture_df의 데이터 확인"
   ]
  },
  {
   "cell_type": "code",
   "execution_count": 5,
   "id": "28a0ea72",
   "metadata": {
    "colab": {
     "base_uri": "https://localhost:8080/"
    },
    "id": "28a0ea72",
    "outputId": "df427fe7-463e-4f63-b0ef-87ce3ed914ae"
   },
   "outputs": [
    {
     "name": "stdout",
     "output_type": "stream",
     "text": [
      "                                                   title  \\\n",
      "21414  Minsk cultural hub becomes haven from authorities   \n",
      "21415  Vatican upbeat on possibility of Pope Francis ...   \n",
      "21416  Indonesia to buy $1.14 billion worth of Russia...   \n",
      "\n",
      "                                                    text    subject  \\\n",
      "21414  MINSK (Reuters) - In the shadow of disused Sov...  worldnews   \n",
      "21415  MOSCOW (Reuters) - Vatican Secretary of State ...  worldnews   \n",
      "21416  JAKARTA (Reuters) - Indonesia will buy 11 Sukh...  worldnews   \n",
      "\n",
      "                   date  \n",
      "21414  August 22, 2017   \n",
      "21415  August 22, 2017   \n",
      "21416  August 22, 2017   \n"
     ]
    }
   ],
   "source": [
    "print(true_df.tail(3))"
   ]
  },
  {
   "cell_type": "markdown",
   "id": "9367a0b9",
   "metadata": {
    "id": "9367a0b9"
   },
   "source": [
    "## 진짜 뉴스와 가짜 뉴스를 구분하기 위한 label 열 생성"
   ]
  },
  {
   "cell_type": "code",
   "execution_count": 6,
   "id": "8f6a15f4",
   "metadata": {
    "id": "8f6a15f4"
   },
   "outputs": [],
   "source": [
    "fake_df['label'] = 1\n",
    "true_df['label'] = 0"
   ]
  },
  {
   "cell_type": "markdown",
   "id": "05f7b138",
   "metadata": {
    "id": "05f7b138"
   },
   "source": [
    "## fake_df, true_df를 result_df에 합쳐서 저장"
   ]
  },
  {
   "cell_type": "code",
   "execution_count": 7,
   "id": "9c0e3766",
   "metadata": {
    "colab": {
     "base_uri": "https://localhost:8080/",
     "height": 424
    },
    "id": "9c0e3766",
    "outputId": "2b5441eb-053e-49a3-8a75-4e55fd914f60"
   },
   "outputs": [
    {
     "data": {
      "text/html": [
       "<div>\n",
       "<style scoped>\n",
       "    .dataframe tbody tr th:only-of-type {\n",
       "        vertical-align: middle;\n",
       "    }\n",
       "\n",
       "    .dataframe tbody tr th {\n",
       "        vertical-align: top;\n",
       "    }\n",
       "\n",
       "    .dataframe thead th {\n",
       "        text-align: right;\n",
       "    }\n",
       "</style>\n",
       "<table border=\"1\" class=\"dataframe\">\n",
       "  <thead>\n",
       "    <tr style=\"text-align: right;\">\n",
       "      <th></th>\n",
       "      <th>title</th>\n",
       "      <th>text</th>\n",
       "      <th>subject</th>\n",
       "      <th>date</th>\n",
       "      <th>label</th>\n",
       "    </tr>\n",
       "  </thead>\n",
       "  <tbody>\n",
       "    <tr>\n",
       "      <th>0</th>\n",
       "      <td>Donald Trump Sends Out Embarrassing New Year’...</td>\n",
       "      <td>Donald Trump just couldn t wish all Americans ...</td>\n",
       "      <td>News</td>\n",
       "      <td>December 31, 2017</td>\n",
       "      <td>1</td>\n",
       "    </tr>\n",
       "    <tr>\n",
       "      <th>1</th>\n",
       "      <td>Drunk Bragging Trump Staffer Started Russian ...</td>\n",
       "      <td>House Intelligence Committee Chairman Devin Nu...</td>\n",
       "      <td>News</td>\n",
       "      <td>December 31, 2017</td>\n",
       "      <td>1</td>\n",
       "    </tr>\n",
       "    <tr>\n",
       "      <th>2</th>\n",
       "      <td>Sheriff David Clarke Becomes An Internet Joke...</td>\n",
       "      <td>On Friday, it was revealed that former Milwauk...</td>\n",
       "      <td>News</td>\n",
       "      <td>December 30, 2017</td>\n",
       "      <td>1</td>\n",
       "    </tr>\n",
       "    <tr>\n",
       "      <th>3</th>\n",
       "      <td>Trump Is So Obsessed He Even Has Obama’s Name...</td>\n",
       "      <td>On Christmas day, Donald Trump announced that ...</td>\n",
       "      <td>News</td>\n",
       "      <td>December 29, 2017</td>\n",
       "      <td>1</td>\n",
       "    </tr>\n",
       "    <tr>\n",
       "      <th>4</th>\n",
       "      <td>Pope Francis Just Called Out Donald Trump Dur...</td>\n",
       "      <td>Pope Francis used his annual Christmas Day mes...</td>\n",
       "      <td>News</td>\n",
       "      <td>December 25, 2017</td>\n",
       "      <td>1</td>\n",
       "    </tr>\n",
       "    <tr>\n",
       "      <th>...</th>\n",
       "      <td>...</td>\n",
       "      <td>...</td>\n",
       "      <td>...</td>\n",
       "      <td>...</td>\n",
       "      <td>...</td>\n",
       "    </tr>\n",
       "    <tr>\n",
       "      <th>44893</th>\n",
       "      <td>'Fully committed' NATO backs new U.S. approach...</td>\n",
       "      <td>BRUSSELS (Reuters) - NATO allies on Tuesday we...</td>\n",
       "      <td>worldnews</td>\n",
       "      <td>August 22, 2017</td>\n",
       "      <td>0</td>\n",
       "    </tr>\n",
       "    <tr>\n",
       "      <th>44894</th>\n",
       "      <td>LexisNexis withdrew two products from Chinese ...</td>\n",
       "      <td>LONDON (Reuters) - LexisNexis, a provider of l...</td>\n",
       "      <td>worldnews</td>\n",
       "      <td>August 22, 2017</td>\n",
       "      <td>0</td>\n",
       "    </tr>\n",
       "    <tr>\n",
       "      <th>44895</th>\n",
       "      <td>Minsk cultural hub becomes haven from authorities</td>\n",
       "      <td>MINSK (Reuters) - In the shadow of disused Sov...</td>\n",
       "      <td>worldnews</td>\n",
       "      <td>August 22, 2017</td>\n",
       "      <td>0</td>\n",
       "    </tr>\n",
       "    <tr>\n",
       "      <th>44896</th>\n",
       "      <td>Vatican upbeat on possibility of Pope Francis ...</td>\n",
       "      <td>MOSCOW (Reuters) - Vatican Secretary of State ...</td>\n",
       "      <td>worldnews</td>\n",
       "      <td>August 22, 2017</td>\n",
       "      <td>0</td>\n",
       "    </tr>\n",
       "    <tr>\n",
       "      <th>44897</th>\n",
       "      <td>Indonesia to buy $1.14 billion worth of Russia...</td>\n",
       "      <td>JAKARTA (Reuters) - Indonesia will buy 11 Sukh...</td>\n",
       "      <td>worldnews</td>\n",
       "      <td>August 22, 2017</td>\n",
       "      <td>0</td>\n",
       "    </tr>\n",
       "  </tbody>\n",
       "</table>\n",
       "<p>44898 rows × 5 columns</p>\n",
       "</div>"
      ],
      "text/plain": [
       "                                                   title  \\\n",
       "0       Donald Trump Sends Out Embarrassing New Year’...   \n",
       "1       Drunk Bragging Trump Staffer Started Russian ...   \n",
       "2       Sheriff David Clarke Becomes An Internet Joke...   \n",
       "3       Trump Is So Obsessed He Even Has Obama’s Name...   \n",
       "4       Pope Francis Just Called Out Donald Trump Dur...   \n",
       "...                                                  ...   \n",
       "44893  'Fully committed' NATO backs new U.S. approach...   \n",
       "44894  LexisNexis withdrew two products from Chinese ...   \n",
       "44895  Minsk cultural hub becomes haven from authorities   \n",
       "44896  Vatican upbeat on possibility of Pope Francis ...   \n",
       "44897  Indonesia to buy $1.14 billion worth of Russia...   \n",
       "\n",
       "                                                    text    subject  \\\n",
       "0      Donald Trump just couldn t wish all Americans ...       News   \n",
       "1      House Intelligence Committee Chairman Devin Nu...       News   \n",
       "2      On Friday, it was revealed that former Milwauk...       News   \n",
       "3      On Christmas day, Donald Trump announced that ...       News   \n",
       "4      Pope Francis used his annual Christmas Day mes...       News   \n",
       "...                                                  ...        ...   \n",
       "44893  BRUSSELS (Reuters) - NATO allies on Tuesday we...  worldnews   \n",
       "44894  LONDON (Reuters) - LexisNexis, a provider of l...  worldnews   \n",
       "44895  MINSK (Reuters) - In the shadow of disused Sov...  worldnews   \n",
       "44896  MOSCOW (Reuters) - Vatican Secretary of State ...  worldnews   \n",
       "44897  JAKARTA (Reuters) - Indonesia will buy 11 Sukh...  worldnews   \n",
       "\n",
       "                    date  label  \n",
       "0      December 31, 2017      1  \n",
       "1      December 31, 2017      1  \n",
       "2      December 30, 2017      1  \n",
       "3      December 29, 2017      1  \n",
       "4      December 25, 2017      1  \n",
       "...                  ...    ...  \n",
       "44893   August 22, 2017       0  \n",
       "44894   August 22, 2017       0  \n",
       "44895   August 22, 2017       0  \n",
       "44896   August 22, 2017       0  \n",
       "44897   August 22, 2017       0  \n",
       "\n",
       "[44898 rows x 5 columns]"
      ]
     },
     "execution_count": 7,
     "metadata": {},
     "output_type": "execute_result"
    }
   ],
   "source": [
    "result_df = pd.concat([fake_df, true_df], ignore_index=True)\n",
    "result_df"
   ]
  },
  {
   "cell_type": "markdown",
   "id": "f758db32",
   "metadata": {
    "id": "f758db32"
   },
   "source": [
    "## 확인"
   ]
  },
  {
   "cell_type": "code",
   "execution_count": 8,
   "id": "70480c87",
   "metadata": {
    "colab": {
     "base_uri": "https://localhost:8080/"
    },
    "id": "70480c87",
    "outputId": "fe38818e-7a01-4b0c-a60d-4d062a2f9364"
   },
   "outputs": [
    {
     "name": "stdout",
     "output_type": "stream",
     "text": [
      "                                                   title  label\n",
      "44895  Minsk cultural hub becomes haven from authorities      0\n",
      "44896  Vatican upbeat on possibility of Pope Francis ...      0\n",
      "44897  Indonesia to buy $1.14 billion worth of Russia...      0\n"
     ]
    }
   ],
   "source": [
    "print(result_df[['title','label']].tail(3))"
   ]
  },
  {
   "cell_type": "markdown",
   "id": "cdb69f80",
   "metadata": {
    "id": "cdb69f80"
   },
   "source": [
    "## 새로운 열 message_length를 만들어주고 text, title의 문자 길이를 저장"
   ]
  },
  {
   "cell_type": "code",
   "execution_count": 9,
   "id": "274003c6",
   "metadata": {
    "id": "274003c6"
   },
   "outputs": [],
   "source": [
    "result_df['message_length'] = result_df['text'].apply(len)\n",
    "result_df['message_length'] += result_df['title'].apply(len)"
   ]
  },
  {
   "cell_type": "code",
   "execution_count": 10,
   "id": "fdc188d5",
   "metadata": {
    "colab": {
     "base_uri": "https://localhost:8080/"
    },
    "id": "fdc188d5",
    "outputId": "2ba22fc2-0f87-4c9a-a482-5bea3ea7e468"
   },
   "outputs": [
    {
     "name": "stdout",
     "output_type": "stream",
     "text": [
      "44895    1999\n",
      "44896    1260\n",
      "44897    1390\n",
      "Name: message_length, dtype: int64\n"
     ]
    }
   ],
   "source": [
    "print(result_df['message_length'].tail(3))"
   ]
  },
  {
   "cell_type": "markdown",
   "id": "210702cd",
   "metadata": {
    "id": "210702cd"
   },
   "source": [
    "# 데이터 전처리2"
   ]
  },
  {
   "cell_type": "code",
   "execution_count": 11,
   "id": "f6889591",
   "metadata": {
    "colab": {
     "base_uri": "https://localhost:8080/"
    },
    "id": "f6889591",
    "outputId": "601b9351-b05e-4e6b-dd90-53424cb7c702"
   },
   "outputs": [
    {
     "name": "stderr",
     "output_type": "stream",
     "text": [
      "[nltk_data] Downloading package stopwords to\n",
      "[nltk_data]     /home/t16user3/nltk_data...\n",
      "[nltk_data]   Package stopwords is already up-to-date!\n",
      "[nltk_data] Downloading package names to /home/t16user3/nltk_data...\n",
      "[nltk_data]   Package names is already up-to-date!\n"
     ]
    },
    {
     "data": {
      "text/plain": [
       "True"
      ]
     },
     "execution_count": 11,
     "metadata": {},
     "output_type": "execute_result"
    }
   ],
   "source": [
    "import nltk\n",
    "nltk.download('stopwords')\n",
    "nltk.download(\"names\")"
   ]
  },
  {
   "cell_type": "code",
   "execution_count": 12,
   "id": "60a644ec",
   "metadata": {
    "id": "60a644ec"
   },
   "outputs": [],
   "source": [
    "from nltk.corpus import stopwords\n",
    "from nltk.corpus import names"
   ]
  },
  {
   "cell_type": "code",
   "execution_count": 13,
   "id": "ad698f6b",
   "metadata": {
    "id": "ad698f6b"
   },
   "outputs": [],
   "source": [
    "all_names = set(names.words())"
   ]
  },
  {
   "cell_type": "code",
   "execution_count": 14,
   "id": "5b9f5d24",
   "metadata": {
    "colab": {
     "base_uri": "https://localhost:8080/"
    },
    "id": "5b9f5d24",
    "outputId": "9c7ff537-8c14-4595-9581-e0a47e554179"
   },
   "outputs": [
    {
     "name": "stdout",
     "output_type": "stream",
     "text": [
      "['Blakeley', 'Reube', 'Avery', 'Davida', 'Theodore']\n"
     ]
    }
   ],
   "source": [
    "all_names_copy = list(all_names)\n",
    "print(all_names_copy[:5])"
   ]
  },
  {
   "cell_type": "markdown",
   "id": "2c22add8",
   "metadata": {
    "id": "2c22add8"
   },
   "source": [
    "## clean text함수 적용"
   ]
  },
  {
   "cell_type": "code",
   "execution_count": 15,
   "id": "74a73fcb",
   "metadata": {
    "id": "74a73fcb"
   },
   "outputs": [],
   "source": [
    "#clean_text 함수는 mess에 있는 string.punctuation, stop_words, all_names의 값들을 모두 제거해주고, 모든 대문자 알파벳을 소문자로 바꿔준다\n",
    "import string\n",
    "def clean_text(mess):\n",
    "    stop_words = stopwords.words('english')\n",
    "    del_punctuation = [char.lower() for char in mess if char not in string.punctuation]\n",
    "    del_punctuation = ''.join(del_punctuation)\n",
    "\n",
    "    return ' '.join([word for word in del_punctuation.split() if word.lower() not in (stop_words or all_names)])"
   ]
  },
  {
   "cell_type": "code",
   "execution_count": 16,
   "id": "e4ef31b0",
   "metadata": {
    "colab": {
     "base_uri": "https://localhost:8080/"
    },
    "id": "e4ef31b0",
    "outputId": "f71542fc-ba2f-404c-8f1c-a145c1fa2647",
    "scrolled": true
   },
   "outputs": [
    {
     "data": {
      "text/plain": [
       "['i', 'me', 'my', 'myself', 'we', 'our', 'ours', 'ourselves', 'you', \"you're\"]"
      ]
     },
     "execution_count": 16,
     "metadata": {},
     "output_type": "execute_result"
    }
   ],
   "source": [
    "stopwords.words('english')[:10]"
   ]
  },
  {
   "cell_type": "code",
   "execution_count": 17,
   "id": "401a8161",
   "metadata": {
    "id": "401a8161",
    "scrolled": true
   },
   "outputs": [],
   "source": [
    "result_df['clean_message'] = result_df['text'].apply(clean_text)\n",
    "result_df['clean_message'] += result_df['title'].apply(clean_text)"
   ]
  },
  {
   "cell_type": "markdown",
   "id": "d4e13f15",
   "metadata": {
    "id": "d4e13f15"
   },
   "source": [
    "## clean_message와 text를 비교해보면 불필요한 표현들이 없어진 것을 확인"
   ]
  },
  {
   "cell_type": "code",
   "execution_count": 18,
   "id": "4452b4cf",
   "metadata": {
    "colab": {
     "base_uri": "https://localhost:8080/"
    },
    "id": "4452b4cf",
    "outputId": "2b96f9cc-6864-4120-ca24-fb446c359ec6",
    "scrolled": true
   },
   "outputs": [
    {
     "name": "stdout",
     "output_type": "stream",
     "text": [
      "                                           clean_message  \\\n",
      "44893  brussels reuters nato allies tuesday welcomed ...   \n",
      "44894  london reuters lexisnexis provider legal regul...   \n",
      "44895  minsk reuters shadow disused sovietera factori...   \n",
      "44896  moscow reuters vatican secretary state cardina...   \n",
      "44897  jakarta reuters indonesia buy 11 sukhoi fighte...   \n",
      "\n",
      "                                                    text  \n",
      "44893  BRUSSELS (Reuters) - NATO allies on Tuesday we...  \n",
      "44894  LONDON (Reuters) - LexisNexis, a provider of l...  \n",
      "44895  MINSK (Reuters) - In the shadow of disused Sov...  \n",
      "44896  MOSCOW (Reuters) - Vatican Secretary of State ...  \n",
      "44897  JAKARTA (Reuters) - Indonesia will buy 11 Sukh...  \n"
     ]
    }
   ],
   "source": [
    "print(result_df[['clean_message', 'text']].tail())"
   ]
  },
  {
   "cell_type": "markdown",
   "id": "yUdntDDv8P27",
   "metadata": {
    "id": "yUdntDDv8P27"
   },
   "source": [
    "# 끝"
   ]
  },
  {
   "cell_type": "markdown",
   "id": "f9TzSjnH7z_n",
   "metadata": {
    "id": "f9TzSjnH7z_n"
   },
   "source": [
    "# Politics"
   ]
  },
  {
   "cell_type": "code",
   "execution_count": 19,
   "id": "W7giGNsJdmgz",
   "metadata": {
    "id": "W7giGNsJdmgz"
   },
   "outputs": [],
   "source": [
    "train = pd.read_csv('train.csv')\n",
    "test = pd.read_csv('test.csv')\n",
    "valid = pd.read_csv('valid.csv')"
   ]
  },
  {
   "cell_type": "code",
   "execution_count": 20,
   "id": "r5mouaEbmOza",
   "metadata": {
    "colab": {
     "base_uri": "https://localhost:8080/"
    },
    "id": "r5mouaEbmOza",
    "outputId": "c9fcad8e-5da9-476b-f14b-99371cc5f5cd",
    "scrolled": true
   },
   "outputs": [
    {
     "data": {
      "text/plain": [
       "abortion\n",
       "health-care                                                       381\n",
       "taxes                                                             308\n",
       "immigration                                                       253\n",
       "elections                                                         252\n",
       "education                                                         237\n",
       "                                                                 ... \n",
       "pensions,retirement,state-budget,state-finances,unions,workers      1\n",
       "foreign-policy,history,iraq                                         1\n",
       "economy,health-care,stimulus                                        1\n",
       "congress,economy                                                    1\n",
       "florida,foreign-policy                                              1\n",
       "Name: count, Length: 3827, dtype: int64"
      ]
     },
     "execution_count": 20,
     "metadata": {},
     "output_type": "execute_result"
    }
   ],
   "source": [
    "train['abortion'].value_counts()"
   ]
  },
  {
   "cell_type": "code",
   "execution_count": 21,
   "id": "0dd3cff3",
   "metadata": {
    "id": "0dd3cff3",
    "scrolled": true
   },
   "outputs": [],
   "source": [
    "# import pandas as pd\n",
    "\n",
    "# # .tsv 파일 읽기\n",
    "# train = 'train.tsv'\n",
    "# df = pd.read_csv(train, sep='\\t')\n",
    "\n",
    "# # 데이터 확인\n",
    "# print(df.head())\n",
    "\n",
    "# # .csv 파일로 저장\n",
    "# csv_file = 'train.csv'\n",
    "# df.to_csv(csv_file, index=False)"
   ]
  },
  {
   "cell_type": "code",
   "execution_count": 22,
   "id": "51193fac",
   "metadata": {
    "id": "51193fac"
   },
   "outputs": [],
   "source": [
    "# import pandas as pd\n",
    "\n",
    "# # .tsv 파일 읽기\n",
    "# test = 'test.tsv'\n",
    "# df = pd.read_csv(test, sep='\\t')\n",
    "\n",
    "# # 데이터 확인\n",
    "# print(df.head())\n",
    "\n",
    "# # .csv 파일로 저장\n",
    "# csv_file = 'test.csv'\n",
    "# df.to_csv(csv_file, index=False)"
   ]
  },
  {
   "cell_type": "code",
   "execution_count": 23,
   "id": "9d4554ef",
   "metadata": {
    "id": "9d4554ef"
   },
   "outputs": [],
   "source": [
    "# import pandas as pd\n",
    "\n",
    "# # .tsv 파일 읽기\n",
    "# valid = 'valid.tsv'\n",
    "# df = pd.read_csv(valid, sep='\\t')\n",
    "\n",
    "# # 데이터 확인\n",
    "# print(df.head())\n",
    "\n",
    "# # .csv 파일로 저장\n",
    "# csv_file = 'valid.csv'\n",
    "# df.to_csv(csv_file, index=False)"
   ]
  },
  {
   "cell_type": "code",
   "execution_count": 24,
   "id": "de51dc53",
   "metadata": {
    "scrolled": true
   },
   "outputs": [
    {
     "data": {
      "text/plain": [
       "false\n",
       "half-true      2114\n",
       "false          1994\n",
       "mostly-true    1962\n",
       "true           1676\n",
       "barely-true    1654\n",
       "pants-fire      839\n",
       "Name: count, dtype: int64"
      ]
     },
     "execution_count": 24,
     "metadata": {},
     "output_type": "execute_result"
    }
   ],
   "source": [
    "train['false'].value_counts()"
   ]
  },
  {
   "cell_type": "code",
   "execution_count": 25,
   "id": "61f7ea3f",
   "metadata": {
    "scrolled": true
   },
   "outputs": [
    {
     "data": {
      "text/html": [
       "<div>\n",
       "<style scoped>\n",
       "    .dataframe tbody tr th:only-of-type {\n",
       "        vertical-align: middle;\n",
       "    }\n",
       "\n",
       "    .dataframe tbody tr th {\n",
       "        vertical-align: top;\n",
       "    }\n",
       "\n",
       "    .dataframe thead th {\n",
       "        text-align: right;\n",
       "    }\n",
       "</style>\n",
       "<table border=\"1\" class=\"dataframe\">\n",
       "  <thead>\n",
       "    <tr style=\"text-align: right;\">\n",
       "      <th></th>\n",
       "      <th>11972.json</th>\n",
       "      <th>true</th>\n",
       "      <th>Building a wall on the U.S.-Mexico border will take literally years.</th>\n",
       "      <th>immigration</th>\n",
       "      <th>rick-perry</th>\n",
       "      <th>Governor</th>\n",
       "      <th>Texas</th>\n",
       "      <th>republican</th>\n",
       "      <th>30</th>\n",
       "      <th>30.1</th>\n",
       "      <th>42</th>\n",
       "      <th>23</th>\n",
       "      <th>18</th>\n",
       "      <th>Radio interview</th>\n",
       "    </tr>\n",
       "  </thead>\n",
       "  <tbody>\n",
       "    <tr>\n",
       "      <th>0</th>\n",
       "      <td>11685.json</td>\n",
       "      <td>false</td>\n",
       "      <td>Wisconsin is on pace to double the number of l...</td>\n",
       "      <td>jobs</td>\n",
       "      <td>katrina-shankland</td>\n",
       "      <td>State representative</td>\n",
       "      <td>Wisconsin</td>\n",
       "      <td>democrat</td>\n",
       "      <td>2</td>\n",
       "      <td>1</td>\n",
       "      <td>0</td>\n",
       "      <td>0</td>\n",
       "      <td>0</td>\n",
       "      <td>a news conference</td>\n",
       "    </tr>\n",
       "    <tr>\n",
       "      <th>1</th>\n",
       "      <td>11096.json</td>\n",
       "      <td>false</td>\n",
       "      <td>Says John McCain has done nothing to help the ...</td>\n",
       "      <td>military,veterans,voting-record</td>\n",
       "      <td>donald-trump</td>\n",
       "      <td>President-Elect</td>\n",
       "      <td>New York</td>\n",
       "      <td>republican</td>\n",
       "      <td>63</td>\n",
       "      <td>114</td>\n",
       "      <td>51</td>\n",
       "      <td>37</td>\n",
       "      <td>61</td>\n",
       "      <td>comments on ABC's This Week.</td>\n",
       "    </tr>\n",
       "    <tr>\n",
       "      <th>2</th>\n",
       "      <td>5209.json</td>\n",
       "      <td>half-true</td>\n",
       "      <td>Suzanne Bonamici supports a plan that will cut...</td>\n",
       "      <td>medicare,message-machine-2012,campaign-adverti...</td>\n",
       "      <td>rob-cornilles</td>\n",
       "      <td>consultant</td>\n",
       "      <td>Oregon</td>\n",
       "      <td>republican</td>\n",
       "      <td>1</td>\n",
       "      <td>1</td>\n",
       "      <td>3</td>\n",
       "      <td>1</td>\n",
       "      <td>1</td>\n",
       "      <td>a radio show</td>\n",
       "    </tr>\n",
       "    <tr>\n",
       "      <th>3</th>\n",
       "      <td>9524.json</td>\n",
       "      <td>pants-fire</td>\n",
       "      <td>When asked by a reporter whether hes at the ce...</td>\n",
       "      <td>campaign-finance,legal-issues,campaign-adverti...</td>\n",
       "      <td>state-democratic-party-wisconsin</td>\n",
       "      <td>NaN</td>\n",
       "      <td>Wisconsin</td>\n",
       "      <td>democrat</td>\n",
       "      <td>5</td>\n",
       "      <td>7</td>\n",
       "      <td>2</td>\n",
       "      <td>2</td>\n",
       "      <td>7</td>\n",
       "      <td>a web video</td>\n",
       "    </tr>\n",
       "    <tr>\n",
       "      <th>4</th>\n",
       "      <td>5962.json</td>\n",
       "      <td>true</td>\n",
       "      <td>Over the past five years the federal governmen...</td>\n",
       "      <td>federal-budget,pensions,retirement</td>\n",
       "      <td>brendan-doherty</td>\n",
       "      <td>NaN</td>\n",
       "      <td>Rhode Island</td>\n",
       "      <td>republican</td>\n",
       "      <td>1</td>\n",
       "      <td>2</td>\n",
       "      <td>1</td>\n",
       "      <td>1</td>\n",
       "      <td>0</td>\n",
       "      <td>a campaign website</td>\n",
       "    </tr>\n",
       "    <tr>\n",
       "      <th>...</th>\n",
       "      <td>...</td>\n",
       "      <td>...</td>\n",
       "      <td>...</td>\n",
       "      <td>...</td>\n",
       "      <td>...</td>\n",
       "      <td>...</td>\n",
       "      <td>...</td>\n",
       "      <td>...</td>\n",
       "      <td>...</td>\n",
       "      <td>...</td>\n",
       "      <td>...</td>\n",
       "      <td>...</td>\n",
       "      <td>...</td>\n",
       "      <td>...</td>\n",
       "    </tr>\n",
       "    <tr>\n",
       "      <th>1261</th>\n",
       "      <td>7334.json</td>\n",
       "      <td>half-true</td>\n",
       "      <td>Says his budget provides the highest state fun...</td>\n",
       "      <td>education</td>\n",
       "      <td>rick-scott</td>\n",
       "      <td>Governor</td>\n",
       "      <td>Florida</td>\n",
       "      <td>republican</td>\n",
       "      <td>28</td>\n",
       "      <td>23</td>\n",
       "      <td>38</td>\n",
       "      <td>34</td>\n",
       "      <td>7</td>\n",
       "      <td>a news conference</td>\n",
       "    </tr>\n",
       "    <tr>\n",
       "      <th>1262</th>\n",
       "      <td>9788.json</td>\n",
       "      <td>barely-true</td>\n",
       "      <td>Ive been here almost every day.</td>\n",
       "      <td>civil-rights,crime,criminal-justice</td>\n",
       "      <td>jay-nixon</td>\n",
       "      <td>Governor</td>\n",
       "      <td>Missouri</td>\n",
       "      <td>democrat</td>\n",
       "      <td>2</td>\n",
       "      <td>0</td>\n",
       "      <td>0</td>\n",
       "      <td>1</td>\n",
       "      <td>0</td>\n",
       "      <td>on ABC's \"This Week\"</td>\n",
       "    </tr>\n",
       "    <tr>\n",
       "      <th>1263</th>\n",
       "      <td>10710.json</td>\n",
       "      <td>barely-true</td>\n",
       "      <td>In the early 1980s, Sen. Edward Kennedy secret...</td>\n",
       "      <td>bipartisanship,congress,foreign-policy,history</td>\n",
       "      <td>mackubin-thomas-owens</td>\n",
       "      <td>senior fellow, Foreign Policy Research Institute</td>\n",
       "      <td>Rhode Island</td>\n",
       "      <td>columnist</td>\n",
       "      <td>1</td>\n",
       "      <td>0</td>\n",
       "      <td>0</td>\n",
       "      <td>0</td>\n",
       "      <td>0</td>\n",
       "      <td>a commentary in The Providence Journal</td>\n",
       "    </tr>\n",
       "    <tr>\n",
       "      <th>1264</th>\n",
       "      <td>3186.json</td>\n",
       "      <td>barely-true</td>\n",
       "      <td>Says an EPA permit languished under Strickland...</td>\n",
       "      <td>environment,government-efficiency</td>\n",
       "      <td>john-kasich</td>\n",
       "      <td>Governor of Ohio as of Jan. 10, 2011</td>\n",
       "      <td>Ohio</td>\n",
       "      <td>republican</td>\n",
       "      <td>9</td>\n",
       "      <td>8</td>\n",
       "      <td>10</td>\n",
       "      <td>18</td>\n",
       "      <td>3</td>\n",
       "      <td>a news conference</td>\n",
       "    </tr>\n",
       "    <tr>\n",
       "      <th>1265</th>\n",
       "      <td>6743.json</td>\n",
       "      <td>false</td>\n",
       "      <td>Says the governor is going around the state ta...</td>\n",
       "      <td>state-budget,state-finances,taxes</td>\n",
       "      <td>john-burzichelli</td>\n",
       "      <td>NaN</td>\n",
       "      <td>NaN</td>\n",
       "      <td>democrat</td>\n",
       "      <td>1</td>\n",
       "      <td>1</td>\n",
       "      <td>0</td>\n",
       "      <td>0</td>\n",
       "      <td>0</td>\n",
       "      <td>an interview with NJToday</td>\n",
       "    </tr>\n",
       "  </tbody>\n",
       "</table>\n",
       "<p>1266 rows × 14 columns</p>\n",
       "</div>"
      ],
      "text/plain": [
       "      11972.json         true  \\\n",
       "0     11685.json        false   \n",
       "1     11096.json        false   \n",
       "2      5209.json    half-true   \n",
       "3      9524.json   pants-fire   \n",
       "4      5962.json         true   \n",
       "...          ...          ...   \n",
       "1261   7334.json    half-true   \n",
       "1262   9788.json  barely-true   \n",
       "1263  10710.json  barely-true   \n",
       "1264   3186.json  barely-true   \n",
       "1265   6743.json        false   \n",
       "\n",
       "     Building a wall on the U.S.-Mexico border will take literally years.  \\\n",
       "0     Wisconsin is on pace to double the number of l...                     \n",
       "1     Says John McCain has done nothing to help the ...                     \n",
       "2     Suzanne Bonamici supports a plan that will cut...                     \n",
       "3     When asked by a reporter whether hes at the ce...                     \n",
       "4     Over the past five years the federal governmen...                     \n",
       "...                                                 ...                     \n",
       "1261  Says his budget provides the highest state fun...                     \n",
       "1262                    Ive been here almost every day.                     \n",
       "1263  In the early 1980s, Sen. Edward Kennedy secret...                     \n",
       "1264  Says an EPA permit languished under Strickland...                     \n",
       "1265  Says the governor is going around the state ta...                     \n",
       "\n",
       "                                            immigration  \\\n",
       "0                                                  jobs   \n",
       "1                       military,veterans,voting-record   \n",
       "2     medicare,message-machine-2012,campaign-adverti...   \n",
       "3     campaign-finance,legal-issues,campaign-adverti...   \n",
       "4                    federal-budget,pensions,retirement   \n",
       "...                                                 ...   \n",
       "1261                                          education   \n",
       "1262                civil-rights,crime,criminal-justice   \n",
       "1263     bipartisanship,congress,foreign-policy,history   \n",
       "1264                  environment,government-efficiency   \n",
       "1265                  state-budget,state-finances,taxes   \n",
       "\n",
       "                            rick-perry  \\\n",
       "0                    katrina-shankland   \n",
       "1                         donald-trump   \n",
       "2                        rob-cornilles   \n",
       "3     state-democratic-party-wisconsin   \n",
       "4                      brendan-doherty   \n",
       "...                                ...   \n",
       "1261                        rick-scott   \n",
       "1262                         jay-nixon   \n",
       "1263             mackubin-thomas-owens   \n",
       "1264                       john-kasich   \n",
       "1265                  john-burzichelli   \n",
       "\n",
       "                                              Governor         Texas  \\\n",
       "0                                 State representative     Wisconsin   \n",
       "1                                      President-Elect      New York   \n",
       "2                                           consultant        Oregon   \n",
       "3                                                  NaN     Wisconsin   \n",
       "4                                                  NaN  Rhode Island   \n",
       "...                                                ...           ...   \n",
       "1261                                          Governor       Florida   \n",
       "1262                                          Governor      Missouri   \n",
       "1263  senior fellow, Foreign Policy Research Institute  Rhode Island   \n",
       "1264              Governor of Ohio as of Jan. 10, 2011          Ohio   \n",
       "1265                                               NaN           NaN   \n",
       "\n",
       "      republican  30  30.1  42  23  18                         Radio interview  \n",
       "0       democrat   2     1   0   0   0                       a news conference  \n",
       "1     republican  63   114  51  37  61            comments on ABC's This Week.  \n",
       "2     republican   1     1   3   1   1                            a radio show  \n",
       "3       democrat   5     7   2   2   7                             a web video  \n",
       "4     republican   1     2   1   1   0                      a campaign website  \n",
       "...          ...  ..   ...  ..  ..  ..                                     ...  \n",
       "1261  republican  28    23  38  34   7                       a news conference  \n",
       "1262    democrat   2     0   0   1   0                    on ABC's \"This Week\"  \n",
       "1263   columnist   1     0   0   0   0  a commentary in The Providence Journal  \n",
       "1264  republican   9     8  10  18   3                       a news conference  \n",
       "1265    democrat   1     1   0   0   0               an interview with NJToday  \n",
       "\n",
       "[1266 rows x 14 columns]"
      ]
     },
     "execution_count": 25,
     "metadata": {},
     "output_type": "execute_result"
    }
   ],
   "source": [
    "test"
   ]
  },
  {
   "cell_type": "code",
   "execution_count": 26,
   "id": "H_jYv8AmlXHD",
   "metadata": {
    "colab": {
     "base_uri": "https://localhost:8080/",
     "height": 534
    },
    "id": "H_jYv8AmlXHD",
    "outputId": "4ed119a9-f335-47ff-83b7-ba2e900edb15"
   },
   "outputs": [
    {
     "name": "stderr",
     "output_type": "stream",
     "text": [
      "/tmp/ipykernel_854560/3971478140.py:3: SettingWithCopyWarning: \n",
      "A value is trying to be set on a copy of a slice from a DataFrame.\n",
      "Try using .loc[row_indexer,col_indexer] = value instead\n",
      "\n",
      "See the caveats in the documentation: https://pandas.pydata.org/pandas-docs/stable/user_guide/indexing.html#returning-a-view-versus-a-copy\n",
      "  new_df['category'] = 'politics'\n"
     ]
    },
    {
     "data": {
      "text/html": [
       "<div>\n",
       "<style scoped>\n",
       "    .dataframe tbody tr th:only-of-type {\n",
       "        vertical-align: middle;\n",
       "    }\n",
       "\n",
       "    .dataframe tbody tr th {\n",
       "        vertical-align: top;\n",
       "    }\n",
       "\n",
       "    .dataframe thead th {\n",
       "        text-align: right;\n",
       "    }\n",
       "</style>\n",
       "<table border=\"1\" class=\"dataframe\">\n",
       "  <thead>\n",
       "    <tr style=\"text-align: right;\">\n",
       "      <th></th>\n",
       "      <th>label</th>\n",
       "      <th>subject</th>\n",
       "      <th>category</th>\n",
       "    </tr>\n",
       "  </thead>\n",
       "  <tbody>\n",
       "    <tr>\n",
       "      <th>0</th>\n",
       "      <td>half-true</td>\n",
       "      <td>When did the decline of coal start? It started...</td>\n",
       "      <td>politics</td>\n",
       "    </tr>\n",
       "    <tr>\n",
       "      <th>1</th>\n",
       "      <td>mostly-true</td>\n",
       "      <td>Hillary Clinton agrees with John McCain \"by vo...</td>\n",
       "      <td>politics</td>\n",
       "    </tr>\n",
       "    <tr>\n",
       "      <th>2</th>\n",
       "      <td>false</td>\n",
       "      <td>Health care reform legislation is likely to ma...</td>\n",
       "      <td>politics</td>\n",
       "    </tr>\n",
       "    <tr>\n",
       "      <th>3</th>\n",
       "      <td>half-true</td>\n",
       "      <td>The economic turnaround started at the end of ...</td>\n",
       "      <td>politics</td>\n",
       "    </tr>\n",
       "    <tr>\n",
       "      <th>4</th>\n",
       "      <td>true</td>\n",
       "      <td>The Chicago Bears have had more starting quart...</td>\n",
       "      <td>politics</td>\n",
       "    </tr>\n",
       "    <tr>\n",
       "      <th>...</th>\n",
       "      <td>...</td>\n",
       "      <td>...</td>\n",
       "      <td>...</td>\n",
       "    </tr>\n",
       "    <tr>\n",
       "      <th>10234</th>\n",
       "      <td>mostly-true</td>\n",
       "      <td>There are a larger number of shark attacks in ...</td>\n",
       "      <td>politics</td>\n",
       "    </tr>\n",
       "    <tr>\n",
       "      <th>10235</th>\n",
       "      <td>mostly-true</td>\n",
       "      <td>Democrats have now become the party of the [At...</td>\n",
       "      <td>politics</td>\n",
       "    </tr>\n",
       "    <tr>\n",
       "      <th>10236</th>\n",
       "      <td>half-true</td>\n",
       "      <td>Says an alternative to Social Security that op...</td>\n",
       "      <td>politics</td>\n",
       "    </tr>\n",
       "    <tr>\n",
       "      <th>10237</th>\n",
       "      <td>false</td>\n",
       "      <td>On lifting the U.S. Cuban embargo and allowing...</td>\n",
       "      <td>politics</td>\n",
       "    </tr>\n",
       "    <tr>\n",
       "      <th>10238</th>\n",
       "      <td>pants-fire</td>\n",
       "      <td>The Department of Veterans Affairs has a manua...</td>\n",
       "      <td>politics</td>\n",
       "    </tr>\n",
       "  </tbody>\n",
       "</table>\n",
       "<p>10239 rows × 3 columns</p>\n",
       "</div>"
      ],
      "text/plain": [
       "             label                                            subject  \\\n",
       "0        half-true  When did the decline of coal start? It started...   \n",
       "1      mostly-true  Hillary Clinton agrees with John McCain \"by vo...   \n",
       "2            false  Health care reform legislation is likely to ma...   \n",
       "3        half-true  The economic turnaround started at the end of ...   \n",
       "4             true  The Chicago Bears have had more starting quart...   \n",
       "...            ...                                                ...   \n",
       "10234  mostly-true  There are a larger number of shark attacks in ...   \n",
       "10235  mostly-true  Democrats have now become the party of the [At...   \n",
       "10236    half-true  Says an alternative to Social Security that op...   \n",
       "10237        false  On lifting the U.S. Cuban embargo and allowing...   \n",
       "10238   pants-fire  The Department of Veterans Affairs has a manua...   \n",
       "\n",
       "       category  \n",
       "0      politics  \n",
       "1      politics  \n",
       "2      politics  \n",
       "3      politics  \n",
       "4      politics  \n",
       "...         ...  \n",
       "10234  politics  \n",
       "10235  politics  \n",
       "10236  politics  \n",
       "10237  politics  \n",
       "10238  politics  \n",
       "\n",
       "[10239 rows x 3 columns]"
      ]
     },
     "execution_count": 26,
     "metadata": {},
     "output_type": "execute_result"
    }
   ],
   "source": [
    "new_df = train[['false', 'Says the Annies List political group supports third-trimester abortions on demand.']]\n",
    "new_df.columns = ['label','subject']\n",
    "new_df['category'] = 'politics'\n",
    "# new_df\n",
    "new_df = new_df[new_df['label'].isin(['true', 'mostly-true','half-true', 'barely-true', 'false', 'pants-fire'])]\n",
    "# new_df\n",
    "new_df.to_csv('train2.csv', index=False)\n",
    "new_df = pd.read_csv('train2.csv')\n",
    "new_df"
   ]
  },
  {
   "cell_type": "code",
   "execution_count": 27,
   "id": "55d6f994",
   "metadata": {},
   "outputs": [
    {
     "data": {
      "text/plain": [
       "label\n",
       "half-true      2114\n",
       "false          1994\n",
       "mostly-true    1962\n",
       "true           1676\n",
       "barely-true    1654\n",
       "pants-fire      839\n",
       "Name: count, dtype: int64"
      ]
     },
     "execution_count": 27,
     "metadata": {},
     "output_type": "execute_result"
    }
   ],
   "source": [
    "new_df['label'].value_counts()"
   ]
  },
  {
   "cell_type": "code",
   "execution_count": 28,
   "id": "jL1Gs9IisprQ",
   "metadata": {
    "colab": {
     "base_uri": "https://localhost:8080/",
     "height": 534
    },
    "id": "jL1Gs9IisprQ",
    "outputId": "280a39c9-22df-4f8a-b55b-d8afd55e3f2f"
   },
   "outputs": [
    {
     "name": "stderr",
     "output_type": "stream",
     "text": [
      "/tmp/ipykernel_854560/118203713.py:3: SettingWithCopyWarning: \n",
      "A value is trying to be set on a copy of a slice from a DataFrame.\n",
      "Try using .loc[row_indexer,col_indexer] = value instead\n",
      "\n",
      "See the caveats in the documentation: https://pandas.pydata.org/pandas-docs/stable/user_guide/indexing.html#returning-a-view-versus-a-copy\n",
      "  new_df2['category'] = 'politics'\n"
     ]
    },
    {
     "data": {
      "text/html": [
       "<div>\n",
       "<style scoped>\n",
       "    .dataframe tbody tr th:only-of-type {\n",
       "        vertical-align: middle;\n",
       "    }\n",
       "\n",
       "    .dataframe tbody tr th {\n",
       "        vertical-align: top;\n",
       "    }\n",
       "\n",
       "    .dataframe thead th {\n",
       "        text-align: right;\n",
       "    }\n",
       "</style>\n",
       "<table border=\"1\" class=\"dataframe\">\n",
       "  <thead>\n",
       "    <tr style=\"text-align: right;\">\n",
       "      <th></th>\n",
       "      <th>label</th>\n",
       "      <th>subject</th>\n",
       "      <th>category</th>\n",
       "    </tr>\n",
       "  </thead>\n",
       "  <tbody>\n",
       "    <tr>\n",
       "      <th>0</th>\n",
       "      <td>half-true</td>\n",
       "      <td>When did the decline of coal start? It started...</td>\n",
       "      <td>politics</td>\n",
       "    </tr>\n",
       "    <tr>\n",
       "      <th>1</th>\n",
       "      <td>mostly-true</td>\n",
       "      <td>Hillary Clinton agrees with John McCain \"by vo...</td>\n",
       "      <td>politics</td>\n",
       "    </tr>\n",
       "    <tr>\n",
       "      <th>2</th>\n",
       "      <td>false</td>\n",
       "      <td>Health care reform legislation is likely to ma...</td>\n",
       "      <td>politics</td>\n",
       "    </tr>\n",
       "    <tr>\n",
       "      <th>3</th>\n",
       "      <td>half-true</td>\n",
       "      <td>The economic turnaround started at the end of ...</td>\n",
       "      <td>politics</td>\n",
       "    </tr>\n",
       "    <tr>\n",
       "      <th>4</th>\n",
       "      <td>true</td>\n",
       "      <td>The Chicago Bears have had more starting quart...</td>\n",
       "      <td>politics</td>\n",
       "    </tr>\n",
       "    <tr>\n",
       "      <th>...</th>\n",
       "      <td>...</td>\n",
       "      <td>...</td>\n",
       "      <td>...</td>\n",
       "    </tr>\n",
       "    <tr>\n",
       "      <th>10234</th>\n",
       "      <td>mostly-true</td>\n",
       "      <td>There are a larger number of shark attacks in ...</td>\n",
       "      <td>politics</td>\n",
       "    </tr>\n",
       "    <tr>\n",
       "      <th>10235</th>\n",
       "      <td>mostly-true</td>\n",
       "      <td>Democrats have now become the party of the [At...</td>\n",
       "      <td>politics</td>\n",
       "    </tr>\n",
       "    <tr>\n",
       "      <th>10236</th>\n",
       "      <td>half-true</td>\n",
       "      <td>Says an alternative to Social Security that op...</td>\n",
       "      <td>politics</td>\n",
       "    </tr>\n",
       "    <tr>\n",
       "      <th>10237</th>\n",
       "      <td>false</td>\n",
       "      <td>On lifting the U.S. Cuban embargo and allowing...</td>\n",
       "      <td>politics</td>\n",
       "    </tr>\n",
       "    <tr>\n",
       "      <th>10238</th>\n",
       "      <td>pants-fire</td>\n",
       "      <td>The Department of Veterans Affairs has a manua...</td>\n",
       "      <td>politics</td>\n",
       "    </tr>\n",
       "  </tbody>\n",
       "</table>\n",
       "<p>10239 rows × 3 columns</p>\n",
       "</div>"
      ],
      "text/plain": [
       "             label                                            subject  \\\n",
       "0        half-true  When did the decline of coal start? It started...   \n",
       "1      mostly-true  Hillary Clinton agrees with John McCain \"by vo...   \n",
       "2            false  Health care reform legislation is likely to ma...   \n",
       "3        half-true  The economic turnaround started at the end of ...   \n",
       "4             true  The Chicago Bears have had more starting quart...   \n",
       "...            ...                                                ...   \n",
       "10234  mostly-true  There are a larger number of shark attacks in ...   \n",
       "10235  mostly-true  Democrats have now become the party of the [At...   \n",
       "10236    half-true  Says an alternative to Social Security that op...   \n",
       "10237        false  On lifting the U.S. Cuban embargo and allowing...   \n",
       "10238   pants-fire  The Department of Veterans Affairs has a manua...   \n",
       "\n",
       "       category  \n",
       "0      politics  \n",
       "1      politics  \n",
       "2      politics  \n",
       "3      politics  \n",
       "4      politics  \n",
       "...         ...  \n",
       "10234  politics  \n",
       "10235  politics  \n",
       "10236  politics  \n",
       "10237  politics  \n",
       "10238  politics  \n",
       "\n",
       "[10239 rows x 3 columns]"
      ]
     },
     "execution_count": 28,
     "metadata": {},
     "output_type": "execute_result"
    }
   ],
   "source": [
    "new_df2 = test[['true', 'Building a wall on the U.S.-Mexico border will take literally years.']]\n",
    "new_df2.columns = ['label','subject']\n",
    "new_df2['category'] = 'politics'\n",
    "# new_df\n",
    "new_df2 = new_df[new_df['label'].isin(['true', 'mostly-true','half-true', 'barely-true', 'false', 'pants-fire'])]\n",
    "# new_df\n",
    "new_df2.to_csv('test2.csv', index=False)\n",
    "new_df2 = pd.read_csv('test2.csv')\n",
    "new_df2"
   ]
  },
  {
   "cell_type": "code",
   "execution_count": 29,
   "id": "JPClwReztSlc",
   "metadata": {
    "colab": {
     "base_uri": "https://localhost:8080/",
     "height": 534
    },
    "id": "JPClwReztSlc",
    "outputId": "6dce3b1e-7e01-48f9-8432-b745c9f4aa93"
   },
   "outputs": [
    {
     "name": "stderr",
     "output_type": "stream",
     "text": [
      "/tmp/ipykernel_854560/1882940416.py:3: SettingWithCopyWarning: \n",
      "A value is trying to be set on a copy of a slice from a DataFrame.\n",
      "Try using .loc[row_indexer,col_indexer] = value instead\n",
      "\n",
      "See the caveats in the documentation: https://pandas.pydata.org/pandas-docs/stable/user_guide/indexing.html#returning-a-view-versus-a-copy\n",
      "  new_df3['category'] = 'politics'\n"
     ]
    },
    {
     "data": {
      "text/html": [
       "<div>\n",
       "<style scoped>\n",
       "    .dataframe tbody tr th:only-of-type {\n",
       "        vertical-align: middle;\n",
       "    }\n",
       "\n",
       "    .dataframe tbody tr th {\n",
       "        vertical-align: top;\n",
       "    }\n",
       "\n",
       "    .dataframe thead th {\n",
       "        text-align: right;\n",
       "    }\n",
       "</style>\n",
       "<table border=\"1\" class=\"dataframe\">\n",
       "  <thead>\n",
       "    <tr style=\"text-align: right;\">\n",
       "      <th></th>\n",
       "      <th>label</th>\n",
       "      <th>subject</th>\n",
       "      <th>category</th>\n",
       "    </tr>\n",
       "  </thead>\n",
       "  <tbody>\n",
       "    <tr>\n",
       "      <th>0</th>\n",
       "      <td>half-true</td>\n",
       "      <td>When did the decline of coal start? It started...</td>\n",
       "      <td>politics</td>\n",
       "    </tr>\n",
       "    <tr>\n",
       "      <th>1</th>\n",
       "      <td>mostly-true</td>\n",
       "      <td>Hillary Clinton agrees with John McCain \"by vo...</td>\n",
       "      <td>politics</td>\n",
       "    </tr>\n",
       "    <tr>\n",
       "      <th>2</th>\n",
       "      <td>false</td>\n",
       "      <td>Health care reform legislation is likely to ma...</td>\n",
       "      <td>politics</td>\n",
       "    </tr>\n",
       "    <tr>\n",
       "      <th>3</th>\n",
       "      <td>half-true</td>\n",
       "      <td>The economic turnaround started at the end of ...</td>\n",
       "      <td>politics</td>\n",
       "    </tr>\n",
       "    <tr>\n",
       "      <th>4</th>\n",
       "      <td>true</td>\n",
       "      <td>The Chicago Bears have had more starting quart...</td>\n",
       "      <td>politics</td>\n",
       "    </tr>\n",
       "    <tr>\n",
       "      <th>...</th>\n",
       "      <td>...</td>\n",
       "      <td>...</td>\n",
       "      <td>...</td>\n",
       "    </tr>\n",
       "    <tr>\n",
       "      <th>10234</th>\n",
       "      <td>mostly-true</td>\n",
       "      <td>There are a larger number of shark attacks in ...</td>\n",
       "      <td>politics</td>\n",
       "    </tr>\n",
       "    <tr>\n",
       "      <th>10235</th>\n",
       "      <td>mostly-true</td>\n",
       "      <td>Democrats have now become the party of the [At...</td>\n",
       "      <td>politics</td>\n",
       "    </tr>\n",
       "    <tr>\n",
       "      <th>10236</th>\n",
       "      <td>half-true</td>\n",
       "      <td>Says an alternative to Social Security that op...</td>\n",
       "      <td>politics</td>\n",
       "    </tr>\n",
       "    <tr>\n",
       "      <th>10237</th>\n",
       "      <td>false</td>\n",
       "      <td>On lifting the U.S. Cuban embargo and allowing...</td>\n",
       "      <td>politics</td>\n",
       "    </tr>\n",
       "    <tr>\n",
       "      <th>10238</th>\n",
       "      <td>pants-fire</td>\n",
       "      <td>The Department of Veterans Affairs has a manua...</td>\n",
       "      <td>politics</td>\n",
       "    </tr>\n",
       "  </tbody>\n",
       "</table>\n",
       "<p>10239 rows × 3 columns</p>\n",
       "</div>"
      ],
      "text/plain": [
       "             label                                            subject  \\\n",
       "0        half-true  When did the decline of coal start? It started...   \n",
       "1      mostly-true  Hillary Clinton agrees with John McCain \"by vo...   \n",
       "2            false  Health care reform legislation is likely to ma...   \n",
       "3        half-true  The economic turnaround started at the end of ...   \n",
       "4             true  The Chicago Bears have had more starting quart...   \n",
       "...            ...                                                ...   \n",
       "10234  mostly-true  There are a larger number of shark attacks in ...   \n",
       "10235  mostly-true  Democrats have now become the party of the [At...   \n",
       "10236    half-true  Says an alternative to Social Security that op...   \n",
       "10237        false  On lifting the U.S. Cuban embargo and allowing...   \n",
       "10238   pants-fire  The Department of Veterans Affairs has a manua...   \n",
       "\n",
       "       category  \n",
       "0      politics  \n",
       "1      politics  \n",
       "2      politics  \n",
       "3      politics  \n",
       "4      politics  \n",
       "...         ...  \n",
       "10234  politics  \n",
       "10235  politics  \n",
       "10236  politics  \n",
       "10237  politics  \n",
       "10238  politics  \n",
       "\n",
       "[10239 rows x 3 columns]"
      ]
     },
     "execution_count": 29,
     "metadata": {},
     "output_type": "execute_result"
    }
   ],
   "source": [
    "new_df3 = valid[['barely-true', 'We have less Americans working now than in the 70s.']]\n",
    "new_df3.columns = ['label','subject']\n",
    "new_df3['category'] = 'politics'\n",
    "# new_df\n",
    "new_df3 = new_df[new_df['label'].isin(['true', 'mostly-true','half-true', 'barely-true', 'false', 'pants-fire'])]\n",
    "# new_df\n",
    "new_df3.to_csv('valid2.csv', index=False)\n",
    "new_df3 = pd.read_csv('valid2.csv')\n",
    "new_df3"
   ]
  },
  {
   "cell_type": "code",
   "execution_count": 30,
   "id": "2j0ur6pkuXBJ",
   "metadata": {
    "colab": {
     "base_uri": "https://localhost:8080/",
     "height": 424
    },
    "id": "2j0ur6pkuXBJ",
    "outputId": "803eb959-334b-4b84-db1b-3448bea48a3d"
   },
   "outputs": [
    {
     "data": {
      "text/html": [
       "<div>\n",
       "<style scoped>\n",
       "    .dataframe tbody tr th:only-of-type {\n",
       "        vertical-align: middle;\n",
       "    }\n",
       "\n",
       "    .dataframe tbody tr th {\n",
       "        vertical-align: top;\n",
       "    }\n",
       "\n",
       "    .dataframe thead th {\n",
       "        text-align: right;\n",
       "    }\n",
       "</style>\n",
       "<table border=\"1\" class=\"dataframe\">\n",
       "  <thead>\n",
       "    <tr style=\"text-align: right;\">\n",
       "      <th></th>\n",
       "      <th>label</th>\n",
       "      <th>subject</th>\n",
       "      <th>category</th>\n",
       "    </tr>\n",
       "  </thead>\n",
       "  <tbody>\n",
       "    <tr>\n",
       "      <th>0</th>\n",
       "      <td>half-true</td>\n",
       "      <td>When did the decline of coal start? It started...</td>\n",
       "      <td>politics</td>\n",
       "    </tr>\n",
       "    <tr>\n",
       "      <th>1</th>\n",
       "      <td>mostly-true</td>\n",
       "      <td>Hillary Clinton agrees with John McCain \"by vo...</td>\n",
       "      <td>politics</td>\n",
       "    </tr>\n",
       "    <tr>\n",
       "      <th>2</th>\n",
       "      <td>false</td>\n",
       "      <td>Health care reform legislation is likely to ma...</td>\n",
       "      <td>politics</td>\n",
       "    </tr>\n",
       "    <tr>\n",
       "      <th>3</th>\n",
       "      <td>half-true</td>\n",
       "      <td>The economic turnaround started at the end of ...</td>\n",
       "      <td>politics</td>\n",
       "    </tr>\n",
       "    <tr>\n",
       "      <th>4</th>\n",
       "      <td>true</td>\n",
       "      <td>The Chicago Bears have had more starting quart...</td>\n",
       "      <td>politics</td>\n",
       "    </tr>\n",
       "    <tr>\n",
       "      <th>...</th>\n",
       "      <td>...</td>\n",
       "      <td>...</td>\n",
       "      <td>...</td>\n",
       "    </tr>\n",
       "    <tr>\n",
       "      <th>30712</th>\n",
       "      <td>mostly-true</td>\n",
       "      <td>There are a larger number of shark attacks in ...</td>\n",
       "      <td>politics</td>\n",
       "    </tr>\n",
       "    <tr>\n",
       "      <th>30713</th>\n",
       "      <td>mostly-true</td>\n",
       "      <td>Democrats have now become the party of the [At...</td>\n",
       "      <td>politics</td>\n",
       "    </tr>\n",
       "    <tr>\n",
       "      <th>30714</th>\n",
       "      <td>half-true</td>\n",
       "      <td>Says an alternative to Social Security that op...</td>\n",
       "      <td>politics</td>\n",
       "    </tr>\n",
       "    <tr>\n",
       "      <th>30715</th>\n",
       "      <td>false</td>\n",
       "      <td>On lifting the U.S. Cuban embargo and allowing...</td>\n",
       "      <td>politics</td>\n",
       "    </tr>\n",
       "    <tr>\n",
       "      <th>30716</th>\n",
       "      <td>pants-fire</td>\n",
       "      <td>The Department of Veterans Affairs has a manua...</td>\n",
       "      <td>politics</td>\n",
       "    </tr>\n",
       "  </tbody>\n",
       "</table>\n",
       "<p>30717 rows × 3 columns</p>\n",
       "</div>"
      ],
      "text/plain": [
       "             label                                            subject  \\\n",
       "0        half-true  When did the decline of coal start? It started...   \n",
       "1      mostly-true  Hillary Clinton agrees with John McCain \"by vo...   \n",
       "2            false  Health care reform legislation is likely to ma...   \n",
       "3        half-true  The economic turnaround started at the end of ...   \n",
       "4             true  The Chicago Bears have had more starting quart...   \n",
       "...            ...                                                ...   \n",
       "30712  mostly-true  There are a larger number of shark attacks in ...   \n",
       "30713  mostly-true  Democrats have now become the party of the [At...   \n",
       "30714    half-true  Says an alternative to Social Security that op...   \n",
       "30715        false  On lifting the U.S. Cuban embargo and allowing...   \n",
       "30716   pants-fire  The Department of Veterans Affairs has a manua...   \n",
       "\n",
       "       category  \n",
       "0      politics  \n",
       "1      politics  \n",
       "2      politics  \n",
       "3      politics  \n",
       "4      politics  \n",
       "...         ...  \n",
       "30712  politics  \n",
       "30713  politics  \n",
       "30714  politics  \n",
       "30715  politics  \n",
       "30716  politics  \n",
       "\n",
       "[30717 rows x 3 columns]"
      ]
     },
     "execution_count": 30,
     "metadata": {},
     "output_type": "execute_result"
    }
   ],
   "source": [
    "result = pd.concat([new_df, new_df2, new_df3], ignore_index=True)\n",
    "result"
   ]
  },
  {
   "cell_type": "code",
   "execution_count": 31,
   "id": "f95721aa",
   "metadata": {},
   "outputs": [],
   "source": [
    "# function to convert 6 classes of label into 2 classes\n",
    "def classLabel(dataset):\n",
    "    for index in range(len(dataset['label'])):\n",
    "        if(dataset.iloc[index]['label'] == 'true' or dataset.iloc[index]['label'] == 'mostly-true' or dataset.iloc[index]['label'] == 'half-true'):\n",
    "            dataset.iloc[index]['label'] = 'true'\n",
    "      \n",
    "        if(dataset.iloc[index]['label'] == 'barely-true' or dataset.iloc[index]['label'] == 'false' or dataset.iloc[index]['label'] == 'pants-fire'):\n",
    "            dataset.iloc[index]['label'] = 'false'\n",
    "      \n",
    "    return dataset"
   ]
  },
  {
   "cell_type": "code",
   "execution_count": 32,
   "id": "6d9bddfb",
   "metadata": {},
   "outputs": [
    {
     "data": {
      "text/html": [
       "<div>\n",
       "<style scoped>\n",
       "    .dataframe tbody tr th:only-of-type {\n",
       "        vertical-align: middle;\n",
       "    }\n",
       "\n",
       "    .dataframe tbody tr th {\n",
       "        vertical-align: top;\n",
       "    }\n",
       "\n",
       "    .dataframe thead th {\n",
       "        text-align: right;\n",
       "    }\n",
       "</style>\n",
       "<table border=\"1\" class=\"dataframe\">\n",
       "  <thead>\n",
       "    <tr style=\"text-align: right;\">\n",
       "      <th></th>\n",
       "      <th>label</th>\n",
       "      <th>subject</th>\n",
       "      <th>category</th>\n",
       "    </tr>\n",
       "  </thead>\n",
       "  <tbody>\n",
       "    <tr>\n",
       "      <th>0</th>\n",
       "      <td>true</td>\n",
       "      <td>When did the decline of coal start? It started...</td>\n",
       "      <td>politics</td>\n",
       "    </tr>\n",
       "    <tr>\n",
       "      <th>1</th>\n",
       "      <td>true</td>\n",
       "      <td>Hillary Clinton agrees with John McCain \"by vo...</td>\n",
       "      <td>politics</td>\n",
       "    </tr>\n",
       "    <tr>\n",
       "      <th>2</th>\n",
       "      <td>false</td>\n",
       "      <td>Health care reform legislation is likely to ma...</td>\n",
       "      <td>politics</td>\n",
       "    </tr>\n",
       "    <tr>\n",
       "      <th>3</th>\n",
       "      <td>true</td>\n",
       "      <td>The economic turnaround started at the end of ...</td>\n",
       "      <td>politics</td>\n",
       "    </tr>\n",
       "    <tr>\n",
       "      <th>4</th>\n",
       "      <td>true</td>\n",
       "      <td>The Chicago Bears have had more starting quart...</td>\n",
       "      <td>politics</td>\n",
       "    </tr>\n",
       "    <tr>\n",
       "      <th>...</th>\n",
       "      <td>...</td>\n",
       "      <td>...</td>\n",
       "      <td>...</td>\n",
       "    </tr>\n",
       "    <tr>\n",
       "      <th>30712</th>\n",
       "      <td>true</td>\n",
       "      <td>There are a larger number of shark attacks in ...</td>\n",
       "      <td>politics</td>\n",
       "    </tr>\n",
       "    <tr>\n",
       "      <th>30713</th>\n",
       "      <td>true</td>\n",
       "      <td>Democrats have now become the party of the [At...</td>\n",
       "      <td>politics</td>\n",
       "    </tr>\n",
       "    <tr>\n",
       "      <th>30714</th>\n",
       "      <td>true</td>\n",
       "      <td>Says an alternative to Social Security that op...</td>\n",
       "      <td>politics</td>\n",
       "    </tr>\n",
       "    <tr>\n",
       "      <th>30715</th>\n",
       "      <td>false</td>\n",
       "      <td>On lifting the U.S. Cuban embargo and allowing...</td>\n",
       "      <td>politics</td>\n",
       "    </tr>\n",
       "    <tr>\n",
       "      <th>30716</th>\n",
       "      <td>false</td>\n",
       "      <td>The Department of Veterans Affairs has a manua...</td>\n",
       "      <td>politics</td>\n",
       "    </tr>\n",
       "  </tbody>\n",
       "</table>\n",
       "<p>30717 rows × 3 columns</p>\n",
       "</div>"
      ],
      "text/plain": [
       "       label                                            subject  category\n",
       "0       true  When did the decline of coal start? It started...  politics\n",
       "1       true  Hillary Clinton agrees with John McCain \"by vo...  politics\n",
       "2      false  Health care reform legislation is likely to ma...  politics\n",
       "3       true  The economic turnaround started at the end of ...  politics\n",
       "4       true  The Chicago Bears have had more starting quart...  politics\n",
       "...      ...                                                ...       ...\n",
       "30712   true  There are a larger number of shark attacks in ...  politics\n",
       "30713   true  Democrats have now become the party of the [At...  politics\n",
       "30714   true  Says an alternative to Social Security that op...  politics\n",
       "30715  false  On lifting the U.S. Cuban embargo and allowing...  politics\n",
       "30716  false  The Department of Veterans Affairs has a manua...  politics\n",
       "\n",
       "[30717 rows x 3 columns]"
      ]
     },
     "execution_count": 32,
     "metadata": {},
     "output_type": "execute_result"
    }
   ],
   "source": [
    "# Applying the function to the 'result' DataFrame\n",
    "result = classLabel(result)\n",
    "result"
   ]
  },
  {
   "cell_type": "code",
   "execution_count": 33,
   "id": "Vp0o2yCHfVmr",
   "metadata": {
    "colab": {
     "base_uri": "https://localhost:8080/",
     "height": 424
    },
    "id": "Vp0o2yCHfVmr",
    "outputId": "423c6564-cd43-4fcb-d55b-19dff7e31075"
   },
   "outputs": [
    {
     "data": {
      "text/html": [
       "<div>\n",
       "<style scoped>\n",
       "    .dataframe tbody tr th:only-of-type {\n",
       "        vertical-align: middle;\n",
       "    }\n",
       "\n",
       "    .dataframe tbody tr th {\n",
       "        vertical-align: top;\n",
       "    }\n",
       "\n",
       "    .dataframe thead th {\n",
       "        text-align: right;\n",
       "    }\n",
       "</style>\n",
       "<table border=\"1\" class=\"dataframe\">\n",
       "  <thead>\n",
       "    <tr style=\"text-align: right;\">\n",
       "      <th></th>\n",
       "      <th>label</th>\n",
       "      <th>subject</th>\n",
       "      <th>category</th>\n",
       "    </tr>\n",
       "  </thead>\n",
       "  <tbody>\n",
       "    <tr>\n",
       "      <th>0</th>\n",
       "      <td>0</td>\n",
       "      <td>When did the decline of coal start? It started...</td>\n",
       "      <td>politics</td>\n",
       "    </tr>\n",
       "    <tr>\n",
       "      <th>1</th>\n",
       "      <td>0</td>\n",
       "      <td>Hillary Clinton agrees with John McCain \"by vo...</td>\n",
       "      <td>politics</td>\n",
       "    </tr>\n",
       "    <tr>\n",
       "      <th>2</th>\n",
       "      <td>1</td>\n",
       "      <td>Health care reform legislation is likely to ma...</td>\n",
       "      <td>politics</td>\n",
       "    </tr>\n",
       "    <tr>\n",
       "      <th>3</th>\n",
       "      <td>0</td>\n",
       "      <td>The economic turnaround started at the end of ...</td>\n",
       "      <td>politics</td>\n",
       "    </tr>\n",
       "    <tr>\n",
       "      <th>4</th>\n",
       "      <td>0</td>\n",
       "      <td>The Chicago Bears have had more starting quart...</td>\n",
       "      <td>politics</td>\n",
       "    </tr>\n",
       "    <tr>\n",
       "      <th>...</th>\n",
       "      <td>...</td>\n",
       "      <td>...</td>\n",
       "      <td>...</td>\n",
       "    </tr>\n",
       "    <tr>\n",
       "      <th>30712</th>\n",
       "      <td>0</td>\n",
       "      <td>There are a larger number of shark attacks in ...</td>\n",
       "      <td>politics</td>\n",
       "    </tr>\n",
       "    <tr>\n",
       "      <th>30713</th>\n",
       "      <td>0</td>\n",
       "      <td>Democrats have now become the party of the [At...</td>\n",
       "      <td>politics</td>\n",
       "    </tr>\n",
       "    <tr>\n",
       "      <th>30714</th>\n",
       "      <td>0</td>\n",
       "      <td>Says an alternative to Social Security that op...</td>\n",
       "      <td>politics</td>\n",
       "    </tr>\n",
       "    <tr>\n",
       "      <th>30715</th>\n",
       "      <td>1</td>\n",
       "      <td>On lifting the U.S. Cuban embargo and allowing...</td>\n",
       "      <td>politics</td>\n",
       "    </tr>\n",
       "    <tr>\n",
       "      <th>30716</th>\n",
       "      <td>1</td>\n",
       "      <td>The Department of Veterans Affairs has a manua...</td>\n",
       "      <td>politics</td>\n",
       "    </tr>\n",
       "  </tbody>\n",
       "</table>\n",
       "<p>30717 rows × 3 columns</p>\n",
       "</div>"
      ],
      "text/plain": [
       "       label                                            subject  category\n",
       "0          0  When did the decline of coal start? It started...  politics\n",
       "1          0  Hillary Clinton agrees with John McCain \"by vo...  politics\n",
       "2          1  Health care reform legislation is likely to ma...  politics\n",
       "3          0  The economic turnaround started at the end of ...  politics\n",
       "4          0  The Chicago Bears have had more starting quart...  politics\n",
       "...      ...                                                ...       ...\n",
       "30712      0  There are a larger number of shark attacks in ...  politics\n",
       "30713      0  Democrats have now become the party of the [At...  politics\n",
       "30714      0  Says an alternative to Social Security that op...  politics\n",
       "30715      1  On lifting the U.S. Cuban embargo and allowing...  politics\n",
       "30716      1  The Department of Veterans Affairs has a manua...  politics\n",
       "\n",
       "[30717 rows x 3 columns]"
      ]
     },
     "execution_count": 33,
     "metadata": {},
     "output_type": "execute_result"
    }
   ],
   "source": [
    "result['label'] = result['label'].map({'false': 1, 'true': 0})\n",
    "result.to_csv('result.csv', index=False)\n",
    "result = pd.read_csv('result.csv')\n",
    "result"
   ]
  },
  {
   "cell_type": "code",
   "execution_count": 34,
   "id": "V1FKm4xRwtKO",
   "metadata": {
    "colab": {
     "base_uri": "https://localhost:8080/",
     "height": 424
    },
    "id": "V1FKm4xRwtKO",
    "outputId": "efa2423e-2081-460c-fb39-4ae34cffd520"
   },
   "outputs": [
    {
     "data": {
      "text/html": [
       "<div>\n",
       "<style scoped>\n",
       "    .dataframe tbody tr th:only-of-type {\n",
       "        vertical-align: middle;\n",
       "    }\n",
       "\n",
       "    .dataframe tbody tr th {\n",
       "        vertical-align: top;\n",
       "    }\n",
       "\n",
       "    .dataframe thead th {\n",
       "        text-align: right;\n",
       "    }\n",
       "</style>\n",
       "<table border=\"1\" class=\"dataframe\">\n",
       "  <thead>\n",
       "    <tr style=\"text-align: right;\">\n",
       "      <th></th>\n",
       "      <th>label</th>\n",
       "      <th>subject</th>\n",
       "      <th>category</th>\n",
       "      <th>clean_message</th>\n",
       "    </tr>\n",
       "  </thead>\n",
       "  <tbody>\n",
       "    <tr>\n",
       "      <th>0</th>\n",
       "      <td>0</td>\n",
       "      <td>When did the decline of coal start? It started...</td>\n",
       "      <td>politics</td>\n",
       "      <td>decline coal start started natural gas took st...</td>\n",
       "    </tr>\n",
       "    <tr>\n",
       "      <th>1</th>\n",
       "      <td>0</td>\n",
       "      <td>Hillary Clinton agrees with John McCain \"by vo...</td>\n",
       "      <td>politics</td>\n",
       "      <td>hillary clinton agrees john mccain voting give...</td>\n",
       "    </tr>\n",
       "    <tr>\n",
       "      <th>2</th>\n",
       "      <td>1</td>\n",
       "      <td>Health care reform legislation is likely to ma...</td>\n",
       "      <td>politics</td>\n",
       "      <td>health care reform legislation likely mandate ...</td>\n",
       "    </tr>\n",
       "    <tr>\n",
       "      <th>3</th>\n",
       "      <td>0</td>\n",
       "      <td>The economic turnaround started at the end of ...</td>\n",
       "      <td>politics</td>\n",
       "      <td>economic turnaround started end term</td>\n",
       "    </tr>\n",
       "    <tr>\n",
       "      <th>4</th>\n",
       "      <td>0</td>\n",
       "      <td>The Chicago Bears have had more starting quart...</td>\n",
       "      <td>politics</td>\n",
       "      <td>chicago bears starting quarterbacks last 10 ye...</td>\n",
       "    </tr>\n",
       "    <tr>\n",
       "      <th>...</th>\n",
       "      <td>...</td>\n",
       "      <td>...</td>\n",
       "      <td>...</td>\n",
       "      <td>...</td>\n",
       "    </tr>\n",
       "    <tr>\n",
       "      <th>30712</th>\n",
       "      <td>0</td>\n",
       "      <td>There are a larger number of shark attacks in ...</td>\n",
       "      <td>politics</td>\n",
       "      <td>larger number shark attacks florida cases vote...</td>\n",
       "    </tr>\n",
       "    <tr>\n",
       "      <th>30713</th>\n",
       "      <td>0</td>\n",
       "      <td>Democrats have now become the party of the [At...</td>\n",
       "      <td>politics</td>\n",
       "      <td>democrats become party atlanta metro area blacks</td>\n",
       "    </tr>\n",
       "    <tr>\n",
       "      <th>30714</th>\n",
       "      <td>0</td>\n",
       "      <td>Says an alternative to Social Security that op...</td>\n",
       "      <td>politics</td>\n",
       "      <td>says alternative social security operates galv...</td>\n",
       "    </tr>\n",
       "    <tr>\n",
       "      <th>30715</th>\n",
       "      <td>1</td>\n",
       "      <td>On lifting the U.S. Cuban embargo and allowing...</td>\n",
       "      <td>politics</td>\n",
       "      <td>lifting us cuban embargo allowing travel cuba</td>\n",
       "    </tr>\n",
       "    <tr>\n",
       "      <th>30716</th>\n",
       "      <td>1</td>\n",
       "      <td>The Department of Veterans Affairs has a manua...</td>\n",
       "      <td>politics</td>\n",
       "      <td>department veterans affairs manual telling vet...</td>\n",
       "    </tr>\n",
       "  </tbody>\n",
       "</table>\n",
       "<p>30717 rows × 4 columns</p>\n",
       "</div>"
      ],
      "text/plain": [
       "       label                                            subject  category  \\\n",
       "0          0  When did the decline of coal start? It started...  politics   \n",
       "1          0  Hillary Clinton agrees with John McCain \"by vo...  politics   \n",
       "2          1  Health care reform legislation is likely to ma...  politics   \n",
       "3          0  The economic turnaround started at the end of ...  politics   \n",
       "4          0  The Chicago Bears have had more starting quart...  politics   \n",
       "...      ...                                                ...       ...   \n",
       "30712      0  There are a larger number of shark attacks in ...  politics   \n",
       "30713      0  Democrats have now become the party of the [At...  politics   \n",
       "30714      0  Says an alternative to Social Security that op...  politics   \n",
       "30715      1  On lifting the U.S. Cuban embargo and allowing...  politics   \n",
       "30716      1  The Department of Veterans Affairs has a manua...  politics   \n",
       "\n",
       "                                           clean_message  \n",
       "0      decline coal start started natural gas took st...  \n",
       "1      hillary clinton agrees john mccain voting give...  \n",
       "2      health care reform legislation likely mandate ...  \n",
       "3                   economic turnaround started end term  \n",
       "4      chicago bears starting quarterbacks last 10 ye...  \n",
       "...                                                  ...  \n",
       "30712  larger number shark attacks florida cases vote...  \n",
       "30713   democrats become party atlanta metro area blacks  \n",
       "30714  says alternative social security operates galv...  \n",
       "30715      lifting us cuban embargo allowing travel cuba  \n",
       "30716  department veterans affairs manual telling vet...  \n",
       "\n",
       "[30717 rows x 4 columns]"
      ]
     },
     "execution_count": 34,
     "metadata": {},
     "output_type": "execute_result"
    }
   ],
   "source": [
    "result['clean_message'] = result['subject'].apply(clean_text)\n",
    "result"
   ]
  },
  {
   "cell_type": "markdown",
   "id": "XTT6xiGg8NYG",
   "metadata": {
    "id": "XTT6xiGg8NYG"
   },
   "source": [
    "# 끝"
   ]
  },
  {
   "cell_type": "markdown",
   "id": "cLPvSOwR4dyh",
   "metadata": {
    "id": "cLPvSOwR4dyh"
   },
   "source": [
    "# Covid"
   ]
  },
  {
   "cell_type": "code",
   "execution_count": 35,
   "id": "UVfrkM7Q4jEy",
   "metadata": {
    "id": "UVfrkM7Q4jEy"
   },
   "outputs": [],
   "source": [
    "cv_train = pd.read_csv('Constraint_Train.csv')\n",
    "cv_val = pd.read_csv('Constraint_Val.csv')"
   ]
  },
  {
   "cell_type": "code",
   "execution_count": 36,
   "id": "TBbLvwTi5KCD",
   "metadata": {
    "colab": {
     "base_uri": "https://localhost:8080/",
     "height": 424
    },
    "id": "TBbLvwTi5KCD",
    "outputId": "7638d61e-c933-48f0-9889-79d6aec1da16"
   },
   "outputs": [
    {
     "data": {
      "text/html": [
       "<div>\n",
       "<style scoped>\n",
       "    .dataframe tbody tr th:only-of-type {\n",
       "        vertical-align: middle;\n",
       "    }\n",
       "\n",
       "    .dataframe tbody tr th {\n",
       "        vertical-align: top;\n",
       "    }\n",
       "\n",
       "    .dataframe thead th {\n",
       "        text-align: right;\n",
       "    }\n",
       "</style>\n",
       "<table border=\"1\" class=\"dataframe\">\n",
       "  <thead>\n",
       "    <tr style=\"text-align: right;\">\n",
       "      <th></th>\n",
       "      <th>id</th>\n",
       "      <th>tweet</th>\n",
       "      <th>label</th>\n",
       "    </tr>\n",
       "  </thead>\n",
       "  <tbody>\n",
       "    <tr>\n",
       "      <th>0</th>\n",
       "      <td>1</td>\n",
       "      <td>The CDC currently reports 99031 deaths. In gen...</td>\n",
       "      <td>real</td>\n",
       "    </tr>\n",
       "    <tr>\n",
       "      <th>1</th>\n",
       "      <td>2</td>\n",
       "      <td>States reported 1121 deaths a small rise from ...</td>\n",
       "      <td>real</td>\n",
       "    </tr>\n",
       "    <tr>\n",
       "      <th>2</th>\n",
       "      <td>3</td>\n",
       "      <td>Politically Correct Woman (Almost) Uses Pandem...</td>\n",
       "      <td>fake</td>\n",
       "    </tr>\n",
       "    <tr>\n",
       "      <th>3</th>\n",
       "      <td>4</td>\n",
       "      <td>#IndiaFightsCorona: We have 1524 #COVID testin...</td>\n",
       "      <td>real</td>\n",
       "    </tr>\n",
       "    <tr>\n",
       "      <th>4</th>\n",
       "      <td>5</td>\n",
       "      <td>Populous states can generate large case counts...</td>\n",
       "      <td>real</td>\n",
       "    </tr>\n",
       "    <tr>\n",
       "      <th>...</th>\n",
       "      <td>...</td>\n",
       "      <td>...</td>\n",
       "      <td>...</td>\n",
       "    </tr>\n",
       "    <tr>\n",
       "      <th>8555</th>\n",
       "      <td>2136</td>\n",
       "      <td>Donald Trump wrongly claimed that New Zealand ...</td>\n",
       "      <td>fake</td>\n",
       "    </tr>\n",
       "    <tr>\n",
       "      <th>8556</th>\n",
       "      <td>2137</td>\n",
       "      <td>Current understanding is #COVID19 spreads most...</td>\n",
       "      <td>real</td>\n",
       "    </tr>\n",
       "    <tr>\n",
       "      <th>8557</th>\n",
       "      <td>2138</td>\n",
       "      <td>Nothing screams “I am sat around doing fuck al...</td>\n",
       "      <td>fake</td>\n",
       "    </tr>\n",
       "    <tr>\n",
       "      <th>8558</th>\n",
       "      <td>2139</td>\n",
       "      <td>Birx says COVID-19 outbreak not under control ...</td>\n",
       "      <td>fake</td>\n",
       "    </tr>\n",
       "    <tr>\n",
       "      <th>8559</th>\n",
       "      <td>2140</td>\n",
       "      <td>Another 4422 new coronavirus cases have been c...</td>\n",
       "      <td>real</td>\n",
       "    </tr>\n",
       "  </tbody>\n",
       "</table>\n",
       "<p>8560 rows × 3 columns</p>\n",
       "</div>"
      ],
      "text/plain": [
       "        id                                              tweet label\n",
       "0        1  The CDC currently reports 99031 deaths. In gen...  real\n",
       "1        2  States reported 1121 deaths a small rise from ...  real\n",
       "2        3  Politically Correct Woman (Almost) Uses Pandem...  fake\n",
       "3        4  #IndiaFightsCorona: We have 1524 #COVID testin...  real\n",
       "4        5  Populous states can generate large case counts...  real\n",
       "...    ...                                                ...   ...\n",
       "8555  2136  Donald Trump wrongly claimed that New Zealand ...  fake\n",
       "8556  2137  Current understanding is #COVID19 spreads most...  real\n",
       "8557  2138  Nothing screams “I am sat around doing fuck al...  fake\n",
       "8558  2139  Birx says COVID-19 outbreak not under control ...  fake\n",
       "8559  2140  Another 4422 new coronavirus cases have been c...  real\n",
       "\n",
       "[8560 rows x 3 columns]"
      ]
     },
     "execution_count": 36,
     "metadata": {},
     "output_type": "execute_result"
    }
   ],
   "source": [
    "result_df3 = pd.concat([cv_train, cv_val], ignore_index=True)\n",
    "result_df3"
   ]
  },
  {
   "cell_type": "code",
   "execution_count": 37,
   "id": "g2R3g78u595_",
   "metadata": {
    "id": "g2R3g78u595_"
   },
   "outputs": [],
   "source": [
    "result_df3['category'] = 'medical'"
   ]
  },
  {
   "cell_type": "code",
   "execution_count": 38,
   "id": "8XAUhgdO6n7v",
   "metadata": {
    "colab": {
     "base_uri": "https://localhost:8080/",
     "height": 424
    },
    "id": "8XAUhgdO6n7v",
    "outputId": "273602ae-c20a-4fb2-b9e9-176ddcde5e47"
   },
   "outputs": [
    {
     "data": {
      "text/html": [
       "<div>\n",
       "<style scoped>\n",
       "    .dataframe tbody tr th:only-of-type {\n",
       "        vertical-align: middle;\n",
       "    }\n",
       "\n",
       "    .dataframe tbody tr th {\n",
       "        vertical-align: top;\n",
       "    }\n",
       "\n",
       "    .dataframe thead th {\n",
       "        text-align: right;\n",
       "    }\n",
       "</style>\n",
       "<table border=\"1\" class=\"dataframe\">\n",
       "  <thead>\n",
       "    <tr style=\"text-align: right;\">\n",
       "      <th></th>\n",
       "      <th>id</th>\n",
       "      <th>tweet</th>\n",
       "      <th>label</th>\n",
       "      <th>category</th>\n",
       "    </tr>\n",
       "  </thead>\n",
       "  <tbody>\n",
       "    <tr>\n",
       "      <th>0</th>\n",
       "      <td>1</td>\n",
       "      <td>The CDC currently reports 99031 deaths. In gen...</td>\n",
       "      <td>0</td>\n",
       "      <td>medical</td>\n",
       "    </tr>\n",
       "    <tr>\n",
       "      <th>1</th>\n",
       "      <td>2</td>\n",
       "      <td>States reported 1121 deaths a small rise from ...</td>\n",
       "      <td>0</td>\n",
       "      <td>medical</td>\n",
       "    </tr>\n",
       "    <tr>\n",
       "      <th>2</th>\n",
       "      <td>3</td>\n",
       "      <td>Politically Correct Woman (Almost) Uses Pandem...</td>\n",
       "      <td>1</td>\n",
       "      <td>medical</td>\n",
       "    </tr>\n",
       "    <tr>\n",
       "      <th>3</th>\n",
       "      <td>4</td>\n",
       "      <td>#IndiaFightsCorona: We have 1524 #COVID testin...</td>\n",
       "      <td>0</td>\n",
       "      <td>medical</td>\n",
       "    </tr>\n",
       "    <tr>\n",
       "      <th>4</th>\n",
       "      <td>5</td>\n",
       "      <td>Populous states can generate large case counts...</td>\n",
       "      <td>0</td>\n",
       "      <td>medical</td>\n",
       "    </tr>\n",
       "    <tr>\n",
       "      <th>...</th>\n",
       "      <td>...</td>\n",
       "      <td>...</td>\n",
       "      <td>...</td>\n",
       "      <td>...</td>\n",
       "    </tr>\n",
       "    <tr>\n",
       "      <th>8555</th>\n",
       "      <td>2136</td>\n",
       "      <td>Donald Trump wrongly claimed that New Zealand ...</td>\n",
       "      <td>1</td>\n",
       "      <td>medical</td>\n",
       "    </tr>\n",
       "    <tr>\n",
       "      <th>8556</th>\n",
       "      <td>2137</td>\n",
       "      <td>Current understanding is #COVID19 spreads most...</td>\n",
       "      <td>0</td>\n",
       "      <td>medical</td>\n",
       "    </tr>\n",
       "    <tr>\n",
       "      <th>8557</th>\n",
       "      <td>2138</td>\n",
       "      <td>Nothing screams “I am sat around doing fuck al...</td>\n",
       "      <td>1</td>\n",
       "      <td>medical</td>\n",
       "    </tr>\n",
       "    <tr>\n",
       "      <th>8558</th>\n",
       "      <td>2139</td>\n",
       "      <td>Birx says COVID-19 outbreak not under control ...</td>\n",
       "      <td>1</td>\n",
       "      <td>medical</td>\n",
       "    </tr>\n",
       "    <tr>\n",
       "      <th>8559</th>\n",
       "      <td>2140</td>\n",
       "      <td>Another 4422 new coronavirus cases have been c...</td>\n",
       "      <td>0</td>\n",
       "      <td>medical</td>\n",
       "    </tr>\n",
       "  </tbody>\n",
       "</table>\n",
       "<p>8560 rows × 4 columns</p>\n",
       "</div>"
      ],
      "text/plain": [
       "        id                                              tweet  label category\n",
       "0        1  The CDC currently reports 99031 deaths. In gen...      0  medical\n",
       "1        2  States reported 1121 deaths a small rise from ...      0  medical\n",
       "2        3  Politically Correct Woman (Almost) Uses Pandem...      1  medical\n",
       "3        4  #IndiaFightsCorona: We have 1524 #COVID testin...      0  medical\n",
       "4        5  Populous states can generate large case counts...      0  medical\n",
       "...    ...                                                ...    ...      ...\n",
       "8555  2136  Donald Trump wrongly claimed that New Zealand ...      1  medical\n",
       "8556  2137  Current understanding is #COVID19 spreads most...      0  medical\n",
       "8557  2138  Nothing screams “I am sat around doing fuck al...      1  medical\n",
       "8558  2139  Birx says COVID-19 outbreak not under control ...      1  medical\n",
       "8559  2140  Another 4422 new coronavirus cases have been c...      0  medical\n",
       "\n",
       "[8560 rows x 4 columns]"
      ]
     },
     "execution_count": 38,
     "metadata": {},
     "output_type": "execute_result"
    }
   ],
   "source": [
    "result_df3['label'] = result_df3['label'].map({'fake': 1, 'real': 0})\n",
    "result_df3.to_csv('result3.csv', index=False)\n",
    "result_df3 = pd.read_csv('result3.csv')\n",
    "result_df3"
   ]
  },
  {
   "cell_type": "code",
   "execution_count": 39,
   "id": "7qUevP3Z7FMP",
   "metadata": {
    "colab": {
     "base_uri": "https://localhost:8080/",
     "height": 424
    },
    "id": "7qUevP3Z7FMP",
    "outputId": "7ac96232-1241-4ac5-81a8-767edec57271"
   },
   "outputs": [
    {
     "data": {
      "text/html": [
       "<div>\n",
       "<style scoped>\n",
       "    .dataframe tbody tr th:only-of-type {\n",
       "        vertical-align: middle;\n",
       "    }\n",
       "\n",
       "    .dataframe tbody tr th {\n",
       "        vertical-align: top;\n",
       "    }\n",
       "\n",
       "    .dataframe thead th {\n",
       "        text-align: right;\n",
       "    }\n",
       "</style>\n",
       "<table border=\"1\" class=\"dataframe\">\n",
       "  <thead>\n",
       "    <tr style=\"text-align: right;\">\n",
       "      <th></th>\n",
       "      <th>id</th>\n",
       "      <th>tweet</th>\n",
       "      <th>label</th>\n",
       "      <th>category</th>\n",
       "      <th>clean_message</th>\n",
       "    </tr>\n",
       "  </thead>\n",
       "  <tbody>\n",
       "    <tr>\n",
       "      <th>0</th>\n",
       "      <td>1</td>\n",
       "      <td>The CDC currently reports 99031 deaths. In gen...</td>\n",
       "      <td>0</td>\n",
       "      <td>medical</td>\n",
       "      <td>cdc currently reports 99031 deaths general dis...</td>\n",
       "    </tr>\n",
       "    <tr>\n",
       "      <th>1</th>\n",
       "      <td>2</td>\n",
       "      <td>States reported 1121 deaths a small rise from ...</td>\n",
       "      <td>0</td>\n",
       "      <td>medical</td>\n",
       "      <td>states reported 1121 deaths small rise last tu...</td>\n",
       "    </tr>\n",
       "    <tr>\n",
       "      <th>2</th>\n",
       "      <td>3</td>\n",
       "      <td>Politically Correct Woman (Almost) Uses Pandem...</td>\n",
       "      <td>1</td>\n",
       "      <td>medical</td>\n",
       "      <td>politically correct woman almost uses pandemic...</td>\n",
       "    </tr>\n",
       "    <tr>\n",
       "      <th>3</th>\n",
       "      <td>4</td>\n",
       "      <td>#IndiaFightsCorona: We have 1524 #COVID testin...</td>\n",
       "      <td>0</td>\n",
       "      <td>medical</td>\n",
       "      <td>indiafightscorona 1524 covid testing laborator...</td>\n",
       "    </tr>\n",
       "    <tr>\n",
       "      <th>4</th>\n",
       "      <td>5</td>\n",
       "      <td>Populous states can generate large case counts...</td>\n",
       "      <td>0</td>\n",
       "      <td>medical</td>\n",
       "      <td>populous states generate large case counts loo...</td>\n",
       "    </tr>\n",
       "    <tr>\n",
       "      <th>...</th>\n",
       "      <td>...</td>\n",
       "      <td>...</td>\n",
       "      <td>...</td>\n",
       "      <td>...</td>\n",
       "      <td>...</td>\n",
       "    </tr>\n",
       "    <tr>\n",
       "      <th>8555</th>\n",
       "      <td>2136</td>\n",
       "      <td>Donald Trump wrongly claimed that New Zealand ...</td>\n",
       "      <td>1</td>\n",
       "      <td>medical</td>\n",
       "      <td>donald trump wrongly claimed new zealand “big ...</td>\n",
       "    </tr>\n",
       "    <tr>\n",
       "      <th>8556</th>\n",
       "      <td>2137</td>\n",
       "      <td>Current understanding is #COVID19 spreads most...</td>\n",
       "      <td>0</td>\n",
       "      <td>medical</td>\n",
       "      <td>current understanding covid19 spreads mostly p...</td>\n",
       "    </tr>\n",
       "    <tr>\n",
       "      <th>8557</th>\n",
       "      <td>2138</td>\n",
       "      <td>Nothing screams “I am sat around doing fuck al...</td>\n",
       "      <td>1</td>\n",
       "      <td>medical</td>\n",
       "      <td>nothing screams “i sat around fuck lockdown” q...</td>\n",
       "    </tr>\n",
       "    <tr>\n",
       "      <th>8558</th>\n",
       "      <td>2139</td>\n",
       "      <td>Birx says COVID-19 outbreak not under control ...</td>\n",
       "      <td>1</td>\n",
       "      <td>medical</td>\n",
       "      <td>birx says covid19 outbreak control ‘people mov...</td>\n",
       "    </tr>\n",
       "    <tr>\n",
       "      <th>8559</th>\n",
       "      <td>2140</td>\n",
       "      <td>Another 4422 new coronavirus cases have been c...</td>\n",
       "      <td>0</td>\n",
       "      <td>medical</td>\n",
       "      <td>another 4422 new coronavirus cases confirmed u...</td>\n",
       "    </tr>\n",
       "  </tbody>\n",
       "</table>\n",
       "<p>8560 rows × 5 columns</p>\n",
       "</div>"
      ],
      "text/plain": [
       "        id                                              tweet  label category  \\\n",
       "0        1  The CDC currently reports 99031 deaths. In gen...      0  medical   \n",
       "1        2  States reported 1121 deaths a small rise from ...      0  medical   \n",
       "2        3  Politically Correct Woman (Almost) Uses Pandem...      1  medical   \n",
       "3        4  #IndiaFightsCorona: We have 1524 #COVID testin...      0  medical   \n",
       "4        5  Populous states can generate large case counts...      0  medical   \n",
       "...    ...                                                ...    ...      ...   \n",
       "8555  2136  Donald Trump wrongly claimed that New Zealand ...      1  medical   \n",
       "8556  2137  Current understanding is #COVID19 spreads most...      0  medical   \n",
       "8557  2138  Nothing screams “I am sat around doing fuck al...      1  medical   \n",
       "8558  2139  Birx says COVID-19 outbreak not under control ...      1  medical   \n",
       "8559  2140  Another 4422 new coronavirus cases have been c...      0  medical   \n",
       "\n",
       "                                          clean_message  \n",
       "0     cdc currently reports 99031 deaths general dis...  \n",
       "1     states reported 1121 deaths small rise last tu...  \n",
       "2     politically correct woman almost uses pandemic...  \n",
       "3     indiafightscorona 1524 covid testing laborator...  \n",
       "4     populous states generate large case counts loo...  \n",
       "...                                                 ...  \n",
       "8555  donald trump wrongly claimed new zealand “big ...  \n",
       "8556  current understanding covid19 spreads mostly p...  \n",
       "8557  nothing screams “i sat around fuck lockdown” q...  \n",
       "8558  birx says covid19 outbreak control ‘people mov...  \n",
       "8559  another 4422 new coronavirus cases confirmed u...  \n",
       "\n",
       "[8560 rows x 5 columns]"
      ]
     },
     "execution_count": 39,
     "metadata": {},
     "output_type": "execute_result"
    }
   ],
   "source": [
    "result_df3['clean_message'] = result_df3['tweet'].apply(clean_text)\n",
    "result_df3"
   ]
  },
  {
   "cell_type": "markdown",
   "id": "ZeKZRYmk8Ahc",
   "metadata": {
    "id": "ZeKZRYmk8Ahc"
   },
   "source": [
    "# 끝"
   ]
  },
  {
   "cell_type": "markdown",
   "id": "42300a3d",
   "metadata": {
    "id": "42300a3d"
   },
   "source": [
    "## Counter를 import하여 진짜 뉴스의 clean_message에 가장 빈도수가 높은 값 15개를 출력"
   ]
  },
  {
   "cell_type": "code",
   "execution_count": 40,
   "id": "B-UvR7rq_yBW",
   "metadata": {
    "colab": {
     "base_uri": "https://localhost:8080/"
    },
    "id": "B-UvR7rq_yBW",
    "outputId": "9bd3a6be-9618-4c92-eb2b-65f460d4f62c"
   },
   "outputs": [
    {
     "name": "stdout",
     "output_type": "stream",
     "text": [
      "[('said', 97577), ('trump', 44812), ('us', 44250), ('would', 32593), ('reuters', 28287), ('president', 26474), ('state', 20889), ('new', 19351), ('government', 18698), ('states', 17832), ('house', 17767), ('united', 16235), ('people', 16229), ('also', 16209), ('republican', 16125)]\n"
     ]
    }
   ],
   "source": [
    "from collections import Counter\n",
    "\n",
    "common_columns = ['clean_message', 'label']\n",
    "clean_message = pd.concat([result[common_columns], result_df[common_columns], result_df3[common_columns]], axis=0, ignore_index=True)\n",
    "\n",
    "words = clean_message[clean_message['label']==0]['clean_message'].apply(lambda x: [word for word in x.split()])\n",
    "true_news_words = Counter()\n",
    "\n",
    "for msg in words:\n",
    "    true_news_words.update(msg)\n",
    "\n",
    "print(true_news_words.most_common(15))"
   ]
  },
  {
   "cell_type": "markdown",
   "id": "3e76cdd8",
   "metadata": {
    "id": "3e76cdd8"
   },
   "source": [
    "## 가짜 뉴스의 clean_message에 가장 빈도수가 높은 값 15개를 출력"
   ]
  },
  {
   "cell_type": "code",
   "execution_count": 41,
   "id": "ysOTfFmcBBvU",
   "metadata": {
    "colab": {
     "base_uri": "https://localhost:8080/"
    },
    "id": "ysOTfFmcBBvU",
    "outputId": "0e545186-dc4c-4277-d211-7f9b8fb92dba"
   },
   "outputs": [
    {
     "name": "stdout",
     "output_type": "stream",
     "text": [
      "[('trump', 79428), ('said', 31860), ('president', 27482), ('people', 27477), ('would', 24457), ('one', 24008), ('us', 23792), ('obama', 20320), ('clinton', 19259), ('like', 18227), ('donald', 17962), ('video', 15951), ('new', 15719), ('also', 15379), ('hillary', 15243)]\n"
     ]
    }
   ],
   "source": [
    "words = clean_message[clean_message['label']==1]['clean_message'].apply(lambda x: [word for word in x.split()])\n",
    "true_news_words = Counter()\n",
    "\n",
    "for msg in words:\n",
    "    true_news_words.update(msg)\n",
    "\n",
    "print(true_news_words.most_common(15))"
   ]
  },
  {
   "cell_type": "markdown",
   "id": "7f585573",
   "metadata": {
    "id": "7f585573"
   },
   "source": [
    "# 머신러닝 모델"
   ]
  },
  {
   "cell_type": "code",
   "execution_count": 42,
   "id": "TCVADUSOCM6y",
   "metadata": {
    "colab": {
     "base_uri": "https://localhost:8080/",
     "height": 424
    },
    "id": "TCVADUSOCM6y",
    "outputId": "b1aec0d3-7702-4ca5-f249-9313fcb67519",
    "scrolled": false
   },
   "outputs": [
    {
     "data": {
      "text/html": [
       "<div>\n",
       "<style scoped>\n",
       "    .dataframe tbody tr th:only-of-type {\n",
       "        vertical-align: middle;\n",
       "    }\n",
       "\n",
       "    .dataframe tbody tr th {\n",
       "        vertical-align: top;\n",
       "    }\n",
       "\n",
       "    .dataframe thead th {\n",
       "        text-align: right;\n",
       "    }\n",
       "</style>\n",
       "<table border=\"1\" class=\"dataframe\">\n",
       "  <thead>\n",
       "    <tr style=\"text-align: right;\">\n",
       "      <th></th>\n",
       "      <th>clean_message</th>\n",
       "      <th>label</th>\n",
       "    </tr>\n",
       "  </thead>\n",
       "  <tbody>\n",
       "    <tr>\n",
       "      <th>0</th>\n",
       "      <td>decline coal start started natural gas took st...</td>\n",
       "      <td>0</td>\n",
       "    </tr>\n",
       "    <tr>\n",
       "      <th>1</th>\n",
       "      <td>hillary clinton agrees john mccain voting give...</td>\n",
       "      <td>0</td>\n",
       "    </tr>\n",
       "    <tr>\n",
       "      <th>2</th>\n",
       "      <td>health care reform legislation likely mandate ...</td>\n",
       "      <td>1</td>\n",
       "    </tr>\n",
       "    <tr>\n",
       "      <th>3</th>\n",
       "      <td>economic turnaround started end term</td>\n",
       "      <td>0</td>\n",
       "    </tr>\n",
       "    <tr>\n",
       "      <th>4</th>\n",
       "      <td>chicago bears starting quarterbacks last 10 ye...</td>\n",
       "      <td>0</td>\n",
       "    </tr>\n",
       "    <tr>\n",
       "      <th>...</th>\n",
       "      <td>...</td>\n",
       "      <td>...</td>\n",
       "    </tr>\n",
       "    <tr>\n",
       "      <th>84170</th>\n",
       "      <td>donald trump wrongly claimed new zealand “big ...</td>\n",
       "      <td>1</td>\n",
       "    </tr>\n",
       "    <tr>\n",
       "      <th>84171</th>\n",
       "      <td>current understanding covid19 spreads mostly p...</td>\n",
       "      <td>0</td>\n",
       "    </tr>\n",
       "    <tr>\n",
       "      <th>84172</th>\n",
       "      <td>nothing screams “i sat around fuck lockdown” q...</td>\n",
       "      <td>1</td>\n",
       "    </tr>\n",
       "    <tr>\n",
       "      <th>84173</th>\n",
       "      <td>birx says covid19 outbreak control ‘people mov...</td>\n",
       "      <td>1</td>\n",
       "    </tr>\n",
       "    <tr>\n",
       "      <th>84174</th>\n",
       "      <td>another 4422 new coronavirus cases confirmed u...</td>\n",
       "      <td>0</td>\n",
       "    </tr>\n",
       "  </tbody>\n",
       "</table>\n",
       "<p>84175 rows × 2 columns</p>\n",
       "</div>"
      ],
      "text/plain": [
       "                                           clean_message  label\n",
       "0      decline coal start started natural gas took st...      0\n",
       "1      hillary clinton agrees john mccain voting give...      0\n",
       "2      health care reform legislation likely mandate ...      1\n",
       "3                   economic turnaround started end term      0\n",
       "4      chicago bears starting quarterbacks last 10 ye...      0\n",
       "...                                                  ...    ...\n",
       "84170  donald trump wrongly claimed new zealand “big ...      1\n",
       "84171  current understanding covid19 spreads mostly p...      0\n",
       "84172  nothing screams “i sat around fuck lockdown” q...      1\n",
       "84173  birx says covid19 outbreak control ‘people mov...      1\n",
       "84174  another 4422 new coronavirus cases confirmed u...      0\n",
       "\n",
       "[84175 rows x 2 columns]"
      ]
     },
     "execution_count": 42,
     "metadata": {},
     "output_type": "execute_result"
    }
   ],
   "source": [
    "clean_message"
   ]
  },
  {
   "cell_type": "code",
   "execution_count": 43,
   "id": "a00c7ee2",
   "metadata": {},
   "outputs": [],
   "source": [
    "# clean_message = clean_message[clean_message['label'] != 2]\n",
    "# clean_message['label'].value_counts()\n",
    "# clean_message.to_csv('clean_message.csv', index=False)\n",
    "# clean_message = pd.read_csv('clean_message.csv')\n",
    "# clean_message"
   ]
  },
  {
   "cell_type": "code",
   "execution_count": 44,
   "id": "c3fcfc05",
   "metadata": {
    "id": "c3fcfc05"
   },
   "outputs": [
    {
     "name": "stderr",
     "output_type": "stream",
     "text": [
      "2023-12-19 16:46:30.574509: I tensorflow/core/util/port.cc:110] oneDNN custom operations are on. You may see slightly different numerical results due to floating-point round-off errors from different computation orders. To turn them off, set the environment variable `TF_ENABLE_ONEDNN_OPTS=0`.\n",
      "2023-12-19 16:46:30.575507: I tensorflow/tsl/cuda/cudart_stub.cc:28] Could not find cuda drivers on your machine, GPU will not be used.\n",
      "2023-12-19 16:46:30.591014: I tensorflow/tsl/cuda/cudart_stub.cc:28] Could not find cuda drivers on your machine, GPU will not be used.\n",
      "2023-12-19 16:46:30.591311: I tensorflow/core/platform/cpu_feature_guard.cc:182] This TensorFlow binary is optimized to use available CPU instructions in performance-critical operations.\n",
      "To enable the following instructions: AVX2 AVX_VNNI FMA, in other operations, rebuild TensorFlow with the appropriate compiler flags.\n",
      "2023-12-19 16:46:30.990757: W tensorflow/compiler/tf2tensorrt/utils/py_utils.cc:38] TF-TRT Warning: Could not find TensorRT\n"
     ]
    }
   ],
   "source": [
    "#학습 데이터와 검증 데이터로 나눌 train_test_split, naive bayes 모델인 MultinomialNB, clean_message에 있는 단어들의 특징 추출을 위해 문자열 데이터를 수치 벡터로 변환시켜주는 CountVectorizer를 import\n",
    "from sklearn.model_selection import train_test_split\n",
    "from sklearn.feature_extraction.text import CountVectorizer\n",
    "from sklearn.naive_bayes import MultinomialNB\n",
    "from tensorflow.keras.utils import to_categorical"
   ]
  },
  {
   "cell_type": "code",
   "execution_count": 45,
   "id": "a9d525c9",
   "metadata": {
    "id": "a9d525c9"
   },
   "outputs": [],
   "source": [
    "X = clean_message['clean_message']\n",
    "y = clean_message['label']"
   ]
  },
  {
   "cell_type": "markdown",
   "id": "afb3aa8b",
   "metadata": {
    "id": "afb3aa8b"
   },
   "source": [
    "## 전체 데이터에서 테스트 사이즈를 70%로 설정하고, random_state를 1234로 설정"
   ]
  },
  {
   "cell_type": "code",
   "execution_count": 46,
   "id": "a7665be0",
   "metadata": {
    "id": "a7665be0"
   },
   "outputs": [],
   "source": [
    "X_train, X_test, y_train, y_test = train_test_split(X, y, test_size=0.3, random_state=1234)"
   ]
  },
  {
   "cell_type": "code",
   "execution_count": 47,
   "id": "40c0d81b",
   "metadata": {
    "colab": {
     "base_uri": "https://localhost:8080/"
    },
    "id": "40c0d81b",
    "outputId": "d6a8e2fe-26dc-4fc8-a39d-fa4f0d324abb"
   },
   "outputs": [
    {
     "data": {
      "text/plain": [
       "((58922,), (25253,), (58922,), (25253,))"
      ]
     },
     "execution_count": 47,
     "metadata": {},
     "output_type": "execute_result"
    }
   ],
   "source": [
    "X_train.shape, X_test.shape, y_train.shape, y_test.shape"
   ]
  },
  {
   "cell_type": "markdown",
   "id": "19df7e97",
   "metadata": {},
   "source": [
    "## RNN"
   ]
  },
  {
   "cell_type": "code",
   "execution_count": 48,
   "id": "e30d7525",
   "metadata": {},
   "outputs": [],
   "source": [
    "import tensorflow as tf\n",
    "from tensorflow.keras import backend as K\n",
    "\n",
    "class MatthewsCorrelationCoefficient(tf.keras.metrics.Metric):\n",
    "    def __init__(self, name='mcc', **kwargs):\n",
    "        super(MatthewsCorrelationCoefficient, self).__init__(name=name, **kwargs)\n",
    "        self.true_positives = self.add_weight(name='tp', initializer='zeros')\n",
    "        self.false_positives = self.add_weight(name='fp', initializer='zeros')\n",
    "        self.true_negatives = self.add_weight(name='tn', initializer='zeros')\n",
    "        self.false_negatives = self.add_weight(name='fn', initializer='zeros')\n",
    "\n",
    "    def update_state(self, y_true, y_pred, sample_weight=None):\n",
    "        y_pred = tf.round(y_pred)\n",
    "        y_true = tf.cast(y_true, tf.float32)  # y_true를 float32로 타입 캐스팅\n",
    "        true_positives = K.sum(y_true * y_pred)\n",
    "        true_negatives = K.sum((1 - y_true) * (1 - y_pred))\n",
    "        false_positives = K.sum((1 - y_true) * y_pred)\n",
    "        false_negatives = K.sum(y_true * (1 - y_pred))\n",
    "\n",
    "        self.true_positives.assign_add(true_positives)\n",
    "        self.true_negatives.assign_add(true_negatives)\n",
    "        self.false_positives.assign_add(false_positives)\n",
    "        self.false_negatives.assign_add(false_negatives)\n",
    "\n",
    "    def result(self):\n",
    "        numerator = (self.true_positives * self.true_negatives -\n",
    "                     self.false_positives * self.false_negatives)\n",
    "        denominator = K.sqrt((self.true_positives + self.false_positives) *\n",
    "                             (self.true_positives + self.false_negatives) *\n",
    "                             (self.true_negatives + self.false_positives) *\n",
    "                             (self.true_negatives + self.false_negatives) + K.epsilon())\n",
    "\n",
    "        return numerator / (denominator + K.epsilon())\n",
    "\n",
    "    def reset_states(self):\n",
    "        for s in [self.true_positives, self.false_positives, self.true_negatives, self.false_negatives]:\n",
    "            K.set_value(s, 0.0)"
   ]
  },
  {
   "cell_type": "code",
   "execution_count": 49,
   "id": "a48ccb8b",
   "metadata": {
    "scrolled": false
   },
   "outputs": [
    {
     "name": "stdout",
     "output_type": "stream",
     "text": [
      "Epoch 1/10\n"
     ]
    },
    {
     "name": "stderr",
     "output_type": "stream",
     "text": [
      "2023-12-19 16:46:37.476509: I tensorflow/compiler/xla/stream_executor/cuda/cuda_gpu_executor.cc:995] successful NUMA node read from SysFS had negative value (-1), but there must be at least one NUMA node, so returning NUMA node zero. See more at https://github.com/torvalds/linux/blob/v6.0/Documentation/ABI/testing/sysfs-bus-pci#L344-L355\n",
      "2023-12-19 16:46:37.476747: W tensorflow/core/common_runtime/gpu/gpu_device.cc:1960] Cannot dlopen some GPU libraries. Please make sure the missing libraries mentioned above are installed properly if you would like to use GPU. Follow the guide at https://www.tensorflow.org/install/gpu for how to download and setup the required libraries for your platform.\n",
      "Skipping registering GPU devices...\n"
     ]
    },
    {
     "name": "stdout",
     "output_type": "stream",
     "text": [
      "1840/1842 [============================>.] - ETA: 0s - loss: 0.3626 - mcc: 0.6412"
     ]
    },
    {
     "name": "stderr",
     "output_type": "stream",
     "text": [
      "/home/t16user3/.conda/envs/example/lib/python3.9/site-packages/keras/src/engine/training.py:2620: UserWarning: Metric MatthewsCorrelationCoefficient implements a `reset_states()` method; rename it to `reset_state()` (without the final \"s\"). The name `reset_states()` has been deprecated to improve API consistency.\n",
      "  m.reset_state()\n"
     ]
    },
    {
     "name": "stdout",
     "output_type": "stream",
     "text": [
      "1842/1842 [==============================] - 22s 12ms/step - loss: 0.3625 - mcc: 0.6413 - val_loss: 0.2333 - val_mcc: 0.8145\n",
      "Epoch 2/10\n",
      "1842/1842 [==============================] - 21s 11ms/step - loss: 0.4415 - mcc: 0.5547 - val_loss: 0.4860 - val_mcc: 0.5039\n",
      "Epoch 3/10\n",
      "1842/1842 [==============================] - 20s 11ms/step - loss: 0.3173 - mcc: 0.7164 - val_loss: 0.2973 - val_mcc: 0.7406\n",
      "Epoch 4/10\n",
      "1842/1842 [==============================] - 22s 12ms/step - loss: 0.2113 - mcc: 0.8283 - val_loss: 0.2551 - val_mcc: 0.7939\n",
      "Epoch 5/10\n",
      "1842/1842 [==============================] - 21s 12ms/step - loss: 0.1654 - mcc: 0.8684 - val_loss: 0.2498 - val_mcc: 0.8048\n",
      "Epoch 6/10\n",
      "1842/1842 [==============================] - 22s 12ms/step - loss: 0.1125 - mcc: 0.9157 - val_loss: 0.2506 - val_mcc: 0.8301\n",
      "Epoch 7/10\n",
      "1842/1842 [==============================] - 21s 12ms/step - loss: 0.0819 - mcc: 0.9395 - val_loss: 0.2401 - val_mcc: 0.8546\n",
      "Epoch 8/10\n",
      "1842/1842 [==============================] - 22s 12ms/step - loss: 0.0583 - mcc: 0.9597 - val_loss: 0.2708 - val_mcc: 0.8180\n",
      "Epoch 9/10\n",
      "1842/1842 [==============================] - 21s 12ms/step - loss: 0.0647 - mcc: 0.9527 - val_loss: 0.2611 - val_mcc: 0.8633\n",
      "Epoch 10/10\n",
      "1842/1842 [==============================] - 21s 11ms/step - loss: 0.0388 - mcc: 0.9751 - val_loss: 0.2780 - val_mcc: 0.8707\n",
      "Model: \"sequential\"\n",
      "_________________________________________________________________\n",
      " Layer (type)                Output Shape              Param #   \n",
      "=================================================================\n",
      " embedding (Embedding)       (None, 100, 30)           900000    \n",
      "                                                                 \n",
      " simple_rnn (SimpleRNN)      (None, 100)               13100     \n",
      "                                                                 \n",
      " dense (Dense)               (None, 1)                 101       \n",
      "                                                                 \n",
      "=================================================================\n",
      "Total params: 913201 (3.48 MB)\n",
      "Trainable params: 913201 (3.48 MB)\n",
      "Non-trainable params: 0 (0.00 Byte)\n",
      "_________________________________________________________________\n"
     ]
    }
   ],
   "source": [
    "from sklearn.model_selection import train_test_split\n",
    "from tensorflow.keras.preprocessing.text import Tokenizer\n",
    "from tensorflow.keras.preprocessing.sequence import pad_sequences\n",
    "from tensorflow.keras.models import Sequential\n",
    "from tensorflow.keras.layers import Embedding, SimpleRNN, Dense\n",
    "import tensorflow as tf\n",
    "from keras.layers import Dropout\n",
    "from keras.layers import LSTM\n",
    "from keras.layers import GRU\n",
    "\n",
    "# 텍스트 데이터를 숫자로 임베딩\n",
    "max_words = 30000  # 최대 단어 수\n",
    "max_sequence_length = 100  # 시퀀스 최대 길이\n",
    "\n",
    "tokenizer = Tokenizer(num_words=max_words)\n",
    "tokenizer.fit_on_texts(X_train)\n",
    "X_train_sequences = tokenizer.texts_to_sequences(X_train)\n",
    "X_test_sequences = tokenizer.texts_to_sequences(X_test)\n",
    "\n",
    "X_train_padded = pad_sequences(X_train_sequences, maxlen=max_sequence_length)\n",
    "X_test_padded = pad_sequences(X_test_sequences, maxlen=max_sequence_length)\n",
    "\n",
    "#RNN 모델 생성\n",
    "model_RNN = Sequential()\n",
    "model_RNN.add(Embedding(input_dim=max_words, output_dim=30, input_length=max_sequence_length))\n",
    "model_RNN.add(SimpleRNN(100))\n",
    "model_RNN.add(Dense(1, activation='sigmoid'))\n",
    "\n",
    "# 모델 컴파일\n",
    "model_RNN.compile(optimizer='adam', loss='binary_crossentropy', metrics=[MatthewsCorrelationCoefficient()])\n",
    "\n",
    "# 모델 훈련\n",
    "history_RNN = model_RNN.fit(X_train_padded, y_train, epochs=10, validation_data=(X_test_padded, y_test))\n",
    "\n",
    "# 모델 요약 출력\n",
    "model_RNN.summary()"
   ]
  },
  {
   "cell_type": "code",
   "execution_count": 50,
   "id": "bc93e063",
   "metadata": {
    "scrolled": false
   },
   "outputs": [
    {
     "name": "stdout",
     "output_type": "stream",
     "text": [
      "Epoch 1/10\n",
      "1842/1842 [==============================] - 23s 12ms/step - loss: 0.3706 - accuracy: 0.8174 - val_loss: 0.2463 - val_accuracy: 0.8997\n",
      "Epoch 2/10\n",
      "1842/1842 [==============================] - 21s 11ms/step - loss: 0.2064 - accuracy: 0.9146 - val_loss: 0.2435 - val_accuracy: 0.8980\n",
      "Epoch 3/10\n",
      "1842/1842 [==============================] - 22s 12ms/step - loss: 0.1041 - accuracy: 0.9613 - val_loss: 0.1981 - val_accuracy: 0.9361\n",
      "Epoch 4/10\n",
      "1842/1842 [==============================] - 22s 12ms/step - loss: 0.0463 - accuracy: 0.9842 - val_loss: 0.2339 - val_accuracy: 0.9429\n",
      "Epoch 5/10\n",
      "1842/1842 [==============================] - 22s 12ms/step - loss: 0.0243 - accuracy: 0.9924 - val_loss: 0.2411 - val_accuracy: 0.9420\n",
      "Epoch 6/10\n",
      "1842/1842 [==============================] - 22s 12ms/step - loss: 0.0388 - accuracy: 0.9863 - val_loss: 0.2221 - val_accuracy: 0.9229\n",
      "Epoch 7/10\n",
      "1842/1842 [==============================] - 21s 11ms/step - loss: 0.0378 - accuracy: 0.9862 - val_loss: 0.2859 - val_accuracy: 0.9426\n",
      "Epoch 8/10\n",
      "1842/1842 [==============================] - 21s 12ms/step - loss: 0.0289 - accuracy: 0.9899 - val_loss: 0.2707 - val_accuracy: 0.9413\n",
      "Epoch 9/10\n",
      "1842/1842 [==============================] - 21s 11ms/step - loss: 0.0815 - accuracy: 0.9698 - val_loss: 0.2296 - val_accuracy: 0.9423\n",
      "Epoch 10/10\n",
      "1842/1842 [==============================] - 21s 11ms/step - loss: 0.0097 - accuracy: 0.9973 - val_loss: 0.2665 - val_accuracy: 0.9415\n",
      "Model: \"sequential_1\"\n",
      "_________________________________________________________________\n",
      " Layer (type)                Output Shape              Param #   \n",
      "=================================================================\n",
      " embedding_1 (Embedding)     (None, 100, 30)           900000    \n",
      "                                                                 \n",
      " simple_rnn_1 (SimpleRNN)    (None, 100)               13100     \n",
      "                                                                 \n",
      " dense_1 (Dense)             (None, 1)                 101       \n",
      "                                                                 \n",
      "=================================================================\n",
      "Total params: 913201 (3.48 MB)\n",
      "Trainable params: 913201 (3.48 MB)\n",
      "Non-trainable params: 0 (0.00 Byte)\n",
      "_________________________________________________________________\n"
     ]
    }
   ],
   "source": [
    "from sklearn.model_selection import train_test_split\n",
    "from tensorflow.keras.preprocessing.text import Tokenizer\n",
    "from tensorflow.keras.preprocessing.sequence import pad_sequences\n",
    "from tensorflow.keras.models import Sequential\n",
    "from tensorflow.keras.layers import Embedding, SimpleRNN, Dense\n",
    "import tensorflow as tf\n",
    "from keras.layers import Dropout\n",
    "from keras.layers import LSTM\n",
    "from keras.layers import GRU\n",
    "\n",
    "# 텍스트 데이터를 숫자로 임베딩\n",
    "max_words = 30000  # 최대 단어 수\n",
    "max_sequence_length = 100  # 시퀀스 최대 길이\n",
    "\n",
    "tokenizer = Tokenizer(num_words=max_words)\n",
    "tokenizer.fit_on_texts(X_train)\n",
    "X_train_sequences = tokenizer.texts_to_sequences(X_train)\n",
    "X_test_sequences = tokenizer.texts_to_sequences(X_test)\n",
    "\n",
    "X_train_padded = pad_sequences(X_train_sequences, maxlen=max_sequence_length)\n",
    "X_test_padded = pad_sequences(X_test_sequences, maxlen=max_sequence_length)\n",
    "\n",
    "#RNN 모델 생성\n",
    "model_RNN = Sequential()\n",
    "model_RNN.add(Embedding(input_dim=max_words, output_dim=30, input_length=max_sequence_length))\n",
    "model_RNN.add(SimpleRNN(100))\n",
    "model_RNN.add(Dense(1, activation='sigmoid'))\n",
    "\n",
    "# 모델 컴파일\n",
    "model_RNN.compile(optimizer='adam', loss='binary_crossentropy', metrics=['accuracy'])\n",
    "\n",
    "# 모델 훈련\n",
    "history_RNN = model_RNN.fit(X_train_padded, y_train, epochs=10, validation_data=(X_test_padded, y_test))\n",
    "\n",
    "# 모델 요약 출력\n",
    "model_RNN.summary()"
   ]
  },
  {
   "cell_type": "markdown",
   "id": "65573541",
   "metadata": {},
   "source": [
    "## LSTM"
   ]
  },
  {
   "cell_type": "code",
   "execution_count": 51,
   "id": "7df2dff9",
   "metadata": {
    "scrolled": false
   },
   "outputs": [
    {
     "name": "stdout",
     "output_type": "stream",
     "text": [
      "Epoch 1/10\n",
      "1842/1842 [==============================] - 89s 48ms/step - loss: 0.3335 - accuracy: 0.8291 - val_loss: 0.2708 - val_accuracy: 0.8722\n",
      "Epoch 2/10\n",
      "1842/1842 [==============================] - 83s 45ms/step - loss: 0.2049 - accuracy: 0.9087 - val_loss: 0.2213 - val_accuracy: 0.9068\n",
      "Epoch 3/10\n",
      "1842/1842 [==============================] - 84s 45ms/step - loss: 0.1387 - accuracy: 0.9427 - val_loss: 0.2084 - val_accuracy: 0.9246\n",
      "Epoch 4/10\n",
      "1842/1842 [==============================] - 85s 46ms/step - loss: 0.0985 - accuracy: 0.9607 - val_loss: 0.2088 - val_accuracy: 0.9322\n",
      "Epoch 5/10\n",
      "1842/1842 [==============================] - 86s 46ms/step - loss: 0.0744 - accuracy: 0.9716 - val_loss: 0.2125 - val_accuracy: 0.9387\n",
      "Epoch 6/10\n",
      "1842/1842 [==============================] - 84s 46ms/step - loss: 0.0616 - accuracy: 0.9776 - val_loss: 0.2017 - val_accuracy: 0.9459\n",
      "Epoch 7/10\n",
      "1842/1842 [==============================] - 82s 45ms/step - loss: 0.0493 - accuracy: 0.9822 - val_loss: 0.2366 - val_accuracy: 0.9342\n",
      "Epoch 8/10\n",
      "1842/1842 [==============================] - 83s 45ms/step - loss: 0.0434 - accuracy: 0.9840 - val_loss: 0.2268 - val_accuracy: 0.9494\n",
      "Epoch 9/10\n",
      "1842/1842 [==============================] - 85s 46ms/step - loss: 0.0320 - accuracy: 0.9878 - val_loss: 0.2454 - val_accuracy: 0.9515\n",
      "Epoch 10/10\n",
      "1842/1842 [==============================] - 82s 45ms/step - loss: 0.0314 - accuracy: 0.9891 - val_loss: 0.2336 - val_accuracy: 0.9542\n",
      "Model: \"sequential_2\"\n",
      "_________________________________________________________________\n",
      " Layer (type)                Output Shape              Param #   \n",
      "=================================================================\n",
      " embedding_2 (Embedding)     (None, 100, 30)           900000    \n",
      "                                                                 \n",
      " dropout (Dropout)           (None, 100, 30)           0         \n",
      "                                                                 \n",
      " lstm (LSTM)                 (None, 100)               52400     \n",
      "                                                                 \n",
      " dropout_1 (Dropout)         (None, 100)               0         \n",
      "                                                                 \n",
      " dense_2 (Dense)             (None, 64)                6464      \n",
      "                                                                 \n",
      " dropout_2 (Dropout)         (None, 64)                0         \n",
      "                                                                 \n",
      " dense_3 (Dense)             (None, 1)                 65        \n",
      "                                                                 \n",
      "=================================================================\n",
      "Total params: 958929 (3.66 MB)\n",
      "Trainable params: 958929 (3.66 MB)\n",
      "Non-trainable params: 0 (0.00 Byte)\n",
      "_________________________________________________________________\n"
     ]
    }
   ],
   "source": [
    "#LSTM 모델 생성\n",
    "model_LSTM = Sequential()\n",
    "model_LSTM.add(Embedding(input_dim=max_words, output_dim=30, input_length=max_sequence_length))\n",
    "model_LSTM.add(Dropout(0.3))\n",
    "model_LSTM.add(LSTM(100))\n",
    "model_LSTM.add(Dropout(0.3))\n",
    "model_LSTM.add(Dense(64, activation='relu'))\n",
    "model_LSTM.add(Dropout(0.3))\n",
    "model_LSTM.add(Dense(1, activation='sigmoid'))\n",
    "\n",
    "# 모델 컴파일\n",
    "model_LSTM.compile(optimizer='adam', loss='binary_crossentropy', metrics=['accuracy'])\n",
    "\n",
    "# 모델 훈련\n",
    "history_LSTM = model_LSTM.fit(X_train_padded, y_train, epochs=10, validation_data=(X_test_padded, y_test))\n",
    "\n",
    "# 모델 요약 출력\n",
    "model_LSTM.summary()"
   ]
  },
  {
   "cell_type": "markdown",
   "id": "7d2b1ecd",
   "metadata": {},
   "source": [
    "## GRU"
   ]
  },
  {
   "cell_type": "code",
   "execution_count": 52,
   "id": "72d966f0",
   "metadata": {
    "scrolled": false
   },
   "outputs": [
    {
     "name": "stdout",
     "output_type": "stream",
     "text": [
      "Epoch 1/10\n",
      "1842/1842 [==============================] - 59s 31ms/step - loss: 0.3409 - accuracy: 0.8278 - val_loss: 0.2644 - val_accuracy: 0.8753\n",
      "Epoch 2/10\n",
      "1842/1842 [==============================] - 56s 31ms/step - loss: 0.1960 - accuracy: 0.9132 - val_loss: 0.2201 - val_accuracy: 0.9078\n",
      "Epoch 3/10\n",
      "1842/1842 [==============================] - 58s 32ms/step - loss: 0.1292 - accuracy: 0.9461 - val_loss: 0.2055 - val_accuracy: 0.9235\n",
      "Epoch 4/10\n",
      "1842/1842 [==============================] - 57s 31ms/step - loss: 0.0898 - accuracy: 0.9645 - val_loss: 0.2176 - val_accuracy: 0.9346\n",
      "Epoch 5/10\n",
      "1842/1842 [==============================] - 57s 31ms/step - loss: 0.0669 - accuracy: 0.9727 - val_loss: 0.2383 - val_accuracy: 0.9418\n",
      "Epoch 6/10\n",
      "1842/1842 [==============================] - 57s 31ms/step - loss: 0.0501 - accuracy: 0.9807 - val_loss: 0.2303 - val_accuracy: 0.9456\n",
      "Epoch 7/10\n",
      "1842/1842 [==============================] - 59s 32ms/step - loss: 0.0383 - accuracy: 0.9852 - val_loss: 0.2520 - val_accuracy: 0.9476\n",
      "Epoch 8/10\n",
      "1842/1842 [==============================] - 57s 31ms/step - loss: 0.0300 - accuracy: 0.9889 - val_loss: 0.2567 - val_accuracy: 0.9536\n",
      "Epoch 9/10\n",
      "1842/1842 [==============================] - 58s 31ms/step - loss: 0.0220 - accuracy: 0.9922 - val_loss: 0.2650 - val_accuracy: 0.9543\n",
      "Epoch 10/10\n",
      "1842/1842 [==============================] - 59s 32ms/step - loss: 0.0177 - accuracy: 0.9941 - val_loss: 0.3344 - val_accuracy: 0.9583\n",
      "Model: \"sequential_3\"\n",
      "_________________________________________________________________\n",
      " Layer (type)                Output Shape              Param #   \n",
      "=================================================================\n",
      " embedding_3 (Embedding)     (None, None, 64)          1920000   \n",
      "                                                                 \n",
      " dropout_3 (Dropout)         (None, None, 64)          0         \n",
      "                                                                 \n",
      " gru (GRU)                   (None, 64)                24960     \n",
      "                                                                 \n",
      " dropout_4 (Dropout)         (None, 64)                0         \n",
      "                                                                 \n",
      " dense_4 (Dense)             (None, 16)                1040      \n",
      "                                                                 \n",
      " dropout_5 (Dropout)         (None, 16)                0         \n",
      "                                                                 \n",
      " dense_5 (Dense)             (None, 1)                 17        \n",
      "                                                                 \n",
      "=================================================================\n",
      "Total params: 1946017 (7.42 MB)\n",
      "Trainable params: 1946017 (7.42 MB)\n",
      "Non-trainable params: 0 (0.00 Byte)\n",
      "_________________________________________________________________\n"
     ]
    }
   ],
   "source": [
    "#GRU 모델 생성\n",
    "model_GRU = Sequential()\n",
    "model_GRU.add(Embedding(input_dim=max_words, output_dim=64))\n",
    "model_GRU.add(Dropout(0.3))\n",
    "model_GRU.add(GRU(64))\n",
    "model_GRU.add(Dropout(0.3))\n",
    "model_GRU.add(Dense(16, activation='relu'))\n",
    "model_GRU.add(Dropout(0.3))\n",
    "model_GRU.add(Dense(1, activation='sigmoid'))\n",
    "\n",
    "# 모델 컴파일\n",
    "model_GRU.compile(optimizer='adam', loss='binary_crossentropy', metrics=['accuracy'])\n",
    "\n",
    "# 모델 훈련\n",
    "history_GRU = model_GRU.fit(X_train_padded, y_train, epochs=10, validation_data=(X_test_padded, y_test))\n",
    "\n",
    "# 모델 요약 출력\n",
    "model_GRU.summary()"
   ]
  }
 ],
 "metadata": {
  "accelerator": "GPU",
  "colab": {
   "gpuType": "T4",
   "provenance": [],
   "toc_visible": true
  },
  "kernelspec": {
   "display_name": "example",
   "language": "python",
   "name": "example"
  },
  "language_info": {
   "codemirror_mode": {
    "name": "ipython",
    "version": 3
   },
   "file_extension": ".py",
   "mimetype": "text/x-python",
   "name": "python",
   "nbconvert_exporter": "python",
   "pygments_lexer": "ipython3",
   "version": "3.9.16"
  },
  "toc": {
   "base_numbering": 1,
   "nav_menu": {},
   "number_sections": true,
   "sideBar": true,
   "skip_h1_title": false,
   "title_cell": "Table of Contents",
   "title_sidebar": "Contents",
   "toc_cell": false,
   "toc_position": {},
   "toc_section_display": true,
   "toc_window_display": false
  }
 },
 "nbformat": 4,
 "nbformat_minor": 5
}
