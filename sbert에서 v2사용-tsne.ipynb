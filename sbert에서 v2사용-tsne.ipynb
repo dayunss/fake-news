{
 "cells": [
  {
   "cell_type": "code",
   "execution_count": 1,
   "id": "1769f0a4",
   "metadata": {},
   "outputs": [],
   "source": [
    "import re\n",
    "import pandas as pd\n",
    "import numpy as np\n",
    "import random\n",
    "from sentence_transformers import SentenceTransformer\n",
    "from sklearn.cluster import KMeans\n",
    "import os\n",
    "import matplotlib.pyplot as plt\n",
    "from sklearn.decomposition import PCA\n",
    "pd.set_option('display.max_colwidth', None)\n"
   ]
  },
  {
   "cell_type": "code",
   "execution_count": 2,
   "id": "cbce8e68",
   "metadata": {},
   "outputs": [],
   "source": [
    "SEED = 0\n",
    "np.random.seed(SEED)\n",
    "random.seed(SEED)"
   ]
  },
  {
   "cell_type": "code",
   "execution_count": 3,
   "id": "53a71da4",
   "metadata": {},
   "outputs": [
    {
     "data": {
      "text/plain": [
       "'/project/datacamp/team16/t16user1'"
      ]
     },
     "execution_count": 3,
     "metadata": {},
     "output_type": "execute_result"
    }
   ],
   "source": [
    "os.path.abspath('')"
   ]
  },
  {
   "cell_type": "markdown",
   "id": "166a9977",
   "metadata": {},
   "source": [
    "긴급 레이블 복구: 뉴스 데이터 6개 카테고리 분류\n",
    "\n",
    "\n",
    "\n",
    "[설명]\n",
    "4일 내에 사용 예정인 이 데이터셋은 6개의 카테고리로 분류되어야 하는 6만 행의 csv 파일입니다. \n",
    "\n",
    "이 파일에는 'id'와 'text' 필드만 있을 뿐, 카테고리 정보는 사라져 버렸습니다. \n",
    "\n",
    "\n",
    "\n",
    "여러분의 목표는 이 'text'가 어떤 카테고리에 속하는지를 최대한 정확하게 예측하는 것입니다!\n",
    "\n",
    "(제공되는 데이터셋은 단 하나의 csv파일이며 카테고리 정보가 포함되지 않습니다)\n",
    "\n",
    "\n",
    "\n",
    "아래 표를 참고하여 데이터셋의 'category' 필드를 복구해주세요!"
   ]
  },
  {
   "cell_type": "code",
   "execution_count": 4,
   "id": "4de98779",
   "metadata": {},
   "outputs": [
    {
     "data": {
      "text/html": [
       "<div>\n",
       "<style scoped>\n",
       "    .dataframe tbody tr th:only-of-type {\n",
       "        vertical-align: middle;\n",
       "    }\n",
       "\n",
       "    .dataframe tbody tr th {\n",
       "        vertical-align: top;\n",
       "    }\n",
       "\n",
       "    .dataframe thead th {\n",
       "        text-align: right;\n",
       "    }\n",
       "</style>\n",
       "<table border=\"1\" class=\"dataframe\">\n",
       "  <thead>\n",
       "    <tr style=\"text-align: right;\">\n",
       "      <th></th>\n",
       "      <th>id</th>\n",
       "      <th>title</th>\n",
       "      <th>contents</th>\n",
       "    </tr>\n",
       "  </thead>\n",
       "  <tbody>\n",
       "    <tr>\n",
       "      <th>0</th>\n",
       "      <td>NEWS_00000</td>\n",
       "      <td>Spanish coach facing action in race row</td>\n",
       "      <td>MADRID (AFP) - Spanish national team coach Luis Aragones faces a formal investigation after Spain #39;s Football Federation decided to open disciplinary proceedings over racist comments about Thierry Henry of France and Arsenal.</td>\n",
       "    </tr>\n",
       "    <tr>\n",
       "      <th>1</th>\n",
       "      <td>NEWS_00001</td>\n",
       "      <td>Bruce Lee statue for divided city</td>\n",
       "      <td>In Bosnia, where one man #39;s hero is often another man #39;s villain, some citizens have decided to honour one whom Serbs, Croats and Muslims can all look up to - the kung fu great Bruce Lee.</td>\n",
       "    </tr>\n",
       "    <tr>\n",
       "      <th>2</th>\n",
       "      <td>NEWS_00002</td>\n",
       "      <td>Only Lovers Left Alive's Tilda Swinton Talks About Almost Quitting Acting and Yasmine Hamdan Performs 'Hal' Live In NYC   (HuffPo Exclusive Videos) authors</td>\n",
       "      <td>Yasmine Hamdan performs 'Hal' which she also sings in the film during a scene when two world-weary vampires begin to heal and find a way to continue living as they remember the power and mystery of creation itself.</td>\n",
       "    </tr>\n",
       "    <tr>\n",
       "      <th>3</th>\n",
       "      <td>NEWS_00003</td>\n",
       "      <td>Macromedia contributes to eBay Stores</td>\n",
       "      <td>Macromedia has announced a special version of its Contribute website editing application designed to simplify the creation and customisation of eBay Stores.</td>\n",
       "    </tr>\n",
       "    <tr>\n",
       "      <th>4</th>\n",
       "      <td>NEWS_00004</td>\n",
       "      <td>Qualcomm plans to phone it in on cellular repairs</td>\n",
       "      <td>Over-the-air fixes for cell phones comes to Qualcomm's CDMA.</td>\n",
       "    </tr>\n",
       "  </tbody>\n",
       "</table>\n",
       "</div>"
      ],
      "text/plain": [
       "           id  \\\n",
       "0  NEWS_00000   \n",
       "1  NEWS_00001   \n",
       "2  NEWS_00002   \n",
       "3  NEWS_00003   \n",
       "4  NEWS_00004   \n",
       "\n",
       "                                                                                                                                                         title  \\\n",
       "0                                                                                                                      Spanish coach facing action in race row   \n",
       "1                                                                                                                            Bruce Lee statue for divided city   \n",
       "2  Only Lovers Left Alive's Tilda Swinton Talks About Almost Quitting Acting and Yasmine Hamdan Performs 'Hal' Live In NYC   (HuffPo Exclusive Videos) authors   \n",
       "3                                                                                                                        Macromedia contributes to eBay Stores   \n",
       "4                                                                                                            Qualcomm plans to phone it in on cellular repairs   \n",
       "\n",
       "                                                                                                                                                                                                                               contents  \n",
       "0  MADRID (AFP) - Spanish national team coach Luis Aragones faces a formal investigation after Spain #39;s Football Federation decided to open disciplinary proceedings over racist comments about Thierry Henry of France and Arsenal.  \n",
       "1                                     In Bosnia, where one man #39;s hero is often another man #39;s villain, some citizens have decided to honour one whom Serbs, Croats and Muslims can all look up to - the kung fu great Bruce Lee.  \n",
       "2                Yasmine Hamdan performs 'Hal' which she also sings in the film during a scene when two world-weary vampires begin to heal and find a way to continue living as they remember the power and mystery of creation itself.  \n",
       "3                                                                          Macromedia has announced a special version of its Contribute website editing application designed to simplify the creation and customisation of eBay Stores.  \n",
       "4                                                                                                                                                                          Over-the-air fixes for cell phones comes to Qualcomm's CDMA.  "
      ]
     },
     "execution_count": 4,
     "metadata": {},
     "output_type": "execute_result"
    }
   ],
   "source": [
    "df = pd.read_csv('/project/datacamp/team16/t16user1/news.csv')\n",
    "df.head()"
   ]
  },
  {
   "cell_type": "code",
   "execution_count": 5,
   "id": "c01ca242",
   "metadata": {
    "scrolled": true
   },
   "outputs": [
    {
     "data": {
      "text/html": [
       "<div>\n",
       "<style scoped>\n",
       "    .dataframe tbody tr th:only-of-type {\n",
       "        vertical-align: middle;\n",
       "    }\n",
       "\n",
       "    .dataframe tbody tr th {\n",
       "        vertical-align: top;\n",
       "    }\n",
       "\n",
       "    .dataframe thead th {\n",
       "        text-align: right;\n",
       "    }\n",
       "</style>\n",
       "<table border=\"1\" class=\"dataframe\">\n",
       "  <thead>\n",
       "    <tr style=\"text-align: right;\">\n",
       "      <th></th>\n",
       "      <th>id</th>\n",
       "      <th>title</th>\n",
       "      <th>contents</th>\n",
       "      <th>text</th>\n",
       "    </tr>\n",
       "  </thead>\n",
       "  <tbody>\n",
       "    <tr>\n",
       "      <th>0</th>\n",
       "      <td>NEWS_00000</td>\n",
       "      <td>Spanish coach facing action in race row</td>\n",
       "      <td>MADRID (AFP) - Spanish national team coach Luis Aragones faces a formal investigation after Spain #39;s Football Federation decided to open disciplinary proceedings over racist comments about Thierry Henry of France and Arsenal.</td>\n",
       "      <td>Spanish coach facing action in race row : MADRID (AFP) - Spanish national team coach Luis Aragones faces a formal investigation after Spain #39;s Football Federation decided to open disciplinary proceedings over racist comments about Thierry Henry of France and Arsenal.</td>\n",
       "    </tr>\n",
       "    <tr>\n",
       "      <th>1</th>\n",
       "      <td>NEWS_00001</td>\n",
       "      <td>Bruce Lee statue for divided city</td>\n",
       "      <td>In Bosnia, where one man #39;s hero is often another man #39;s villain, some citizens have decided to honour one whom Serbs, Croats and Muslims can all look up to - the kung fu great Bruce Lee.</td>\n",
       "      <td>Bruce Lee statue for divided city : In Bosnia, where one man #39;s hero is often another man #39;s villain, some citizens have decided to honour one whom Serbs, Croats and Muslims can all look up to - the kung fu great Bruce Lee.</td>\n",
       "    </tr>\n",
       "    <tr>\n",
       "      <th>2</th>\n",
       "      <td>NEWS_00002</td>\n",
       "      <td>Only Lovers Left Alive's Tilda Swinton Talks About Almost Quitting Acting and Yasmine Hamdan Performs 'Hal' Live In NYC   (HuffPo Exclusive Videos) authors</td>\n",
       "      <td>Yasmine Hamdan performs 'Hal' which she also sings in the film during a scene when two world-weary vampires begin to heal and find a way to continue living as they remember the power and mystery of creation itself.</td>\n",
       "      <td>Only Lovers Left Alive's Tilda Swinton Talks About Almost Quitting Acting and Yasmine Hamdan Performs 'Hal' Live In NYC   (HuffPo Exclusive Videos) authors : Yasmine Hamdan performs 'Hal' which she also sings in the film during a scene when two world-weary vampires begin to heal and find a way to continue living as they remember the power and mystery of creation itself.</td>\n",
       "    </tr>\n",
       "    <tr>\n",
       "      <th>3</th>\n",
       "      <td>NEWS_00003</td>\n",
       "      <td>Macromedia contributes to eBay Stores</td>\n",
       "      <td>Macromedia has announced a special version of its Contribute website editing application designed to simplify the creation and customisation of eBay Stores.</td>\n",
       "      <td>Macromedia contributes to eBay Stores : Macromedia has announced a special version of its Contribute website editing application designed to simplify the creation and customisation of eBay Stores.</td>\n",
       "    </tr>\n",
       "    <tr>\n",
       "      <th>4</th>\n",
       "      <td>NEWS_00004</td>\n",
       "      <td>Qualcomm plans to phone it in on cellular repairs</td>\n",
       "      <td>Over-the-air fixes for cell phones comes to Qualcomm's CDMA.</td>\n",
       "      <td>Qualcomm plans to phone it in on cellular repairs : Over-the-air fixes for cell phones comes to Qualcomm's CDMA.</td>\n",
       "    </tr>\n",
       "  </tbody>\n",
       "</table>\n",
       "</div>"
      ],
      "text/plain": [
       "           id  \\\n",
       "0  NEWS_00000   \n",
       "1  NEWS_00001   \n",
       "2  NEWS_00002   \n",
       "3  NEWS_00003   \n",
       "4  NEWS_00004   \n",
       "\n",
       "                                                                                                                                                         title  \\\n",
       "0                                                                                                                      Spanish coach facing action in race row   \n",
       "1                                                                                                                            Bruce Lee statue for divided city   \n",
       "2  Only Lovers Left Alive's Tilda Swinton Talks About Almost Quitting Acting and Yasmine Hamdan Performs 'Hal' Live In NYC   (HuffPo Exclusive Videos) authors   \n",
       "3                                                                                                                        Macromedia contributes to eBay Stores   \n",
       "4                                                                                                            Qualcomm plans to phone it in on cellular repairs   \n",
       "\n",
       "                                                                                                                                                                                                                               contents  \\\n",
       "0  MADRID (AFP) - Spanish national team coach Luis Aragones faces a formal investigation after Spain #39;s Football Federation decided to open disciplinary proceedings over racist comments about Thierry Henry of France and Arsenal.   \n",
       "1                                     In Bosnia, where one man #39;s hero is often another man #39;s villain, some citizens have decided to honour one whom Serbs, Croats and Muslims can all look up to - the kung fu great Bruce Lee.   \n",
       "2                Yasmine Hamdan performs 'Hal' which she also sings in the film during a scene when two world-weary vampires begin to heal and find a way to continue living as they remember the power and mystery of creation itself.   \n",
       "3                                                                          Macromedia has announced a special version of its Contribute website editing application designed to simplify the creation and customisation of eBay Stores.   \n",
       "4                                                                                                                                                                          Over-the-air fixes for cell phones comes to Qualcomm's CDMA.   \n",
       "\n",
       "                                                                                                                                                                                                                                                                                                                                                                                   text  \n",
       "0                                                                                                        Spanish coach facing action in race row : MADRID (AFP) - Spanish national team coach Luis Aragones faces a formal investigation after Spain #39;s Football Federation decided to open disciplinary proceedings over racist comments about Thierry Henry of France and Arsenal.  \n",
       "1                                                                                                                                                 Bruce Lee statue for divided city : In Bosnia, where one man #39;s hero is often another man #39;s villain, some citizens have decided to honour one whom Serbs, Croats and Muslims can all look up to - the kung fu great Bruce Lee.  \n",
       "2  Only Lovers Left Alive's Tilda Swinton Talks About Almost Quitting Acting and Yasmine Hamdan Performs 'Hal' Live In NYC   (HuffPo Exclusive Videos) authors : Yasmine Hamdan performs 'Hal' which she also sings in the film during a scene when two world-weary vampires begin to heal and find a way to continue living as they remember the power and mystery of creation itself.  \n",
       "3                                                                                                                                                                                  Macromedia contributes to eBay Stores : Macromedia has announced a special version of its Contribute website editing application designed to simplify the creation and customisation of eBay Stores.  \n",
       "4                                                                                                                                                                                                                                                                      Qualcomm plans to phone it in on cellular repairs : Over-the-air fixes for cell phones comes to Qualcomm's CDMA.  "
      ]
     },
     "execution_count": 5,
     "metadata": {},
     "output_type": "execute_result"
    }
   ],
   "source": [
    "# 제목 + 내용\n",
    "df['text'] = df['title'] + ' : ' + df['contents']\n",
    "df.head()"
   ]
  },
  {
   "cell_type": "code",
   "execution_count": 7,
   "id": "8cda6d60",
   "metadata": {},
   "outputs": [
    {
     "data": {
      "text/plain": [
       "'Terror powers expose \\'tyranny\\' : The Lord Chancellor has defended government plans to introduce control orders to keep foreign and British terrorist suspects under house arrest, where there isn\\'t enough evidence to put them on trial.  Lord Falconer insists that the proposals do not equate to a police state and strike a balance between protecting the public against the threat of terrorism and upholding civil liberties. But thriller writer Frederick Forsyth tells BBC News of his personal response to the move.    There is a mortal danger aimed at the heart of Britain. Or so says Home Secretary Charles Clarke. My reaction? So what? It is not that I am cynical or just do not care. I care about this country very much.  But in the 66 years that I have been alive, there has not been one hour, of one day, of one month, of one year, when there has not been a threat aimed at us. My point is, the British have always coped without becoming a dictatorship. We have coped with fear without becoming a state based on fear; we have coped with threat without turning our country into a land of state threat. But that is what the Blair government now seeks to do - create a tyranny to defend us from the al-Qaeda tyranny.  I was born on 25 August, 1938. The mortal threat back then was a scruffy little Austrian called Adolf Hitler. A week after my first birthday, the threat had become reality. We were at war. My father wore a uniform for five years. After 1945 we yearned for peace at last. But in 1946 Winston Churchill told us - from the Baltic to the Adriatic an Iron Curtain has descended across Europe. Behind the Iron Curtain, another genocidal psychopath, another threat. Josef Stalin triggered the Cold War, with the Berlin blockade in 1948. My whole generation was blighted by it.  We were threatened by the nuclear holocaust, the nuclear wind, the nuclear winter. We built shelters that would have sheltered nothing. We spent our treasure on weapons instead of hospitals. We took silly precautions. Some fought it; some marched futilely against it. Some pretended it was not there. The Cold War lasted 43 years, but we remained a parliamentary democracy. By the early seventies it was terrorism as well. Al Fatah, Black September, Red Brigades, but most of all for us the IRA and the INLA. Thirty more years; 300 policemen and women, over 600 soldiers, more than 3,000 civilians dead, but we won because even IRA bombs could not force us to become a tyranny. That was why the tyrants lost. Civil rights were infringed as little as humanly possible. Evidence had to be taken in secret to protect covert sources; yes , and one judge, no-jury courts had to be instituted when juries were terrorised. Informants had to be given immunity from their own crimes to win the bigger battle. But habeas corpus did not die; right of appeal was not abolished. Now the threat is Islamic fundamentalism. Its leaders want to destroy our society; so did the IRA.  It is based and funded abroad; so was the IRA. It has sleeper fanatics inside our society; so did the IRA. It is extremely hard to penetrate with our agents; so was the IRA. The prime movers are not easy to bring to trial; neither were the IRA. But we did. And without becoming a tyranny. Now the Blair government proposes the law system of fascism and communism. The citizen can be arrested and held without charge or trial, not even on the careful consideration of an experienced judge, but the whim of a political activist called a government minister. To be protected from terror the government says, we must become a tyranny. But a tyranny is based on the citizen\\'s terror. This is not victory; this is defeat before a shot is fired.  An interesting article - its good to see widening participation in the debate - but I suggest we move one step further. Our own bombs and bullets will can only shatter peace, because invading foreign nations, imprisoning the innocent and \\'hunting\\' in the \\'shadows\\' cannot destroy an evil of the mind, and hatred within the heart. Rather than focusing upon effect, we should consider the cause, because terrorism does not begin with bombs. Why not try a foreign policy of compassion, it can only enhance our democracy, and share our freedom.  I agree with Frederick Forsyth. We really can\\'t deal with terrorism by turning Britain into a fascist state. What we really need is more honesty from our security services and our politicians. If they do not have evidence to bring these people to trial, there probably isn\\'t any. Our security services, behave like the detective who having decided that a certain person is guilty, rakes over all kinds of obscure and flimsy evidence to try and prove it, while the real villain gets away. Remember there were no WMD in Iraq. Just because a person may have made some stupid and naive decisions in life does not make them a terrorist.  In this overly \\'politically correct\\' society, it is good to see someone like Mr. Forsyth speak out. Yes, there has been oppression by the British government in the past, and overstepping the mark in places like Ireland, but yes, we are still a democracy where it is rare to be arrested without charge/trial etc. (apart from a number of prisoners in Belmarsh goal, for example).This country signs up to human rights, and then pretends that they only apply to the people with nothing to fear, the innocent people (defined by whom?). When ID cards become mandatory, the data collected will not be protected by the Data Protection Act, and will be readily available to people like GCHQ, with no control by the person whose ID is being checked.  The threat now is new. You cannot compare the threats of past years with now. Forsyth says 3000 died over 30 years or terrorism; 3000 people died in one morning in NY on September 11th 2001. The threat today is that terrorists will acquire nuclear or biological technology. A Kilo of Semtex will flatten a building, a Kilo of plutonium will flatten a city. You now have a combination of people who will perform terrorist acts with technology that is rapidly becoming accessible. I agree, the government is probably encouraging a degree of mass-hysteria and talking up the threat; but talking-down the threat and doing nothing is unacceptable too.  The problem with this issue is not that it isn\\'t important, but the fact that in general we Brits can be so politically apathetic some times, that we will just let this go without telling the government no. However, as the nation that gave the world the common law and a true sense of the rights of individual liberty I hope this will prove to be one step too far.  As somebody of Chinese origin, I can say that this country used to be a good place to migrate and start a new life. Whilst life wasn\\'t perfect, we could make better for ourselves. Now we are riddled with red tape and be told what we can or cannot do. We have to be politically-correct and we are not allowed to have beliefs or opinions. We have a Prime Minister who spends too much time meddling in US politics and affairs which have little to do with the lives of British Citizens at home or abroad. Mr Forsyth has done a good job in voicing his opinions. Let\\'s hope the BBC doesn\\'t get gagged for letting people express their views. The people have the right to know and the BBC\\'s role is to Inform, Educate and Entertain...  I agree. Terrorists intend to spread fear but in reality it is the government which has spread the fear, by its constant publicising of the this invisible enemy so dangerous that we must allow them to ride roughshod over our rights and liberties. In the end, the very thing we seek to protect is what we are giving up in the name of safety from this invisible enemy. The terrorists have already won.  I absolutely agree with Frederick Forsyth. Yes we have to defend ourselves against terrorism but existing laws seem to be more than adequate. The idea that the \"new terrorism\" demands new powers is erroneous. The evidence of any real terrorist capability in the UK is scant. Ricin, for example, is a dangerous poison but it is not a weapon of mass destruction. What is really worrying is the enthusiasm of Mr Blair and his government for authoritarian reactions and attempts to manipulate the electorate through fear.  If the government has its way with ID cards, tracking and so on then totalitarianism has won and as such it then matters little whether we give in to the terrorists demands or not. We will have lost the precious freedom which Bush and Blair constantly tells us we have and that they seek to bring to others.  I agree wholeheartedly with Mr Forsyth. I am shocked at the ease with which this government is prepared to wipe out a major portion of the liberties that British people have enjoyed for centuries - the right not to be deprived of our liberty without a trial in open court. That goes right back to Magna Carta, and ordinary people have spilled their blood to enforce that right against governments who thought they \"knew best\".  When you look at today\\'s Britain, you realise George Orwell was only wrong about one thing: the date.  Frederick Forsyth puts it beautifully. The government is seeking to introduce a police state. The new powers of home internment without trial follow a pattern which includes the introduction of surveillance via compulsory ID cards and the linking of data bases, together with the un-British idea that we will have to swear allegiance to the state at the age of 18 years. We are sleep-walking into this. Wake up!  An interesting view but missing two crucial facts of this new threat: 1) If these terrorists acquire weapons of mass destruction they WILL use them without fear of Mutually Assured Destruction that kept the cold war in a state of tense balance. These people will use devastating force against us without fear of ANY consequence. 2) The terrorists are prepared to use suicide bombers which means they could kill innocent people on the London Underground and we could do very little to stop it. Because these terrorists are potentially SO deadly, we have to come up with new, tougher responses. It will be a little late in the day when people outside London wake up one morning to find out that London has been nuked. We won\\'t have much of a society left to debate !  He\\'s correct in most of what he says. Mind you he does seem to have forgotten that disgraceful internment policy in Northern Ireland which probably caused many idealistic if misguided young Catholics to join the IRA. Administrative detention of Muslims could have a similar effect now.  Surely we the public would be better protected if the security services, rather than alerting a suspect terrorist by placing them under house arrest (and for how long?)They were to place suspect terrorist under surveillance and maybe acquire sufficient evidence to prosecute or even better prevent a terrorist attack.  I don\\'t usually have much time for Mr Forsyth\\'s largely right wing views but this time he has got it spot on. There is no doubt that there are terrorist organisations who would like to do harm to the U.K. but it is very doubtful whether al-Qaeda is a global organisation co-ordinating this. The rise of surveillance cameras, ID cards, the plan to charge for road use by tracking every vehicle at all times, this is the stuff of nightmares. Add to this this new legislation which effectively means that the protection of the law will be removed from anyone at the whim of the Home Secretary, and I genuinely wonder what sort of world my two children will inherit. Where will this end. As it stands terrorists do not need to attack the U.K. it\\'s government will soon have it\\'s people terrorised more that they could very achieve with a few bombs.  Mr Forsyth has expressed exactly what my gut fears and reservations were about this proposed legislation, but could not verbalise. Thank you.  Mr Forsyth seems to forget that killings in the Troubles occurred on both sides of the religious divide and was carried out by killers from both sides. He also forgets basic Human Rights were suspended then as now. Experienced Judges sat over some of the greatest miscarriages of justice during those times. For very little return and maximum alienation. These laws and the emphasis on the Islamic threat will just do the same.  Forsyth is wrong. The nature of the current threat is new. It is no longer to our armed forces, as the Soviet threat in the Eastern bloc was. It is to you and I. The terrorist aim to kill indiscriminately. The best comparison is therefore the blitz, 1941. At this time, let us not forget, suspects (foreign and British were routinely rounded up and interned for the duration of the war, without any complaints from the public. We must not forget we are at war.  I\\'d say that that the likelihood of an attack by a sleeper cell of fundamentalist lunatics against a major UK target is a \"When\" not an \"If\" probability. I\\'ll bet any money you like that the day after any such attack Freddie Forsyth will be saying that the government didn\\'t do enough to protect the UK. People like Forsyth can only see one side of any argument and for him it is the side that is opposite New Labour and Tony Blair.  I agree wholeheartedly with Mr Forsyth. The very reason this country has been such a wonderful place to live, is under attack, not from terrorists, but from this government. The perpetuation of the perceived terrorist threat is not because of what the \\'alleged\\' terrorists are doing, but from our own government. I believe what this government is doing, is, at the very least, highly questionable and at worst, sinister. At what point will they feel they have enough control over every single person in the British Isles; when we are all tagged and monitored constantly? Our freedom is being craftily and surreptitiously whittled away by this government and we are gaining nothing. It should be of great concern to everyone.  I am slightly older than Mr Forsyth and therefore have lived through the same history as him. I am against a police state and would not like to think that I lived in one. I think that the attack on Iraq made the international situation worse and may have provoked further acts of terrorism.  How true. There are extremely worrying parallels between Britain now and Germany during the 30\\'s. I never thought it would be so easy to take over a country from within.  Mr Forsyth has forgotten one key point; the terrorists who threaten Britain today are well aware that Hitler, Stalin, and the IRA all failed. As a result modern day terrorists are willing to do things their predecessors did not. That does not mean that the civil liberties of modern Britain must be eroded to counter the threat; that should always be the absolute last resort. But to meet the new threat, to defeat the sinister fanaticism of today\\'s terrorists, we may need to do things a little differently. Let us hope not.  Frederic Forsythe\\'s comments seem to me to be a well-thought-out analysis of why we (human society as a whole, and Britain in particular) should resist the temptation to over-protect through fear. It is this fear which enables terrorists to succeed in the end, and terrorists can come in all forms, as Mr. Forsythe\\'s opening comments suggest.  I am reminded of a quote attributed to Thomas Jefferson. \"A nation that limits freedom in the name of security will have neither.\"  The government are faced with an incredibly difficult task, and have made a policy to deal with it. It\\'s all very well criticising that policy, but if Mr Forsythe can\\'t draw on his years of experience to offer an alternative, I say \\'So what?\\' to his opinions.  Frederick Forsyth\\'s rhetoric is absurd and his conclusions laughable. He distorts reality to serve his own prejudice against New Labour. This government seeks to balance protection of our democracy with minimum loss of civil rights. It is Frederick Forsyth who is the extremist, because he does not appreciate the need for balance.  I rarely find myself agreeing with My Forsyth, but in this instance I think he is correct. The rule of law must prevail, civil liberties are worth defending. If the government can hold \\'suspects\\' without charge or trial, what\\'s next?  I agree absolutely. By introducing fascist type laws we loose the moral high ground in our fight against terror. Our democratic system is not perfect, but as Churchill points out it is \"better than all the others that have been tried\". Terrorist attacks will take place but for many reasons we should take that personal risk in return for personal freedom.  I do not usually agree with Mr. Forsyth, but he is spot on here. The single biggest threat we face is that of a government dedicated to acting illegally and manipulating international and national law to suit its own purpose. Totalitarianism always requires an outside threat, justifying a range of extraordinary powers leaders want. The British government is a far greater threat that and terrorist organisation.  Although, in principle I agree with him, Frederick Forsyth fails to address one key point- al-Qaeda attacks (though obviously there have been none yet in the UK) seek to kill the maximum number of people. The IRA wanted to limit the death toll of their attacks so as to maintain support among the republican movement.  Yes, I agree with Mr. Forsyth\\'s views. I do not believe the government\\'s plans are justified. There is over reaction to and the negative influence of the US President\\'s interpretation of democracy and freedom. He uses the same arguments that were current before the WWII, the Wars to \"liberate\" Iraq, Afghanistan with Syria and Iran to come. We are leaving a poor inheritance for the future generations.  Mr Forsyth is a wonderful writer and should keep his fiction where it belongs. The British Government is not going down the road that Mr Forsyth suggests. Sadly comments such as his will make a lot of people believe that they are governed by people who are fast becoming tyrants instead of being genuinely committed to stopping tyranny, even if the method employed to do that is at the moment alien to the British people who have lived in a democracy protected by Tony Blair and others of like mind who, Mr. Forsyth seems to be putting along side the \\'scruffy little Austrian.\\'  Thomas Hobbes would be smiling in his grave at Labour\\'s propositions. Like New Labour, he called himself a libertarian. Like New Labour, he believed he was promoting the people\\'s best interests. But as Forsythe criticises this government, Hobbes has been criticised by most subsequent philosophers for arguing his way into the hands of the totalitarians. Simply put, he argued that in favour of the ultimate liberty - the liberty to live - man should be prepared to surrender all other liberties to a supreme sovereign, as protection against his fellow, barbaric, man. Hobbes has been roundly condemned by posterity, and rightly so. I hope New Labour suffers the same treatment.  I agree with Mr Forsyth\\'s views. The governments approach is totally against the spirit of British democracy. They must not be allowed to get away with it.  Of course Frederick is wrong about Britain winning the war against the IRA and he\\'s wrong too about the country not becoming a tyranny. Has he forgotten about shoot to kill, torture, internment without trial, collusion with loyalist death squads etc?  My background is somewhat similar to Freddie\\'s so I am persuaded to agree with many of his sentiments. We can have no moral justification for imposing our system of government on anyone while we are systematically depriving our own citizens of basic individual and collective freedoms.  Whilst the principle of keeping potential terrorists under house arrest might seem superficially attractive, it is, unfortunately, also the first step towards totalitarianism. Who is to decide whom is a suspect? Why should we believe them? Who can have faith in the honesty, integrity, and competence of our intelligence services and politicians in light of the events of recent years? What is to stop false denunciations? What of those falsely accused who will lose their careers? Who will support their families? Will their children still go to school? It smacks to me of the methods of Nazi Germany, Stalin\\'s Russia, Ceausescu\\'s Romania - the list goes on. It looks as if a new dark age is coming.  I see that opinion on Mr Forsyth\\'s remarks are divided. The problem I see is that those who support imprisonment without trial believe it will never happen to them or their family, only to people they don\\'t like or are scared of. But history has shown that if you have laws like that, they always get abused by those in power. After all, today you may be scared of the same people as those in power but someday those in power may be scared of you! And that day, you\\'ll be the one imprisoned without the chance of justice. Our laws are such that you cannot just be imprisoned at the whim of our police forces, you have to be shown to be deserving of it. If we imprison people without trial for an indeterminate period, we are no better that those we are fighting.  I never thought it possible for me to agree with a single word uttered by Frederick Forsyth, but I\\'m in wholehearted agreement with him on this one. We, as a nation are in grave danger of being duped by pro US propaganda, which of course also means we\\'ll inherit most, if not all of their total paranoia, and allow our governments, of any political persuasion incidentally, to gradually, and insidiously, impose a police state by well tried & tested back door methods. I grieve for the future of my children, it\\'s no wonder they\\'re adamant they don\\'t ever want any of their own.  This government, with much fanfare, signs us up to the European Convention on Human Rights but now wants to introduce indefinite house arrest without trial. This puts it on a par with the government of Burma.  Like many of your respondents, I wouldn\\'t usually think of Mr Forsyth as someone whose views I share, but in the instance of opposing Charles Clark\\'s proposals for house arrest, I agree wholeheartedly with Mr Forsyth/  I agree with Mr Forsyth. Just look at the facts - our government (along with the US) invaded another sovereign country (Iraq) by selecting intelligence that backed it\\'s case based on fear. The facts turned out to be very different. If individuals are treated in the same distorted way, then we\\'ve done ourselves more damage than any terrorist organisation could with bombs. We become animals too.  I agree in many ways with what Mr Forsyth has said - if we are to be respected and have influence within the world we must be seen to be walking the walk as well as talking the talk - how can we accuse countries such as Zimbabwe and Burma of human rights abuses when we are locking up people who may be totally innocent, it is hypocrisy of the highest order. Mr Forsyth links \"Islamic fundamentalism\" to the new \"threat\". However it appears that he has misunderstood the term \"Islamic fundamentalism\". It should be pointed out that a Muslim who adheres to the true fundamentals of the Qur\\'aan and the teachings of the last Prophet Muhammad is an Islamic Fundamentalist. This person does not commit suicide in any shape or form, nor does she/he kill innocent women, men and children. This person is self-reflective and constantly tries to better her/his actions by being good to others. The people who Mr Forsyth labels the new \"threat\" are those who do not follow the correct teachings of Islam. They have arrived at their own interpretations and assumptions with regards their actions. On top of that, they claim to be following Islam in its true form!  I accept that the intentions of these policies are to make Britain a safer place but I cannot think of a single example from history where doing this sort of thing has ever made any difference - in Northern Ireland internment certainly didn\\'t achieve anything - the bombings didn\\'t stop, and it could be argued that all it achieved was to just supply the IRA with yet more angry and resentful republicans willing to take up arms against the British.  Being eight years older than Frederick Forsyth and a survivor of the Blitz on London, it is easy to agree with him, he is absolutely spot on. During the IRA bombings there were massive explosions in Canary Wharf, to the right of where I write this, and also to the left in the City of London. Notwithstanding these and the attempted and nearly successful assassination attempts on Prime Minister Thatcher in Brighton and on later occupants of 10 Downing Street, there was no retaliatory blitz on Belfast or Dublin as there has been on Afghanistan and Iraq. Even when England was in true peril in 1940 apart from some detentions there were no wholesale derogation of habeas corpus and the like. We have to see off these latest attempts on our liberties including ID cards, which Winston Churchill decided had to go since, he said, the average Bobby on the beat could not be relied on to not be tempted to take undue advantage against the citizen going about their lawful activities (incidentally I can still remember my old ID card number). Hence it is clear that the far too great police state powers set for the statute books have to be resisted and neutered.  What can I add to Mr. Forsyth\\'s eloquently put arguments... except applause! Well done that man for standing up and being counted in the \"war against tyranny\".'"
      ]
     },
     "execution_count": 7,
     "metadata": {},
     "output_type": "execute_result"
    }
   ],
   "source": [
    "df['text'][9893]"
   ]
  },
  {
   "cell_type": "code",
   "execution_count": 8,
   "id": "93b72099",
   "metadata": {},
   "outputs": [
    {
     "name": "stderr",
     "output_type": "stream",
     "text": [
      "[nltk_data] Downloading package stopwords to\n",
      "[nltk_data]     /home/t16user1/nltk_data...\n",
      "[nltk_data]   Package stopwords is already up-to-date!\n"
     ]
    }
   ],
   "source": [
    "from nltk.corpus import stopwords\n",
    "from nltk.tokenize import word_tokenize\n",
    "\n",
    "import nltk\n",
    "nltk.download('stopwords')\n",
    "all_stopwords = stopwords.words('english')"
   ]
  },
  {
   "cell_type": "code",
   "execution_count": 9,
   "id": "e9099d5e",
   "metadata": {},
   "outputs": [],
   "source": [
    "def preprocess_text(text):\n",
    "    # URL 제거\n",
    "    text = re.sub(r\"&lt;a target='new' href\\S+|www\\S+|https\\S+\", '', text, flags=re.MULTILINE)\n",
    "\n",
    "    # 내용과 무관한 태그 제거\n",
    "    text = re.sub(r'target=\\/\\S+','' , text)\n",
    "    text = re.sub(r'&lt\\;\\S+', '', text)\n",
    "\n",
    "    # 해시태그 제거\n",
    "    text = re.sub(r'#\\w+', '', text)\n",
    "\n",
    "    # 멘션 제거\n",
    "    text = re.sub(r'@\\w+', '', text)\n",
    "\n",
    "    # 이모지 제거\n",
    "    text = text.encode('ascii', 'ignore').decode('ascii')\n",
    "\n",
    "    # 공백 및 특수문자 제거\n",
    "    text = re.sub(r'\\s+', ' ', text).strip()\n",
    "\n",
    "    # 숫자 제거\n",
    "    text = re.sub(r'\\d+', '', text)\n",
    "\n",
    "    # 불용어 제거\n",
    "    text = word_tokenize(text)\n",
    "    tokens_without_sw = [word for word in text if not word in all_stopwords]\n",
    "    text = (\" \").join(tokens_without_sw)\n",
    "\n",
    "    return text.lower()"
   ]
  },
  {
   "cell_type": "code",
   "execution_count": 10,
   "id": "ed866c68",
   "metadata": {},
   "outputs": [
    {
     "name": "stderr",
     "output_type": "stream",
     "text": [
      "[nltk_data] Downloading package punkt to /home/t16user1/nltk_data...\n",
      "[nltk_data]   Package punkt is already up-to-date!\n"
     ]
    }
   ],
   "source": [
    "import nltk\n",
    "nltk.download('punkt')\n",
    "\n",
    "df['text'] = df['text'].apply(preprocess_text)"
   ]
  },
  {
   "cell_type": "code",
   "execution_count": 11,
   "id": "1021d795",
   "metadata": {
    "scrolled": true
   },
   "outputs": [],
   "source": [
    "# Sentence BERT 모델 로드\n",
    "model = SentenceTransformer('sentence-transformers/all-mpnet-base-v2')\n",
    "# 텍스트 feature 추출\n",
    "sentence_embeddings = model.encode(df['text'].tolist())\n",
    "\n",
    "# 추출한 feature를 데이터프레임에 저장\n",
    "df_embeddings = pd.DataFrame(sentence_embeddings)"
   ]
  },
  {
   "cell_type": "code",
   "execution_count": 12,
   "id": "82df4c7b",
   "metadata": {},
   "outputs": [
    {
     "data": {
      "text/html": [
       "<div>\n",
       "<style scoped>\n",
       "    .dataframe tbody tr th:only-of-type {\n",
       "        vertical-align: middle;\n",
       "    }\n",
       "\n",
       "    .dataframe tbody tr th {\n",
       "        vertical-align: top;\n",
       "    }\n",
       "\n",
       "    .dataframe thead th {\n",
       "        text-align: right;\n",
       "    }\n",
       "</style>\n",
       "<table border=\"1\" class=\"dataframe\">\n",
       "  <thead>\n",
       "    <tr style=\"text-align: right;\">\n",
       "      <th></th>\n",
       "      <th>0</th>\n",
       "      <th>1</th>\n",
       "      <th>2</th>\n",
       "      <th>3</th>\n",
       "      <th>4</th>\n",
       "      <th>5</th>\n",
       "      <th>6</th>\n",
       "      <th>7</th>\n",
       "      <th>8</th>\n",
       "      <th>9</th>\n",
       "      <th>...</th>\n",
       "      <th>758</th>\n",
       "      <th>759</th>\n",
       "      <th>760</th>\n",
       "      <th>761</th>\n",
       "      <th>762</th>\n",
       "      <th>763</th>\n",
       "      <th>764</th>\n",
       "      <th>765</th>\n",
       "      <th>766</th>\n",
       "      <th>767</th>\n",
       "    </tr>\n",
       "  </thead>\n",
       "  <tbody>\n",
       "    <tr>\n",
       "      <th>0</th>\n",
       "      <td>0.045448</td>\n",
       "      <td>0.008621</td>\n",
       "      <td>0.008975</td>\n",
       "      <td>0.039054</td>\n",
       "      <td>0.034634</td>\n",
       "      <td>0.020690</td>\n",
       "      <td>-0.027890</td>\n",
       "      <td>0.030100</td>\n",
       "      <td>-0.000780</td>\n",
       "      <td>-0.025788</td>\n",
       "      <td>...</td>\n",
       "      <td>-0.021893</td>\n",
       "      <td>-0.042200</td>\n",
       "      <td>-0.056218</td>\n",
       "      <td>0.046314</td>\n",
       "      <td>-0.013986</td>\n",
       "      <td>-0.034202</td>\n",
       "      <td>-0.050673</td>\n",
       "      <td>0.029158</td>\n",
       "      <td>-0.007017</td>\n",
       "      <td>-0.023690</td>\n",
       "    </tr>\n",
       "    <tr>\n",
       "      <th>1</th>\n",
       "      <td>0.048077</td>\n",
       "      <td>0.032873</td>\n",
       "      <td>-0.010061</td>\n",
       "      <td>0.065490</td>\n",
       "      <td>-0.013086</td>\n",
       "      <td>0.000656</td>\n",
       "      <td>0.089355</td>\n",
       "      <td>-0.000913</td>\n",
       "      <td>0.045236</td>\n",
       "      <td>0.043386</td>\n",
       "      <td>...</td>\n",
       "      <td>0.023940</td>\n",
       "      <td>-0.001396</td>\n",
       "      <td>0.005146</td>\n",
       "      <td>0.007136</td>\n",
       "      <td>-0.018699</td>\n",
       "      <td>-0.116027</td>\n",
       "      <td>0.005650</td>\n",
       "      <td>-0.011210</td>\n",
       "      <td>0.001193</td>\n",
       "      <td>-0.013624</td>\n",
       "    </tr>\n",
       "    <tr>\n",
       "      <th>2</th>\n",
       "      <td>0.021756</td>\n",
       "      <td>-0.037839</td>\n",
       "      <td>-0.003639</td>\n",
       "      <td>-0.022688</td>\n",
       "      <td>0.070408</td>\n",
       "      <td>0.032931</td>\n",
       "      <td>-0.023242</td>\n",
       "      <td>-0.009927</td>\n",
       "      <td>-0.070518</td>\n",
       "      <td>0.011268</td>\n",
       "      <td>...</td>\n",
       "      <td>0.042708</td>\n",
       "      <td>0.018550</td>\n",
       "      <td>0.056676</td>\n",
       "      <td>-0.018468</td>\n",
       "      <td>-0.016300</td>\n",
       "      <td>-0.017436</td>\n",
       "      <td>0.034954</td>\n",
       "      <td>-0.017123</td>\n",
       "      <td>0.056905</td>\n",
       "      <td>-0.027108</td>\n",
       "    </tr>\n",
       "    <tr>\n",
       "      <th>3</th>\n",
       "      <td>0.051127</td>\n",
       "      <td>0.001994</td>\n",
       "      <td>-0.022106</td>\n",
       "      <td>-0.050080</td>\n",
       "      <td>0.028206</td>\n",
       "      <td>0.026564</td>\n",
       "      <td>0.058428</td>\n",
       "      <td>0.010197</td>\n",
       "      <td>-0.086738</td>\n",
       "      <td>-0.029771</td>\n",
       "      <td>...</td>\n",
       "      <td>0.013791</td>\n",
       "      <td>0.021761</td>\n",
       "      <td>0.018043</td>\n",
       "      <td>0.026964</td>\n",
       "      <td>-0.040255</td>\n",
       "      <td>0.014643</td>\n",
       "      <td>-0.053347</td>\n",
       "      <td>-0.025159</td>\n",
       "      <td>-0.045340</td>\n",
       "      <td>-0.055678</td>\n",
       "    </tr>\n",
       "    <tr>\n",
       "      <th>4</th>\n",
       "      <td>-0.016526</td>\n",
       "      <td>0.041189</td>\n",
       "      <td>-0.039834</td>\n",
       "      <td>-0.047084</td>\n",
       "      <td>0.058258</td>\n",
       "      <td>0.017980</td>\n",
       "      <td>0.011497</td>\n",
       "      <td>-0.016223</td>\n",
       "      <td>-0.020592</td>\n",
       "      <td>0.021089</td>\n",
       "      <td>...</td>\n",
       "      <td>0.038960</td>\n",
       "      <td>0.019420</td>\n",
       "      <td>0.060711</td>\n",
       "      <td>-0.003294</td>\n",
       "      <td>0.000740</td>\n",
       "      <td>0.022589</td>\n",
       "      <td>0.014541</td>\n",
       "      <td>-0.004746</td>\n",
       "      <td>-0.027510</td>\n",
       "      <td>-0.042008</td>\n",
       "    </tr>\n",
       "    <tr>\n",
       "      <th>...</th>\n",
       "      <td>...</td>\n",
       "      <td>...</td>\n",
       "      <td>...</td>\n",
       "      <td>...</td>\n",
       "      <td>...</td>\n",
       "      <td>...</td>\n",
       "      <td>...</td>\n",
       "      <td>...</td>\n",
       "      <td>...</td>\n",
       "      <td>...</td>\n",
       "      <td>...</td>\n",
       "      <td>...</td>\n",
       "      <td>...</td>\n",
       "      <td>...</td>\n",
       "      <td>...</td>\n",
       "      <td>...</td>\n",
       "      <td>...</td>\n",
       "      <td>...</td>\n",
       "      <td>...</td>\n",
       "      <td>...</td>\n",
       "      <td>...</td>\n",
       "    </tr>\n",
       "    <tr>\n",
       "      <th>59995</th>\n",
       "      <td>-0.067521</td>\n",
       "      <td>0.037224</td>\n",
       "      <td>-0.014267</td>\n",
       "      <td>-0.043698</td>\n",
       "      <td>0.011656</td>\n",
       "      <td>0.021878</td>\n",
       "      <td>-0.006929</td>\n",
       "      <td>-0.016781</td>\n",
       "      <td>-0.055417</td>\n",
       "      <td>-0.031172</td>\n",
       "      <td>...</td>\n",
       "      <td>-0.033602</td>\n",
       "      <td>0.002455</td>\n",
       "      <td>0.042595</td>\n",
       "      <td>0.026523</td>\n",
       "      <td>-0.038780</td>\n",
       "      <td>0.045191</td>\n",
       "      <td>-0.014919</td>\n",
       "      <td>0.039985</td>\n",
       "      <td>0.052829</td>\n",
       "      <td>-0.015985</td>\n",
       "    </tr>\n",
       "    <tr>\n",
       "      <th>59996</th>\n",
       "      <td>-0.041061</td>\n",
       "      <td>0.007320</td>\n",
       "      <td>0.009957</td>\n",
       "      <td>0.004124</td>\n",
       "      <td>-0.002766</td>\n",
       "      <td>-0.040439</td>\n",
       "      <td>-0.061028</td>\n",
       "      <td>-0.005142</td>\n",
       "      <td>-0.016277</td>\n",
       "      <td>-0.007730</td>\n",
       "      <td>...</td>\n",
       "      <td>-0.027312</td>\n",
       "      <td>0.010832</td>\n",
       "      <td>0.081695</td>\n",
       "      <td>0.035366</td>\n",
       "      <td>0.026365</td>\n",
       "      <td>-0.019050</td>\n",
       "      <td>0.022298</td>\n",
       "      <td>-0.033967</td>\n",
       "      <td>0.031410</td>\n",
       "      <td>-0.026249</td>\n",
       "    </tr>\n",
       "    <tr>\n",
       "      <th>59997</th>\n",
       "      <td>-0.057466</td>\n",
       "      <td>-0.002161</td>\n",
       "      <td>0.002366</td>\n",
       "      <td>-0.028695</td>\n",
       "      <td>-0.042670</td>\n",
       "      <td>0.018941</td>\n",
       "      <td>-0.029447</td>\n",
       "      <td>0.060240</td>\n",
       "      <td>-0.046729</td>\n",
       "      <td>-0.041772</td>\n",
       "      <td>...</td>\n",
       "      <td>-0.011032</td>\n",
       "      <td>0.028908</td>\n",
       "      <td>-0.016598</td>\n",
       "      <td>-0.038665</td>\n",
       "      <td>-0.033142</td>\n",
       "      <td>0.074640</td>\n",
       "      <td>-0.012563</td>\n",
       "      <td>0.040241</td>\n",
       "      <td>0.051609</td>\n",
       "      <td>-0.025566</td>\n",
       "    </tr>\n",
       "    <tr>\n",
       "      <th>59998</th>\n",
       "      <td>-0.019706</td>\n",
       "      <td>0.066676</td>\n",
       "      <td>-0.008332</td>\n",
       "      <td>0.023228</td>\n",
       "      <td>0.036592</td>\n",
       "      <td>-0.031086</td>\n",
       "      <td>-0.041019</td>\n",
       "      <td>-0.015643</td>\n",
       "      <td>0.037257</td>\n",
       "      <td>-0.021322</td>\n",
       "      <td>...</td>\n",
       "      <td>-0.007887</td>\n",
       "      <td>-0.005536</td>\n",
       "      <td>0.072378</td>\n",
       "      <td>0.033552</td>\n",
       "      <td>0.005967</td>\n",
       "      <td>-0.105183</td>\n",
       "      <td>0.009845</td>\n",
       "      <td>0.007671</td>\n",
       "      <td>0.028978</td>\n",
       "      <td>-0.002018</td>\n",
       "    </tr>\n",
       "    <tr>\n",
       "      <th>59999</th>\n",
       "      <td>0.015177</td>\n",
       "      <td>-0.050753</td>\n",
       "      <td>-0.027323</td>\n",
       "      <td>0.015826</td>\n",
       "      <td>-0.019105</td>\n",
       "      <td>-0.003976</td>\n",
       "      <td>-0.014892</td>\n",
       "      <td>0.014737</td>\n",
       "      <td>0.033134</td>\n",
       "      <td>0.013421</td>\n",
       "      <td>...</td>\n",
       "      <td>-0.029974</td>\n",
       "      <td>0.018958</td>\n",
       "      <td>-0.017832</td>\n",
       "      <td>-0.002504</td>\n",
       "      <td>0.002398</td>\n",
       "      <td>0.092949</td>\n",
       "      <td>-0.009206</td>\n",
       "      <td>0.028579</td>\n",
       "      <td>0.046294</td>\n",
       "      <td>-0.004795</td>\n",
       "    </tr>\n",
       "  </tbody>\n",
       "</table>\n",
       "<p>60000 rows × 768 columns</p>\n",
       "</div>"
      ],
      "text/plain": [
       "            0         1         2         3         4         5         6    \\\n",
       "0      0.045448  0.008621  0.008975  0.039054  0.034634  0.020690 -0.027890   \n",
       "1      0.048077  0.032873 -0.010061  0.065490 -0.013086  0.000656  0.089355   \n",
       "2      0.021756 -0.037839 -0.003639 -0.022688  0.070408  0.032931 -0.023242   \n",
       "3      0.051127  0.001994 -0.022106 -0.050080  0.028206  0.026564  0.058428   \n",
       "4     -0.016526  0.041189 -0.039834 -0.047084  0.058258  0.017980  0.011497   \n",
       "...         ...       ...       ...       ...       ...       ...       ...   \n",
       "59995 -0.067521  0.037224 -0.014267 -0.043698  0.011656  0.021878 -0.006929   \n",
       "59996 -0.041061  0.007320  0.009957  0.004124 -0.002766 -0.040439 -0.061028   \n",
       "59997 -0.057466 -0.002161  0.002366 -0.028695 -0.042670  0.018941 -0.029447   \n",
       "59998 -0.019706  0.066676 -0.008332  0.023228  0.036592 -0.031086 -0.041019   \n",
       "59999  0.015177 -0.050753 -0.027323  0.015826 -0.019105 -0.003976 -0.014892   \n",
       "\n",
       "            7         8         9    ...       758       759       760  \\\n",
       "0      0.030100 -0.000780 -0.025788  ... -0.021893 -0.042200 -0.056218   \n",
       "1     -0.000913  0.045236  0.043386  ...  0.023940 -0.001396  0.005146   \n",
       "2     -0.009927 -0.070518  0.011268  ...  0.042708  0.018550  0.056676   \n",
       "3      0.010197 -0.086738 -0.029771  ...  0.013791  0.021761  0.018043   \n",
       "4     -0.016223 -0.020592  0.021089  ...  0.038960  0.019420  0.060711   \n",
       "...         ...       ...       ...  ...       ...       ...       ...   \n",
       "59995 -0.016781 -0.055417 -0.031172  ... -0.033602  0.002455  0.042595   \n",
       "59996 -0.005142 -0.016277 -0.007730  ... -0.027312  0.010832  0.081695   \n",
       "59997  0.060240 -0.046729 -0.041772  ... -0.011032  0.028908 -0.016598   \n",
       "59998 -0.015643  0.037257 -0.021322  ... -0.007887 -0.005536  0.072378   \n",
       "59999  0.014737  0.033134  0.013421  ... -0.029974  0.018958 -0.017832   \n",
       "\n",
       "            761       762       763       764       765       766       767  \n",
       "0      0.046314 -0.013986 -0.034202 -0.050673  0.029158 -0.007017 -0.023690  \n",
       "1      0.007136 -0.018699 -0.116027  0.005650 -0.011210  0.001193 -0.013624  \n",
       "2     -0.018468 -0.016300 -0.017436  0.034954 -0.017123  0.056905 -0.027108  \n",
       "3      0.026964 -0.040255  0.014643 -0.053347 -0.025159 -0.045340 -0.055678  \n",
       "4     -0.003294  0.000740  0.022589  0.014541 -0.004746 -0.027510 -0.042008  \n",
       "...         ...       ...       ...       ...       ...       ...       ...  \n",
       "59995  0.026523 -0.038780  0.045191 -0.014919  0.039985  0.052829 -0.015985  \n",
       "59996  0.035366  0.026365 -0.019050  0.022298 -0.033967  0.031410 -0.026249  \n",
       "59997 -0.038665 -0.033142  0.074640 -0.012563  0.040241  0.051609 -0.025566  \n",
       "59998  0.033552  0.005967 -0.105183  0.009845  0.007671  0.028978 -0.002018  \n",
       "59999 -0.002504  0.002398  0.092949 -0.009206  0.028579  0.046294 -0.004795  \n",
       "\n",
       "[60000 rows x 768 columns]"
      ]
     },
     "execution_count": 12,
     "metadata": {},
     "output_type": "execute_result"
    }
   ],
   "source": [
    "df_embeddings"
   ]
  },
  {
   "cell_type": "markdown",
   "id": "b9b9a88d",
   "metadata": {},
   "source": [
    "# tsne"
   ]
  },
  {
   "cell_type": "code",
   "execution_count": 13,
   "id": "0d585999",
   "metadata": {},
   "outputs": [
    {
     "name": "stdout",
     "output_type": "stream",
     "text": [
      "[t-SNE] Computing 76 nearest neighbors...\n",
      "[t-SNE] Indexed 60000 samples in 0.010s...\n",
      "huggingface/tokenizers: The current process just got forked, after parallelism has already been used. Disabling parallelism to avoid deadlocks...\n",
      "To disable this warning, you can either:\n",
      "\t- Avoid using `tokenizers` before the fork if possible\n",
      "\t- Explicitly set the environment variable TOKENIZERS_PARALLELISM=(true | false)\n",
      "[t-SNE] Computed neighbors for 60000 samples in 15.376s...\n",
      "[t-SNE] Computed conditional probabilities for sample 1000 / 60000\n",
      "[t-SNE] Computed conditional probabilities for sample 2000 / 60000\n",
      "[t-SNE] Computed conditional probabilities for sample 3000 / 60000\n",
      "[t-SNE] Computed conditional probabilities for sample 4000 / 60000\n",
      "[t-SNE] Computed conditional probabilities for sample 5000 / 60000\n",
      "[t-SNE] Computed conditional probabilities for sample 6000 / 60000\n",
      "[t-SNE] Computed conditional probabilities for sample 7000 / 60000\n",
      "[t-SNE] Computed conditional probabilities for sample 8000 / 60000\n",
      "[t-SNE] Computed conditional probabilities for sample 9000 / 60000\n",
      "[t-SNE] Computed conditional probabilities for sample 10000 / 60000\n",
      "[t-SNE] Computed conditional probabilities for sample 11000 / 60000\n",
      "[t-SNE] Computed conditional probabilities for sample 12000 / 60000\n",
      "[t-SNE] Computed conditional probabilities for sample 13000 / 60000\n",
      "[t-SNE] Computed conditional probabilities for sample 14000 / 60000\n",
      "[t-SNE] Computed conditional probabilities for sample 15000 / 60000\n",
      "[t-SNE] Computed conditional probabilities for sample 16000 / 60000\n",
      "[t-SNE] Computed conditional probabilities for sample 17000 / 60000\n",
      "[t-SNE] Computed conditional probabilities for sample 18000 / 60000\n",
      "[t-SNE] Computed conditional probabilities for sample 19000 / 60000\n",
      "[t-SNE] Computed conditional probabilities for sample 20000 / 60000\n",
      "[t-SNE] Computed conditional probabilities for sample 21000 / 60000\n",
      "[t-SNE] Computed conditional probabilities for sample 22000 / 60000\n",
      "[t-SNE] Computed conditional probabilities for sample 23000 / 60000\n",
      "[t-SNE] Computed conditional probabilities for sample 24000 / 60000\n",
      "[t-SNE] Computed conditional probabilities for sample 25000 / 60000\n",
      "[t-SNE] Computed conditional probabilities for sample 26000 / 60000\n",
      "[t-SNE] Computed conditional probabilities for sample 27000 / 60000\n",
      "[t-SNE] Computed conditional probabilities for sample 28000 / 60000\n",
      "[t-SNE] Computed conditional probabilities for sample 29000 / 60000\n",
      "[t-SNE] Computed conditional probabilities for sample 30000 / 60000\n",
      "[t-SNE] Computed conditional probabilities for sample 31000 / 60000\n",
      "[t-SNE] Computed conditional probabilities for sample 32000 / 60000\n",
      "[t-SNE] Computed conditional probabilities for sample 33000 / 60000\n",
      "[t-SNE] Computed conditional probabilities for sample 34000 / 60000\n",
      "[t-SNE] Computed conditional probabilities for sample 35000 / 60000\n",
      "[t-SNE] Computed conditional probabilities for sample 36000 / 60000\n",
      "[t-SNE] Computed conditional probabilities for sample 37000 / 60000\n",
      "[t-SNE] Computed conditional probabilities for sample 38000 / 60000\n",
      "[t-SNE] Computed conditional probabilities for sample 39000 / 60000\n",
      "[t-SNE] Computed conditional probabilities for sample 40000 / 60000\n",
      "[t-SNE] Computed conditional probabilities for sample 41000 / 60000\n",
      "[t-SNE] Computed conditional probabilities for sample 42000 / 60000\n",
      "[t-SNE] Computed conditional probabilities for sample 43000 / 60000\n",
      "[t-SNE] Computed conditional probabilities for sample 44000 / 60000\n",
      "[t-SNE] Computed conditional probabilities for sample 45000 / 60000\n",
      "[t-SNE] Computed conditional probabilities for sample 46000 / 60000\n",
      "[t-SNE] Computed conditional probabilities for sample 47000 / 60000\n",
      "[t-SNE] Computed conditional probabilities for sample 48000 / 60000\n",
      "[t-SNE] Computed conditional probabilities for sample 49000 / 60000\n",
      "[t-SNE] Computed conditional probabilities for sample 50000 / 60000\n",
      "[t-SNE] Computed conditional probabilities for sample 51000 / 60000\n",
      "[t-SNE] Computed conditional probabilities for sample 52000 / 60000\n",
      "[t-SNE] Computed conditional probabilities for sample 53000 / 60000\n",
      "[t-SNE] Computed conditional probabilities for sample 54000 / 60000\n",
      "[t-SNE] Computed conditional probabilities for sample 55000 / 60000\n",
      "[t-SNE] Computed conditional probabilities for sample 56000 / 60000\n",
      "[t-SNE] Computed conditional probabilities for sample 57000 / 60000\n",
      "[t-SNE] Computed conditional probabilities for sample 58000 / 60000\n",
      "[t-SNE] Computed conditional probabilities for sample 59000 / 60000\n",
      "[t-SNE] Computed conditional probabilities for sample 60000 / 60000\n",
      "[t-SNE] Mean sigma: 0.000000\n",
      "[t-SNE] KL divergence after 250 iterations with early exaggeration: 109.092255\n",
      "[t-SNE] KL divergence after 251 iterations: 179769313486231570814527423731704356798070567525844996598917476803157260780028538760589558632766878171540458953514382464234321326889464182768467546703537516986049910576551282076245490090389328944075868508455133942304583236903222948165808559332123348274797826204144723168738177180919299881250404026184124858368.000000\n"
     ]
    }
   ],
   "source": [
    "from sklearn.manifold import TSNE\n",
    "tsne = TSNE(n_components = 2, verbose = 1, perplexity = 25, n_iter = 250)\n",
    "tsne_result = tsne.fit_transform(df_embeddings)"
   ]
  },
  {
   "cell_type": "code",
   "execution_count": 14,
   "id": "51e6fdd9",
   "metadata": {},
   "outputs": [
    {
     "name": "stderr",
     "output_type": "stream",
     "text": [
      "/home/t16user1/.conda/envs/ahdgks/lib/python3.9/site-packages/sklearn/cluster/_kmeans.py:870: FutureWarning: The default value of `n_init` will change from 10 to 'auto' in 1.4. Set the value of `n_init` explicitly to suppress the warning\n",
      "  warnings.warn(\n",
      "/home/t16user1/.conda/envs/ahdgks/lib/python3.9/site-packages/sklearn/cluster/_kmeans.py:870: FutureWarning: The default value of `n_init` will change from 10 to 'auto' in 1.4. Set the value of `n_init` explicitly to suppress the warning\n",
      "  warnings.warn(\n"
     ]
    }
   ],
   "source": [
    "kmeans = KMeans(n_clusters=6, random_state=SEED)\n",
    "\n",
    "df['kmeans_cluster_tsne'] = kmeans.fit_predict(tsne_result)\n",
    "df['kmeans_cluster'] = kmeans.fit_predict(df_embeddings)"
   ]
  },
  {
   "cell_type": "code",
   "execution_count": 15,
   "id": "bc2e82e3",
   "metadata": {},
   "outputs": [],
   "source": [
    "df['kmeans_x'] = tsne_result[:, 0]\n",
    "df['kmeans_y'] = tsne_result[:, 1]"
   ]
  },
  {
   "cell_type": "code",
   "execution_count": 16,
   "id": "8ef6cc7b",
   "metadata": {},
   "outputs": [
    {
     "data": {
      "image/png": "[encoded data removed]",
      "text/plain": [
       "<Figure size 640x480 with 1 Axes>"
      ]
     },
     "metadata": {},
     "output_type": "display_data"
    }
   ],
   "source": [
    "import matplotlib.pyplot as plt\n",
    "\n",
    "\n",
    "for i in range(0, 6):\n",
    "  _df = df[df['kmeans_cluster_tsne'] == i]\n",
    "  plt.scatter(x=_df.kmeans_x, y=_df.kmeans_y, s=1)"
   ]
  },
  {
   "cell_type": "code",
   "execution_count": 17,
   "id": "fcd3e6e0",
   "metadata": {},
   "outputs": [
    {
     "data": {
      "text/html": [
       "<div>\n",
       "<style scoped>\n",
       "    .dataframe tbody tr th:only-of-type {\n",
       "        vertical-align: middle;\n",
       "    }\n",
       "\n",
       "    .dataframe tbody tr th {\n",
       "        vertical-align: top;\n",
       "    }\n",
       "\n",
       "    .dataframe thead th {\n",
       "        text-align: right;\n",
       "    }\n",
       "</style>\n",
       "<table border=\"1\" class=\"dataframe\">\n",
       "  <thead>\n",
       "    <tr style=\"text-align: right;\">\n",
       "      <th></th>\n",
       "      <th>id</th>\n",
       "      <th>title</th>\n",
       "      <th>contents</th>\n",
       "      <th>text</th>\n",
       "      <th>kmeans_cluster_tsne</th>\n",
       "      <th>kmeans_x</th>\n",
       "      <th>kmeans_y</th>\n",
       "    </tr>\n",
       "    <tr>\n",
       "      <th>kmeans_cluster</th>\n",
       "      <th></th>\n",
       "      <th></th>\n",
       "      <th></th>\n",
       "      <th></th>\n",
       "      <th></th>\n",
       "      <th></th>\n",
       "      <th></th>\n",
       "    </tr>\n",
       "  </thead>\n",
       "  <tbody>\n",
       "    <tr>\n",
       "      <th>0</th>\n",
       "      <td>9119</td>\n",
       "      <td>9119</td>\n",
       "      <td>9119</td>\n",
       "      <td>9119</td>\n",
       "      <td>9119</td>\n",
       "      <td>9119</td>\n",
       "      <td>9119</td>\n",
       "    </tr>\n",
       "    <tr>\n",
       "      <th>1</th>\n",
       "      <td>8482</td>\n",
       "      <td>8482</td>\n",
       "      <td>8482</td>\n",
       "      <td>8482</td>\n",
       "      <td>8482</td>\n",
       "      <td>8482</td>\n",
       "      <td>8482</td>\n",
       "    </tr>\n",
       "    <tr>\n",
       "      <th>2</th>\n",
       "      <td>11692</td>\n",
       "      <td>11692</td>\n",
       "      <td>11692</td>\n",
       "      <td>11692</td>\n",
       "      <td>11692</td>\n",
       "      <td>11692</td>\n",
       "      <td>11692</td>\n",
       "    </tr>\n",
       "    <tr>\n",
       "      <th>3</th>\n",
       "      <td>10054</td>\n",
       "      <td>10054</td>\n",
       "      <td>10054</td>\n",
       "      <td>10054</td>\n",
       "      <td>10054</td>\n",
       "      <td>10054</td>\n",
       "      <td>10054</td>\n",
       "    </tr>\n",
       "    <tr>\n",
       "      <th>4</th>\n",
       "      <td>11217</td>\n",
       "      <td>11217</td>\n",
       "      <td>11217</td>\n",
       "      <td>11217</td>\n",
       "      <td>11217</td>\n",
       "      <td>11217</td>\n",
       "      <td>11217</td>\n",
       "    </tr>\n",
       "    <tr>\n",
       "      <th>5</th>\n",
       "      <td>9436</td>\n",
       "      <td>9436</td>\n",
       "      <td>9436</td>\n",
       "      <td>9436</td>\n",
       "      <td>9436</td>\n",
       "      <td>9436</td>\n",
       "      <td>9436</td>\n",
       "    </tr>\n",
       "  </tbody>\n",
       "</table>\n",
       "</div>"
      ],
      "text/plain": [
       "                   id  title  contents   text  kmeans_cluster_tsne  kmeans_x  \\\n",
       "kmeans_cluster                                                                 \n",
       "0                9119   9119      9119   9119                 9119      9119   \n",
       "1                8482   8482      8482   8482                 8482      8482   \n",
       "2               11692  11692     11692  11692                11692     11692   \n",
       "3               10054  10054     10054  10054                10054     10054   \n",
       "4               11217  11217     11217  11217                11217     11217   \n",
       "5                9436   9436      9436   9436                 9436      9436   \n",
       "\n",
       "                kmeans_y  \n",
       "kmeans_cluster            \n",
       "0                   9119  \n",
       "1                   8482  \n",
       "2                  11692  \n",
       "3                  10054  \n",
       "4                  11217  \n",
       "5                   9436  "
      ]
     },
     "execution_count": 17,
     "metadata": {},
     "output_type": "execute_result"
    }
   ],
   "source": [
    "df.groupby('kmeans_cluster').count()"
   ]
  },
  {
   "cell_type": "code",
   "execution_count": 18,
   "id": "dcb4fdd2",
   "metadata": {},
   "outputs": [],
   "source": [
    "mapping_dict = {\n",
    "    0: 4,\n",
    "    1: 2,\n",
    "    2: 0,\n",
    "    3: 5,\n",
    "    4: 1,\n",
    "    5: 3\n",
    "}\n",
    "df['mapping2'] = df['kmeans_cluster'].apply(lambda x: mapping_dict[x])"
   ]
  },
  {
   "cell_type": "code",
   "execution_count": 19,
   "id": "7d762431",
   "metadata": {},
   "outputs": [
    {
     "data": {
      "text/plain": [
       "0    0\n",
       "1    3\n",
       "2    2\n",
       "3    4\n",
       "4    4\n",
       "Name: category, dtype: int64"
      ]
     },
     "execution_count": 19,
     "metadata": {},
     "output_type": "execute_result"
    }
   ],
   "source": [
    "sample = pd.read_csv('./sample_submission.csv')\n",
    "\n",
    "sample['category'] = df['mapping2'].values\n",
    "sample['category'].head()"
   ]
  },
  {
   "cell_type": "code",
   "execution_count": 20,
   "id": "1c581419",
   "metadata": {},
   "outputs": [],
   "source": [
    "sample.to_csv('v2_tsne2.csv', index=False)"
   ]
  },
  {
   "cell_type": "markdown",
   "id": "05ae66bf",
   "metadata": {},
   "source": [
    "# Fine-tuning\n",
    "\n",
    "### centroid 구하기"
   ]
  },
  {
   "cell_type": "code",
   "execution_count": 22,
   "id": "df8a7f5f",
   "metadata": {},
   "outputs": [
    {
     "data": {
      "text/plain": [
       "array([[ 0.01464317,  0.00501535, -0.00506705, ..., -0.01053788,\n",
       "        -0.00890202, -0.0182925 ],\n",
       "       [ 0.01514248,  0.03203293, -0.0026227 , ...,  0.00963168,\n",
       "        -0.000571  , -0.01448125],\n",
       "       [-0.02073061,  0.01167797,  0.00253182, ...,  0.0064171 ,\n",
       "        -0.00149393, -0.01455426],\n",
       "       [-0.00559506,  0.06729662,  0.0054383 , ..., -0.00193413,\n",
       "        -0.00418538, -0.00975494],\n",
       "       [-0.01467237,  0.02674009, -0.00164609, ..., -0.01219276,\n",
       "        -0.00748211, -0.01318814],\n",
       "       [ 0.01527011,  0.00999526,  0.00729487, ...,  0.00919716,\n",
       "        -0.00997477,  0.00674967]], dtype=float32)"
      ]
     },
     "execution_count": 22,
     "metadata": {},
     "output_type": "execute_result"
    }
   ],
   "source": [
    "kmeans.cluster_centers_"
   ]
  },
  {
   "cell_type": "code",
   "execution_count": 23,
   "id": "a53cbbd6",
   "metadata": {
    "scrolled": true
   },
   "outputs": [
    {
     "data": {
      "text/plain": [
       "3    macromedia contributes ebay stores : macromedia announced special version contribute website editing application designed simplify creation customisation ebay stores .\n",
       "4                                                                            qualcomm plans phone cellular repairs : over-the-air fixes cell phones comes qualcomm 's cdma .\n",
       "5                                                                        thomson back both blu-ray hd-dvd : company , one core backers blu-ray , also support rival format .\n",
       "Name: text, dtype: object"
      ]
     },
     "execution_count": 23,
     "metadata": {},
     "output_type": "execute_result"
    }
   ],
   "source": [
    "df[df['kmeans_cluster'] == 0]['text'].head(3)"
   ]
  },
  {
   "cell_type": "code",
   "execution_count": 24,
   "id": "65267d83",
   "metadata": {},
   "outputs": [
    {
     "name": "stdout",
     "output_type": "stream",
     "text": [
      "macromedia contributes ebay stores : macromedia announced special version contribute website editing application designed simplify creation customisation ebay stores .\n",
      "qualcomm plans phone cellular repairs : over-the-air fixes cell phones comes qualcomm 's cdma .\n",
      "thomson back both blu-ray hd-dvd : company , one core backers blu-ray , also support rival format .\n"
     ]
    }
   ],
   "source": [
    "print(df['text'][df[df['kmeans_cluster'] == 0]['text'].head(3).index[0]])\n",
    "print(df['text'][df[df['kmeans_cluster'] == 0]['text'].head(3).index[1]])\n",
    "print(df['text'][df[df['kmeans_cluster'] == 0]['text'].head(3).index[2]])"
   ]
  },
  {
   "cell_type": "code",
   "execution_count": 25,
   "id": "1053f58f",
   "metadata": {
    "scrolled": true
   },
   "outputs": [
    {
     "data": {
      "text/plain": [
       "2     only lovers left alive 's tilda swinton talks about almost quitting acting yasmine hamdan performs 'hal ' live in nyc ( huffpo exclusive videos ) authors : yasmine hamdan performs 'hal ' also sings film scene two world-weary vampires begin heal find way continue living remember power mystery creation .\n",
       "10                                                                                                                                                                        harry ; argy-bargy : prince charles asked scotland yard in-depth report son harry ; trip argentina reports excessive drinking kidnap plot .\n",
       "25                                                                                                                                                                                                                                                                                      be top : // short_description\n",
       "Name: text, dtype: object"
      ]
     },
     "execution_count": 25,
     "metadata": {},
     "output_type": "execute_result"
    }
   ],
   "source": [
    "df[df['kmeans_cluster'] == 1]['text'].head(3)"
   ]
  },
  {
   "cell_type": "code",
   "execution_count": 26,
   "id": "2cecfb94",
   "metadata": {},
   "outputs": [
    {
     "name": "stdout",
     "output_type": "stream",
     "text": [
      "only lovers left alive 's tilda swinton talks about almost quitting acting yasmine hamdan performs 'hal ' live in nyc ( huffpo exclusive videos ) authors : yasmine hamdan performs 'hal ' also sings film scene two world-weary vampires begin heal find way continue living remember power mystery creation .\n",
      "harry ; argy-bargy : prince charles asked scotland yard in-depth report son harry ; trip argentina reports excessive drinking kidnap plot .\n",
      "be top : // short_description\n"
     ]
    }
   ],
   "source": [
    "print(df['text'][df[df['kmeans_cluster'] == 1]['text'].head(3).index[0]])\n",
    "print(df['text'][df[df['kmeans_cluster'] == 1]['text'].head(3).index[1]])\n",
    "print(df['text'][df[df['kmeans_cluster'] == 1]['text'].head(3).index[2]])"
   ]
  },
  {
   "cell_type": "code",
   "execution_count": 27,
   "id": "9b178bc9",
   "metadata": {},
   "outputs": [
    {
     "data": {
      "text/plain": [
       "0     spanish coach facing action race row : madrid ( afp ) - spanish national team coach luis aragones faces formal investigation spain ; football federation decided open disciplinary proceedings racist comments thierry henry france arsenal .\n",
       "6                                                                                                                                    time talk baseball : it 's time talk serious risks potential benefits building expensive ballpark washington .\n",
       "13                                                                        game day preview game time : : pm : charlotte , north carolina ( ticker ) -- the detroit shock face critical road test saturday take charlotte sting charlotte coliseum .\n",
       "Name: text, dtype: object"
      ]
     },
     "execution_count": 27,
     "metadata": {},
     "output_type": "execute_result"
    }
   ],
   "source": [
    "df[df['kmeans_cluster'] == 2]['text'].head(3)"
   ]
  },
  {
   "cell_type": "code",
   "execution_count": 28,
   "id": "2c6219e7",
   "metadata": {},
   "outputs": [
    {
     "name": "stdout",
     "output_type": "stream",
     "text": [
      "spanish coach facing action race row : madrid ( afp ) - spanish national team coach luis aragones faces formal investigation spain ; football federation decided open disciplinary proceedings racist comments thierry henry france arsenal .\n",
      "time talk baseball : it 's time talk serious risks potential benefits building expensive ballpark washington .\n",
      "game day preview game time : : pm : charlotte , north carolina ( ticker ) -- the detroit shock face critical road test saturday take charlotte sting charlotte coliseum .\n"
     ]
    }
   ],
   "source": [
    "print(df['text'][df[df['kmeans_cluster'] == 2]['text'].head(3).index[0]])\n",
    "print(df['text'][df[df['kmeans_cluster'] == 2]['text'].head(3).index[1]])\n",
    "print(df['text'][df[df['kmeans_cluster'] == 2]['text'].head(3).index[2]])"
   ]
  },
  {
   "cell_type": "code",
   "execution_count": 29,
   "id": "3819c279",
   "metadata": {},
   "outputs": [
    {
     "data": {
      "text/plain": [
       "8                                                                                                                       obama marks anniversary of / attacks with moment of silence authors : we stand strong ever .\n",
       "9                                                                                                            republican congressman says trump should apologize to obama and the uk authors : best hold breath one .\n",
       "11    kerry rolls tax-cut plan middle class : after two weeks focusing iraq , democratic presidential challenger john kerry turned emphasis economy saturday , delivering called plan quot ; middle-class families .\n",
       "Name: text, dtype: object"
      ]
     },
     "execution_count": 29,
     "metadata": {},
     "output_type": "execute_result"
    }
   ],
   "source": [
    "df[df['kmeans_cluster'] == 3]['text'].head(3)"
   ]
  },
  {
   "cell_type": "code",
   "execution_count": 30,
   "id": "48b885ce",
   "metadata": {},
   "outputs": [
    {
     "name": "stdout",
     "output_type": "stream",
     "text": [
      "obama marks anniversary of / attacks with moment of silence authors : we stand strong ever .\n",
      "republican congressman says trump should apologize to obama and the uk authors : best hold breath one .\n",
      "kerry rolls tax-cut plan middle class : after two weeks focusing iraq , democratic presidential challenger john kerry turned emphasis economy saturday , delivering called plan quot ; middle-class families .\n"
     ]
    }
   ],
   "source": [
    "print(df['text'][df[df['kmeans_cluster'] == 3]['text'].head(3).index[0]])\n",
    "print(df['text'][df[df['kmeans_cluster'] == 3]['text'].head(3).index[1]])\n",
    "print(df['text'][df[df['kmeans_cluster'] == 3]['text'].head(3).index[2]])"
   ]
  },
  {
   "cell_type": "code",
   "execution_count": 31,
   "id": "a0dab9db",
   "metadata": {},
   "outputs": [
    {
     "data": {
      "text/plain": [
       "7                                                                         bump stock maker resumes sales one month after las vegas mass shooting authors : move along nothing see .\n",
       "20                                                                        deere 's color is green : with big tractors , big sales , big earnings , deere 's hoeing profitable row .\n",
       "27    kmart-sears merger price , quality : average customers know thing ministers high finance understand : it ; price . shoppers thursday billings sears store eager find proposed\n",
       "Name: text, dtype: object"
      ]
     },
     "execution_count": 31,
     "metadata": {},
     "output_type": "execute_result"
    }
   ],
   "source": [
    "df[df['kmeans_cluster'] == 4]['text'].head(3)"
   ]
  },
  {
   "cell_type": "code",
   "execution_count": 32,
   "id": "dbc7b4e8",
   "metadata": {},
   "outputs": [
    {
     "name": "stdout",
     "output_type": "stream",
     "text": [
      "bump stock maker resumes sales one month after las vegas mass shooting authors : move along nothing see .\n",
      "deere 's color is green : with big tractors , big sales , big earnings , deere 's hoeing profitable row .\n",
      "kmart-sears merger price , quality : average customers know thing ministers high finance understand : it ; price . shoppers thursday billings sears store eager find proposed\n"
     ]
    }
   ],
   "source": [
    "print(df['text'][df[df['kmeans_cluster'] == 4]['text'].head(3).index[0]])\n",
    "print(df['text'][df[df['kmeans_cluster'] == 4]['text'].head(3).index[1]])\n",
    "print(df['text'][df[df['kmeans_cluster'] == 4]['text'].head(3).index[2]])"
   ]
  },
  {
   "cell_type": "code",
   "execution_count": 33,
   "id": "98512bf2",
   "metadata": {},
   "outputs": [
    {
     "data": {
      "text/plain": [
       "1                                                                                bruce lee statue divided city : in bosnia , one man ; hero often another man ; villain , citizens decided honour one serbs , croats muslims look - kung fu great bruce lee .\n",
       "29    israel kills palestinians big gaza incursion ( reuters ) : reuters - israeli forces killed three\\palestinians , including two teenagers , wednesday after\\storming northern gaza strip third time as\\many months quell palestinian rocket fire israel .\n",
       "34                                                    the folly sole superpower writ small authors : think little imperial folly -- 's backstory . in years invading iraq disbanding saddam hussein 's military u.s. sunk $ billion standing new iraqi army .\n",
       "Name: text, dtype: object"
      ]
     },
     "execution_count": 33,
     "metadata": {},
     "output_type": "execute_result"
    }
   ],
   "source": [
    "df[df['kmeans_cluster'] == 5]['text'].head(3)"
   ]
  },
  {
   "cell_type": "code",
   "execution_count": 34,
   "id": "dc279442",
   "metadata": {},
   "outputs": [
    {
     "name": "stdout",
     "output_type": "stream",
     "text": [
      "bruce lee statue divided city : in bosnia , one man ; hero often another man ; villain , citizens decided honour one serbs , croats muslims look - kung fu great bruce lee .\n",
      "israel kills palestinians big gaza incursion ( reuters ) : reuters - israeli forces killed three\\palestinians , including two teenagers , wednesday after\\storming northern gaza strip third time as\\many months quell palestinian rocket fire israel .\n",
      "the folly sole superpower writ small authors : think little imperial folly -- 's backstory . in years invading iraq disbanding saddam hussein 's military u.s. sunk $ billion standing new iraqi army .\n"
     ]
    }
   ],
   "source": [
    "print(df['text'][df[df['kmeans_cluster'] == 5]['text'].head(3).index[0]])\n",
    "print(df['text'][df[df['kmeans_cluster'] == 5]['text'].head(3).index[1]])\n",
    "print(df['text'][df[df['kmeans_cluster'] == 5]['text'].head(3).index[2]])"
   ]
  },
  {
   "cell_type": "code",
   "execution_count": 35,
   "id": "e2823654",
   "metadata": {},
   "outputs": [],
   "source": [
    "mapping_dict = {\n",
    "    0: 1,\n",
    "    1: 3,\n",
    "    2: 2,\n",
    "    3: 0,\n",
    "    4: 4,\n",
    "    5: 5\n",
    "}"
   ]
  },
  {
   "cell_type": "code",
   "execution_count": 37,
   "id": "96cf6b08",
   "metadata": {},
   "outputs": [],
   "source": [
    "df['mapping'] = df['kmeans_cluster'].apply(lambda x: mapping_dict[x])"
   ]
  },
  {
   "cell_type": "code",
   "execution_count": 38,
   "id": "f2812ab1",
   "metadata": {},
   "outputs": [],
   "source": [
    "sample = pd.read_csv('sample_submission.csv')"
   ]
  },
  {
   "cell_type": "code",
   "execution_count": 39,
   "id": "e27f41e2",
   "metadata": {},
   "outputs": [
    {
     "data": {
      "text/plain": [
       "0    2\n",
       "1    5\n",
       "2    3\n",
       "3    1\n",
       "4    1\n",
       "Name: category, dtype: int64"
      ]
     },
     "execution_count": 39,
     "metadata": {},
     "output_type": "execute_result"
    }
   ],
   "source": [
    "sample['category'] = df['mapping'].values\n",
    "sample['category'].head()"
   ]
  },
  {
   "cell_type": "markdown",
   "id": "41be4f9b",
   "metadata": {},
   "source": [
    "## centroid와 거리가 먼 점 구하기"
   ]
  },
  {
   "cell_type": "code",
   "execution_count": 36,
   "id": "aa5edde6",
   "metadata": {},
   "outputs": [
    {
     "name": "stdout",
     "output_type": "stream",
     "text": [
      "Data point 747 is close to another cluster center.\n",
      "Data point 1960 is close to another cluster center.\n",
      "Data point 1965 is close to another cluster center.\n",
      "Data point 2008 is close to another cluster center.\n",
      "Data point 2427 is close to another cluster center.\n",
      "Data point 2653 is close to another cluster center.\n",
      "Data point 2731 is close to another cluster center.\n",
      "Data point 3038 is close to another cluster center.\n",
      "Data point 3504 is close to another cluster center.\n",
      "Data point 4390 is close to another cluster center.\n",
      "Data point 4524 is close to another cluster center.\n",
      "Data point 5352 is close to another cluster center.\n",
      "Data point 5436 is close to another cluster center.\n",
      "Data point 5921 is close to another cluster center.\n",
      "Data point 6750 is close to another cluster center.\n",
      "Data point 6908 is close to another cluster center.\n",
      "Data point 7075 is close to another cluster center.\n",
      "Data point 7186 is close to another cluster center.\n",
      "Data point 7193 is close to another cluster center.\n",
      "Data point 7526 is close to another cluster center.\n",
      "Data point 7862 is close to another cluster center.\n",
      "Data point 7872 is close to another cluster center.\n",
      "Data point 9065 is close to another cluster center.\n",
      "Data point 9323 is close to another cluster center.\n",
      "Data point 9394 is close to another cluster center.\n",
      "Data point 10256 is close to another cluster center.\n",
      "Data point 10551 is close to another cluster center.\n",
      "Data point 12759 is close to another cluster center.\n",
      "Data point 14025 is close to another cluster center.\n",
      "Data point 14043 is close to another cluster center.\n",
      "Data point 14114 is close to another cluster center.\n",
      "Data point 14207 is close to another cluster center.\n",
      "Data point 14396 is close to another cluster center.\n",
      "Data point 14729 is close to another cluster center.\n",
      "Data point 15456 is close to another cluster center.\n",
      "Data point 15475 is close to another cluster center.\n",
      "Data point 15597 is close to another cluster center.\n",
      "Data point 15828 is close to another cluster center.\n",
      "Data point 16118 is close to another cluster center.\n",
      "Data point 16744 is close to another cluster center.\n",
      "Data point 17141 is close to another cluster center.\n",
      "Data point 17741 is close to another cluster center.\n",
      "Data point 18169 is close to another cluster center.\n",
      "Data point 18183 is close to another cluster center.\n",
      "Data point 18703 is close to another cluster center.\n",
      "Data point 18911 is close to another cluster center.\n",
      "Data point 18966 is close to another cluster center.\n",
      "Data point 19518 is close to another cluster center.\n",
      "Data point 19718 is close to another cluster center.\n",
      "Data point 21044 is close to another cluster center.\n",
      "Data point 21624 is close to another cluster center.\n",
      "Data point 21788 is close to another cluster center.\n",
      "Data point 21928 is close to another cluster center.\n",
      "Data point 21973 is close to another cluster center.\n",
      "Data point 22134 is close to another cluster center.\n",
      "Data point 22446 is close to another cluster center.\n",
      "Data point 22471 is close to another cluster center.\n",
      "Data point 22499 is close to another cluster center.\n",
      "Data point 23414 is close to another cluster center.\n",
      "Data point 23507 is close to another cluster center.\n",
      "Data point 23609 is close to another cluster center.\n",
      "Data point 23750 is close to another cluster center.\n",
      "Data point 23899 is close to another cluster center.\n",
      "Data point 24016 is close to another cluster center.\n",
      "Data point 24221 is close to another cluster center.\n",
      "Data point 25109 is close to another cluster center.\n",
      "Data point 25116 is close to another cluster center.\n",
      "Data point 25203 is close to another cluster center.\n",
      "Data point 25217 is close to another cluster center.\n",
      "Data point 25330 is close to another cluster center.\n",
      "Data point 25395 is close to another cluster center.\n",
      "Data point 25447 is close to another cluster center.\n",
      "Data point 26720 is close to another cluster center.\n",
      "Data point 27080 is close to another cluster center.\n",
      "Data point 27108 is close to another cluster center.\n",
      "Data point 27250 is close to another cluster center.\n",
      "Data point 27572 is close to another cluster center.\n",
      "Data point 28171 is close to another cluster center.\n",
      "Data point 28260 is close to another cluster center.\n",
      "Data point 29852 is close to another cluster center.\n",
      "Data point 30958 is close to another cluster center.\n",
      "Data point 31193 is close to another cluster center.\n",
      "Data point 31903 is close to another cluster center.\n",
      "Data point 31995 is close to another cluster center.\n",
      "Data point 32524 is close to another cluster center.\n",
      "Data point 32888 is close to another cluster center.\n",
      "Data point 33016 is close to another cluster center.\n",
      "Data point 33046 is close to another cluster center.\n",
      "Data point 33191 is close to another cluster center.\n",
      "Data point 33805 is close to another cluster center.\n",
      "Data point 34182 is close to another cluster center.\n",
      "Data point 34194 is close to another cluster center.\n",
      "Data point 34423 is close to another cluster center.\n",
      "Data point 34864 is close to another cluster center.\n",
      "Data point 34965 is close to another cluster center.\n",
      "Data point 35410 is close to another cluster center.\n",
      "Data point 35624 is close to another cluster center.\n",
      "Data point 36094 is close to another cluster center.\n",
      "Data point 37288 is close to another cluster center.\n",
      "Data point 38365 is close to another cluster center.\n",
      "Data point 39236 is close to another cluster center.\n",
      "Data point 39404 is close to another cluster center.\n",
      "Data point 39780 is close to another cluster center.\n",
      "Data point 40018 is close to another cluster center.\n",
      "Data point 40092 is close to another cluster center.\n",
      "Data point 40448 is close to another cluster center.\n",
      "Data point 40496 is close to another cluster center.\n",
      "Data point 40545 is close to another cluster center.\n",
      "Data point 40758 is close to another cluster center.\n",
      "Data point 41367 is close to another cluster center.\n",
      "Data point 41744 is close to another cluster center.\n",
      "Data point 42493 is close to another cluster center.\n",
      "Data point 42753 is close to another cluster center.\n",
      "Data point 43442 is close to another cluster center.\n",
      "Data point 43748 is close to another cluster center.\n",
      "Data point 43754 is close to another cluster center.\n",
      "Data point 43898 is close to another cluster center.\n",
      "Data point 44087 is close to another cluster center.\n",
      "Data point 44446 is close to another cluster center.\n",
      "Data point 46049 is close to another cluster center.\n",
      "Data point 46060 is close to another cluster center.\n",
      "Data point 46301 is close to another cluster center.\n",
      "Data point 46570 is close to another cluster center.\n",
      "Data point 46691 is close to another cluster center.\n",
      "Data point 46958 is close to another cluster center.\n",
      "Data point 47271 is close to another cluster center.\n",
      "Data point 47452 is close to another cluster center.\n",
      "Data point 47738 is close to another cluster center.\n",
      "Data point 48005 is close to another cluster center.\n",
      "Data point 48169 is close to another cluster center.\n",
      "Data point 48975 is close to another cluster center.\n",
      "Data point 49144 is close to another cluster center.\n",
      "Data point 49223 is close to another cluster center.\n",
      "Data point 49566 is close to another cluster center.\n",
      "Data point 49708 is close to another cluster center.\n",
      "Data point 50998 is close to another cluster center.\n",
      "Data point 51978 is close to another cluster center.\n",
      "Data point 52908 is close to another cluster center.\n",
      "Data point 53014 is close to another cluster center.\n",
      "Data point 53184 is close to another cluster center.\n",
      "Data point 53217 is close to another cluster center.\n",
      "Data point 53233 is close to another cluster center.\n",
      "Data point 53317 is close to another cluster center.\n",
      "Data point 53521 is close to another cluster center.\n",
      "Data point 54208 is close to another cluster center.\n",
      "Data point 55988 is close to another cluster center.\n",
      "Data point 56036 is close to another cluster center.\n",
      "Data point 56198 is close to another cluster center.\n",
      "Data point 56225 is close to another cluster center.\n",
      "Data point 56230 is close to another cluster center.\n",
      "Data point 57218 is close to another cluster center.\n",
      "Data point 57242 is close to another cluster center.\n",
      "Data point 57376 is close to another cluster center.\n",
      "Data point 57393 is close to another cluster center.\n",
      "Data point 57625 is close to another cluster center.\n",
      "Data point 57626 is close to another cluster center.\n",
      "Data point 57680 is close to another cluster center.\n",
      "Data point 57795 is close to another cluster center.\n",
      "Data point 57977 is close to another cluster center.\n",
      "Data point 58001 is close to another cluster center.\n",
      "Data point 58075 is close to another cluster center.\n",
      "Data point 58102 is close to another cluster center.\n",
      "Data point 58521 is close to another cluster center.\n",
      "Data point 58921 is close to another cluster center.\n",
      "Data point 58997 is close to another cluster center.\n",
      "Data point 59340 is close to another cluster center.\n",
      "Data point 59569 is close to another cluster center.\n",
      "167\n"
     ]
    }
   ],
   "source": [
    "close_index=[]\n",
    "for idx, row in df_embeddings.iterrows():\n",
    "    distances_to_centers = [np.linalg.norm(center - row.values) for center in kmeans.cluster_centers_]\n",
    "\n",
    "    current_cluster = df['kmeans_cluster'][idx]  # 'clusters'는 군집 라벨들을 저장하는 배열이어야 합니다.\n",
    "\n",
    "    # 현재 데이터 포인트의 클러스터를 제외한 최소 거리 찾기\n",
    "    distances_to_centers[current_cluster] = np.inf\n",
    "    closest_center_distance = np.min(distances_to_centers)\n",
    "\n",
    "    # 필요에 따라 임계값 설정\n",
    "    if closest_center_distance < 0.87:\n",
    "        print(f\"Data point {idx} is close to another cluster center.\")\n",
    "        close_index.append(idx)\n",
    "print(len(close_index))"
   ]
  },
  {
   "cell_type": "code",
   "execution_count": 29,
   "id": "d3188bd5",
   "metadata": {
    "scrolled": true
   },
   "outputs": [
    {
     "data": {
      "text/plain": [
       "747                                                                                                                                                                                                                                                                                                                                                                                                                                                                                                                                                                                                                                                                                                                                                                                                                                                                                                                                                                                                                                         Briefly: Microsoft sets holiday Xbox bundle : roundup Plus: PalmSource settles Digeo patent suit...Maxtor loses its CFO--again...Profits, revenue climb at Rambus.\n",
       "1237                                                                                                                                                                                                                                                                                                                                                                                                                                                                                                                                                                                                                                                                                                                                                                                                                                                                                                                                                                                                                                                                                            So That Happened : //www.huffingtonpost.com/entry/so-that-happened-obama-isis_n_6670820.html short_description\n",
       "2427                                                                                                                                                                                                                                                                                                                                                                                                                                                                                                                                                                                                                                                                                                                                                                                                                                                                                                                                                                                      Seth Meyers Dissects Trump White House's \\u2018Misogyny And Hostility\\u2019 Towards Women authors : This is a White House that has repeatedly chosen the denials of men over the many corroborated stories of women.\n",
       "3001                                                                                                                                                                                                                                                                                                                                                                                                                                                                                                                                                                                                                                                                                                                                                                                                                                                                                                                                                                                        Trump\\u2019s Scorched-Earth Win Turns Even A Boring Post-Election Seminar Nasty authors : A Harvard Institute of Politics discussion devolved into a shouting match over u2018Alt-Rightu2019 u2018Lock Her Upu2019\n",
       "3045                                                                                                                                                                                                                                                                                                                                                                                                                                                                                                                                                                                                                                                                                                                                                                                                                                                                                                                                                                                                        A Middle East Opening : With a hard-fought election behind us, the United States is now free to refocus its energies on the myriad problems that have a direct impact on its security and destiny.\n",
       "3504                                                                                                                                                                                                                                                                                                                                                                                                                                                                                                                                                                                                                                                                                                                                                                                                                                                                                                                                                                                                                              News Roundup for June 20 2017 authors : Itu2019s Tuesday newsday. 1. Sean Spicer is searching for his replacement as press secretary. People donu2019t seem to be interested\n",
       "4524                                                                                                                                                                                                                                                                                                                                                                                                                                                                                                                                                                                                                                                                                                                                                                                                                                                                                                                                                                                                                                                                                              The Demolition Of U.S. Global Power authors : Donald Trumpu2019s road to debacle in the greater Middle East.\n",
       "4814                                                                                                                                                                                                                                                                                                                                                                                                                                                                                                                                                                                                                                                                                                                                                                                                                                                                                                                                                                                                                                                                                Celebrities Politicians Meet Up For 2016 White House Correspondents' Dinner authors : It should be a fun night. ud83cudf89\n",
       "4841                                                                                                                                                                                                                                                                                                                                                                                                                                                                                                                                                                                                                                                                                                                                                                                          Bush, Kerry Don't Worry About Tech : Election Day is less than two weeks away, but so far technology has yet to make more than the occasional cameo appearance on either presidential candidate's priority list. That's not proving to be good news for tech executives. &lt;FONT face=\"verdana,MS Sans Serif,arial,helvetica\" size=\"-2\"\\ color=\"#666666\"&gt;&lt;B&gt;-washingtonpost.com&lt;/B&gt;&lt;/FONT&gt;\n",
       "6908                                                                                                                                                                                                                                                                                                                                                                                                                                                                                                                                                                                                                                                                                                                                                                                                                                                                                                                                                                                                                                              An Antidote To Trumpcare authors : Cross-posted from TomDispatch.com Over the years Ann Jones has confronted some of the most daunting and depressing issues\n",
       "7186                                                                                                                                                                                                                                                                                                                                                                                                                                                                                                                                                                                                                                                                                                                                                                                                                                                                                                                                                                                                                                    Muslims\\u2014Jerusalem Matters authors : The Trump administrationu2019s threats to those who would support the Turkish-Yemeni co-sponsored resolution rebuking the U.S\n",
       "7862                                                                                                                                                                                                                                                                                                                                                                                                                                                                                                                                                                                                                                                                                                                                                                                                                                                                                                                                                                                                                                           Getting To Know The New Improved Stephen Colbert authors : After years hiding behind a blustery persona the Late Show host is reintroducing himself to America.\n",
       "7872                                                                                                                                                                                                                                                                                                                                                                                                                                                                                                                                                                                                                                                                                                                                                                                                                                                                                                                                                                                                                  The Brutalist Guide To 2016's Democratic Contenders (Not Named Hillary Clinton) authors : Over at the Columbia Journalism Review Steven Brill has a story he'd like to see. Specifically\n",
       "8745                                                                                                                                                                                                                                                                                                                                                                                                                                                                                                                                                                                                                                                                                                                                                                                                                                                                                                                                                                                                                                                                                     Let Not The Americans Of Las Vegas Die In Vain Too authors : When will Americans get tired of revisiting this script?\n",
       "9065                                                                                                                                                                                                                                                                                                                                                                                                                                                                                                                                                                                                                                                                                                                                                                                                                                                                                                                                                                                                                                                                              Unsurprisingly Celebrities Were Not Impressed With Donald Trump's Press Conference authors : Welcome to the next four years.\n",
       "10869                                                                                                                                                                                                                                                                                                                                                                                                                                                                                                                                                                                                                                                                                                                                                                                                                                                                                                                                                                                                                                                                                            Watch Larry Wilmore Make Everyone Nervous At The 2016 White House Correspondents' Dinner authors : ud83dude02\n",
       "11494                                                                                                                                                                                                                                                                                                                                                                                                                                                                                                                                                                                                                                                                                                                                                                                                                                                                                                                                                                                                                                                                             Russia's Response To Latest Syria Crisis Is Pure Trump authors : Watch for a Donald Trump statement echoing Moscow in 3 2...\n",
       "11938                                                                                                                                                                                                                                                                                                                                                                                                                                                                                                                                                                                                                                                                                                                                                                                                                                                                                                                                                                                                             Thursday's Morning Email : //www.huffingtonpost.com/entry/thursdays-morning-email-i-believe-you-read-mira-sorvinos-open-letter-to-dylan-farrow_us_5a574973e4b08a1f624bb508 short_description\n",
       "12759                                                                                                                                                                                                                                                                                                                                                                                                                                                                                                                                                                                                                                                                                                                                                                                                                                                                                                                                                                                                                                                                                                           Katy Perry Promises \\u2018The Revolution Is Coming\\u2019 Amid Trump Victory authors : RISE UP.\n",
       "14025                                                                                                                                                                                                                                                                                                                                                                                                                                                                                                                                                                                                                                                                                                                                                                                                                                                                                                                                                                                                                              News Roundup for March 20 2017 authors : Prepare to feel that crushing blow of daily news. 1. FBI director James Comey (sort of) debunked Trumpu2019s claims of wiretapping\n",
       "14043                                                                                                                                                                                                                                                                                                                                                                                                                                                                                                                                                                                                                                                                                                                                                                                                                                                                                                                                                                                                                                                The Strange Story Of The Time Donald Trump Got To Hold An Oscar authors : Whether it was a party foul or not Trump certainly showcased his love for gold.\n",
       "14396                                                                                                                                                                                                                                                                                                                                                                                                                                                                                                                                                                                                                                                                                                                                                                                                                                                                                                                                                                                                                                                                    Destabilizing The Middle East (Yet More) authors : The Saudi regime is playing Donald Trump with potentially disastrous consequences.\n",
       "15475                                                                                                                                                                                                                                                                                                                                                                                                                                                                                                                                                                                                                                                                                                                                                                                                                                                                                                                                             A target for terrorists : An election campaign parades the political divide in the community. Yesterday, amid the extraordinary uncertainty about whether Australians had been taken hostage in Iraq, we saw the glue that unites the two sides of politics.\n",
       "15828                                                                                                                                                                                                                                                                                                                                                                                                                                                                                                                                                                                                                                                                                                                                                                                                                                                                                                                                                                                                                            News Roundup for April 27 2017 authors : Today in Trumpu2019s America... 1. Trump has once again changed his mind and wonu2019t pull the US out of NAFTA. To quote Katy Perry\n",
       "16163                                                                                                                                                                                                                                                                                                                                                                                                                                                                                                                                                                                                                                                                                                                                                                                                                                                                                                                                                                                                                                                                                              'Arrested Development' Narrator Hilariously Fact-Checks Donald Trump authors : We need this commentary IRL.\n",
       "16610                                                                                                                                                                                                                                                                                                                                                                                                                                                                                                                                                                                                                                                                                                                                                                                                                                                                                                                                                                                                                                         News Roundup for July 20 2017 authors : News is for suckers so suck it up. 1. Senator John McCain has been diagnosed with brain cancer. More here. 2. Trump says\n",
       "16744                                                                                                                                                                                                                                                                                                                                                                                                                                                                                                                                                                                                                                                                                                                                                                                                                                                                                                                                                                                                                            News Roundup for August 10 2017 authors : Consume. Obey. Submit. 1. Trump is being sued by active transgender military personnel. Theyu2019re fighting back after Trumpu2019s\n",
       "18703                                                                                                                                                                                                                                                                                                                                                                                                                                                                                                                                                                                                                                                                                                                                                                                                                                                                                                                                                                                                          Why Kushner\\u2019s Middle East Visit Is Set For Failure authors : White House senior adviser and President Donald Trumpu2019s son-in-law Jared Kushner is leading a U.S. delegation on a Middle\n",
       "18966                                                                                                                                                                                                                                                                                                                                                                                                                                                                                                                                                                                                                                                                                                                                                                                                                                                                                                                                                                                                                                                                               Dell's server safari : CEO still eyeing AMD. Also: Server maker unsheathes new blades and a software pact with Microsoft.\\\n",
       "19930                                                                                                                                                                                                                                                                                                                                                                                                                                                                                                                                                                                                                                                                                                                                                                                                                                                                                                                                                                                                                          Monday's Morning Email : //www.huffingtonpost.com/entry/mondays-morning-email-the-biggest-winner-of-the-emmys-was-not-sean-spicer_us_59c0f605e4b0186c22058ada short_description\n",
       "20072                                                                                                                                                                                                                                                                                                                                                                                                                                                                                                                                                                                                                                                                                                                                                                                                                                                                                                                                                                                                                                                Monday's Morning Email : //www.huffingtonpost.com/entry/mondays-morning-email-how-the-grammys-got-political_us_58a19cb2e4b094a129ecd4af short_description\n",
       "21015                                                                                                                                                                                                                                                                                                                                                                                                                                                                                                                                                                                                                                                                                                                                                                                                                                                                                                                                                                                                                                         Civility Strikes Back authors : Style and substance are both yielding to societal norms - at last From the moment Donald Trump down rode that escalator straight\n",
       "21464                                                                                                                                                                                                                                                                                                                                                                                                                                                                                                                                                                                                                                                                                                                                                                                                                                                                                                                                                                                                                                 AT amp;T posts \\$7.1 billion loss : Wired  amp; Wireless continues its reign at the top spot among IT priorities due to widespread IP telephony and wireless deployment.\n",
       "21973                                                                                                                                                                                                                                                                                                                                                                                                                                                                                                                                                                                                                                                                                                                                                                                                                                                                                                                                                                                                                           News Roundup for July 10 2017 authors : u201cThe news is real. The president is fake.u201d 1. Donald Trump Jr. met with a Russian lawyer during the 2016 presidential campaign\n",
       "22206                                                                                                                                                                                                                                                                                                                                                                                                                                                                                                                                                                                                                                                                                                                                                                                                                                                                                                                                                                                                                                                   Monday's Morning Email : //www.huffingtonpost.com/entry/mondays-morning-email-whats-next-for-us-on-syria_us_58eb69d7e4b058f0a0307de3 short_description\n",
       "22446                                                                                                                                                                                                                                                                                                                                                                                                                                                                                                                                                                                                                                                                                                                                                                                          IBM beats estimates, a positive sign for industry (USATODAY.com) : USATODAY.com - IBM and the rest of the tech industry might have a better year than most onlookers expected. IBM's third-quarter earnings rose 15 from a year earlier, to  #36;1.17 a share, excluding a one-time  #36;320 million charge to settle a lawsuit over its pension plan. That beat analysts' average estimate by 3 cents a share.\n",
       "22471    Sunday Roundup authors : This week Donald Trump crossed the delegate threshold he needs to secure the Republican nomination. And the nation crossed the danger threshold of electing the most unstable unready and extreme president in U.S. history. But not to worry says Paul Manafort. In an interview with HuffPost's Howard Fineman the Trump campaign manager assures us Trump will show America he can fill the chair. And that ban on Muslims? He's already started moderating on that Manafort said. He operates by starting the conversation at the outer edges and then brings it back towards the middle. Within his comfort zone he'll soften it some more. The problem is that softened racism xenophobia and misogyny are no less dangerous. Though the media which has already retreated to horserace coverage won't call Trump out others will. Sheila Foster Anthony sister of the late Vince Foster spoke up about Trump's airing of conspiracy theories about her brother's death. It is beyond contempt she wrote that a politician would use a family tragedy to further his candidacy. But that's where Trump lives. And it should never be a part of America's comfort zone.\n",
       "22779                                                                                                                                                                                                                                                                                                                                                                                                                                                                                                                                                                                                                                                                                                                                                                                                                                                                                                                                                                                                                                                          Samantha Bee On Trump's First 100 Days : //www.huffingtonpost.com/entry/samantha-bee-donald-trump_us_59050d78e4b0bb2d086ef584 short_description\n",
       "23414                                                                                                                                                                                                                                                                                                                                                                                                                                                                                                                                                                                                                                                                                                                                                                                                                                                                                                                                                                                                                          News Roundup for August 4 2017 authors : Hereu2019s some depressing news as you head into the weekend. 1. Trumpu2019s private phone calls with Mexicou2019s President Nieto and\n",
       "23566                                                                                                                                                                                                                                                                                                                                                                                                                                                                                                                                                                                                                                                                                                                                                                                                        Four Firms Buy Intelsat : Intelsat Ltd., the pioneering commercial satellite company that connected the world through global television and telephone communications, announced Monday its sale to a group of private investors for \\$3 billion in cash. &lt;FONT face=\"verdana,MS Sans Serif,arial,helvetica\" size=\"-2\"\\ color=\"#666666\"&gt;&lt;B&gt;-The Washington Post&lt;/B&gt;&lt;/FONT&gt;\n",
       "23750                                                                                                                                                                                                                   Sunday Roundup authors : This week the Oscar race heated up with Birdman and Grand Budapest Hotel leading the way with nine nominations each. In much more serious news the planet itself continues to heat up with NASA and the National Oceanic and Atmospheric Administration announcing that 2014 was the hottest year in the 135 years since record-keeping began. What's more the next 10 hottest years have all been since 1998. The record 2014 temperatures underscore the undeniable fact that we are witnessing before our eyes the effects of human-caused climate change said climate scientist Michael Mann. Of course we've seen this movie before -- with alarming warnings about our steadily warming world repeatedly met with inaction. It's like Groundhog Day only without the laughs. Unless we rewrite the script and push our leaders to adopt the long-term thinking that this challenge requires we'll soon be facing a [SPOILER ALERT] very unhappy ending.\n",
       "24016                                                                                                                                                                                                                                                                                                                                                                                                                                                                                                                                                                                                                                                                                                                                                                                                                                                                                                                                                                                                                              News Roundup for June 16 2017 authors : Rejoice! The work week is over. 1. Trump plans to roll back Obamau2019s reforms on U.S.-Cuba relations. Say goodbye to any progress\n",
       "24221                                                                                                                                                                                                                                                                                                                                                                                                                                                                                                                                                                                                                                                                                                                                                                                                                                                                                                                                                                                                                                         Celebrities Speak Out Against White Supremacist Violence In Charlottesville authors : Hell of a day for the President to forget how to tweet J.K. Rowling wrote.\n",
       "25116                                                                                                                                                                                                                                                                                                                                                                                                                                                                                                                                                                                                                                                                                                                                                                                                                                                                                                                                                                                                                                                                                                          Nightmare-Inducing Mark Zuckerberg Cutouts Invade U.S. Capitol authors : A herd of Zuckerbergs.\n",
       "25203                                                                                                                                                                                                                                                                                                                                                                                                                                                                                                                                                                                                                                                                                                                                                                                                                                                                                                                                                                                                                              Earnings alert: AT T posts \\$7.1 billion loss : Plus: Lucent's 1st profitable year since 2000...EMC issues sunny report...IBM net income inches higher, despite legal bill.\n",
       "25330                                                                                                                                                                                                                                                                                                                                                                                                                                                                                                                                                                                                                                                                                                                                                                                                                                                                                                                                                                                                                                      News Roundup for May 19 2017 authors : Well at least the news isnu2019t all terrible today. 1. Jared Kushner participated in the Saudi arms deal. Which is just one\n",
       "25447                                                                                                                                                                                                                                                                                                                                                                                                                                                                                                                                                                                                                                                                                                                                                                                                                                                                                                                                                                                                                                             Oh No Mr. Bill! authors : Like what you read below? Sign up for HUFFPOST HILL and get a cheeky dose of political news every evening! Financial entanglements\n",
       "25517                                                                                                                                                                                                                                                                                                                                                                                                                                                                                                                                                                                                                                                                                                                                                                                                                                                                                                                                                                                                                                      Friday's Morning Email : //www.huffingtonpost.com/entry/fridays-morning-email-the-aftermath-of-the-us-strike-on-syria_us_58e76f31e4b058f0a02e1743 short_description\n",
       "26195                                                                                                                                                                                                                                                                                                                                                                                                                                                                                                                                                                                                                                                                                                                                                                                                                                                                                                                                                                                                            Back To The Future On Prisoners Of The War On Terror authors : Cross-posted from TomDispatch.com Karen Greenberg first arrived at TomDispatch in January 2005 in tandem with defense attorney\n",
       "27080                                                                                                                                                                                                                                                                                                                                                                                                                                                                                                                                                                                                                                                                                                                                                                                                                                                                                                                                                                                                                                             Powerful New York Times Ad About #MeToo Set To Air During Golden Globes authors : The simple text-only message makes a potent point about sexual misconduct.\n",
       "27108                                                                                                                                                                                                                                                                                                                                                                                                                                                                                                                                                                                                                                                                                                                                                                                                                                                                                                                                                                                                                                                      Celebrities Call For Compassion After Trump's Missile Strike On Syria authors : The only thing to tweet right now is a prayer for peace and safety.\n",
       "27572                                                                                                                                                                                                                                                                                                                                                                                                                                                                                                                                                                                                                                                                                                                                                                                                                                                                                                                                                                                                Mourning The Sad Trump Truth And How Vegas Snapped Me Out Of It authors : I recently took some time away from writing to justu2026 breathe. A beloved family member is in the process of passing away. So\n",
       "28171                                                                                                                                                                                                                                                                                                                                                                                                                                                                                                                                                                                                                                                                                                                                                                                                                                                                                                      Latest iMac on the way, iPod growth behind forecasts : SAN FRANCISCO (CBS.MW) -- As Apple Computer shares trade near their highest levels in a year, industry analysts are assessing the chances for significant company announcements at the company #39;s European trade show in Paris next week.\n",
       "28674                                                                                                                                                                                                                                                                                                                                                                                                                                                                                                                                                                                                                                                                                                                                                                                                                                                                                                                                                                                                                                                                                               Trump Loved 'Excellent Actress And Fine Person' Meryl Streep In 2015 authors : A lot can happen in a year.\n",
       "30337                                                                                                                                                                                                                                                                                                                                                                                                                                                                                                                                                                                                                                                                                                                                                                                                                                                                                                                                                                                                                                                                                                 8 Ways Of Looking At (And Understanding) Donald Trump authors : Let's consider what lies under the hair.\n",
       "30704                                                                                                                                                                                                                                                                                                                                                                                                                                                                                                                                                                                                                                                                                                                                                                                                                                                                                                                                                                                                     The Night Nerd Prom Went Up Against a Pep Rally in Pennsylvania authors : Like a good number of folks whou2019ve worked in journalism over the years for me Bob Woodward and Carl Bernstein continue\n",
       "31193                                                                                                                                                                                                                                                                                                                                                                                                                                                                                                                                                                                                                                                                                                                                                                                                                                                                                                                                                                                                                                     News Roundup August 16 2017 authors : This is the world we live in. Letu2019s try to make it better. 1. The GOP is distancing itself from Trump. All it took was for\n",
       "31995                                                                                                                                                                                                                                                       Sunday Roundup authors : This week we said goodbye to Mario Cuomo. He was an electrifying speaker -- not just because of his style but because of the rich language the erudition and especially the soul he brought to his speeches. As he demonstrated in his famous speech at the 1984 Democratic National Convention shining a light on what we can do better doesn't have to be disheartening it can also inspire. There is despair Mr. President in the faces that you don't see in the places that you don't visit in your shining city he said addressing Ronald Reagan. You ought to know that this nation is more a 'Tale of Two Cities' than it is just a 'Shining City on a Hill.' We also bid farewell to 2014 which I'll remember as the year that awareness of how mindfulness can enhance well-being reached a tipping point. Here's to a New Year in which our inner resilience and wisdom can help us meet the challenges ahead.\n",
       "32112                                                                                                                                                                                                                                                                                                                                                                                                                                                                                                                                                                                                                                                                                                                                                                                                                                                                                                                                                                                                                        For Conservative Press The Post-Trump Reckoning Can't Come Soon Enough authors : There are elements of the entertainment wing of the Republican Party that need to be dealt with.\n",
       "32944                                                                                                                                                                                                                                                                                                                                                                                                                                                                                                                                                                                                                                                                                                                                                                                                                                                                                                                                                                                                                                  Trump's Surge In Afghanistan authors : The Trump administration is on the brink of making decision on another u2018surgeu201d in Afghanistan. A significant increase in\n",
       "33042                                                                                                                                                                                                                                                                                                                                                                                                                                                                                                                                                                                                                                                                                                                                                                                                                                                                                                                                                                                                                Thursday's Morning Email : //www.huffingtonpost.com/entry/thursdays-morning-email-how-top-nbc-executives-quashed-the-harvey-weinstein-story_us_59df4cdfe4b0eb18af06778c short_description\n",
       "33191                                                                                                                                                                                                                                                                                                                                                                                                                                                                                                                                                                                                                                                                                                                                                                                                                                                                                                                                                                                                                                        News Roundup for August 30 2017 authors : Welcome to the news-dome. 1. The body count from Hurricane Harvey has reached 22 but President Donald Trump has managed\n",
       "34194                                                                                                                                                                                                                                                                                                                                                                                                                                                                                                                                                                                                                                                                                                                                                                                                                                                                                                  IBM Sale Reflects Unease in Personal Computer Sector : quot;Every PC maker has to deal with this, one way or another, quot; International Data Corp. analyst Roger Kay said. The problem is that it #39;s difficult to make money on PCs today, given how cutthroat competition has driven down prices.\n",
       "35723                                                                                                                                                                                                                                                                                                                                                                                                                                                                                                                                                                                                                                                                                                                                                                                                                                                                                                                                                                                                                                                                                                     INTERVIEW : //www.huffingtonpost.com/entry/interview-director-david_b_5970098.html short_description\n",
       "36094                                                                                                                                                                                                                                                                                                                                                                                                                                                                                                                                                                                                                                                                                                                                                                                                                                                                                                                                                                                                                                                                          Elizabeth Warren Reveals Why She Just Had To Attend Donald Trump\\u2019s Inauguration authors : I wanted it burned into my eyes.\n",
       "37219                                                                                                                                                                                                                                                                                                                                                                                                                                                                                                                                                                                                                                                                                                                                                                                                                                                                                                                                                                                                                                                                 Monday's Morning Email : //www.huffingtonpost.com/entry/mondays-morning-email-preet-tweets_us_58c68125e4b054a0ea6ba84f short_description\n",
       "37288                                                                                                                                                                                                                                                                                                                                                                                                                                                                                                                                                                                                                                                                                                                                                                                                                                                                                        Friday Talking Points -- Big and Little Brother authors : We're going to focus on the aftermath and ramifications of what has been happening in Ferguson Missouri for the past few weeks. It even reached international proportions as both Egypt and Russia got in a few digs at American police and protesters.\n",
       "39090                                                                                                                                                                                                                                                                                                                                                                                                                                                                                                                                                                                                                                                                                                                                                                                                                                                                                                                                                                                                                                   News Roundup for August 18 2017 authors : At least itu2019s the weekend soon. 1. Trump continues to fuck up and his own party is turning on him. When do we get to fix\n",
       "40018                                                                                                                                                                                                                                                                                                                                                                                                                                                                                                                                                                                                                                                                                                                                                                                                                                                                                                                                                                                                                                  News Roundup for March 21 2017 authors : Ya news ya lose. 1. Ivanka Trump is getting her own office in the White House. Although she wonu2019t be a government employee\n",
       "40545                                                                                                                                                                                                                                                                                                                                                                                                                                                                                                                                                                                                                                                                                                                                                                                                                                                                                                                                                                                                                                         An IPO Afterglow in Googleland : The most hyped new issue since Netscape chalked up a very tidy gain on its first day of trading. Peace reigns in the Valley ...\n",
       "40758                                                                                                                                                                                                                                                                                                                                                                                                                                                                                                                                                                                                                                                                                                                                                                                                                                                                                                                                          Melania Trump's Meeting With Facebook Twitter To Target Cyberbullying \\u2014 And People Are Beside Themselves authors : On the same dayu00a0President Trumpu00a0announced by tweet that he was replacing Rex Tillerson as secretary of state theu00a0Washington\n",
       "41367                                                                                                                                                                                                             Sunday Roundup authors : This week summer vacation ended for millions of Americans as did the wait for two long-anticipated events. First in Washington the Iran nuclear agreement cleared its biggest hurdle as opponents lost a key procedural vote in the Senate. Maybe former Vice President Dick Cheney whose strong opposition to the deal is among the best arguments for it provided the winning margin. To drive the point home the White House released a cutting video montage of Cheney's wildly wrong assessments of Iraq showing he was wrong then wrong now. Meanwhile The Late Show with Stephen Colbert finally debuted with a literally biting bit about the media's Trump addiction and an interview featuring a suave Jeb Bush and a stilted Colbert (actually switch that). As Colbert said I used to play a narcissistic conservative pundit -- now I'm just a narcissist. But still very very funny. And given his poignant interview with Joe Biden very very human.\n",
       "42493                                                                                                                                                                                                                                                                                                                                                                                                                                                                                                                                                                                                                                                                                                                                                                                                                                                                                                                                                                                                   Friday Talking Points -- Not Funny Anymore authors : It's not funny anymore -- it's getting closer and closer to becoming reality. Donald Trump leader of the Republican Party. Deal with it everyone.\n",
       "43680                                                                                                                                                                                                                                                                                                                                                                                                                                                                                                                                                                                                                                                                                                                                                                                                                                                                                                                                                                                                                                                                                                   Trump Team's Eyebrow-Raising Reason For Not Asking Kanye To Perform At Inauguration authors : Uh what?\n",
       "43898                                                                                                                                                                                                                                                                                                                                                                                                                                                                                                                                                                                                                                                                                                                                                                                                                                                                                                                                                                                                                             Readers Respond To Latest In The Trump-Russia Probe Anthony Scaramucci's Resignation And Health Care authors : See what people are saying about this week's biggest stories.\n",
       "44446                                                                                                                                                                                                                                                                                                                                                                                                                                                                                                                                                                                                                                                                                                                                                                                                                                                                                                                                                                          New Target Price Could Make Google a Bargain : By MICHAEL J. MARTINEZ     NEW YORK (AP) -- The e-mail that popped into my inbox early Wednesday morning was the latest in a string of surprises in Google's long-awaited IPO...\n",
       "45186                                                                                                                                                                                                                                                                                                                                                                                                                                                                                                                                                                                                                                                                                                                                                                                                                                                                                                                                                                                                                   Friday's Morning Email : //www.huffingtonpost.com/entry/fridays-morning-email-inside-the-presidential-charity-roast-that-went-south-fast_us_580a0055e4b000d0b155f93f short_description\n",
       "46060                                                                                                                                                                                                                                                                                                                                                                                                                                                                                                                                                                                                                                                                                                                                                                                                                                                                                                                                                                                                                                                                                                                                      Eight Great Tech Brands Losing Money : //www.huffingtonpost.comhttp\n",
       "46301                                                                                                                                                                                                                                                                                                                                                                                                                                                                                                                                                                                                                                                                     Sunday Roundup authors : This week proved that while the arc of the moral universe may bend towards justice it often takes a very circuitous route. On Wednesday the Supreme Court heard arguments in King v. Burwell the case challenging the Affordable Care Act. At stake is not only the future of Obamacare but also the frayed legitimacy of the Court itself. The unintentional joke of the day was offered by Justice Scalia who apparently without irony suggested Congress would fix Obamacare if the court struck it down\n",
       "46570                                                                                                                                                                                                                                                                                                                                                                                                                              Sunday Roundup authors : This week in the words of President Obama our union became a little more perfect. On Thursday the Supreme Court ruled 6-3 in favor of Obamacare preserving health insurance for at least 8 million people. In dissent Justice Scalia -- whose opinions increasingly read like he's shouting them from the Court's front porch at passersby -- accused the majority of jiggery-pokery. The next day the Court ruled 5-4 to make marriage legal nationwide for same sex couples. As cheers rang out across the country the president hailed the courage of those who slowly made an entire country realize that love is love. But amid the celebration there was also sadness as Rev. Clementa Pinckney was laid to rest in Charleston... Read More.\n",
       "46691                                                                                                                                                                                                                                                                                                                                                                                                                                                                                                                                                                                                                                                                                                                                                                                                                                                                                                                                                                                                                                                    5 Stories You Might've Missed While Following That Bombshell Book On Trump's White House authors : Itu2019s hard to keep up with the news these days.\n",
       "46958                                                                                                                                                                                                                                                                                                                                                                                                                                                                                                                                                                                                                                                                                                                                                                                                                                                                                                                                                                                             Why The Affordable Care Act Hasn\\u2019t Gone Far Enough authors : In this weeku2019s episode of u201cScheer Intelligenceu201d Robert Scheer interviews Dr. Paul Song a radiation oncologist and an outspoken\n",
       "47414                                                                                                                                                                                                                                                                                                                                                                                                                                                                                                                                                                                                                                                                                                                                                                                                                                                                                                                                                                                Mississippi Gov. Reduces Anti-LGBT Bill Criticism To Being Too Focused On A \\u20181980s Rocker\\u2019 authors : Amazing things are happening but we all seem to be fascinated with a 1980s rocker that canceled a concert.\n",
       "48005                                                                                                                                                                                                                                                                                                                                                                                                                                                                                                                                                                                                                                                                                                                                                                                                                                                                                                                                                                                                                                                            Katy Perry's New Single Is A Bleak Look At Pop Culture In The Trump Age authors : u201cSo comfortable we cannot see the trouble trouble.u201d\n",
       "48169                                                                                                                                                                                                                                                                                                                                                                                                                                                                                                                                                                                                                                                                                                                                                                                                                                                                                                                                                                                                                                         News Roundup for May 26 2017 authors : Your daily dose so you can seem more woke than your friends. 1. Jared Kushner is a person of interest in the Russia probe\n",
       "49144                                                                                                                                                                                                                                                                                                                                                                                                                                                                                                                                                                                                                                                                                                                                                                                                                                                                                                                                                                                                                                                This Is Your Brain On Trump authors : Do you ever find yourself wondering what the story is with those thrilled faces behind Donald Trump at his rallies?\n",
       "49183                                                                                                                                                                                                                                                                                                                                                                                                                                                                                                                                                                                                                                                                                                                                                                                                                                                                                                                                                                                                                            News Roundup for June 28 2017 authors : Every day thereu2019s more news. When will it end? 1. Three Chicago police have been indicted in Laquan McDonaldu2019s shooting death\n",
       "49708                                                                                                                                                                                                                                                                                                                                                                                                                                                                                                                                                                                                                                                                                                                                                                                                                                                                                                                                                                                                                                                                                        Donald Trump\\u2019s Weird Video Briefing Becomes Bonkers New Meme authors : Leaning hard into the 1984 vibe here.\n",
       "50008                                                                                                                                                                                                                                                                                                                                                                                                                                                                                                                                                                                                                                                                                                                                                                                                                                                                                                                                                                                                              Congress Should Ask Mike Pompeo About Torture In Yemen authors : A U.S. ally reportedly electrocuted prisoners and packed them into metal containers. Pompeo kept working with that nation.\n",
       "50998                                                                                                                                                                                                                                                                                                                                                                                                                                                                                                                                                                                                                                                                                                                                                                                                                                                                                                                                                                                                          Horrible Airplane Thing Somehow Not Related To Trump authors : Like what you read below? Sign up for HUFFPOST HILL and get a cheeky dose of political news every evening! Weu2019re approaching\n",
       "52246                                                                                                                                                                                                                                                                                                                                                                                                                                                                                                                                                                                                                                                                                                                                                                                                                                                                                                                                                                                                                             Monday's Morning Email : //www.huffingtonpost.com/entry/mondays-morning-email-meryl-streep-takes-aim-at-trump-at-golden-globes_us_587385a6e4b043ad97e46ee0 short_description\n",
       "52916                                                                                                                                                                                                                                                                                                                                                                                                                                                                                                                                                                                                                                                                                                                                                                                                                                                                                                                                                                                             How Online Harassment Is Ruining Careers authors : //www.washingtonpost.com/news/the-intersect/wp/2016/04/11/this-horrifying-and-newly-trendy-online-harassment-tactic-is-ruining-careers/ short_description\n",
       "53014                                                                                                                                                                                                                                                                                                                                                                                                                                                                                                                                                                                                                                                                                                                                                                                                                                                                                                                                                                                                                                     News Roundup for October 4 2017 authors : We got your news right here. 1. The girlfriend of Las Vegas mass shooting suspect Stephen Paddock will talk to the FBI and\n",
       "53233                                                                                                                                                                                                                                                                                                                                                                                                                                                                                                                                                                                                                                                                                                                                                                                                                                                                                                                                                                                                                                       Jimmy Fallon Gives Advice To Hillary Clinton -- Donald Trump-Style authors : The 2016 presidential candi talks women's rights immigration and Trump's famous coif.\n",
       "53796                                                                                                                                                                                                                                                                                                                                                                                                                                                                                                                                                                                                                                                                                                                                                                                      IBM Gives Shanghai a Real Surprise : It's like Big Blue realized everyone's secret dream: lose weight and make money at the same time. But its \\$1.75 billion sale of its PC business to a Chinese company portends big changes for the international technology game board. &lt;FONT face=\"verdana,MS Sans Serif,arial,helvetica\" size=\"-2\" color=\"#666666\"&gt;&lt;B&gt;-washingtonpost.com&lt;/b&gt;&lt;/font&gt;\n",
       "54208                                                                                                                                                                                                                                                                                                                                                                                                                                                                                                                                                                                                                                                                                                                                                                                                                                                                                                                                                                                                                                                                               She's The Best Answer To Donald Trump You Never Heard Of authors : Angry? Worried? Disillusioned? Heather Booth wants you.\n",
       "54572                                                                                                                                                                                                                                                                                                                                                                                                                                                                                                                                                                                                                                                                                                                                                                                                                                                                                                                                                                                                                                                         Our Democracy : //www.huffingtonpost.com/entry/our-democracy-thrown-in-the-deep-end-of-a-high-risk_us_59161c54e4b0bd90f8e6a51a short_description\n",
       "54603                                                                                                                                                                                                                                                                                                                                                                                                                                                                                                                                                                                                                                                                                                                                                                                                                                                                                                                                                                                                                                                                                                  Watch A Little Girl's Heart Break When She Learns Obama Won't Be President Forever authors : We get it.\n",
       "55331                                                                                                                                                                                                                                                                                                                                                                                                                                                                                                                                                                                                                                                                                                                                                                                                                                                                                                                                                                                                                                     News Roundup For April 19 2017 authors : What is happening to this world? 1. Jon Ossoff fell short of straight up winning a Georgia congressional seat yesterday but\n",
       "56182                                                                                                                                                                                                                                                                                                                                                                                                                                                                                                                                                                                                                                                                                                                                                                                                                                                                                                                                                                                                                                                            What's Google Minus \\$10 Billion? : Google drops its price and shares offered. Its magic: turning the hottest IPO in history into a disaster.\n",
       "57218                                                                                                                                                                                                                                                                                                                                                                                                                                                                                                                                                                                                                                                                                                                                                                                                                                                                                                                                                                                                                             News Roundup for July 31 2017 authors : Happy Monday fam. 1. The majority of Americans would describe the Trump presidency asu00a0u201cchaosu201d. The majority of Americans\n",
       "57242                                                                                                                                                                                                                                                                                                                                                                                                                                                                                                                                                                                                                                                                                                                                                                                                                                                                                                Sunday Roundup authors : LONDON -- This week began with the continuing fallout from the killing spree at UCSB. Richard Martinez whose son was among the victims blamed craven irresponsible politicians and the NRA. Echoing that outrage and the senselessness that lets it continue the Onion nailed it\n",
       "57409                                                                                                                                                                                                                                                                                                                                                                                                                                                                                                                                                                                                                                                                                                                                                                                                                                                                                                                                                                              These Women In Jail Have A Strong (But Inspiring) Message For Donald Trump authors : Donald Trump has been on a monthu2019s long thank you tour across the United States. Over the past several weeks Iu2019m sure heu2019s\n",
       "58075                                                                                                                                                                                                                                                                                                                                                                                                                                                                                                                                                                                                                                                                                                                                                                                                                                                                                                                                                                                                                                             Readers Respond To Trump's 'Fire And Fury' Remark Climate Change Report And More authors : See what people are saying about this weeku2019s biggest stories.\n",
       "58967                                                                                                                                                                                                                                                                                                                                                                                                                                                                                                                                                                                                                                                                                                                                                                                                                                                                                                                                                                                                                                    News Roundup for July 19 2017 authors : Thereu2019s just so much going on all the time. Ugh. 1. A new huge abuse allegation has been made against the Catholic church\n",
       "Name: text, dtype: object"
      ]
     },
     "execution_count": 29,
     "metadata": {},
     "output_type": "execute_result"
    }
   ],
   "source": [
    "pd.set_option('display.max_rows', None)\n",
    "df.iloc[close_index]['text']"
   ]
  },
  {
   "cell_type": "code",
   "execution_count": 104,
   "id": "8dc2c3b6",
   "metadata": {},
   "outputs": [
    {
     "data": {
      "text/plain": [
       "Series([], Name: mapping, dtype: int64)"
      ]
     },
     "execution_count": 104,
     "metadata": {},
     "output_type": "execute_result"
    }
   ],
   "source": [
    "df.iloc[close_index]['mapping']"
   ]
  },
  {
   "cell_type": "code",
   "execution_count": 37,
   "id": "73f9e0fe",
   "metadata": {},
   "outputs": [
    {
     "data": {
      "text/plain": [
       "60000"
      ]
     },
     "execution_count": 37,
     "metadata": {},
     "output_type": "execute_result"
    }
   ],
   "source": [
    "len(df)"
   ]
  },
  {
   "cell_type": "code",
   "execution_count": 46,
   "id": "0197faf7",
   "metadata": {},
   "outputs": [
    {
     "name": "stderr",
     "output_type": "stream",
     "text": [
      "/tmp/ipykernel_1062539/1057723166.py:1: SettingWithCopyWarning: \n",
      "A value is trying to be set on a copy of a slice from a DataFrame\n",
      "\n",
      "See the caveats in the documentation: https://pandas.pydata.org/pandas-docs/stable/user_guide/indexing.html#returning-a-view-versus-a-copy\n",
      "  sample['category'].iloc[9065]=2\n",
      "/tmp/ipykernel_1062539/1057723166.py:2: SettingWithCopyWarning: \n",
      "A value is trying to be set on a copy of a slice from a DataFrame\n",
      "\n",
      "See the caveats in the documentation: https://pandas.pydata.org/pandas-docs/stable/user_guide/indexing.html#returning-a-view-versus-a-copy\n",
      "  sample['category'].iloc[27572]=1\n",
      "/tmp/ipykernel_1062539/1057723166.py:3: SettingWithCopyWarning: \n",
      "A value is trying to be set on a copy of a slice from a DataFrame\n",
      "\n",
      "See the caveats in the documentation: https://pandas.pydata.org/pandas-docs/stable/user_guide/indexing.html#returning-a-view-versus-a-copy\n",
      "  sample['category'].iloc[46060]=0\n",
      "/tmp/ipykernel_1062539/1057723166.py:4: SettingWithCopyWarning: \n",
      "A value is trying to be set on a copy of a slice from a DataFrame\n",
      "\n",
      "See the caveats in the documentation: https://pandas.pydata.org/pandas-docs/stable/user_guide/indexing.html#returning-a-view-versus-a-copy\n",
      "  sample['category'].iloc[747]=4\n",
      "/tmp/ipykernel_1062539/1057723166.py:5: SettingWithCopyWarning: \n",
      "A value is trying to be set on a copy of a slice from a DataFrame\n",
      "\n",
      "See the caveats in the documentation: https://pandas.pydata.org/pandas-docs/stable/user_guide/indexing.html#returning-a-view-versus-a-copy\n",
      "  sample['category'].iloc[1237]=2\n",
      "/tmp/ipykernel_1062539/1057723166.py:6: SettingWithCopyWarning: \n",
      "A value is trying to be set on a copy of a slice from a DataFrame\n",
      "\n",
      "See the caveats in the documentation: https://pandas.pydata.org/pandas-docs/stable/user_guide/indexing.html#returning-a-view-versus-a-copy\n",
      "  sample['category'].iloc[3045]=2\n",
      "/tmp/ipykernel_1062539/1057723166.py:7: SettingWithCopyWarning: \n",
      "A value is trying to be set on a copy of a slice from a DataFrame\n",
      "\n",
      "See the caveats in the documentation: https://pandas.pydata.org/pandas-docs/stable/user_guide/indexing.html#returning-a-view-versus-a-copy\n",
      "  sample['category'].iloc[4841]=2\n",
      "/tmp/ipykernel_1062539/1057723166.py:8: SettingWithCopyWarning: \n",
      "A value is trying to be set on a copy of a slice from a DataFrame\n",
      "\n",
      "See the caveats in the documentation: https://pandas.pydata.org/pandas-docs/stable/user_guide/indexing.html#returning-a-view-versus-a-copy\n",
      "  sample['category'].iloc[7862]=1\n",
      "/tmp/ipykernel_1062539/1057723166.py:9: SettingWithCopyWarning: \n",
      "A value is trying to be set on a copy of a slice from a DataFrame\n",
      "\n",
      "See the caveats in the documentation: https://pandas.pydata.org/pandas-docs/stable/user_guide/indexing.html#returning-a-view-versus-a-copy\n",
      "  sample['category'].iloc[8745]=5\n",
      "/tmp/ipykernel_1062539/1057723166.py:10: SettingWithCopyWarning: \n",
      "A value is trying to be set on a copy of a slice from a DataFrame\n",
      "\n",
      "See the caveats in the documentation: https://pandas.pydata.org/pandas-docs/stable/user_guide/indexing.html#returning-a-view-versus-a-copy\n",
      "  sample['category'].iloc[9065]=5\n",
      "/tmp/ipykernel_1062539/1057723166.py:11: SettingWithCopyWarning: \n",
      "A value is trying to be set on a copy of a slice from a DataFrame\n",
      "\n",
      "See the caveats in the documentation: https://pandas.pydata.org/pandas-docs/stable/user_guide/indexing.html#returning-a-view-versus-a-copy\n",
      "  sample['category'].iloc[14043]=1\n",
      "/tmp/ipykernel_1062539/1057723166.py:12: SettingWithCopyWarning: \n",
      "A value is trying to be set on a copy of a slice from a DataFrame\n",
      "\n",
      "See the caveats in the documentation: https://pandas.pydata.org/pandas-docs/stable/user_guide/indexing.html#returning-a-view-versus-a-copy\n",
      "  sample['category'].iloc[14396]=2\n",
      "/tmp/ipykernel_1062539/1057723166.py:13: SettingWithCopyWarning: \n",
      "A value is trying to be set on a copy of a slice from a DataFrame\n",
      "\n",
      "See the caveats in the documentation: https://pandas.pydata.org/pandas-docs/stable/user_guide/indexing.html#returning-a-view-versus-a-copy\n",
      "  sample['category'].iloc[15475]=5\n",
      "/tmp/ipykernel_1062539/1057723166.py:14: SettingWithCopyWarning: \n",
      "A value is trying to be set on a copy of a slice from a DataFrame\n",
      "\n",
      "See the caveats in the documentation: https://pandas.pydata.org/pandas-docs/stable/user_guide/indexing.html#returning-a-view-versus-a-copy\n",
      "  sample['category'].iloc[16163]=1\n",
      "/tmp/ipykernel_1062539/1057723166.py:15: SettingWithCopyWarning: \n",
      "A value is trying to be set on a copy of a slice from a DataFrame\n",
      "\n",
      "See the caveats in the documentation: https://pandas.pydata.org/pandas-docs/stable/user_guide/indexing.html#returning-a-view-versus-a-copy\n",
      "  sample['category'].iloc[18966]=4\n",
      "/tmp/ipykernel_1062539/1057723166.py:16: SettingWithCopyWarning: \n",
      "A value is trying to be set on a copy of a slice from a DataFrame\n",
      "\n",
      "See the caveats in the documentation: https://pandas.pydata.org/pandas-docs/stable/user_guide/indexing.html#returning-a-view-versus-a-copy\n",
      "  sample['category'].iloc[19930]=1\n",
      "/tmp/ipykernel_1062539/1057723166.py:17: SettingWithCopyWarning: \n",
      "A value is trying to be set on a copy of a slice from a DataFrame\n",
      "\n",
      "See the caveats in the documentation: https://pandas.pydata.org/pandas-docs/stable/user_guide/indexing.html#returning-a-view-versus-a-copy\n",
      "  sample['category'].iloc[20072]=1\n",
      "/tmp/ipykernel_1062539/1057723166.py:18: SettingWithCopyWarning: \n",
      "A value is trying to be set on a copy of a slice from a DataFrame\n",
      "\n",
      "See the caveats in the documentation: https://pandas.pydata.org/pandas-docs/stable/user_guide/indexing.html#returning-a-view-versus-a-copy\n",
      "  sample['category'].iloc[21464]=4\n",
      "/tmp/ipykernel_1062539/1057723166.py:19: SettingWithCopyWarning: \n",
      "A value is trying to be set on a copy of a slice from a DataFrame\n",
      "\n",
      "See the caveats in the documentation: https://pandas.pydata.org/pandas-docs/stable/user_guide/indexing.html#returning-a-view-versus-a-copy\n",
      "  sample['category'].iloc[22446]=0\n",
      "/tmp/ipykernel_1062539/1057723166.py:20: SettingWithCopyWarning: \n",
      "A value is trying to be set on a copy of a slice from a DataFrame\n",
      "\n",
      "See the caveats in the documentation: https://pandas.pydata.org/pandas-docs/stable/user_guide/indexing.html#returning-a-view-versus-a-copy\n",
      "  sample['category'].iloc[23566]=0\n",
      "/tmp/ipykernel_1062539/1057723166.py:21: SettingWithCopyWarning: \n",
      "A value is trying to be set on a copy of a slice from a DataFrame\n",
      "\n",
      "See the caveats in the documentation: https://pandas.pydata.org/pandas-docs/stable/user_guide/indexing.html#returning-a-view-versus-a-copy\n",
      "  sample['category'].iloc[23750]=1\n",
      "/tmp/ipykernel_1062539/1057723166.py:22: SettingWithCopyWarning: \n",
      "A value is trying to be set on a copy of a slice from a DataFrame\n",
      "\n",
      "See the caveats in the documentation: https://pandas.pydata.org/pandas-docs/stable/user_guide/indexing.html#returning-a-view-versus-a-copy\n",
      "  sample['category'].iloc[24221]=1\n",
      "/tmp/ipykernel_1062539/1057723166.py:23: SettingWithCopyWarning: \n",
      "A value is trying to be set on a copy of a slice from a DataFrame\n",
      "\n",
      "See the caveats in the documentation: https://pandas.pydata.org/pandas-docs/stable/user_guide/indexing.html#returning-a-view-versus-a-copy\n",
      "  sample['category'].iloc[25203]=0\n",
      "/tmp/ipykernel_1062539/1057723166.py:24: SettingWithCopyWarning: \n",
      "A value is trying to be set on a copy of a slice from a DataFrame\n",
      "\n",
      "See the caveats in the documentation: https://pandas.pydata.org/pandas-docs/stable/user_guide/indexing.html#returning-a-view-versus-a-copy\n",
      "  sample['category'].iloc[25330]=5\n",
      "/tmp/ipykernel_1062539/1057723166.py:25: SettingWithCopyWarning: \n",
      "A value is trying to be set on a copy of a slice from a DataFrame\n",
      "\n",
      "See the caveats in the documentation: https://pandas.pydata.org/pandas-docs/stable/user_guide/indexing.html#returning-a-view-versus-a-copy\n",
      "  sample['category'].iloc[26195]=5\n",
      "/tmp/ipykernel_1062539/1057723166.py:26: SettingWithCopyWarning: \n",
      "A value is trying to be set on a copy of a slice from a DataFrame\n",
      "\n",
      "See the caveats in the documentation: https://pandas.pydata.org/pandas-docs/stable/user_guide/indexing.html#returning-a-view-versus-a-copy\n",
      "  sample['category'].iloc[27080]=1\n",
      "/tmp/ipykernel_1062539/1057723166.py:27: SettingWithCopyWarning: \n",
      "A value is trying to be set on a copy of a slice from a DataFrame\n",
      "\n",
      "See the caveats in the documentation: https://pandas.pydata.org/pandas-docs/stable/user_guide/indexing.html#returning-a-view-versus-a-copy\n",
      "  sample['category'].iloc[27572]=1\n",
      "/tmp/ipykernel_1062539/1057723166.py:28: SettingWithCopyWarning: \n",
      "A value is trying to be set on a copy of a slice from a DataFrame\n",
      "\n",
      "See the caveats in the documentation: https://pandas.pydata.org/pandas-docs/stable/user_guide/indexing.html#returning-a-view-versus-a-copy\n",
      "  sample['category'].iloc[28171]=0\n"
     ]
    }
   ],
   "source": [
    "sample['category'].iloc[9065]=2\n",
    "sample['category'].iloc[27572]=1\n",
    "sample['category'].iloc[46060]=0\n",
    "sample['category'].iloc[747]=4\n",
    "sample['category'].iloc[1237]=2\n",
    "sample['category'].iloc[3045]=2\n",
    "sample['category'].iloc[4841]=2\n",
    "sample['category'].iloc[7862]=1\n",
    "sample['category'].iloc[8745]=5\n",
    "sample['category'].iloc[9065]=5\n",
    "sample['category'].iloc[14043]=1\n",
    "sample['category'].iloc[14396]=2\n",
    "sample['category'].iloc[15475]=5\n",
    "sample['category'].iloc[16163]=1\n",
    "sample['category'].iloc[18966]=4\n",
    "sample['category'].iloc[19930]=1\n",
    "sample['category'].iloc[20072]=1\n",
    "sample['category'].iloc[21464]=4\n",
    "sample['category'].iloc[22446]=0\n",
    "sample['category'].iloc[23566]=0\n",
    "sample['category'].iloc[23750]=1\n",
    "sample['category'].iloc[24221]=1\n",
    "sample['category'].iloc[25203]=0\n",
    "sample['category'].iloc[25330]=5\n",
    "sample['category'].iloc[26195]=5\n",
    "sample['category'].iloc[27080]=1\n",
    "sample['category'].iloc[27572]=1\n",
    "sample['category'].iloc[28171]=0"
   ]
  },
  {
   "cell_type": "code",
   "execution_count": 105,
   "id": "ab3767f2",
   "metadata": {},
   "outputs": [
    {
     "name": "stderr",
     "output_type": "stream",
     "text": [
      "/tmp/ipykernel_1065009/3064169943.py:1: SettingWithCopyWarning: \n",
      "A value is trying to be set on a copy of a slice from a DataFrame\n",
      "\n",
      "See the caveats in the documentation: https://pandas.pydata.org/pandas-docs/stable/user_guide/indexing.html#returning-a-view-versus-a-copy\n",
      "  sample['category'].iloc[9065]=2\n",
      "/tmp/ipykernel_1065009/3064169943.py:2: SettingWithCopyWarning: \n",
      "A value is trying to be set on a copy of a slice from a DataFrame\n",
      "\n",
      "See the caveats in the documentation: https://pandas.pydata.org/pandas-docs/stable/user_guide/indexing.html#returning-a-view-versus-a-copy\n",
      "  sample['category'].iloc[27572]=1\n",
      "/tmp/ipykernel_1065009/3064169943.py:3: SettingWithCopyWarning: \n",
      "A value is trying to be set on a copy of a slice from a DataFrame\n",
      "\n",
      "See the caveats in the documentation: https://pandas.pydata.org/pandas-docs/stable/user_guide/indexing.html#returning-a-view-versus-a-copy\n",
      "  sample['category'].iloc[46060]=0\n"
     ]
    }
   ],
   "source": [
    "sample['category'].iloc[9065]=2\n",
    "sample['category'].iloc[27572]=1\n",
    "sample['category'].iloc[46060]=0"
   ]
  },
  {
   "cell_type": "code",
   "execution_count": 106,
   "id": "acfc55c8",
   "metadata": {},
   "outputs": [
    {
     "name": "stdout",
     "output_type": "stream",
     "text": [
      "2\n",
      "1\n",
      "0\n"
     ]
    }
   ],
   "source": [
    "print(sample['category'].iloc[9065])\n",
    "print(sample['category'].iloc[27572])\n",
    "print(sample['category'].iloc[46060])"
   ]
  },
  {
   "cell_type": "code",
   "execution_count": 107,
   "id": "c8f16ac5",
   "metadata": {},
   "outputs": [],
   "source": [
    "sample.to_csv('change6_v2_submit6.csv', index=False)"
   ]
  },
  {
   "cell_type": "code",
   "execution_count": 37,
   "id": "1674e575",
   "metadata": {},
   "outputs": [],
   "source": [
    "final = pd.read_csv('/project/datacamp/team16/t16user1/baseline_submit.csv')"
   ]
  },
  {
   "cell_type": "code",
   "execution_count": 99,
   "id": "04304789",
   "metadata": {},
   "outputs": [
    {
     "data": {
      "text/html": [
       "<div>\n",
       "<style scoped>\n",
       "    .dataframe tbody tr th:only-of-type {\n",
       "        vertical-align: middle;\n",
       "    }\n",
       "\n",
       "    .dataframe tbody tr th {\n",
       "        vertical-align: top;\n",
       "    }\n",
       "\n",
       "    .dataframe thead th {\n",
       "        text-align: right;\n",
       "    }\n",
       "</style>\n",
       "<table border=\"1\" class=\"dataframe\">\n",
       "  <thead>\n",
       "    <tr style=\"text-align: right;\">\n",
       "      <th></th>\n",
       "      <th>id</th>\n",
       "      <th>category</th>\n",
       "    </tr>\n",
       "  </thead>\n",
       "  <tbody>\n",
       "    <tr>\n",
       "      <th>0</th>\n",
       "      <td>NEWS_00000</td>\n",
       "      <td>3</td>\n",
       "    </tr>\n",
       "    <tr>\n",
       "      <th>1</th>\n",
       "      <td>NEWS_00001</td>\n",
       "      <td>5</td>\n",
       "    </tr>\n",
       "    <tr>\n",
       "      <th>2</th>\n",
       "      <td>NEWS_00002</td>\n",
       "      <td>1</td>\n",
       "    </tr>\n",
       "    <tr>\n",
       "      <th>3</th>\n",
       "      <td>NEWS_00003</td>\n",
       "      <td>4</td>\n",
       "    </tr>\n",
       "    <tr>\n",
       "      <th>4</th>\n",
       "      <td>NEWS_00004</td>\n",
       "      <td>4</td>\n",
       "    </tr>\n",
       "    <tr>\n",
       "      <th>...</th>\n",
       "      <td>...</td>\n",
       "      <td>...</td>\n",
       "    </tr>\n",
       "    <tr>\n",
       "      <th>59995</th>\n",
       "      <td>NEWS_59995</td>\n",
       "      <td>3</td>\n",
       "    </tr>\n",
       "    <tr>\n",
       "      <th>59996</th>\n",
       "      <td>NEWS_59996</td>\n",
       "      <td>0</td>\n",
       "    </tr>\n",
       "    <tr>\n",
       "      <th>59997</th>\n",
       "      <td>NEWS_59997</td>\n",
       "      <td>3</td>\n",
       "    </tr>\n",
       "    <tr>\n",
       "      <th>59998</th>\n",
       "      <td>NEWS_59998</td>\n",
       "      <td>0</td>\n",
       "    </tr>\n",
       "    <tr>\n",
       "      <th>59999</th>\n",
       "      <td>NEWS_59999</td>\n",
       "      <td>5</td>\n",
       "    </tr>\n",
       "  </tbody>\n",
       "</table>\n",
       "<p>60000 rows × 2 columns</p>\n",
       "</div>"
      ],
      "text/plain": [
       "               id  category\n",
       "0      NEWS_00000         3\n",
       "1      NEWS_00001         5\n",
       "2      NEWS_00002         1\n",
       "3      NEWS_00003         4\n",
       "4      NEWS_00004         4\n",
       "...           ...       ...\n",
       "59995  NEWS_59995         3\n",
       "59996  NEWS_59996         0\n",
       "59997  NEWS_59997         3\n",
       "59998  NEWS_59998         0\n",
       "59999  NEWS_59999         5\n",
       "\n",
       "[60000 rows x 2 columns]"
      ]
     },
     "execution_count": 99,
     "metadata": {},
     "output_type": "execute_result"
    }
   ],
   "source": [
    "final"
   ]
  }
 ],
 "metadata": {
  "kernelspec": {
   "display_name": "Python 3 (ipykernel)",
   "language": "python",
   "name": "python3"
  },
  "language_info": {
   "codemirror_mode": {
    "name": "ipython",
    "version": 3
   },
   "file_extension": ".py",
   "mimetype": "text/x-python",
   "name": "python",
   "nbconvert_exporter": "python",
   "pygments_lexer": "ipython3",
   "version": "3.9.7"
  },
  "toc": {
   "base_numbering": 1,
   "nav_menu": {},
   "number_sections": true,
   "sideBar": true,
   "skip_h1_title": false,
   "title_cell": "Table of Contents",
   "title_sidebar": "Contents",
   "toc_cell": false,
   "toc_position": {},
   "toc_section_display": true,
   "toc_window_display": false
  },
  "varInspector": {
   "cols": {
    "lenName": 16,
    "lenType": 16,
    "lenVar": 40
   },
   "kernels_config": {
    "python": {
     "delete_cmd_postfix": "",
     "delete_cmd_prefix": "del ",
     "library": "var_list.py",
     "varRefreshCmd": "print(var_dic_list())"
    },
    "r": {
     "delete_cmd_postfix": ") ",
     "delete_cmd_prefix": "rm(",
     "library": "var_list.r",
     "varRefreshCmd": "cat(var_dic_list()) "
    }
   },
   "types_to_exclude": [
    "module",
    "function",
    "builtin_function_or_method",
    "instance",
    "_Feature"
   ],
   "window_display": false
  }
 },
 "nbformat": 4,
 "nbformat_minor": 5
}
