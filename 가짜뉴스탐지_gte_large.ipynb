{
  "cells": [
    {
      "cell_type": "markdown",
      "id": "2cc03c1e",
      "metadata": {
        "id": "2cc03c1e"
      },
      "source": [
        "### 가짜 뉴스 탐지기"
      ]
    },
    {
      "cell_type": "code",
      "source": [
        "pip install simpletransformers"
      ],
      "metadata": {
        "colab": {
          "base_uri": "https://localhost:8080/"
        },
        "id": "zskDoVWHX2qK",
        "outputId": "c073d726-b644-40ff-b566-76b08fc80f44"
      },
      "id": "zskDoVWHX2qK",
      "execution_count": 23,
      "outputs": [
        {
          "output_type": "stream",
          "name": "stdout",
          "text": [
            "Collecting simpletransformers\n",
            "  Downloading simpletransformers-0.64.3-py3-none-any.whl (250 kB)\n",
            "\u001b[2K     \u001b[90m━━━━━━━━━━━━━━━━━━━━━━━━━━━━━━━━━━━━━━━━\u001b[0m \u001b[32m250.8/250.8 kB\u001b[0m \u001b[31m5.2 MB/s\u001b[0m eta \u001b[36m0:00:00\u001b[0m\n",
            "\u001b[?25hRequirement already satisfied: numpy in /usr/local/lib/python3.10/dist-packages (from simpletransformers) (1.23.5)\n",
            "Requirement already satisfied: requests in /usr/local/lib/python3.10/dist-packages (from simpletransformers) (2.31.0)\n",
            "Requirement already satisfied: tqdm>=4.47.0 in /usr/local/lib/python3.10/dist-packages (from simpletransformers) (4.66.1)\n",
            "Requirement already satisfied: regex in /usr/local/lib/python3.10/dist-packages (from simpletransformers) (2023.6.3)\n",
            "Collecting transformers>=4.31.0 (from simpletransformers)\n",
            "  Downloading transformers-4.35.0-py3-none-any.whl (7.9 MB)\n",
            "\u001b[2K     \u001b[90m━━━━━━━━━━━━━━━━━━━━━━━━━━━━━━━━━━━━━━━━\u001b[0m \u001b[32m7.9/7.9 MB\u001b[0m \u001b[31m41.7 MB/s\u001b[0m eta \u001b[36m0:00:00\u001b[0m\n",
            "\u001b[?25hCollecting datasets (from simpletransformers)\n",
            "  Downloading datasets-2.14.6-py3-none-any.whl (493 kB)\n",
            "\u001b[2K     \u001b[90m━━━━━━━━━━━━━━━━━━━━━━━━━━━━━━━━━━━━━━━━\u001b[0m \u001b[32m493.7/493.7 kB\u001b[0m \u001b[31m46.7 MB/s\u001b[0m eta \u001b[36m0:00:00\u001b[0m\n",
            "\u001b[?25hRequirement already satisfied: scipy in /usr/local/lib/python3.10/dist-packages (from simpletransformers) (1.11.3)\n",
            "Requirement already satisfied: scikit-learn in /usr/local/lib/python3.10/dist-packages (from simpletransformers) (1.2.2)\n",
            "Collecting seqeval (from simpletransformers)\n",
            "  Downloading seqeval-1.2.2.tar.gz (43 kB)\n",
            "\u001b[2K     \u001b[90m━━━━━━━━━━━━━━━━━━━━━━━━━━━━━━━━━━━━━━━━\u001b[0m \u001b[32m43.6/43.6 kB\u001b[0m \u001b[31m6.4 MB/s\u001b[0m eta \u001b[36m0:00:00\u001b[0m\n",
            "\u001b[?25h  Preparing metadata (setup.py) ... \u001b[?25l\u001b[?25hdone\n",
            "Requirement already satisfied: tensorboard in /usr/local/lib/python3.10/dist-packages (from simpletransformers) (2.14.1)\n",
            "Requirement already satisfied: pandas in /usr/local/lib/python3.10/dist-packages (from simpletransformers) (1.5.3)\n",
            "Collecting tokenizers (from simpletransformers)\n",
            "  Downloading tokenizers-0.14.1-cp310-cp310-manylinux_2_17_x86_64.manylinux2014_x86_64.whl (3.8 MB)\n",
            "\u001b[2K     \u001b[90m━━━━━━━━━━━━━━━━━━━━━━━━━━━━━━━━━━━━━━━━\u001b[0m \u001b[32m3.8/3.8 MB\u001b[0m \u001b[31m101.5 MB/s\u001b[0m eta \u001b[36m0:00:00\u001b[0m\n",
            "\u001b[?25hCollecting wandb>=0.10.32 (from simpletransformers)\n",
            "  Downloading wandb-0.16.0-py3-none-any.whl (2.1 MB)\n",
            "\u001b[2K     \u001b[90m━━━━━━━━━━━━━━━━━━━━━━━━━━━━━━━━━━━━━━━━\u001b[0m \u001b[32m2.1/2.1 MB\u001b[0m \u001b[31m96.7 MB/s\u001b[0m eta \u001b[36m0:00:00\u001b[0m\n",
            "\u001b[?25hCollecting streamlit (from simpletransformers)\n",
            "  Downloading streamlit-1.28.1-py2.py3-none-any.whl (8.4 MB)\n",
            "\u001b[2K     \u001b[90m━━━━━━━━━━━━━━━━━━━━━━━━━━━━━━━━━━━━━━━━\u001b[0m \u001b[32m8.4/8.4 MB\u001b[0m \u001b[31m117.0 MB/s\u001b[0m eta \u001b[36m0:00:00\u001b[0m\n",
            "\u001b[?25hCollecting sentencepiece (from simpletransformers)\n",
            "  Downloading sentencepiece-0.1.99-cp310-cp310-manylinux_2_17_x86_64.manylinux2014_x86_64.whl (1.3 MB)\n",
            "\u001b[2K     \u001b[90m━━━━━━━━━━━━━━━━━━━━━━━━━━━━━━━━━━━━━━━━\u001b[0m \u001b[32m1.3/1.3 MB\u001b[0m \u001b[31m79.3 MB/s\u001b[0m eta \u001b[36m0:00:00\u001b[0m\n",
            "\u001b[?25hRequirement already satisfied: filelock in /usr/local/lib/python3.10/dist-packages (from transformers>=4.31.0->simpletransformers) (3.13.1)\n",
            "Collecting huggingface-hub<1.0,>=0.16.4 (from transformers>=4.31.0->simpletransformers)\n",
            "  Downloading huggingface_hub-0.18.0-py3-none-any.whl (301 kB)\n",
            "\u001b[2K     \u001b[90m━━━━━━━━━━━━━━━━━━━━━━━━━━━━━━━━━━━━━━━━\u001b[0m \u001b[32m302.0/302.0 kB\u001b[0m \u001b[31m37.8 MB/s\u001b[0m eta \u001b[36m0:00:00\u001b[0m\n",
            "\u001b[?25hRequirement already satisfied: packaging>=20.0 in /usr/local/lib/python3.10/dist-packages (from transformers>=4.31.0->simpletransformers) (23.2)\n",
            "Requirement already satisfied: pyyaml>=5.1 in /usr/local/lib/python3.10/dist-packages (from transformers>=4.31.0->simpletransformers) (6.0.1)\n",
            "Collecting safetensors>=0.3.1 (from transformers>=4.31.0->simpletransformers)\n",
            "  Downloading safetensors-0.4.0-cp310-cp310-manylinux_2_17_x86_64.manylinux2014_x86_64.whl (1.3 MB)\n",
            "\u001b[2K     \u001b[90m━━━━━━━━━━━━━━━━━━━━━━━━━━━━━━━━━━━━━━━━\u001b[0m \u001b[32m1.3/1.3 MB\u001b[0m \u001b[31m91.6 MB/s\u001b[0m eta \u001b[36m0:00:00\u001b[0m\n",
            "\u001b[?25hCollecting huggingface-hub<1.0,>=0.16.4 (from transformers>=4.31.0->simpletransformers)\n",
            "  Downloading huggingface_hub-0.17.3-py3-none-any.whl (295 kB)\n",
            "\u001b[2K     \u001b[90m━━━━━━━━━━━━━━━━━━━━━━━━━━━━━━━━━━━━━━━━\u001b[0m \u001b[32m295.0/295.0 kB\u001b[0m \u001b[31m36.8 MB/s\u001b[0m eta \u001b[36m0:00:00\u001b[0m\n",
            "\u001b[?25hRequirement already satisfied: Click!=8.0.0,>=7.1 in /usr/local/lib/python3.10/dist-packages (from wandb>=0.10.32->simpletransformers) (8.1.7)\n",
            "Collecting GitPython!=3.1.29,>=1.0.0 (from wandb>=0.10.32->simpletransformers)\n",
            "  Downloading GitPython-3.1.40-py3-none-any.whl (190 kB)\n",
            "\u001b[2K     \u001b[90m━━━━━━━━━━━━━━━━━━━━━━━━━━━━━━━━━━━━━━━━\u001b[0m \u001b[32m190.6/190.6 kB\u001b[0m \u001b[31m20.5 MB/s\u001b[0m eta \u001b[36m0:00:00\u001b[0m\n",
            "\u001b[?25hRequirement already satisfied: psutil>=5.0.0 in /usr/local/lib/python3.10/dist-packages (from wandb>=0.10.32->simpletransformers) (5.9.5)\n",
            "Collecting sentry-sdk>=1.0.0 (from wandb>=0.10.32->simpletransformers)\n",
            "  Downloading sentry_sdk-1.34.0-py2.py3-none-any.whl (243 kB)\n",
            "\u001b[2K     \u001b[90m━━━━━━━━━━━━━━━━━━━━━━━━━━━━━━━━━━━━━━━━\u001b[0m \u001b[32m243.9/243.9 kB\u001b[0m \u001b[31m29.8 MB/s\u001b[0m eta \u001b[36m0:00:00\u001b[0m\n",
            "\u001b[?25hCollecting docker-pycreds>=0.4.0 (from wandb>=0.10.32->simpletransformers)\n",
            "  Downloading docker_pycreds-0.4.0-py2.py3-none-any.whl (9.0 kB)\n",
            "Collecting setproctitle (from wandb>=0.10.32->simpletransformers)\n",
            "  Downloading setproctitle-1.3.3-cp310-cp310-manylinux_2_5_x86_64.manylinux1_x86_64.manylinux_2_17_x86_64.manylinux2014_x86_64.whl (30 kB)\n",
            "Requirement already satisfied: setuptools in /usr/local/lib/python3.10/dist-packages (from wandb>=0.10.32->simpletransformers) (67.7.2)\n",
            "Requirement already satisfied: appdirs>=1.4.3 in /usr/local/lib/python3.10/dist-packages (from wandb>=0.10.32->simpletransformers) (1.4.4)\n",
            "Requirement already satisfied: protobuf!=4.21.0,<5,>=3.19.0 in /usr/local/lib/python3.10/dist-packages (from wandb>=0.10.32->simpletransformers) (3.20.3)\n",
            "Requirement already satisfied: charset-normalizer<4,>=2 in /usr/local/lib/python3.10/dist-packages (from requests->simpletransformers) (3.3.2)\n",
            "Requirement already satisfied: idna<4,>=2.5 in /usr/local/lib/python3.10/dist-packages (from requests->simpletransformers) (3.4)\n",
            "Requirement already satisfied: urllib3<3,>=1.21.1 in /usr/local/lib/python3.10/dist-packages (from requests->simpletransformers) (2.0.7)\n",
            "Requirement already satisfied: certifi>=2017.4.17 in /usr/local/lib/python3.10/dist-packages (from requests->simpletransformers) (2023.7.22)\n",
            "Requirement already satisfied: pyarrow>=8.0.0 in /usr/local/lib/python3.10/dist-packages (from datasets->simpletransformers) (9.0.0)\n",
            "Collecting dill<0.3.8,>=0.3.0 (from datasets->simpletransformers)\n",
            "  Downloading dill-0.3.7-py3-none-any.whl (115 kB)\n",
            "\u001b[2K     \u001b[90m━━━━━━━━━━━━━━━━━━━━━━━━━━━━━━━━━━━━━━━━\u001b[0m \u001b[32m115.3/115.3 kB\u001b[0m \u001b[31m17.3 MB/s\u001b[0m eta \u001b[36m0:00:00\u001b[0m\n",
            "\u001b[?25hRequirement already satisfied: xxhash in /usr/local/lib/python3.10/dist-packages (from datasets->simpletransformers) (3.4.1)\n",
            "Collecting multiprocess (from datasets->simpletransformers)\n",
            "  Downloading multiprocess-0.70.15-py310-none-any.whl (134 kB)\n",
            "\u001b[2K     \u001b[90m━━━━━━━━━━━━━━━━━━━━━━━━━━━━━━━━━━━━━━━━\u001b[0m \u001b[32m134.8/134.8 kB\u001b[0m \u001b[31m19.7 MB/s\u001b[0m eta \u001b[36m0:00:00\u001b[0m\n",
            "\u001b[?25hRequirement already satisfied: fsspec[http]<=2023.10.0,>=2023.1.0 in /usr/local/lib/python3.10/dist-packages (from datasets->simpletransformers) (2023.6.0)\n",
            "Requirement already satisfied: aiohttp in /usr/local/lib/python3.10/dist-packages (from datasets->simpletransformers) (3.8.6)\n",
            "Requirement already satisfied: python-dateutil>=2.8.1 in /usr/local/lib/python3.10/dist-packages (from pandas->simpletransformers) (2.8.2)\n",
            "Requirement already satisfied: pytz>=2020.1 in /usr/local/lib/python3.10/dist-packages (from pandas->simpletransformers) (2023.3.post1)\n",
            "Requirement already satisfied: joblib>=1.1.1 in /usr/local/lib/python3.10/dist-packages (from scikit-learn->simpletransformers) (1.3.2)\n",
            "Requirement already satisfied: threadpoolctl>=2.0.0 in /usr/local/lib/python3.10/dist-packages (from scikit-learn->simpletransformers) (3.2.0)\n",
            "Requirement already satisfied: altair<6,>=4.0 in /usr/local/lib/python3.10/dist-packages (from streamlit->simpletransformers) (4.2.2)\n",
            "Requirement already satisfied: blinker<2,>=1.0.0 in /usr/lib/python3/dist-packages (from streamlit->simpletransformers) (1.4)\n",
            "Requirement already satisfied: cachetools<6,>=4.0 in /usr/local/lib/python3.10/dist-packages (from streamlit->simpletransformers) (5.3.2)\n",
            "Requirement already satisfied: importlib-metadata<7,>=1.4 in /usr/local/lib/python3.10/dist-packages (from streamlit->simpletransformers) (6.8.0)\n",
            "Requirement already satisfied: pillow<11,>=7.1.0 in /usr/local/lib/python3.10/dist-packages (from streamlit->simpletransformers) (9.4.0)\n",
            "Requirement already satisfied: rich<14,>=10.14.0 in /usr/local/lib/python3.10/dist-packages (from streamlit->simpletransformers) (13.6.0)\n",
            "Requirement already satisfied: tenacity<9,>=8.1.0 in /usr/local/lib/python3.10/dist-packages (from streamlit->simpletransformers) (8.2.3)\n",
            "Requirement already satisfied: toml<2,>=0.10.1 in /usr/local/lib/python3.10/dist-packages (from streamlit->simpletransformers) (0.10.2)\n",
            "Requirement already satisfied: typing-extensions<5,>=4.3.0 in /usr/local/lib/python3.10/dist-packages (from streamlit->simpletransformers) (4.5.0)\n",
            "Requirement already satisfied: tzlocal<6,>=1.1 in /usr/local/lib/python3.10/dist-packages (from streamlit->simpletransformers) (5.2)\n",
            "Collecting validators<1,>=0.2 (from streamlit->simpletransformers)\n",
            "  Downloading validators-0.22.0-py3-none-any.whl (26 kB)\n",
            "Collecting pydeck<1,>=0.8.0b4 (from streamlit->simpletransformers)\n",
            "  Downloading pydeck-0.8.1b0-py2.py3-none-any.whl (4.8 MB)\n",
            "\u001b[2K     \u001b[90m━━━━━━━━━━━━━━━━━━━━━━━━━━━━━━━━━━━━━━━━\u001b[0m \u001b[32m4.8/4.8 MB\u001b[0m \u001b[31m119.4 MB/s\u001b[0m eta \u001b[36m0:00:00\u001b[0m\n",
            "\u001b[?25hRequirement already satisfied: tornado<7,>=6.0.3 in /usr/local/lib/python3.10/dist-packages (from streamlit->simpletransformers) (6.3.2)\n",
            "Collecting watchdog>=2.1.5 (from streamlit->simpletransformers)\n",
            "  Downloading watchdog-3.0.0-py3-none-manylinux2014_x86_64.whl (82 kB)\n",
            "\u001b[2K     \u001b[90m━━━━━━━━━━━━━━━━━━━━━━━━━━━━━━━━━━━━━━━━\u001b[0m \u001b[32m82.1/82.1 kB\u001b[0m \u001b[31m11.3 MB/s\u001b[0m eta \u001b[36m0:00:00\u001b[0m\n",
            "\u001b[?25hRequirement already satisfied: absl-py>=0.4 in /usr/local/lib/python3.10/dist-packages (from tensorboard->simpletransformers) (1.4.0)\n",
            "Requirement already satisfied: grpcio>=1.48.2 in /usr/local/lib/python3.10/dist-packages (from tensorboard->simpletransformers) (1.59.2)\n",
            "Requirement already satisfied: google-auth<3,>=1.6.3 in /usr/local/lib/python3.10/dist-packages (from tensorboard->simpletransformers) (2.17.3)\n",
            "Requirement already satisfied: google-auth-oauthlib<1.1,>=0.5 in /usr/local/lib/python3.10/dist-packages (from tensorboard->simpletransformers) (1.0.0)\n",
            "Requirement already satisfied: markdown>=2.6.8 in /usr/local/lib/python3.10/dist-packages (from tensorboard->simpletransformers) (3.5.1)\n",
            "Requirement already satisfied: six>1.9 in /usr/local/lib/python3.10/dist-packages (from tensorboard->simpletransformers) (1.16.0)\n",
            "Requirement already satisfied: tensorboard-data-server<0.8.0,>=0.7.0 in /usr/local/lib/python3.10/dist-packages (from tensorboard->simpletransformers) (0.7.2)\n",
            "Requirement already satisfied: werkzeug>=1.0.1 in /usr/local/lib/python3.10/dist-packages (from tensorboard->simpletransformers) (3.0.1)\n",
            "Requirement already satisfied: entrypoints in /usr/local/lib/python3.10/dist-packages (from altair<6,>=4.0->streamlit->simpletransformers) (0.4)\n",
            "Requirement already satisfied: jinja2 in /usr/local/lib/python3.10/dist-packages (from altair<6,>=4.0->streamlit->simpletransformers) (3.1.2)\n",
            "Requirement already satisfied: jsonschema>=3.0 in /usr/local/lib/python3.10/dist-packages (from altair<6,>=4.0->streamlit->simpletransformers) (4.19.2)\n",
            "Requirement already satisfied: toolz in /usr/local/lib/python3.10/dist-packages (from altair<6,>=4.0->streamlit->simpletransformers) (0.12.0)\n",
            "Requirement already satisfied: attrs>=17.3.0 in /usr/local/lib/python3.10/dist-packages (from aiohttp->datasets->simpletransformers) (23.1.0)\n",
            "Requirement already satisfied: multidict<7.0,>=4.5 in /usr/local/lib/python3.10/dist-packages (from aiohttp->datasets->simpletransformers) (6.0.4)\n",
            "Requirement already satisfied: async-timeout<5.0,>=4.0.0a3 in /usr/local/lib/python3.10/dist-packages (from aiohttp->datasets->simpletransformers) (4.0.3)\n",
            "Requirement already satisfied: yarl<2.0,>=1.0 in /usr/local/lib/python3.10/dist-packages (from aiohttp->datasets->simpletransformers) (1.9.2)\n",
            "Requirement already satisfied: frozenlist>=1.1.1 in /usr/local/lib/python3.10/dist-packages (from aiohttp->datasets->simpletransformers) (1.4.0)\n",
            "Requirement already satisfied: aiosignal>=1.1.2 in /usr/local/lib/python3.10/dist-packages (from aiohttp->datasets->simpletransformers) (1.3.1)\n",
            "Collecting gitdb<5,>=4.0.1 (from GitPython!=3.1.29,>=1.0.0->wandb>=0.10.32->simpletransformers)\n",
            "  Downloading gitdb-4.0.11-py3-none-any.whl (62 kB)\n",
            "\u001b[2K     \u001b[90m━━━━━━━━━━━━━━━━━━━━━━━━━━━━━━━━━━━━━━━━\u001b[0m \u001b[32m62.7/62.7 kB\u001b[0m \u001b[31m9.1 MB/s\u001b[0m eta \u001b[36m0:00:00\u001b[0m\n",
            "\u001b[?25hRequirement already satisfied: pyasn1-modules>=0.2.1 in /usr/local/lib/python3.10/dist-packages (from google-auth<3,>=1.6.3->tensorboard->simpletransformers) (0.3.0)\n",
            "Requirement already satisfied: rsa<5,>=3.1.4 in /usr/local/lib/python3.10/dist-packages (from google-auth<3,>=1.6.3->tensorboard->simpletransformers) (4.9)\n",
            "Requirement already satisfied: requests-oauthlib>=0.7.0 in /usr/local/lib/python3.10/dist-packages (from google-auth-oauthlib<1.1,>=0.5->tensorboard->simpletransformers) (1.3.1)\n",
            "Requirement already satisfied: zipp>=0.5 in /usr/local/lib/python3.10/dist-packages (from importlib-metadata<7,>=1.4->streamlit->simpletransformers) (3.17.0)\n",
            "Requirement already satisfied: markdown-it-py>=2.2.0 in /usr/local/lib/python3.10/dist-packages (from rich<14,>=10.14.0->streamlit->simpletransformers) (3.0.0)\n",
            "Requirement already satisfied: pygments<3.0.0,>=2.13.0 in /usr/local/lib/python3.10/dist-packages (from rich<14,>=10.14.0->streamlit->simpletransformers) (2.16.1)\n",
            "Requirement already satisfied: MarkupSafe>=2.1.1 in /usr/local/lib/python3.10/dist-packages (from werkzeug>=1.0.1->tensorboard->simpletransformers) (2.1.3)\n",
            "Collecting smmap<6,>=3.0.1 (from gitdb<5,>=4.0.1->GitPython!=3.1.29,>=1.0.0->wandb>=0.10.32->simpletransformers)\n",
            "  Downloading smmap-5.0.1-py3-none-any.whl (24 kB)\n",
            "Requirement already satisfied: jsonschema-specifications>=2023.03.6 in /usr/local/lib/python3.10/dist-packages (from jsonschema>=3.0->altair<6,>=4.0->streamlit->simpletransformers) (2023.7.1)\n",
            "Requirement already satisfied: referencing>=0.28.4 in /usr/local/lib/python3.10/dist-packages (from jsonschema>=3.0->altair<6,>=4.0->streamlit->simpletransformers) (0.30.2)\n",
            "Requirement already satisfied: rpds-py>=0.7.1 in /usr/local/lib/python3.10/dist-packages (from jsonschema>=3.0->altair<6,>=4.0->streamlit->simpletransformers) (0.11.0)\n",
            "Requirement already satisfied: mdurl~=0.1 in /usr/local/lib/python3.10/dist-packages (from markdown-it-py>=2.2.0->rich<14,>=10.14.0->streamlit->simpletransformers) (0.1.2)\n",
            "Requirement already satisfied: pyasn1<0.6.0,>=0.4.6 in /usr/local/lib/python3.10/dist-packages (from pyasn1-modules>=0.2.1->google-auth<3,>=1.6.3->tensorboard->simpletransformers) (0.5.0)\n",
            "Requirement already satisfied: oauthlib>=3.0.0 in /usr/local/lib/python3.10/dist-packages (from requests-oauthlib>=0.7.0->google-auth-oauthlib<1.1,>=0.5->tensorboard->simpletransformers) (3.2.2)\n",
            "Building wheels for collected packages: seqeval\n",
            "  Building wheel for seqeval (setup.py) ... \u001b[?25l\u001b[?25hdone\n",
            "  Created wheel for seqeval: filename=seqeval-1.2.2-py3-none-any.whl size=16161 sha256=f2481d5016f9a29ce5f4aaf4af45ee9500b63b2c943efd7e7ab72b140cc05265\n",
            "  Stored in directory: /root/.cache/pip/wheels/1a/67/4a/ad4082dd7dfc30f2abfe4d80a2ed5926a506eb8a972b4767fa\n",
            "Successfully built seqeval\n",
            "Installing collected packages: sentencepiece, watchdog, validators, smmap, setproctitle, sentry-sdk, safetensors, docker-pycreds, dill, pydeck, multiprocess, huggingface-hub, gitdb, tokenizers, seqeval, GitPython, wandb, transformers, datasets, streamlit, simpletransformers\n",
            "Successfully installed GitPython-3.1.40 datasets-2.14.6 dill-0.3.7 docker-pycreds-0.4.0 gitdb-4.0.11 huggingface-hub-0.17.3 multiprocess-0.70.15 pydeck-0.8.1b0 safetensors-0.4.0 sentencepiece-0.1.99 sentry-sdk-1.34.0 seqeval-1.2.2 setproctitle-1.3.3 simpletransformers-0.64.3 smmap-5.0.1 streamlit-1.28.1 tokenizers-0.14.1 transformers-4.35.0 validators-0.22.0 wandb-0.16.0 watchdog-3.0.0\n"
          ]
        }
      ]
    },
    {
      "cell_type": "code",
      "source": [
        "!nvidia-smi"
      ],
      "metadata": {
        "colab": {
          "base_uri": "https://localhost:8080/"
        },
        "id": "jUkoMU4Whv6D",
        "outputId": "56bc7842-0a77-4aa7-c8dd-556d18dbe4c9"
      },
      "id": "jUkoMU4Whv6D",
      "execution_count": 33,
      "outputs": [
        {
          "output_type": "stream",
          "name": "stdout",
          "text": [
            "Wed Nov  8 00:49:53 2023       \n",
            "+-----------------------------------------------------------------------------+\n",
            "| NVIDIA-SMI 525.105.17   Driver Version: 525.105.17   CUDA Version: 12.0     |\n",
            "|-------------------------------+----------------------+----------------------+\n",
            "| GPU  Name        Persistence-M| Bus-Id        Disp.A | Volatile Uncorr. ECC |\n",
            "| Fan  Temp  Perf  Pwr:Usage/Cap|         Memory-Usage | GPU-Util  Compute M. |\n",
            "|                               |                      |               MIG M. |\n",
            "|===============================+======================+======================|\n",
            "|   0  NVIDIA A100-SXM...  Off  | 00000000:00:04.0 Off |                    0 |\n",
            "| N/A   31C    P0    47W / 400W |      0MiB / 40960MiB |      0%      Default |\n",
            "|                               |                      |             Disabled |\n",
            "+-------------------------------+----------------------+----------------------+\n",
            "                                                                               \n",
            "+-----------------------------------------------------------------------------+\n",
            "| Processes:                                                                  |\n",
            "|  GPU   GI   CI        PID   Type   Process name                  GPU Memory |\n",
            "|        ID   ID                                                   Usage      |\n",
            "|=============================================================================|\n",
            "|  No running processes found                                                 |\n",
            "+-----------------------------------------------------------------------------+\n"
          ]
        }
      ]
    },
    {
      "cell_type": "markdown",
      "id": "edc23582",
      "metadata": {
        "id": "edc23582"
      },
      "source": [
        "# 데이터 전처리"
      ]
    },
    {
      "cell_type": "code",
      "source": [
        "from google.colab import drive\n",
        "drive.mount('/content/drive')"
      ],
      "metadata": {
        "colab": {
          "base_uri": "https://localhost:8080/"
        },
        "id": "ZAiUYWmnt6Oq",
        "outputId": "48548a6a-f976-4693-bcd5-cfc6485e5318"
      },
      "id": "ZAiUYWmnt6Oq",
      "execution_count": 2,
      "outputs": [
        {
          "output_type": "stream",
          "name": "stdout",
          "text": [
            "Mounted at /content/drive\n"
          ]
        }
      ]
    },
    {
      "cell_type": "code",
      "execution_count": null,
      "id": "52dd0671",
      "metadata": {
        "id": "52dd0671"
      },
      "outputs": [],
      "source": [
        "import pandas as pd\n",
        "\n",
        "fake_path = '/content/drive/MyDrive/학술제/Fake (1).csv'\n",
        "true_path = '/content/drive/MyDrive/학술제/True (1).csv'\n",
        "fake_df = pd.read_csv(fake_path)\n",
        "true_df = pd.read_csv(true_path)\n"
      ]
    },
    {
      "cell_type": "markdown",
      "id": "e539ca15",
      "metadata": {
        "id": "e539ca15"
      },
      "source": [
        "## 데이터 불러오기"
      ]
    },
    {
      "cell_type": "code",
      "source": [],
      "metadata": {
        "id": "fGmteRF5Zj52"
      },
      "id": "fGmteRF5Zj52",
      "execution_count": null,
      "outputs": []
    },
    {
      "cell_type": "code",
      "execution_count": null,
      "id": "02dcbe70",
      "metadata": {
        "colab": {
          "base_uri": "https://localhost:8080/"
        },
        "id": "02dcbe70",
        "outputId": "c0fa9f12-9beb-46ba-a879-a092b03b48d0"
      },
      "outputs": [
        {
          "output_type": "stream",
          "name": "stdout",
          "text": [
            "                                               title  \\\n",
            "0   Donald Trump Sends Out Embarrassing New Year’...   \n",
            "1   Drunk Bragging Trump Staffer Started Russian ...   \n",
            "2   Sheriff David Clarke Becomes An Internet Joke...   \n",
            "\n",
            "                                                text subject  \\\n",
            "0  Donald Trump just couldn t wish all Americans ...    News   \n",
            "1  House Intelligence Committee Chairman Devin Nu...    News   \n",
            "2  On Friday, it was revealed that former Milwauk...    News   \n",
            "\n",
            "                date  \n",
            "0  December 31, 2017  \n",
            "1  December 31, 2017  \n",
            "2  December 30, 2017  \n"
          ]
        }
      ],
      "source": [
        "print(fake_df.head(3))\n"
      ]
    },
    {
      "cell_type": "markdown",
      "id": "f9d514e3",
      "metadata": {
        "id": "f9d514e3"
      },
      "source": [
        "## fake_df의 데이터 확인"
      ]
    },
    {
      "cell_type": "code",
      "execution_count": null,
      "id": "920b9929",
      "metadata": {
        "colab": {
          "base_uri": "https://localhost:8080/"
        },
        "id": "920b9929",
        "outputId": "b71e254b-e976-4b71-87d1-02cb554cd827"
      },
      "outputs": [
        {
          "output_type": "stream",
          "name": "stdout",
          "text": [
            "                                                   title  \\\n",
            "21414  Minsk cultural hub becomes haven from authorities   \n",
            "21415  Vatican upbeat on possibility of Pope Francis ...   \n",
            "21416  Indonesia to buy $1.14 billion worth of Russia...   \n",
            "\n",
            "                                                    text    subject  \\\n",
            "21414  MINSK (Reuters) - In the shadow of disused Sov...  worldnews   \n",
            "21415  MOSCOW (Reuters) - Vatican Secretary of State ...  worldnews   \n",
            "21416  JAKARTA (Reuters) - Indonesia will buy 11 Sukh...  worldnews   \n",
            "\n",
            "                   date  \n",
            "21414  August 22, 2017   \n",
            "21415  August 22, 2017   \n",
            "21416  August 22, 2017   \n"
          ]
        }
      ],
      "source": [
        "print(true_df.tail(3))"
      ]
    },
    {
      "cell_type": "markdown",
      "id": "70fad814",
      "metadata": {
        "id": "70fad814"
      },
      "source": [
        "## ture_df의 데이터 확인"
      ]
    },
    {
      "cell_type": "code",
      "execution_count": null,
      "id": "28a0ea72",
      "metadata": {
        "colab": {
          "base_uri": "https://localhost:8080/"
        },
        "id": "28a0ea72",
        "outputId": "479c6621-a513-4a58-b09b-9b5e70cab997"
      },
      "outputs": [
        {
          "output_type": "stream",
          "name": "stdout",
          "text": [
            "                                                   title  \\\n",
            "21414  Minsk cultural hub becomes haven from authorities   \n",
            "21415  Vatican upbeat on possibility of Pope Francis ...   \n",
            "21416  Indonesia to buy $1.14 billion worth of Russia...   \n",
            "\n",
            "                                                    text    subject  \\\n",
            "21414  MINSK (Reuters) - In the shadow of disused Sov...  worldnews   \n",
            "21415  MOSCOW (Reuters) - Vatican Secretary of State ...  worldnews   \n",
            "21416  JAKARTA (Reuters) - Indonesia will buy 11 Sukh...  worldnews   \n",
            "\n",
            "                   date  \n",
            "21414  August 22, 2017   \n",
            "21415  August 22, 2017   \n",
            "21416  August 22, 2017   \n"
          ]
        }
      ],
      "source": [
        "print(true_df.tail(3))"
      ]
    },
    {
      "cell_type": "markdown",
      "id": "9367a0b9",
      "metadata": {
        "id": "9367a0b9"
      },
      "source": [
        "## 진짜 뉴스와 가짜 뉴스를 구분하기 위한 label 열 생성"
      ]
    },
    {
      "cell_type": "code",
      "execution_count": null,
      "id": "8f6a15f4",
      "metadata": {
        "id": "8f6a15f4"
      },
      "outputs": [],
      "source": [
        "fake_df['label'] = 1\n",
        "true_df['label'] = 0"
      ]
    },
    {
      "cell_type": "markdown",
      "id": "05f7b138",
      "metadata": {
        "id": "05f7b138"
      },
      "source": [
        "## fake_df, true_df를 result_df에 합쳐서 저장"
      ]
    },
    {
      "cell_type": "code",
      "execution_count": null,
      "id": "9c0e3766",
      "metadata": {
        "id": "9c0e3766"
      },
      "outputs": [],
      "source": [
        "result_df = pd.concat([fake_df, true_df], ignore_index=True)"
      ]
    },
    {
      "cell_type": "markdown",
      "id": "f758db32",
      "metadata": {
        "id": "f758db32"
      },
      "source": [
        "## 확인"
      ]
    },
    {
      "cell_type": "code",
      "execution_count": null,
      "id": "70480c87",
      "metadata": {
        "colab": {
          "base_uri": "https://localhost:8080/"
        },
        "id": "70480c87",
        "outputId": "4fc89b96-7958-46a3-fa53-97fccd5dd554"
      },
      "outputs": [
        {
          "output_type": "stream",
          "name": "stdout",
          "text": [
            "                                                   title  label\n",
            "44895  Minsk cultural hub becomes haven from authorities      0\n",
            "44896  Vatican upbeat on possibility of Pope Francis ...      0\n",
            "44897  Indonesia to buy $1.14 billion worth of Russia...      0\n"
          ]
        }
      ],
      "source": [
        "print(result_df[['title','label']].tail(3))"
      ]
    },
    {
      "cell_type": "code",
      "execution_count": null,
      "id": "568dc83e",
      "metadata": {
        "colab": {
          "base_uri": "https://localhost:8080/"
        },
        "id": "568dc83e",
        "outputId": "c605d664-6c9e-466c-e2da-fd80223fbd53"
      },
      "outputs": [
        {
          "output_type": "execute_result",
          "data": {
            "text/plain": [
              "1    23481\n",
              "0    21417\n",
              "Name: label, dtype: int64"
            ]
          },
          "metadata": {},
          "execution_count": 9
        }
      ],
      "source": [
        "result_df['label'].value_counts()"
      ]
    },
    {
      "cell_type": "code",
      "execution_count": null,
      "id": "20dd7d60",
      "metadata": {
        "colab": {
          "base_uri": "https://localhost:8080/"
        },
        "id": "20dd7d60",
        "outputId": "bad75053-fb7d-4e93-ba9b-bb105fa97818"
      },
      "outputs": [
        {
          "output_type": "execute_result",
          "data": {
            "text/plain": [
              "politicsNews       11272\n",
              "worldnews          10145\n",
              "News                9050\n",
              "politics            6841\n",
              "left-news           4459\n",
              "Government News     1570\n",
              "US_News              783\n",
              "Middle-east          778\n",
              "Name: subject, dtype: int64"
            ]
          },
          "metadata": {},
          "execution_count": 10
        }
      ],
      "source": [
        "result_df['subject'].value_counts()"
      ]
    },
    {
      "cell_type": "code",
      "source": [
        "import matplotlib.pyplot as plt\n",
        "\n",
        "plt.figure(figsize=(20,10))\n",
        "plt.title('Percentage of Subject', fontsize=15)\n",
        "result_df['subject'].value_counts().plot(kind='pie', \\\n",
        "                              wedgeprops=dict(width=.7), autopct='%1.0f%%', startangle= -20,\n",
        "                              textprops={'fontsize': 15})\n"
      ],
      "metadata": {
        "colab": {
          "base_uri": "https://localhost:8080/",
          "height": 849
        },
        "id": "9Gstk673wM0f",
        "outputId": "8259b9cc-ec27-4941-fe73-6d7387ae3678"
      },
      "id": "9Gstk673wM0f",
      "execution_count": null,
      "outputs": [
        {
          "output_type": "execute_result",
          "data": {
            "text/plain": [
              "<Axes: title={'center': 'Percentage of Subject'}, ylabel='subject'>"
            ]
          },
          "metadata": {},
          "execution_count": 14
        },
        {
          "output_type": "display_data",
          "data": {
            "text/plain": [
              "<Figure size 2000x1000 with 1 Axes>"
            ],
            "image/png": "[encoded data removed]"
          },
          "metadata": {}
        }
      ]
    },
    {
      "cell_type": "markdown",
      "id": "cdb69f80",
      "metadata": {
        "id": "cdb69f80"
      },
      "source": [
        "## 새로운 열 message_length를 만들어주고 text, title의 문자 길이를 저장"
      ]
    },
    {
      "cell_type": "code",
      "execution_count": null,
      "id": "274003c6",
      "metadata": {
        "id": "274003c6"
      },
      "outputs": [],
      "source": [
        "result_df['message_length'] = result_df['text'].apply(len)\n",
        "result_df['message_length'] += result_df['title'].apply(len)"
      ]
    },
    {
      "cell_type": "code",
      "execution_count": null,
      "id": "fdc188d5",
      "metadata": {
        "colab": {
          "base_uri": "https://localhost:8080/"
        },
        "id": "fdc188d5",
        "outputId": "8367819b-19fd-4716-cc37-69aa01006211"
      },
      "outputs": [
        {
          "output_type": "stream",
          "name": "stdout",
          "text": [
            "44895    1999\n",
            "44896    1260\n",
            "44897    1390\n",
            "Name: message_length, dtype: int64\n"
          ]
        }
      ],
      "source": [
        "print(result_df['message_length'].tail(3))"
      ]
    },
    {
      "cell_type": "markdown",
      "id": "210702cd",
      "metadata": {
        "id": "210702cd"
      },
      "source": [
        "# 데이터 전처리"
      ]
    },
    {
      "cell_type": "code",
      "execution_count": null,
      "id": "f6889591",
      "metadata": {
        "colab": {
          "base_uri": "https://localhost:8080/"
        },
        "id": "f6889591",
        "outputId": "2106049c-c828-4d9c-8695-571af632568a"
      },
      "outputs": [
        {
          "output_type": "stream",
          "name": "stderr",
          "text": [
            "[nltk_data] Downloading package stopwords to /root/nltk_data...\n",
            "[nltk_data]   Package stopwords is already up-to-date!\n",
            "[nltk_data] Downloading package names to /root/nltk_data...\n",
            "[nltk_data]   Package names is already up-to-date!\n"
          ]
        },
        {
          "output_type": "execute_result",
          "data": {
            "text/plain": [
              "True"
            ]
          },
          "metadata": {},
          "execution_count": 13
        }
      ],
      "source": [
        "import nltk\n",
        "nltk.download('stopwords')\n",
        "nltk.download(\"names\")"
      ]
    },
    {
      "cell_type": "code",
      "execution_count": null,
      "id": "60a644ec",
      "metadata": {
        "id": "60a644ec"
      },
      "outputs": [],
      "source": [
        "from nltk.corpus import stopwords\n",
        "from nltk.corpus import names"
      ]
    },
    {
      "cell_type": "code",
      "execution_count": null,
      "id": "ad698f6b",
      "metadata": {
        "id": "ad698f6b"
      },
      "outputs": [],
      "source": [
        "all_names = set(names.words())"
      ]
    },
    {
      "cell_type": "code",
      "execution_count": null,
      "id": "5b9f5d24",
      "metadata": {
        "colab": {
          "base_uri": "https://localhost:8080/"
        },
        "id": "5b9f5d24",
        "outputId": "844453f8-8c3e-4cb5-c31a-a0a7676d47fc"
      },
      "outputs": [
        {
          "output_type": "stream",
          "name": "stdout",
          "text": [
            "['Ashley', 'Rhett', 'Pepe', 'Marga', 'Salim']\n"
          ]
        }
      ],
      "source": [
        "all_names_copy = list(all_names)\n",
        "print(all_names_copy[:5])"
      ]
    },
    {
      "cell_type": "markdown",
      "id": "2c22add8",
      "metadata": {
        "id": "2c22add8"
      },
      "source": [
        "## clean text함수 적용"
      ]
    },
    {
      "cell_type": "code",
      "execution_count": null,
      "id": "74a73fcb",
      "metadata": {
        "id": "74a73fcb"
      },
      "outputs": [],
      "source": [
        "#clean_text 함수는 mess에 있는 string.punctuation, stop_words, all_names의 값들을 모두 제거해주고, 모든 대문자 알파벳을 소문자로 바꿔준다\n",
        "import string\n",
        "def clean_text(mess):\n",
        "    stop_words = stopwords.words('english')\n",
        "    del_punctuation = [char.lower() for char in mess if char not in string.punctuation]\n",
        "    del_punctuation = ''.join(del_punctuation)\n",
        "\n",
        "    return ' '.join([word for word in del_punctuation.split() if word.lower() not in (stop_words or all_names)])"
      ]
    },
    {
      "cell_type": "code",
      "execution_count": null,
      "id": "e4ef31b0",
      "metadata": {
        "colab": {
          "base_uri": "https://localhost:8080/"
        },
        "id": "e4ef31b0",
        "outputId": "41c1eb38-8c71-44fb-e1ce-3c3d3c0be4a9"
      },
      "outputs": [
        {
          "output_type": "execute_result",
          "data": {
            "text/plain": [
              "['i', 'me', 'my', 'myself', 'we', 'our', 'ours', 'ourselves', 'you', \"you're\"]"
            ]
          },
          "metadata": {},
          "execution_count": 18
        }
      ],
      "source": [
        "stopwords.words('english')[:10]"
      ]
    },
    {
      "cell_type": "code",
      "execution_count": null,
      "id": "401a8161",
      "metadata": {
        "scrolled": false,
        "id": "401a8161"
      },
      "outputs": [],
      "source": [
        "result_df['clean_message'] = result_df['text'].apply(clean_text)\n",
        "result_df['clean_message'] += result_df['title'].apply(clean_text)"
      ]
    },
    {
      "cell_type": "markdown",
      "id": "d4e13f15",
      "metadata": {
        "id": "d4e13f15"
      },
      "source": [
        "## clean_message와 text를 비교해보면 불필요한 표현들이 없어진 것을 확인"
      ]
    },
    {
      "cell_type": "markdown",
      "source": [
        "\n",
        "# 다른 데이터셋 추가\n"
      ],
      "metadata": {
        "id": "A-v4FgjAaZ03"
      },
      "id": "A-v4FgjAaZ03"
    },
    {
      "cell_type": "code",
      "source": [
        "import urllib\n",
        "import json\n",
        "\n",
        "def load_convert_data(url):\n",
        "    \"\"\"\n",
        "    Downloads the json file from net and convert into pandas dataframe format.\n",
        "    \"\"\"\n",
        "    with urllib.request.urlopen(url) as url:\n",
        "        df = json.loads(url.read().decode())\n",
        "        df = pd.DataFrame.from_dict(df)\n",
        "\n",
        "    return df\n"
      ],
      "metadata": {
        "id": "nZRCqb-OaXm3"
      },
      "id": "nZRCqb-OaXm3",
      "execution_count": null,
      "outputs": []
    },
    {
      "cell_type": "code",
      "source": [
        "# Real news data\n",
        "real_train = load_convert_data(\"https://storage.googleapis.com/public-resources/dataset/real_train.json\")\n",
        "real_test = load_convert_data(\"https://storage.googleapis.com/public-resources/dataset/real_test.json\")\n",
        "\n",
        "\n",
        "# Fake news data\n",
        "fake_train = load_convert_data(\"https://storage.googleapis.com/public-resources/dataset/fake_train.json\")\n",
        "fake_test = load_convert_data(\"https://storage.googleapis.com/public-resources/dataset/fake_test.json\")\n",
        "\n",
        "\n",
        "# quick look on real news training data\n",
        "real_train.head()\n",
        "# Quick look on Fake news training data\n",
        "fake_train.head()"
      ],
      "metadata": {
        "colab": {
          "base_uri": "https://localhost:8080/",
          "height": 206
        },
        "id": "LSu4Q-W_akE0",
        "outputId": "2c4595c5-9d62-4ef7-d51f-8dc23b212074"
      },
      "id": "LSu4Q-W_akE0",
      "execution_count": null,
      "outputs": [
        {
          "output_type": "execute_result",
          "data": {
            "text/plain": [
              "                                                 url  \\\n",
              "0  https://nabd.com/s/71539812-b7228b/%D9%86%D8%B...   \n",
              "1  https://shamra.sy/news/article/8eb73454931e6d1...   \n",
              "2                     https://sudanewsnow.com/19800/   \n",
              "3  https://arabic.rt.com/press/1100276-%D8%A7%D9%...   \n",
              "4  https://www.kachaf.com/details.php?n=5e8957fe1...   \n",
              "\n",
              "                                               title  \\\n",
              "0  Online Facts New conspiracy theory: #Bel_Gates...   \n",
              "1  Revolutionary Guards: Corona could be an Ameri...   \n",
              "2  Yellow skin is the host environment of the vir...   \n",
              "3  China and Russia are doing what the European U...   \n",
              "4                                                      \n",
              "\n",
              "                                                text  \n",
              "0  Roger Stone suggested on Monday that Bill Gate...  \n",
              "1  Source\\nRussia Today |\\nIranian Revolutionary ...  \n",
              "2  Sudan news now from all sources sudanewsnow.co...  \n",
              "3  China and Russia are doing what the European U...  \n",
              "4  Fatal error: Uncaught MongoDB\\Driver\\Exception...  "
            ],
            "text/html": [
              "\n",
              "  <div id=\"df-980ad3ac-77b7-499b-9562-bff995a9e4bd\" class=\"colab-df-container\">\n",
              "    <div>\n",
              "<style scoped>\n",
              "    .dataframe tbody tr th:only-of-type {\n",
              "        vertical-align: middle;\n",
              "    }\n",
              "\n",
              "    .dataframe tbody tr th {\n",
              "        vertical-align: top;\n",
              "    }\n",
              "\n",
              "    .dataframe thead th {\n",
              "        text-align: right;\n",
              "    }\n",
              "</style>\n",
              "<table border=\"1\" class=\"dataframe\">\n",
              "  <thead>\n",
              "    <tr style=\"text-align: right;\">\n",
              "      <th></th>\n",
              "      <th>url</th>\n",
              "      <th>title</th>\n",
              "      <th>text</th>\n",
              "    </tr>\n",
              "  </thead>\n",
              "  <tbody>\n",
              "    <tr>\n",
              "      <th>0</th>\n",
              "      <td>https://nabd.com/s/71539812-b7228b/%D9%86%D8%B...</td>\n",
              "      <td>Online Facts New conspiracy theory: #Bel_Gates...</td>\n",
              "      <td>Roger Stone suggested on Monday that Bill Gate...</td>\n",
              "    </tr>\n",
              "    <tr>\n",
              "      <th>1</th>\n",
              "      <td>https://shamra.sy/news/article/8eb73454931e6d1...</td>\n",
              "      <td>Revolutionary Guards: Corona could be an Ameri...</td>\n",
              "      <td>Source\\nRussia Today |\\nIranian Revolutionary ...</td>\n",
              "    </tr>\n",
              "    <tr>\n",
              "      <th>2</th>\n",
              "      <td>https://sudanewsnow.com/19800/</td>\n",
              "      <td>Yellow skin is the host environment of the vir...</td>\n",
              "      <td>Sudan news now from all sources sudanewsnow.co...</td>\n",
              "    </tr>\n",
              "    <tr>\n",
              "      <th>3</th>\n",
              "      <td>https://arabic.rt.com/press/1100276-%D8%A7%D9%...</td>\n",
              "      <td>China and Russia are doing what the European U...</td>\n",
              "      <td>China and Russia are doing what the European U...</td>\n",
              "    </tr>\n",
              "    <tr>\n",
              "      <th>4</th>\n",
              "      <td>https://www.kachaf.com/details.php?n=5e8957fe1...</td>\n",
              "      <td></td>\n",
              "      <td>Fatal error: Uncaught MongoDB\\Driver\\Exception...</td>\n",
              "    </tr>\n",
              "  </tbody>\n",
              "</table>\n",
              "</div>\n",
              "    <div class=\"colab-df-buttons\">\n",
              "\n",
              "  <div class=\"colab-df-container\">\n",
              "    <button class=\"colab-df-convert\" onclick=\"convertToInteractive('df-980ad3ac-77b7-499b-9562-bff995a9e4bd')\"\n",
              "            title=\"Convert this dataframe to an interactive table.\"\n",
              "            style=\"display:none;\">\n",
              "\n",
              "  <svg xmlns=\"http://www.w3.org/2000/svg\" height=\"24px\" viewBox=\"0 -960 960 960\">\n",
              "    <path d=\"M120-120v-720h720v720H120Zm60-500h600v-160H180v160Zm220 220h160v-160H400v160Zm0 220h160v-160H400v160ZM180-400h160v-160H180v160Zm440 0h160v-160H620v160ZM180-180h160v-160H180v160Zm440 0h160v-160H620v160Z\"/>\n",
              "  </svg>\n",
              "    </button>\n",
              "\n",
              "  <style>\n",
              "    .colab-df-container {\n",
              "      display:flex;\n",
              "      gap: 12px;\n",
              "    }\n",
              "\n",
              "    .colab-df-convert {\n",
              "      background-color: #E8F0FE;\n",
              "      border: none;\n",
              "      border-radius: 50%;\n",
              "      cursor: pointer;\n",
              "      display: none;\n",
              "      fill: #1967D2;\n",
              "      height: 32px;\n",
              "      padding: 0 0 0 0;\n",
              "      width: 32px;\n",
              "    }\n",
              "\n",
              "    .colab-df-convert:hover {\n",
              "      background-color: #E2EBFA;\n",
              "      box-shadow: 0px 1px 2px rgba(60, 64, 67, 0.3), 0px 1px 3px 1px rgba(60, 64, 67, 0.15);\n",
              "      fill: #174EA6;\n",
              "    }\n",
              "\n",
              "    .colab-df-buttons div {\n",
              "      margin-bottom: 4px;\n",
              "    }\n",
              "\n",
              "    [theme=dark] .colab-df-convert {\n",
              "      background-color: #3B4455;\n",
              "      fill: #D2E3FC;\n",
              "    }\n",
              "\n",
              "    [theme=dark] .colab-df-convert:hover {\n",
              "      background-color: #434B5C;\n",
              "      box-shadow: 0px 1px 3px 1px rgba(0, 0, 0, 0.15);\n",
              "      filter: drop-shadow(0px 1px 2px rgba(0, 0, 0, 0.3));\n",
              "      fill: #FFFFFF;\n",
              "    }\n",
              "  </style>\n",
              "\n",
              "    <script>\n",
              "      const buttonEl =\n",
              "        document.querySelector('#df-980ad3ac-77b7-499b-9562-bff995a9e4bd button.colab-df-convert');\n",
              "      buttonEl.style.display =\n",
              "        google.colab.kernel.accessAllowed ? 'block' : 'none';\n",
              "\n",
              "      async function convertToInteractive(key) {\n",
              "        const element = document.querySelector('#df-980ad3ac-77b7-499b-9562-bff995a9e4bd');\n",
              "        const dataTable =\n",
              "          await google.colab.kernel.invokeFunction('convertToInteractive',\n",
              "                                                    [key], {});\n",
              "        if (!dataTable) return;\n",
              "\n",
              "        const docLinkHtml = 'Like what you see? Visit the ' +\n",
              "          '<a target=\"_blank\" href=https://colab.research.google.com/notebooks/data_table.ipynb>data table notebook</a>'\n",
              "          + ' to learn more about interactive tables.';\n",
              "        element.innerHTML = '';\n",
              "        dataTable['output_type'] = 'display_data';\n",
              "        await google.colab.output.renderOutput(dataTable, element);\n",
              "        const docLink = document.createElement('div');\n",
              "        docLink.innerHTML = docLinkHtml;\n",
              "        element.appendChild(docLink);\n",
              "      }\n",
              "    </script>\n",
              "  </div>\n",
              "\n",
              "\n",
              "<div id=\"df-b03bef3b-07f6-4d11-9334-b7501b6e82b8\">\n",
              "  <button class=\"colab-df-quickchart\" onclick=\"quickchart('df-b03bef3b-07f6-4d11-9334-b7501b6e82b8')\"\n",
              "            title=\"Suggest charts.\"\n",
              "            style=\"display:none;\">\n",
              "\n",
              "<svg xmlns=\"http://www.w3.org/2000/svg\" height=\"24px\"viewBox=\"0 0 24 24\"\n",
              "     width=\"24px\">\n",
              "    <g>\n",
              "        <path d=\"M19 3H5c-1.1 0-2 .9-2 2v14c0 1.1.9 2 2 2h14c1.1 0 2-.9 2-2V5c0-1.1-.9-2-2-2zM9 17H7v-7h2v7zm4 0h-2V7h2v10zm4 0h-2v-4h2v4z\"/>\n",
              "    </g>\n",
              "</svg>\n",
              "  </button>\n",
              "\n",
              "<style>\n",
              "  .colab-df-quickchart {\n",
              "      --bg-color: #E8F0FE;\n",
              "      --fill-color: #1967D2;\n",
              "      --hover-bg-color: #E2EBFA;\n",
              "      --hover-fill-color: #174EA6;\n",
              "      --disabled-fill-color: #AAA;\n",
              "      --disabled-bg-color: #DDD;\n",
              "  }\n",
              "\n",
              "  [theme=dark] .colab-df-quickchart {\n",
              "      --bg-color: #3B4455;\n",
              "      --fill-color: #D2E3FC;\n",
              "      --hover-bg-color: #434B5C;\n",
              "      --hover-fill-color: #FFFFFF;\n",
              "      --disabled-bg-color: #3B4455;\n",
              "      --disabled-fill-color: #666;\n",
              "  }\n",
              "\n",
              "  .colab-df-quickchart {\n",
              "    background-color: var(--bg-color);\n",
              "    border: none;\n",
              "    border-radius: 50%;\n",
              "    cursor: pointer;\n",
              "    display: none;\n",
              "    fill: var(--fill-color);\n",
              "    height: 32px;\n",
              "    padding: 0;\n",
              "    width: 32px;\n",
              "  }\n",
              "\n",
              "  .colab-df-quickchart:hover {\n",
              "    background-color: var(--hover-bg-color);\n",
              "    box-shadow: 0 1px 2px rgba(60, 64, 67, 0.3), 0 1px 3px 1px rgba(60, 64, 67, 0.15);\n",
              "    fill: var(--button-hover-fill-color);\n",
              "  }\n",
              "\n",
              "  .colab-df-quickchart-complete:disabled,\n",
              "  .colab-df-quickchart-complete:disabled:hover {\n",
              "    background-color: var(--disabled-bg-color);\n",
              "    fill: var(--disabled-fill-color);\n",
              "    box-shadow: none;\n",
              "  }\n",
              "\n",
              "  .colab-df-spinner {\n",
              "    border: 2px solid var(--fill-color);\n",
              "    border-color: transparent;\n",
              "    border-bottom-color: var(--fill-color);\n",
              "    animation:\n",
              "      spin 1s steps(1) infinite;\n",
              "  }\n",
              "\n",
              "  @keyframes spin {\n",
              "    0% {\n",
              "      border-color: transparent;\n",
              "      border-bottom-color: var(--fill-color);\n",
              "      border-left-color: var(--fill-color);\n",
              "    }\n",
              "    20% {\n",
              "      border-color: transparent;\n",
              "      border-left-color: var(--fill-color);\n",
              "      border-top-color: var(--fill-color);\n",
              "    }\n",
              "    30% {\n",
              "      border-color: transparent;\n",
              "      border-left-color: var(--fill-color);\n",
              "      border-top-color: var(--fill-color);\n",
              "      border-right-color: var(--fill-color);\n",
              "    }\n",
              "    40% {\n",
              "      border-color: transparent;\n",
              "      border-right-color: var(--fill-color);\n",
              "      border-top-color: var(--fill-color);\n",
              "    }\n",
              "    60% {\n",
              "      border-color: transparent;\n",
              "      border-right-color: var(--fill-color);\n",
              "    }\n",
              "    80% {\n",
              "      border-color: transparent;\n",
              "      border-right-color: var(--fill-color);\n",
              "      border-bottom-color: var(--fill-color);\n",
              "    }\n",
              "    90% {\n",
              "      border-color: transparent;\n",
              "      border-bottom-color: var(--fill-color);\n",
              "    }\n",
              "  }\n",
              "</style>\n",
              "\n",
              "  <script>\n",
              "    async function quickchart(key) {\n",
              "      const quickchartButtonEl =\n",
              "        document.querySelector('#' + key + ' button');\n",
              "      quickchartButtonEl.disabled = true;  // To prevent multiple clicks.\n",
              "      quickchartButtonEl.classList.add('colab-df-spinner');\n",
              "      try {\n",
              "        const charts = await google.colab.kernel.invokeFunction(\n",
              "            'suggestCharts', [key], {});\n",
              "      } catch (error) {\n",
              "        console.error('Error during call to suggestCharts:', error);\n",
              "      }\n",
              "      quickchartButtonEl.classList.remove('colab-df-spinner');\n",
              "      quickchartButtonEl.classList.add('colab-df-quickchart-complete');\n",
              "    }\n",
              "    (() => {\n",
              "      let quickchartButtonEl =\n",
              "        document.querySelector('#df-b03bef3b-07f6-4d11-9334-b7501b6e82b8 button');\n",
              "      quickchartButtonEl.style.display =\n",
              "        google.colab.kernel.accessAllowed ? 'block' : 'none';\n",
              "    })();\n",
              "  </script>\n",
              "</div>\n",
              "    </div>\n",
              "  </div>\n"
            ]
          },
          "metadata": {},
          "execution_count": 18
        }
      ]
    },
    {
      "cell_type": "markdown",
      "source": [
        "# 다른 작업입니다"
      ],
      "metadata": {
        "id": "N1OrwuOsah5l"
      },
      "id": "N1OrwuOsah5l"
    },
    {
      "cell_type": "code",
      "execution_count": null,
      "id": "4452b4cf",
      "metadata": {
        "colab": {
          "base_uri": "https://localhost:8080/"
        },
        "id": "4452b4cf",
        "outputId": "68b27bf7-9f1f-41fb-c9cd-d70b6386546f"
      },
      "outputs": [
        {
          "output_type": "stream",
          "name": "stdout",
          "text": [
            "                                           clean_message  \\\n",
            "0      donald trump wish americans happy new year lea...   \n",
            "1      house intelligence committee chairman devin nu...   \n",
            "2      friday revealed former milwaukee sheriff david...   \n",
            "3      christmas day donald trump announced would bac...   \n",
            "4      pope francis used annual christmas day message...   \n",
            "...                                                  ...   \n",
            "44893  brussels reuters nato allies tuesday welcomed ...   \n",
            "44894  london reuters lexisnexis provider legal regul...   \n",
            "44895  minsk reuters shadow disused sovietera factori...   \n",
            "44896  moscow reuters vatican secretary state cardina...   \n",
            "44897  jakarta reuters indonesia buy 11 sukhoi fighte...   \n",
            "\n",
            "                                                    text  \n",
            "0      Donald Trump just couldn t wish all Americans ...  \n",
            "1      House Intelligence Committee Chairman Devin Nu...  \n",
            "2      On Friday, it was revealed that former Milwauk...  \n",
            "3      On Christmas day, Donald Trump announced that ...  \n",
            "4      Pope Francis used his annual Christmas Day mes...  \n",
            "...                                                  ...  \n",
            "44893  BRUSSELS (Reuters) - NATO allies on Tuesday we...  \n",
            "44894  LONDON (Reuters) - LexisNexis, a provider of l...  \n",
            "44895  MINSK (Reuters) - In the shadow of disused Sov...  \n",
            "44896  MOSCOW (Reuters) - Vatican Secretary of State ...  \n",
            "44897  JAKARTA (Reuters) - Indonesia will buy 11 Sukh...  \n",
            "\n",
            "[44898 rows x 2 columns]\n"
          ]
        }
      ],
      "source": [
        "print(result_df[['clean_message', 'text']])"
      ]
    },
    {
      "cell_type": "markdown",
      "id": "84b90791",
      "metadata": {
        "id": "84b90791"
      },
      "source": [
        "# result_df에서 clean_message와 label만 추출"
      ]
    },
    {
      "cell_type": "code",
      "execution_count": null,
      "id": "1d54de1c",
      "metadata": {
        "colab": {
          "base_uri": "https://localhost:8080/",
          "height": 424
        },
        "id": "1d54de1c",
        "outputId": "1fcb883f-e0ec-4db0-e9b4-4e9532239480"
      },
      "outputs": [
        {
          "output_type": "execute_result",
          "data": {
            "text/plain": [
              "                                           clean_message  label\n",
              "0      donald trump wish americans happy new year lea...      1\n",
              "1      house intelligence committee chairman devin nu...      1\n",
              "2      friday revealed former milwaukee sheriff david...      1\n",
              "3      christmas day donald trump announced would bac...      1\n",
              "4      pope francis used annual christmas day message...      1\n",
              "...                                                  ...    ...\n",
              "44893  brussels reuters nato allies tuesday welcomed ...      0\n",
              "44894  london reuters lexisnexis provider legal regul...      0\n",
              "44895  minsk reuters shadow disused sovietera factori...      0\n",
              "44896  moscow reuters vatican secretary state cardina...      0\n",
              "44897  jakarta reuters indonesia buy 11 sukhoi fighte...      0\n",
              "\n",
              "[44898 rows x 2 columns]"
            ],
            "text/html": [
              "\n",
              "  <div id=\"df-26a4010d-2762-4cce-8290-f3702f3cf966\" class=\"colab-df-container\">\n",
              "    <div>\n",
              "<style scoped>\n",
              "    .dataframe tbody tr th:only-of-type {\n",
              "        vertical-align: middle;\n",
              "    }\n",
              "\n",
              "    .dataframe tbody tr th {\n",
              "        vertical-align: top;\n",
              "    }\n",
              "\n",
              "    .dataframe thead th {\n",
              "        text-align: right;\n",
              "    }\n",
              "</style>\n",
              "<table border=\"1\" class=\"dataframe\">\n",
              "  <thead>\n",
              "    <tr style=\"text-align: right;\">\n",
              "      <th></th>\n",
              "      <th>clean_message</th>\n",
              "      <th>label</th>\n",
              "    </tr>\n",
              "  </thead>\n",
              "  <tbody>\n",
              "    <tr>\n",
              "      <th>0</th>\n",
              "      <td>donald trump wish americans happy new year lea...</td>\n",
              "      <td>1</td>\n",
              "    </tr>\n",
              "    <tr>\n",
              "      <th>1</th>\n",
              "      <td>house intelligence committee chairman devin nu...</td>\n",
              "      <td>1</td>\n",
              "    </tr>\n",
              "    <tr>\n",
              "      <th>2</th>\n",
              "      <td>friday revealed former milwaukee sheriff david...</td>\n",
              "      <td>1</td>\n",
              "    </tr>\n",
              "    <tr>\n",
              "      <th>3</th>\n",
              "      <td>christmas day donald trump announced would bac...</td>\n",
              "      <td>1</td>\n",
              "    </tr>\n",
              "    <tr>\n",
              "      <th>4</th>\n",
              "      <td>pope francis used annual christmas day message...</td>\n",
              "      <td>1</td>\n",
              "    </tr>\n",
              "    <tr>\n",
              "      <th>...</th>\n",
              "      <td>...</td>\n",
              "      <td>...</td>\n",
              "    </tr>\n",
              "    <tr>\n",
              "      <th>44893</th>\n",
              "      <td>brussels reuters nato allies tuesday welcomed ...</td>\n",
              "      <td>0</td>\n",
              "    </tr>\n",
              "    <tr>\n",
              "      <th>44894</th>\n",
              "      <td>london reuters lexisnexis provider legal regul...</td>\n",
              "      <td>0</td>\n",
              "    </tr>\n",
              "    <tr>\n",
              "      <th>44895</th>\n",
              "      <td>minsk reuters shadow disused sovietera factori...</td>\n",
              "      <td>0</td>\n",
              "    </tr>\n",
              "    <tr>\n",
              "      <th>44896</th>\n",
              "      <td>moscow reuters vatican secretary state cardina...</td>\n",
              "      <td>0</td>\n",
              "    </tr>\n",
              "    <tr>\n",
              "      <th>44897</th>\n",
              "      <td>jakarta reuters indonesia buy 11 sukhoi fighte...</td>\n",
              "      <td>0</td>\n",
              "    </tr>\n",
              "  </tbody>\n",
              "</table>\n",
              "<p>44898 rows × 2 columns</p>\n",
              "</div>\n",
              "    <div class=\"colab-df-buttons\">\n",
              "\n",
              "  <div class=\"colab-df-container\">\n",
              "    <button class=\"colab-df-convert\" onclick=\"convertToInteractive('df-26a4010d-2762-4cce-8290-f3702f3cf966')\"\n",
              "            title=\"Convert this dataframe to an interactive table.\"\n",
              "            style=\"display:none;\">\n",
              "\n",
              "  <svg xmlns=\"http://www.w3.org/2000/svg\" height=\"24px\" viewBox=\"0 -960 960 960\">\n",
              "    <path d=\"M120-120v-720h720v720H120Zm60-500h600v-160H180v160Zm220 220h160v-160H400v160Zm0 220h160v-160H400v160ZM180-400h160v-160H180v160Zm440 0h160v-160H620v160ZM180-180h160v-160H180v160Zm440 0h160v-160H620v160Z\"/>\n",
              "  </svg>\n",
              "    </button>\n",
              "\n",
              "  <style>\n",
              "    .colab-df-container {\n",
              "      display:flex;\n",
              "      gap: 12px;\n",
              "    }\n",
              "\n",
              "    .colab-df-convert {\n",
              "      background-color: #E8F0FE;\n",
              "      border: none;\n",
              "      border-radius: 50%;\n",
              "      cursor: pointer;\n",
              "      display: none;\n",
              "      fill: #1967D2;\n",
              "      height: 32px;\n",
              "      padding: 0 0 0 0;\n",
              "      width: 32px;\n",
              "    }\n",
              "\n",
              "    .colab-df-convert:hover {\n",
              "      background-color: #E2EBFA;\n",
              "      box-shadow: 0px 1px 2px rgba(60, 64, 67, 0.3), 0px 1px 3px 1px rgba(60, 64, 67, 0.15);\n",
              "      fill: #174EA6;\n",
              "    }\n",
              "\n",
              "    .colab-df-buttons div {\n",
              "      margin-bottom: 4px;\n",
              "    }\n",
              "\n",
              "    [theme=dark] .colab-df-convert {\n",
              "      background-color: #3B4455;\n",
              "      fill: #D2E3FC;\n",
              "    }\n",
              "\n",
              "    [theme=dark] .colab-df-convert:hover {\n",
              "      background-color: #434B5C;\n",
              "      box-shadow: 0px 1px 3px 1px rgba(0, 0, 0, 0.15);\n",
              "      filter: drop-shadow(0px 1px 2px rgba(0, 0, 0, 0.3));\n",
              "      fill: #FFFFFF;\n",
              "    }\n",
              "  </style>\n",
              "\n",
              "    <script>\n",
              "      const buttonEl =\n",
              "        document.querySelector('#df-26a4010d-2762-4cce-8290-f3702f3cf966 button.colab-df-convert');\n",
              "      buttonEl.style.display =\n",
              "        google.colab.kernel.accessAllowed ? 'block' : 'none';\n",
              "\n",
              "      async function convertToInteractive(key) {\n",
              "        const element = document.querySelector('#df-26a4010d-2762-4cce-8290-f3702f3cf966');\n",
              "        const dataTable =\n",
              "          await google.colab.kernel.invokeFunction('convertToInteractive',\n",
              "                                                    [key], {});\n",
              "        if (!dataTable) return;\n",
              "\n",
              "        const docLinkHtml = 'Like what you see? Visit the ' +\n",
              "          '<a target=\"_blank\" href=https://colab.research.google.com/notebooks/data_table.ipynb>data table notebook</a>'\n",
              "          + ' to learn more about interactive tables.';\n",
              "        element.innerHTML = '';\n",
              "        dataTable['output_type'] = 'display_data';\n",
              "        await google.colab.output.renderOutput(dataTable, element);\n",
              "        const docLink = document.createElement('div');\n",
              "        docLink.innerHTML = docLinkHtml;\n",
              "        element.appendChild(docLink);\n",
              "      }\n",
              "    </script>\n",
              "  </div>\n",
              "\n",
              "\n",
              "<div id=\"df-8996dcf8-e37e-4211-8015-e90ba796a2b5\">\n",
              "  <button class=\"colab-df-quickchart\" onclick=\"quickchart('df-8996dcf8-e37e-4211-8015-e90ba796a2b5')\"\n",
              "            title=\"Suggest charts.\"\n",
              "            style=\"display:none;\">\n",
              "\n",
              "<svg xmlns=\"http://www.w3.org/2000/svg\" height=\"24px\"viewBox=\"0 0 24 24\"\n",
              "     width=\"24px\">\n",
              "    <g>\n",
              "        <path d=\"M19 3H5c-1.1 0-2 .9-2 2v14c0 1.1.9 2 2 2h14c1.1 0 2-.9 2-2V5c0-1.1-.9-2-2-2zM9 17H7v-7h2v7zm4 0h-2V7h2v10zm4 0h-2v-4h2v4z\"/>\n",
              "    </g>\n",
              "</svg>\n",
              "  </button>\n",
              "\n",
              "<style>\n",
              "  .colab-df-quickchart {\n",
              "      --bg-color: #E8F0FE;\n",
              "      --fill-color: #1967D2;\n",
              "      --hover-bg-color: #E2EBFA;\n",
              "      --hover-fill-color: #174EA6;\n",
              "      --disabled-fill-color: #AAA;\n",
              "      --disabled-bg-color: #DDD;\n",
              "  }\n",
              "\n",
              "  [theme=dark] .colab-df-quickchart {\n",
              "      --bg-color: #3B4455;\n",
              "      --fill-color: #D2E3FC;\n",
              "      --hover-bg-color: #434B5C;\n",
              "      --hover-fill-color: #FFFFFF;\n",
              "      --disabled-bg-color: #3B4455;\n",
              "      --disabled-fill-color: #666;\n",
              "  }\n",
              "\n",
              "  .colab-df-quickchart {\n",
              "    background-color: var(--bg-color);\n",
              "    border: none;\n",
              "    border-radius: 50%;\n",
              "    cursor: pointer;\n",
              "    display: none;\n",
              "    fill: var(--fill-color);\n",
              "    height: 32px;\n",
              "    padding: 0;\n",
              "    width: 32px;\n",
              "  }\n",
              "\n",
              "  .colab-df-quickchart:hover {\n",
              "    background-color: var(--hover-bg-color);\n",
              "    box-shadow: 0 1px 2px rgba(60, 64, 67, 0.3), 0 1px 3px 1px rgba(60, 64, 67, 0.15);\n",
              "    fill: var(--button-hover-fill-color);\n",
              "  }\n",
              "\n",
              "  .colab-df-quickchart-complete:disabled,\n",
              "  .colab-df-quickchart-complete:disabled:hover {\n",
              "    background-color: var(--disabled-bg-color);\n",
              "    fill: var(--disabled-fill-color);\n",
              "    box-shadow: none;\n",
              "  }\n",
              "\n",
              "  .colab-df-spinner {\n",
              "    border: 2px solid var(--fill-color);\n",
              "    border-color: transparent;\n",
              "    border-bottom-color: var(--fill-color);\n",
              "    animation:\n",
              "      spin 1s steps(1) infinite;\n",
              "  }\n",
              "\n",
              "  @keyframes spin {\n",
              "    0% {\n",
              "      border-color: transparent;\n",
              "      border-bottom-color: var(--fill-color);\n",
              "      border-left-color: var(--fill-color);\n",
              "    }\n",
              "    20% {\n",
              "      border-color: transparent;\n",
              "      border-left-color: var(--fill-color);\n",
              "      border-top-color: var(--fill-color);\n",
              "    }\n",
              "    30% {\n",
              "      border-color: transparent;\n",
              "      border-left-color: var(--fill-color);\n",
              "      border-top-color: var(--fill-color);\n",
              "      border-right-color: var(--fill-color);\n",
              "    }\n",
              "    40% {\n",
              "      border-color: transparent;\n",
              "      border-right-color: var(--fill-color);\n",
              "      border-top-color: var(--fill-color);\n",
              "    }\n",
              "    60% {\n",
              "      border-color: transparent;\n",
              "      border-right-color: var(--fill-color);\n",
              "    }\n",
              "    80% {\n",
              "      border-color: transparent;\n",
              "      border-right-color: var(--fill-color);\n",
              "      border-bottom-color: var(--fill-color);\n",
              "    }\n",
              "    90% {\n",
              "      border-color: transparent;\n",
              "      border-bottom-color: var(--fill-color);\n",
              "    }\n",
              "  }\n",
              "</style>\n",
              "\n",
              "  <script>\n",
              "    async function quickchart(key) {\n",
              "      const quickchartButtonEl =\n",
              "        document.querySelector('#' + key + ' button');\n",
              "      quickchartButtonEl.disabled = true;  // To prevent multiple clicks.\n",
              "      quickchartButtonEl.classList.add('colab-df-spinner');\n",
              "      try {\n",
              "        const charts = await google.colab.kernel.invokeFunction(\n",
              "            'suggestCharts', [key], {});\n",
              "      } catch (error) {\n",
              "        console.error('Error during call to suggestCharts:', error);\n",
              "      }\n",
              "      quickchartButtonEl.classList.remove('colab-df-spinner');\n",
              "      quickchartButtonEl.classList.add('colab-df-quickchart-complete');\n",
              "    }\n",
              "    (() => {\n",
              "      let quickchartButtonEl =\n",
              "        document.querySelector('#df-8996dcf8-e37e-4211-8015-e90ba796a2b5 button');\n",
              "      quickchartButtonEl.style.display =\n",
              "        google.colab.kernel.accessAllowed ? 'block' : 'none';\n",
              "    })();\n",
              "  </script>\n",
              "</div>\n",
              "    </div>\n",
              "  </div>\n"
            ]
          },
          "metadata": {},
          "execution_count": 21
        }
      ],
      "source": [
        "use_df = result_df[['clean_message','label']]\n",
        "real_df = use_df[use_df['label'] == 0]\n",
        "fake_df = use_df[use_df['label'] == 1]\n",
        "use_df"
      ]
    },
    {
      "cell_type": "markdown",
      "id": "987b5f41",
      "metadata": {
        "id": "987b5f41"
      },
      "source": [
        "## 전체 데이터에서 테스트 사이즈를 10%로 설정하고, random_state를 1234로 설정"
      ]
    },
    {
      "cell_type": "code",
      "execution_count": 1,
      "id": "d73bab9e",
      "metadata": {
        "id": "d73bab9e"
      },
      "outputs": [],
      "source": [
        "from sklearn.model_selection import train_test_split\n",
        "import pandas as pd\n",
        "data_path = '/content/drive/MyDrive/학술제/clean_message.csv'\n",
        "\n",
        "data = pd.read_csv(data_path)"
      ]
    },
    {
      "cell_type": "code",
      "source": [
        "real_df = data[data['label']==0]\n",
        "fake_df = data[data['label']==1]\n",
        "real_df"
      ],
      "metadata": {
        "colab": {
          "base_uri": "https://localhost:8080/",
          "height": 423
        },
        "id": "aJXOa3flW5J9",
        "outputId": "9812e823-e69e-4e5c-c4d9-ad90c1475ba5"
      },
      "id": "aJXOa3flW5J9",
      "execution_count": 2,
      "outputs": [
        {
          "output_type": "execute_result",
          "data": {
            "text/plain": [
              "                                           clean_message  label\n",
              "1      chicago bears starting quarterbacks last 10 ye...      0\n",
              "3      mccain opposed requirement government buy amer...      0\n",
              "7                   says paul ryan still endorsing trump      0\n",
              "9      federal government thinks authority regulate t...      0\n",
              "10     austin city basically doubled size every 25 ye...      0\n",
              "...                                                  ...    ...\n",
              "64458  nhs services could take long 2 years recover e...      0\n",
              "64460  yesterday erroneously reported 7 new cases jig...      0\n",
              "64462  indiafightscorona 📍 increasing number covid19 ...      0\n",
              "64464  current understanding covid19 spreads mostly p...      0\n",
              "64467  another 4422 new coronavirus cases confirmed u...      0\n",
              "\n",
              "[30925 rows x 2 columns]"
            ],
            "text/html": [
              "\n",
              "  <div id=\"df-0001cc3c-0936-4329-8685-e05fb49745ea\" class=\"colab-df-container\">\n",
              "    <div>\n",
              "<style scoped>\n",
              "    .dataframe tbody tr th:only-of-type {\n",
              "        vertical-align: middle;\n",
              "    }\n",
              "\n",
              "    .dataframe tbody tr th {\n",
              "        vertical-align: top;\n",
              "    }\n",
              "\n",
              "    .dataframe thead th {\n",
              "        text-align: right;\n",
              "    }\n",
              "</style>\n",
              "<table border=\"1\" class=\"dataframe\">\n",
              "  <thead>\n",
              "    <tr style=\"text-align: right;\">\n",
              "      <th></th>\n",
              "      <th>clean_message</th>\n",
              "      <th>label</th>\n",
              "    </tr>\n",
              "  </thead>\n",
              "  <tbody>\n",
              "    <tr>\n",
              "      <th>1</th>\n",
              "      <td>chicago bears starting quarterbacks last 10 ye...</td>\n",
              "      <td>0</td>\n",
              "    </tr>\n",
              "    <tr>\n",
              "      <th>3</th>\n",
              "      <td>mccain opposed requirement government buy amer...</td>\n",
              "      <td>0</td>\n",
              "    </tr>\n",
              "    <tr>\n",
              "      <th>7</th>\n",
              "      <td>says paul ryan still endorsing trump</td>\n",
              "      <td>0</td>\n",
              "    </tr>\n",
              "    <tr>\n",
              "      <th>9</th>\n",
              "      <td>federal government thinks authority regulate t...</td>\n",
              "      <td>0</td>\n",
              "    </tr>\n",
              "    <tr>\n",
              "      <th>10</th>\n",
              "      <td>austin city basically doubled size every 25 ye...</td>\n",
              "      <td>0</td>\n",
              "    </tr>\n",
              "    <tr>\n",
              "      <th>...</th>\n",
              "      <td>...</td>\n",
              "      <td>...</td>\n",
              "    </tr>\n",
              "    <tr>\n",
              "      <th>64458</th>\n",
              "      <td>nhs services could take long 2 years recover e...</td>\n",
              "      <td>0</td>\n",
              "    </tr>\n",
              "    <tr>\n",
              "      <th>64460</th>\n",
              "      <td>yesterday erroneously reported 7 new cases jig...</td>\n",
              "      <td>0</td>\n",
              "    </tr>\n",
              "    <tr>\n",
              "      <th>64462</th>\n",
              "      <td>indiafightscorona 📍 increasing number covid19 ...</td>\n",
              "      <td>0</td>\n",
              "    </tr>\n",
              "    <tr>\n",
              "      <th>64464</th>\n",
              "      <td>current understanding covid19 spreads mostly p...</td>\n",
              "      <td>0</td>\n",
              "    </tr>\n",
              "    <tr>\n",
              "      <th>64467</th>\n",
              "      <td>another 4422 new coronavirus cases confirmed u...</td>\n",
              "      <td>0</td>\n",
              "    </tr>\n",
              "  </tbody>\n",
              "</table>\n",
              "<p>30925 rows × 2 columns</p>\n",
              "</div>\n",
              "    <div class=\"colab-df-buttons\">\n",
              "\n",
              "  <div class=\"colab-df-container\">\n",
              "    <button class=\"colab-df-convert\" onclick=\"convertToInteractive('df-0001cc3c-0936-4329-8685-e05fb49745ea')\"\n",
              "            title=\"Convert this dataframe to an interactive table.\"\n",
              "            style=\"display:none;\">\n",
              "\n",
              "  <svg xmlns=\"http://www.w3.org/2000/svg\" height=\"24px\" viewBox=\"0 -960 960 960\">\n",
              "    <path d=\"M120-120v-720h720v720H120Zm60-500h600v-160H180v160Zm220 220h160v-160H400v160Zm0 220h160v-160H400v160ZM180-400h160v-160H180v160Zm440 0h160v-160H620v160ZM180-180h160v-160H180v160Zm440 0h160v-160H620v160Z\"/>\n",
              "  </svg>\n",
              "    </button>\n",
              "\n",
              "  <style>\n",
              "    .colab-df-container {\n",
              "      display:flex;\n",
              "      gap: 12px;\n",
              "    }\n",
              "\n",
              "    .colab-df-convert {\n",
              "      background-color: #E8F0FE;\n",
              "      border: none;\n",
              "      border-radius: 50%;\n",
              "      cursor: pointer;\n",
              "      display: none;\n",
              "      fill: #1967D2;\n",
              "      height: 32px;\n",
              "      padding: 0 0 0 0;\n",
              "      width: 32px;\n",
              "    }\n",
              "\n",
              "    .colab-df-convert:hover {\n",
              "      background-color: #E2EBFA;\n",
              "      box-shadow: 0px 1px 2px rgba(60, 64, 67, 0.3), 0px 1px 3px 1px rgba(60, 64, 67, 0.15);\n",
              "      fill: #174EA6;\n",
              "    }\n",
              "\n",
              "    .colab-df-buttons div {\n",
              "      margin-bottom: 4px;\n",
              "    }\n",
              "\n",
              "    [theme=dark] .colab-df-convert {\n",
              "      background-color: #3B4455;\n",
              "      fill: #D2E3FC;\n",
              "    }\n",
              "\n",
              "    [theme=dark] .colab-df-convert:hover {\n",
              "      background-color: #434B5C;\n",
              "      box-shadow: 0px 1px 3px 1px rgba(0, 0, 0, 0.15);\n",
              "      filter: drop-shadow(0px 1px 2px rgba(0, 0, 0, 0.3));\n",
              "      fill: #FFFFFF;\n",
              "    }\n",
              "  </style>\n",
              "\n",
              "    <script>\n",
              "      const buttonEl =\n",
              "        document.querySelector('#df-0001cc3c-0936-4329-8685-e05fb49745ea button.colab-df-convert');\n",
              "      buttonEl.style.display =\n",
              "        google.colab.kernel.accessAllowed ? 'block' : 'none';\n",
              "\n",
              "      async function convertToInteractive(key) {\n",
              "        const element = document.querySelector('#df-0001cc3c-0936-4329-8685-e05fb49745ea');\n",
              "        const dataTable =\n",
              "          await google.colab.kernel.invokeFunction('convertToInteractive',\n",
              "                                                    [key], {});\n",
              "        if (!dataTable) return;\n",
              "\n",
              "        const docLinkHtml = 'Like what you see? Visit the ' +\n",
              "          '<a target=\"_blank\" href=https://colab.research.google.com/notebooks/data_table.ipynb>data table notebook</a>'\n",
              "          + ' to learn more about interactive tables.';\n",
              "        element.innerHTML = '';\n",
              "        dataTable['output_type'] = 'display_data';\n",
              "        await google.colab.output.renderOutput(dataTable, element);\n",
              "        const docLink = document.createElement('div');\n",
              "        docLink.innerHTML = docLinkHtml;\n",
              "        element.appendChild(docLink);\n",
              "      }\n",
              "    </script>\n",
              "  </div>\n",
              "\n",
              "\n",
              "<div id=\"df-4a4f8395-e337-4c1f-9f82-cb6d7c0ef6bf\">\n",
              "  <button class=\"colab-df-quickchart\" onclick=\"quickchart('df-4a4f8395-e337-4c1f-9f82-cb6d7c0ef6bf')\"\n",
              "            title=\"Suggest charts\"\n",
              "            style=\"display:none;\">\n",
              "\n",
              "<svg xmlns=\"http://www.w3.org/2000/svg\" height=\"24px\"viewBox=\"0 0 24 24\"\n",
              "     width=\"24px\">\n",
              "    <g>\n",
              "        <path d=\"M19 3H5c-1.1 0-2 .9-2 2v14c0 1.1.9 2 2 2h14c1.1 0 2-.9 2-2V5c0-1.1-.9-2-2-2zM9 17H7v-7h2v7zm4 0h-2V7h2v10zm4 0h-2v-4h2v4z\"/>\n",
              "    </g>\n",
              "</svg>\n",
              "  </button>\n",
              "\n",
              "<style>\n",
              "  .colab-df-quickchart {\n",
              "      --bg-color: #E8F0FE;\n",
              "      --fill-color: #1967D2;\n",
              "      --hover-bg-color: #E2EBFA;\n",
              "      --hover-fill-color: #174EA6;\n",
              "      --disabled-fill-color: #AAA;\n",
              "      --disabled-bg-color: #DDD;\n",
              "  }\n",
              "\n",
              "  [theme=dark] .colab-df-quickchart {\n",
              "      --bg-color: #3B4455;\n",
              "      --fill-color: #D2E3FC;\n",
              "      --hover-bg-color: #434B5C;\n",
              "      --hover-fill-color: #FFFFFF;\n",
              "      --disabled-bg-color: #3B4455;\n",
              "      --disabled-fill-color: #666;\n",
              "  }\n",
              "\n",
              "  .colab-df-quickchart {\n",
              "    background-color: var(--bg-color);\n",
              "    border: none;\n",
              "    border-radius: 50%;\n",
              "    cursor: pointer;\n",
              "    display: none;\n",
              "    fill: var(--fill-color);\n",
              "    height: 32px;\n",
              "    padding: 0;\n",
              "    width: 32px;\n",
              "  }\n",
              "\n",
              "  .colab-df-quickchart:hover {\n",
              "    background-color: var(--hover-bg-color);\n",
              "    box-shadow: 0 1px 2px rgba(60, 64, 67, 0.3), 0 1px 3px 1px rgba(60, 64, 67, 0.15);\n",
              "    fill: var(--button-hover-fill-color);\n",
              "  }\n",
              "\n",
              "  .colab-df-quickchart-complete:disabled,\n",
              "  .colab-df-quickchart-complete:disabled:hover {\n",
              "    background-color: var(--disabled-bg-color);\n",
              "    fill: var(--disabled-fill-color);\n",
              "    box-shadow: none;\n",
              "  }\n",
              "\n",
              "  .colab-df-spinner {\n",
              "    border: 2px solid var(--fill-color);\n",
              "    border-color: transparent;\n",
              "    border-bottom-color: var(--fill-color);\n",
              "    animation:\n",
              "      spin 1s steps(1) infinite;\n",
              "  }\n",
              "\n",
              "  @keyframes spin {\n",
              "    0% {\n",
              "      border-color: transparent;\n",
              "      border-bottom-color: var(--fill-color);\n",
              "      border-left-color: var(--fill-color);\n",
              "    }\n",
              "    20% {\n",
              "      border-color: transparent;\n",
              "      border-left-color: var(--fill-color);\n",
              "      border-top-color: var(--fill-color);\n",
              "    }\n",
              "    30% {\n",
              "      border-color: transparent;\n",
              "      border-left-color: var(--fill-color);\n",
              "      border-top-color: var(--fill-color);\n",
              "      border-right-color: var(--fill-color);\n",
              "    }\n",
              "    40% {\n",
              "      border-color: transparent;\n",
              "      border-right-color: var(--fill-color);\n",
              "      border-top-color: var(--fill-color);\n",
              "    }\n",
              "    60% {\n",
              "      border-color: transparent;\n",
              "      border-right-color: var(--fill-color);\n",
              "    }\n",
              "    80% {\n",
              "      border-color: transparent;\n",
              "      border-right-color: var(--fill-color);\n",
              "      border-bottom-color: var(--fill-color);\n",
              "    }\n",
              "    90% {\n",
              "      border-color: transparent;\n",
              "      border-bottom-color: var(--fill-color);\n",
              "    }\n",
              "  }\n",
              "</style>\n",
              "\n",
              "  <script>\n",
              "    async function quickchart(key) {\n",
              "      const quickchartButtonEl =\n",
              "        document.querySelector('#' + key + ' button');\n",
              "      quickchartButtonEl.disabled = true;  // To prevent multiple clicks.\n",
              "      quickchartButtonEl.classList.add('colab-df-spinner');\n",
              "      try {\n",
              "        const charts = await google.colab.kernel.invokeFunction(\n",
              "            'suggestCharts', [key], {});\n",
              "      } catch (error) {\n",
              "        console.error('Error during call to suggestCharts:', error);\n",
              "      }\n",
              "      quickchartButtonEl.classList.remove('colab-df-spinner');\n",
              "      quickchartButtonEl.classList.add('colab-df-quickchart-complete');\n",
              "    }\n",
              "    (() => {\n",
              "      let quickchartButtonEl =\n",
              "        document.querySelector('#df-4a4f8395-e337-4c1f-9f82-cb6d7c0ef6bf button');\n",
              "      quickchartButtonEl.style.display =\n",
              "        google.colab.kernel.accessAllowed ? 'block' : 'none';\n",
              "    })();\n",
              "  </script>\n",
              "</div>\n",
              "    </div>\n",
              "  </div>\n"
            ]
          },
          "metadata": {},
          "execution_count": 2
        }
      ]
    },
    {
      "cell_type": "code",
      "source": [
        "real_train, real_test = train_test_split(real_df, test_size=0.2, random_state=42)\n",
        "fake_train, fake_test = train_test_split(fake_df, test_size = 0.2, random_state=42)"
      ],
      "metadata": {
        "id": "fcVDvJPJWoZn"
      },
      "id": "fcVDvJPJWoZn",
      "execution_count": 8,
      "outputs": []
    },
    {
      "cell_type": "code",
      "execution_count": 9,
      "id": "1c9cdee1",
      "metadata": {
        "scrolled": true,
        "colab": {
          "base_uri": "https://localhost:8080/"
        },
        "id": "1c9cdee1",
        "outputId": "84b08b51-56a9-4da4-e2c9-14d589a5dd5c"
      },
      "outputs": [
        {
          "output_type": "execute_result",
          "data": {
            "text/plain": [
              "((24740, 2), (6185, 2), (26834, 2), (6709, 2))"
            ]
          },
          "metadata": {},
          "execution_count": 9
        }
      ],
      "source": [
        "real_train.shape, real_test.shape,fake_train.shape, fake_test.shape"
      ]
    },
    {
      "cell_type": "code",
      "source": [
        "train = pd.concat([real_train, fake_train], ignore_index=True)\n",
        "test = pd.concat([real_test, fake_test], ignore_index=True)"
      ],
      "metadata": {
        "id": "N6SjQSmbypx2"
      },
      "id": "N6SjQSmbypx2",
      "execution_count": 10,
      "outputs": []
    },
    {
      "cell_type": "code",
      "source": [
        "print('Shape of train set {}'.format(train.shape))\n",
        "print('Shape of test  set {}'.format(test.shape))"
      ],
      "metadata": {
        "colab": {
          "base_uri": "https://localhost:8080/"
        },
        "id": "naVi8JVmy6Pg",
        "outputId": "c870c1ad-9af6-42ae-ebb0-f1ea61b2d603"
      },
      "id": "naVi8JVmy6Pg",
      "execution_count": 11,
      "outputs": [
        {
          "output_type": "stream",
          "name": "stdout",
          "text": [
            "Shape of train set (51574, 2)\n",
            "Shape of test  set (12894, 2)\n"
          ]
        }
      ]
    },
    {
      "cell_type": "markdown",
      "id": "1f28525d",
      "metadata": {
        "id": "1f28525d"
      },
      "source": [
        "# Cuda 사용"
      ]
    },
    {
      "cell_type": "code",
      "source": [
        "!pip install torch torchvision torchaudio --upgrade\n"
      ],
      "metadata": {
        "colab": {
          "base_uri": "https://localhost:8080/"
        },
        "id": "6l2nFv_VavDq",
        "outputId": "4d63b57e-10fc-4b89-df71-497ce2ce617b"
      },
      "id": "6l2nFv_VavDq",
      "execution_count": 38,
      "outputs": [
        {
          "output_type": "stream",
          "name": "stdout",
          "text": [
            "Requirement already satisfied: torch in /usr/local/lib/python3.10/dist-packages (2.1.0+cu118)\n",
            "Requirement already satisfied: torchvision in /usr/local/lib/python3.10/dist-packages (0.16.0+cu118)\n",
            "Requirement already satisfied: torchaudio in /usr/local/lib/python3.10/dist-packages (2.1.0+cu118)\n",
            "Requirement already satisfied: filelock in /usr/local/lib/python3.10/dist-packages (from torch) (3.13.1)\n",
            "Requirement already satisfied: typing-extensions in /usr/local/lib/python3.10/dist-packages (from torch) (4.5.0)\n",
            "Requirement already satisfied: sympy in /usr/local/lib/python3.10/dist-packages (from torch) (1.12)\n",
            "Requirement already satisfied: networkx in /usr/local/lib/python3.10/dist-packages (from torch) (3.2.1)\n",
            "Requirement already satisfied: jinja2 in /usr/local/lib/python3.10/dist-packages (from torch) (3.1.2)\n",
            "Requirement already satisfied: fsspec in /usr/local/lib/python3.10/dist-packages (from torch) (2023.6.0)\n",
            "Requirement already satisfied: triton==2.1.0 in /usr/local/lib/python3.10/dist-packages (from torch) (2.1.0)\n",
            "Requirement already satisfied: numpy in /usr/local/lib/python3.10/dist-packages (from torchvision) (1.23.5)\n",
            "Requirement already satisfied: requests in /usr/local/lib/python3.10/dist-packages (from torchvision) (2.31.0)\n",
            "Requirement already satisfied: pillow!=8.3.*,>=5.3.0 in /usr/local/lib/python3.10/dist-packages (from torchvision) (9.4.0)\n",
            "Requirement already satisfied: MarkupSafe>=2.0 in /usr/local/lib/python3.10/dist-packages (from jinja2->torch) (2.1.3)\n",
            "Requirement already satisfied: charset-normalizer<4,>=2 in /usr/local/lib/python3.10/dist-packages (from requests->torchvision) (3.3.2)\n",
            "Requirement already satisfied: idna<4,>=2.5 in /usr/local/lib/python3.10/dist-packages (from requests->torchvision) (3.4)\n",
            "Requirement already satisfied: urllib3<3,>=1.21.1 in /usr/local/lib/python3.10/dist-packages (from requests->torchvision) (2.0.7)\n",
            "Requirement already satisfied: certifi>=2017.4.17 in /usr/local/lib/python3.10/dist-packages (from requests->torchvision) (2023.7.22)\n",
            "Requirement already satisfied: mpmath>=0.19 in /usr/local/lib/python3.10/dist-packages (from sympy->torch) (1.3.0)\n"
          ]
        }
      ]
    },
    {
      "cell_type": "code",
      "source": [
        "import numpy as np\n",
        "import math\n",
        "import re\n",
        "import pandas as pd\n",
        "from bs4 import BeautifulSoup\n",
        "import random"
      ],
      "metadata": {
        "id": "Jw7DT6i4ZIWb"
      },
      "id": "Jw7DT6i4ZIWb",
      "execution_count": 3,
      "outputs": []
    },
    {
      "cell_type": "code",
      "execution_count": 4,
      "id": "7eb99c44",
      "metadata": {
        "colab": {
          "base_uri": "https://localhost:8080/"
        },
        "id": "7eb99c44",
        "outputId": "0469847c-d87a-4d43-905a-454671f03ba6"
      },
      "outputs": [
        {
          "output_type": "stream",
          "name": "stdout",
          "text": [
            "2.1.0+cu118\n"
          ]
        }
      ],
      "source": [
        "import torch\n",
        "\n",
        "print(torch.__version__)\n",
        "\n",
        "\n",
        "# TPU 디바이스를 얻습니다.\n",
        "\n",
        "\n",
        "\n",
        "\n",
        "# 나머지 훈련 과정...\n"
      ]
    },
    {
      "cell_type": "code",
      "execution_count": null,
      "id": "b4902525",
      "metadata": {
        "id": "b4902525"
      },
      "outputs": [],
      "source": [
        "import tensorflow as tf\n",
        "gpus = tf.config.experimental.list_physical_devices('TPU')\n",
        "for gpu in gpus:\n",
        "    print(\"Name:\", gpu.name, \"  Type:\", gpu.device_type)\n"
      ]
    },
    {
      "cell_type": "markdown",
      "id": "e9e1dfc7",
      "metadata": {
        "id": "e9e1dfc7"
      },
      "source": [
        "# Roberta 모델 사용"
      ]
    },
    {
      "cell_type": "code",
      "execution_count": 5,
      "id": "42c33343",
      "metadata": {
        "scrolled": true,
        "colab": {
          "base_uri": "https://localhost:8080/",
          "height": 126
        },
        "id": "42c33343",
        "outputId": "e67cb9ad-1663-4105-d7f2-a494aad1c343"
      },
      "outputs": [
        {
          "output_type": "execute_result",
          "data": {
            "text/plain": [
              "\"\\nClassificationArgs(adafactor_beta1: float=None,\\n                   adafactor_clip_threshold: float=1.0,\\n                   adafactor_decay_rate: float=-0.8,\\n                   adafactor_eps: tuple=dataclasses._HAS_DEFAULT_FACTORY_CLASS instance,\\n                   adafactor_relative_step: bool=True, adafactor_scale_parameter: bool=True,\\n                   adafactor_warmup_init: bool=True,\\n                   adam_epsilon: float=1e-08,\\n                   best_model_dir: str='outputs/best_model',\\n                   cache_dir: str='cache_dir/',\\n                   config: dict=dataclasses._HAS_DEFAULT_FACTORY_CLASS instance,\\n                   cosine_schedule_num_cycles: float=0.5,\\n                   custom_layer_parameters: list=dataclasses._HAS_DEFAULT_FACTORY_CLASS instance,\\n                   custom_parameter_groups: list=dataclasses._HAS_DEFAULT_FACTORY_CLASS instance,\\n                   dataloader_num_workers: int=0,\\n                   do_lower_case: bool=False,\\n                   dynamic_quantize: bool=False,\\n                   early_stopping_consider_epochs: bool=False,\\n                   early_stopping_delta: float=0,\\n                   early_stopping_metric: str='eval_loss',\\n                   early_stopping_metric_minimize: bool=True,\\n                   early_stopping_patience: int=3,\\n                   encoding: str=None,\\n                   eval_batch_size: int=8,\\n                   evaluate_during_training: bool=False,\\n                   evaluate_during_training_silent: bool=True,\\n                   evaluate_during_training_steps: int=2000,\\n                   evaluate_during_training_verbose: bool=False,\\n                   evaluate_each_epoch: bool=True,\\n                   fp16: bool=True,\\n                   gradient_accumulation_steps: int=1,\\n                   learning_rate: float=4e-05,\\n                   local_rank: int=-1,\\n                   logging_steps: int=50,\\n                   manual_seed: int=None,\\n                   max_grad_norm: float=1.0,\\n                   max_seq_length: int=128,\\n                   model_name: str=None,\\n                   model_type: str=None,\\n                   multiprocessing_chunksize: int=-1,\\n                   n_gpu: int=1,\\n                   no_cache: bool=False,\\n                   no_save: bool=False,\\n                   not_saved_args: list=dataclasses._HAS_DEFAULT_FACTORY_CLASS instance,\\n                   num_train_epochs: int=1,\\n                   optimizer: str='AdamW',\\n                   output_dir: str='outputs/',\\n                   overwrite_output_dir: bool=False,\\n                   polynomial_decay_schedule_lr_end: float=1e-07,\\n                   polynomial_decay_schedule_power: float=1.0,\\n                   process_count: int=dataclasses._HAS_DEFAULT_FACTORY_CLASS instance,\\n                   quantized_model: bool=False,\\n                   reprocess_input_data: bool=True,\\n                   save_best_model: bool=True,\\n                   save_eval_checkpoints: bool=True,\\n                   save_model_every_epoch: bool=True,\\n                   save_optimizer_and_scheduler: bool=True,\\n                   save_steps: int=2000,\\n                   scheduler: str='linear_schedule_with...',\\n                   silent: bool=False,\\n                   skip_special_tokens: bool=True,\\n                   tensorboard_dir: str=None,\\n                   thread_count: int=None,\\n                   tokenizer_name: str=None,\\n                   tokenizer_type: str=None,\\n                   train_batch_size: int=8,\\n                   train_custom_parameters_only: bool=False,\\n                   use_cached_eval_features: bool=False,\\n                   use_early_stopping: bool=False,\\n                   use_hf_datasets: bool=False,\\n                   use_multiprocessing: bool=True,\\n                   use_multiprocessing_for_evaluation: bool=True,\\n                   wandb_kwargs: dict=dataclasses._HAS_DEFAULT_FACTORY_CLASS instance,\\n                   wandb_project: str=None,\\n                   warmup_ratio: float=0.06,\\n                   warmup_steps: int=0,\\n                   weight_decay: float=0.0,\\n                   model_class: str='ClassificationModel',\\n                   labels_list: list=dataclasses._HAS_DEFAULT_FACTORY_CLASS instance,\\n                   labels_map: dict=dataclasses._HAS_DEFAULT_FACTORY_CLASS instance,\\n                   lazy_delimiter: str='\\t',\\n                   lazy_labels_column: int=1,\\n                   lazy_loading: bool=False,\\n                   lazy_loading_start_line: int=1,\\n                   lazy_text_a_column: bool=None,\\n                   lazy_text_b_column: bool=None,\\n                   lazy_text_column: int=0,\\n                   onnx: bool=False,\\n                   regression: bool=False,\\n                   sliding_window: bool=False,\\n                   special_tokens_list: list=dataclasses._HAS_DEFAULT_FACTORY_CLASS instance,\\n                   stride: float=0.8,\\n                   tie_value: int=1) -> None\\n                   )\\n\""
            ],
            "application/vnd.google.colaboratory.intrinsic+json": {
              "type": "string"
            }
          },
          "metadata": {},
          "execution_count": 5
        }
      ],
      "source": [
        "# Default Configuration : https://simpletransformers.ai/docs/usage/#configuring-a-simple-transformers-model\n",
        "\n",
        "'''\n",
        "ClassificationArgs(adafactor_beta1: float=None,\n",
        "                   adafactor_clip_threshold: float=1.0,\n",
        "                   adafactor_decay_rate: float=-0.8,\n",
        "                   adafactor_eps: tuple=dataclasses._HAS_DEFAULT_FACTORY_CLASS instance,\n",
        "                   adafactor_relative_step: bool=True, adafactor_scale_parameter: bool=True,\n",
        "                   adafactor_warmup_init: bool=True,\n",
        "                   adam_epsilon: float=1e-08,\n",
        "                   best_model_dir: str='outputs/best_model',\n",
        "                   cache_dir: str='cache_dir/',\n",
        "                   config: dict=dataclasses._HAS_DEFAULT_FACTORY_CLASS instance,\n",
        "                   cosine_schedule_num_cycles: float=0.5,\n",
        "                   custom_layer_parameters: list=dataclasses._HAS_DEFAULT_FACTORY_CLASS instance,\n",
        "                   custom_parameter_groups: list=dataclasses._HAS_DEFAULT_FACTORY_CLASS instance,\n",
        "                   dataloader_num_workers: int=0,\n",
        "                   do_lower_case: bool=False,\n",
        "                   dynamic_quantize: bool=False,\n",
        "                   early_stopping_consider_epochs: bool=False,\n",
        "                   early_stopping_delta: float=0,\n",
        "                   early_stopping_metric: str='eval_loss',\n",
        "                   early_stopping_metric_minimize: bool=True,\n",
        "                   early_stopping_patience: int=3,\n",
        "                   encoding: str=None,\n",
        "                   eval_batch_size: int=8,\n",
        "                   evaluate_during_training: bool=False,\n",
        "                   evaluate_during_training_silent: bool=True,\n",
        "                   evaluate_during_training_steps: int=2000,\n",
        "                   evaluate_during_training_verbose: bool=False,\n",
        "                   evaluate_each_epoch: bool=True,\n",
        "                   fp16: bool=True,\n",
        "                   gradient_accumulation_steps: int=1,\n",
        "                   learning_rate: float=4e-05,\n",
        "                   local_rank: int=-1,\n",
        "                   logging_steps: int=50,\n",
        "                   manual_seed: int=None,\n",
        "                   max_grad_norm: float=1.0,\n",
        "                   max_seq_length: int=128,\n",
        "                   model_name: str=None,\n",
        "                   model_type: str=None,\n",
        "                   multiprocessing_chunksize: int=-1,\n",
        "                   n_gpu: int=1,\n",
        "                   no_cache: bool=False,\n",
        "                   no_save: bool=False,\n",
        "                   not_saved_args: list=dataclasses._HAS_DEFAULT_FACTORY_CLASS instance,\n",
        "                   num_train_epochs: int=1,\n",
        "                   optimizer: str='AdamW',\n",
        "                   output_dir: str='outputs/',\n",
        "                   overwrite_output_dir: bool=False,\n",
        "                   polynomial_decay_schedule_lr_end: float=1e-07,\n",
        "                   polynomial_decay_schedule_power: float=1.0,\n",
        "                   process_count: int=dataclasses._HAS_DEFAULT_FACTORY_CLASS instance,\n",
        "                   quantized_model: bool=False,\n",
        "                   reprocess_input_data: bool=True,\n",
        "                   save_best_model: bool=True,\n",
        "                   save_eval_checkpoints: bool=True,\n",
        "                   save_model_every_epoch: bool=True,\n",
        "                   save_optimizer_and_scheduler: bool=True,\n",
        "                   save_steps: int=2000,\n",
        "                   scheduler: str='linear_schedule_with...',\n",
        "                   silent: bool=False,\n",
        "                   skip_special_tokens: bool=True,\n",
        "                   tensorboard_dir: str=None,\n",
        "                   thread_count: int=None,\n",
        "                   tokenizer_name: str=None,\n",
        "                   tokenizer_type: str=None,\n",
        "                   train_batch_size: int=8,\n",
        "                   train_custom_parameters_only: bool=False,\n",
        "                   use_cached_eval_features: bool=False,\n",
        "                   use_early_stopping: bool=False,\n",
        "                   use_hf_datasets: bool=False,\n",
        "                   use_multiprocessing: bool=True,\n",
        "                   use_multiprocessing_for_evaluation: bool=True,\n",
        "                   wandb_kwargs: dict=dataclasses._HAS_DEFAULT_FACTORY_CLASS instance,\n",
        "                   wandb_project: str=None,\n",
        "                   warmup_ratio: float=0.06,\n",
        "                   warmup_steps: int=0,\n",
        "                   weight_decay: float=0.0,\n",
        "                   model_class: str='ClassificationModel',\n",
        "                   labels_list: list=dataclasses._HAS_DEFAULT_FACTORY_CLASS instance,\n",
        "                   labels_map: dict=dataclasses._HAS_DEFAULT_FACTORY_CLASS instance,\n",
        "                   lazy_delimiter: str='\\t',\n",
        "                   lazy_labels_column: int=1,\n",
        "                   lazy_loading: bool=False,\n",
        "                   lazy_loading_start_line: int=1,\n",
        "                   lazy_text_a_column: bool=None,\n",
        "                   lazy_text_b_column: bool=None,\n",
        "                   lazy_text_column: int=0,\n",
        "                   onnx: bool=False,\n",
        "                   regression: bool=False,\n",
        "                   sliding_window: bool=False,\n",
        "                   special_tokens_list: list=dataclasses._HAS_DEFAULT_FACTORY_CLASS instance,\n",
        "                   stride: float=0.8,\n",
        "                   tie_value: int=1) -> None\n",
        "                   )\n",
        "'''"
      ]
    },
    {
      "cell_type": "code",
      "execution_count": 6,
      "id": "f2e7d191",
      "metadata": {
        "colab": {
          "base_uri": "https://localhost:8080/",
          "height": 233,
          "referenced_widgets": [
            "7508a416910d43feb3146541b6cb9b4d",
            "57643a6d9626437ea7d1a72b03d05255",
            "827cda4ea35b45139f79fb898a724cbf",
            "e21e58c78b2e4b319f4b1f5eccef02d8",
            "6caf46dfe12d46cb8ba20b1b5c51cbf8",
            "e76e7fa59fcd4a4fb715f1d6dcc377ad",
            "cc02c7991c0944d28c84cfa48e7c6256",
            "70ae7a7b85ad46f38b3adbb16b2cc895",
            "e2a5b1b572a344b2813ea4008b7c85c8",
            "1b43c85b4ed4405c8463d79ee60f1d90",
            "51d24a664b4b4a8ea1eed5cacc7fe778",
            "e7feb1b62f284e989bdcd3af1d78af97",
            "4c3870f6b115441ea51d766fd1d9fb0c",
            "29ce3410924c44b186c79b06ea6abaee",
            "68cad31cde704537ab5034844fa4c9ce",
            "27a3a492b7c749e582eda0b471a03fb7",
            "7a20f871755e46b98c79cd680c29abbd",
            "981116f9144e43989427f13d3cda5a61",
            "dd9c1d7385504c1db6673f12d82c5f89",
            "5be613c5210640d9a572806b1ac15cdc",
            "a92335e0be68490ca1a74f9f71498d26",
            "7758a8c814ba484b807e5d87cadfc8d0",
            "a84b5cf9635a4bba8acf5190ff1166fc",
            "19e2d45f23a14b77bb746b62558b1585",
            "c79067093b66463fb29566cc6816e05a",
            "d48f6fc698cd46d7ae9a4fd371495da7",
            "57291477fcda4c93b060b3da16731d6b",
            "cf402a3270eb4de79d9c2ae49ff13544",
            "3d985aaf9b164b22a6ccb406d93b2a17",
            "b171b2c47e2a406caff1d2ae1e3391e3",
            "ed449c0e77cd42bdad598f025234d1ac",
            "d2b79c710c1d4f5b9d6f8ce45a8b0738",
            "ea47deb730834ec49a40b2252544f9b2",
            "61a1177bb1fd46038a00c58f29590b7b",
            "2acefdc0eb9a47a38a119d30a17c3e18",
            "05a9ee5ca98a4948a33b83660cc4c278",
            "cb25952dae384302961ae831c68276d6",
            "737fefe7876e483998df8e3992fdae6e",
            "19035e1a1a8a4a34a23fec9055ba8cd2",
            "92bdcd2e8fe840d291c90ddf55a0d24b",
            "156f26b2a8b948e3ae0aa1fecf3bc95b",
            "1f12bd0e66ab43e7aa01c53f9ea1fb47",
            "4ab7d88576074f819e337728370e1a90",
            "d6dbaeadbb7141b2a243fa0cca71a65a",
            "0d81894a64254562a6b6252543d111ab",
            "b61e16860aeb4cb887fea14e731b5bac",
            "5e0034b907034659a765be6e2bba14cf",
            "95b4a9ad64b145cdadcce74cdc8464f7",
            "8c07e47941b34fe2b381efcc4b9e53a6",
            "7de17a63f2c5412fa639a26ca2a8b147",
            "f17d957d2d7e4844a7f48a211a2709bd",
            "75d0944156074b8da46618e1367a21c0",
            "c4d9e5a5f6224f0f81817371ddc13995",
            "d620cfda77154d20ace5a8a41f2e0d65",
            "306c2ffe03db4efc99053e71ced994c0"
          ]
        },
        "id": "f2e7d191",
        "outputId": "a552b5d4-7b8d-4632-b6cc-f8764846cb1c"
      },
      "outputs": [
        {
          "output_type": "display_data",
          "data": {
            "text/plain": [
              "Downloading (…)lve/main/config.json:   0%|          | 0.00/481 [00:00<?, ?B/s]"
            ],
            "application/vnd.jupyter.widget-view+json": {
              "version_major": 2,
              "version_minor": 0,
              "model_id": "7508a416910d43feb3146541b6cb9b4d"
            }
          },
          "metadata": {}
        },
        {
          "output_type": "display_data",
          "data": {
            "text/plain": [
              "Downloading model.safetensors:   0%|          | 0.00/499M [00:00<?, ?B/s]"
            ],
            "application/vnd.jupyter.widget-view+json": {
              "version_major": 2,
              "version_minor": 0,
              "model_id": "e7feb1b62f284e989bdcd3af1d78af97"
            }
          },
          "metadata": {}
        },
        {
          "output_type": "stream",
          "name": "stderr",
          "text": [
            "Some weights of RobertaForSequenceClassification were not initialized from the model checkpoint at roberta-base and are newly initialized: ['classifier.dense.bias', 'classifier.out_proj.weight', 'classifier.out_proj.bias', 'classifier.dense.weight']\n",
            "You should probably TRAIN this model on a down-stream task to be able to use it for predictions and inference.\n"
          ]
        },
        {
          "output_type": "display_data",
          "data": {
            "text/plain": [
              "Downloading (…)olve/main/vocab.json:   0%|          | 0.00/899k [00:00<?, ?B/s]"
            ],
            "application/vnd.jupyter.widget-view+json": {
              "version_major": 2,
              "version_minor": 0,
              "model_id": "a84b5cf9635a4bba8acf5190ff1166fc"
            }
          },
          "metadata": {}
        },
        {
          "output_type": "display_data",
          "data": {
            "text/plain": [
              "Downloading (…)olve/main/merges.txt:   0%|          | 0.00/456k [00:00<?, ?B/s]"
            ],
            "application/vnd.jupyter.widget-view+json": {
              "version_major": 2,
              "version_minor": 0,
              "model_id": "61a1177bb1fd46038a00c58f29590b7b"
            }
          },
          "metadata": {}
        },
        {
          "output_type": "display_data",
          "data": {
            "text/plain": [
              "Downloading (…)/main/tokenizer.json:   0%|          | 0.00/1.36M [00:00<?, ?B/s]"
            ],
            "application/vnd.jupyter.widget-view+json": {
              "version_major": 2,
              "version_minor": 0,
              "model_id": "0d81894a64254562a6b6252543d111ab"
            }
          },
          "metadata": {}
        }
      ],
      "source": [
        "from simpletransformers.classification import ClassificationModel, ClassificationArgs\n",
        "\n",
        "# Reference : https://simpletransformers.ai/docs/classification-specifics/\n",
        "\n",
        "# Optional model configuration\n",
        "model_args = ClassificationArgs(num_train_epochs=5, train_batch_size=128, eval_batch_size=128, use_early_stopping=True, sliding_window=True)\n",
        "\n",
        "# Create a ClassificationModel\n",
        "model = ClassificationModel(\"roberta\", \"roberta-base\", use_cuda = True, num_labels=2, args=model_args)\n"
      ]
    },
    {
      "cell_type": "markdown",
      "source": [],
      "metadata": {
        "id": "vfDeMaoihEv1"
      },
      "id": "vfDeMaoihEv1"
    },
    {
      "cell_type": "code",
      "source": [
        "# Train the model\n",
        "model.train_model(train)"
      ],
      "metadata": {
        "colab": {
          "base_uri": "https://localhost:8080/",
          "height": 699,
          "referenced_widgets": [
            "3058a98b05c242819804853e68d21f31",
            "1d54b44c819947a78b5540966deb94a6",
            "708cc555e752457e82a98f12e333538f",
            "9ec5aad3dd6a492f817cc0a3112abb8f",
            "5d7d14cce9ec4af3a5306f7e291740ae",
            "b18ab9bd253f4a01b87f0b277ef2bb69",
            "5e72e924fb3d4a6eb3ed68e52058eb79",
            "6d99cecf6a86489f9e4bbd604fe55eb1",
            "7dddc12e61bb462a85860c8f4a405ee3",
            "06b8255ed5264a8cafc54b5051a9eb62",
            "455aabe8813e4c77ba54f47010e4a2df",
            "8b35eacd3fd242fd899c9d5dbd577987",
            "bf42019a8592470884cbea1d8a626f1a",
            "97fd647c0c49451abe8f54bd2f6e90e5",
            "570873c83e8349589b274450a2909148",
            "e338c9d1f7504bdf9f480b495ae547da",
            "cdc92a9685084de1af3d99e20230486c",
            "ce5edb302e164c2f805da9db1b763bb0",
            "b5746ac80de04273be7f585860c93baa",
            "e123823ab0e84852b202c7d08bac040f",
            "e18f12fb3caf492a867f3f08f1b3fc6e",
            "303d1f6a437942bba803e4771a8b1faf",
            "77851ea3371643ab9ce8915fb09e674e",
            "de3f287bcee64042a4f0bfdf63e148ec",
            "f40dc9a319b94ba2ae839a642c626089",
            "712edd533d9747609ea7852fc90b46cd",
            "296327f5f0914dfdbe2145e02c161c19",
            "81b21702ff1b4d9eab0159f3e9135680",
            "3fa65a7c83b74022a3062d5689ab38fa",
            "64b5b35169a44d2eb5faf66d11585a5c",
            "c81fa4444c8345cb999dcabb151bfc0b",
            "dcd3441faf2845ecafaf68350b5ba0a1",
            "c3dbf36122f34cee9d2ccdeb64becd29",
            "2fdc87dd2fcc46e78481d9b14f6c8936",
            "756825c387384a28a6886eb6c8a24e53",
            "beb5f6256cff4d1dabf8554ad61b1c84",
            "f5c56b4cff164536ac3c70608adfffe3",
            "56fa9e01532847ad89df47ce96cf119e",
            "1d17fb4064524d608033feeb19e21a6b",
            "83d3e0ffaeee4cafbe83b3a12dca8a88",
            "aa7d71bb0afa4d288f620708919dc4bc",
            "928a26fa86a844129a50d7c36c90177b",
            "765af0e1cc5b4effbe344b49353d0f69",
            "437bbcf93f7c47f9a8603384b5e707b4",
            "70a2f0bf3f444a14b297d52b0208cf3e",
            "0ca58a6f80f045ff83c40065a8b95188",
            "3512bd7526284318b0736c5faf6fe7e7",
            "cae2b99f9605429ba0758acc68fb508a",
            "66c9e091122048f2940d2f2bd70e84d5",
            "2cf55790cfe54e21867f6abdf20d8777",
            "f2d3fd0a3da94d12b4411173b9b61c08",
            "196a9ab078884a64941df6a6ace1ff59",
            "cf6e1598ac27473abca30888f615d5db",
            "b918215c73e9469e89d05a92f3203ece",
            "5cbe32e3ea31437496dde2a15d59251b",
            "8818f0cee4804763b7488c1038d273b4",
            "d9a4be98fd2145209b0f9ddbc9adecd2",
            "c103f4b8895343fa97a2a6c2ca2ea39b",
            "363a047ebc6543b3b6b347b8197489cd",
            "50fe12d11ced4b3a9afd0bdd56323865",
            "e11019e73ebd49d5a6cef2bdc65a9e5d",
            "65a2ad34bb32412f84aff53691991bb8",
            "8a87ef2dee9c48628b58e01cde603d71",
            "985b0cb3c75545839b343086fec99cec",
            "ce540eb1442b49af8456efeff2309000",
            "565117f9e02b4e54b632ba5d5d55cd64",
            "ed33ce366a2f4970951e68f92ae0b726",
            "3be388bfff444f859ba4c8595d27ddea",
            "db1b76eed3144e22ba9052e23da44049",
            "a9c665d99b6c4885a89d8c09eb52358a",
            "0cb45ed7e9884047aafe85d5208c490c",
            "34ebef5826244231a04be5cd163906f8",
            "993b806f648345f7b77acff64db54201",
            "739884c5afe84a48b506e24233d67a9c",
            "266b8ca6d5e74eb3beeba63f292c29d9",
            "c837270ec87c465ba3c2db611bcab597",
            "6bc571d116434601b4b527a7870602bb"
          ]
        },
        "id": "_7jMR4_2wKLg",
        "outputId": "32f2dc7c-5beb-4739-adef-31fd79b535b3"
      },
      "id": "_7jMR4_2wKLg",
      "execution_count": 12,
      "outputs": [
        {
          "output_type": "stream",
          "name": "stderr",
          "text": [
            "/usr/local/lib/python3.10/dist-packages/simpletransformers/classification/classification_model.py:612: UserWarning: Dataframe headers not specified. Falling back to using column 0 as text and column 1 as labels.\n",
            "  warnings.warn(\n"
          ]
        },
        {
          "output_type": "display_data",
          "data": {
            "text/plain": [
              "  0%|          | 0/51574 [00:00<?, ?it/s]"
            ],
            "application/vnd.jupyter.widget-view+json": {
              "version_major": 2,
              "version_minor": 0,
              "model_id": "3058a98b05c242819804853e68d21f31"
            }
          },
          "metadata": {}
        },
        {
          "output_type": "stream",
          "name": "stderr",
          "text": [
            "Token indices sequence length is longer than the specified maximum sequence length for this model (634 > 512). Running this sequence through the model will result in indexing errors\n",
            "Token indices sequence length is longer than the specified maximum sequence length for this model (531 > 512). Running this sequence through the model will result in indexing errors\n",
            "Token indices sequence length is longer than the specified maximum sequence length for this model (516 > 512). Running this sequence through the model will result in indexing errors\n",
            "Token indices sequence length is longer than the specified maximum sequence length for this model (550 > 512). Running this sequence through the model will result in indexing errors\n",
            "Token indices sequence length is longer than the specified maximum sequence length for this model (535 > 512). Running this sequence through the model will result in indexing errors\n",
            "Token indices sequence length is longer than the specified maximum sequence length for this model (544 > 512). Running this sequence through the model will result in indexing errors\n",
            "Token indices sequence length is longer than the specified maximum sequence length for this model (854 > 512). Running this sequence through the model will result in indexing errors\n",
            "Token indices sequence length is longer than the specified maximum sequence length for this model (597 > 512). Running this sequence through the model will result in indexing errors\n",
            "Token indices sequence length is longer than the specified maximum sequence length for this model (539 > 512). Running this sequence through the model will result in indexing errors\n",
            "Token indices sequence length is longer than the specified maximum sequence length for this model (516 > 512). Running this sequence through the model will result in indexing errors\n",
            "Token indices sequence length is longer than the specified maximum sequence length for this model (518 > 512). Running this sequence through the model will result in indexing errors\n",
            "Token indices sequence length is longer than the specified maximum sequence length for this model (517 > 512). Running this sequence through the model will result in indexing errors\n",
            "Token indices sequence length is longer than the specified maximum sequence length for this model (706 > 512). Running this sequence through the model will result in indexing errors\n",
            "Token indices sequence length is longer than the specified maximum sequence length for this model (964 > 512). Running this sequence through the model will result in indexing errors\n",
            "Token indices sequence length is longer than the specified maximum sequence length for this model (519 > 512). Running this sequence through the model will result in indexing errors\n",
            "Token indices sequence length is longer than the specified maximum sequence length for this model (645 > 512). Running this sequence through the model will result in indexing errors\n",
            "Token indices sequence length is longer than the specified maximum sequence length for this model (4233 > 512). Running this sequence through the model will result in indexing errors\n",
            "Token indices sequence length is longer than the specified maximum sequence length for this model (610 > 512). Running this sequence through the model will result in indexing errors\n",
            "Token indices sequence length is longer than the specified maximum sequence length for this model (823 > 512). Running this sequence through the model will result in indexing errors\n",
            "Token indices sequence length is longer than the specified maximum sequence length for this model (1633 > 512). Running this sequence through the model will result in indexing errors\n",
            "Token indices sequence length is longer than the specified maximum sequence length for this model (1023 > 512). Running this sequence through the model will result in indexing errors\n"
          ]
        },
        {
          "output_type": "display_data",
          "data": {
            "text/plain": [
              "Epoch:   0%|          | 0/5 [00:00<?, ?it/s]"
            ],
            "application/vnd.jupyter.widget-view+json": {
              "version_major": 2,
              "version_minor": 0,
              "model_id": "8b35eacd3fd242fd899c9d5dbd577987"
            }
          },
          "metadata": {}
        },
        {
          "output_type": "display_data",
          "data": {
            "text/plain": [
              "Running Epoch 0 of 5:   0%|          | 0/1138 [00:00<?, ?it/s]"
            ],
            "application/vnd.jupyter.widget-view+json": {
              "version_major": 2,
              "version_minor": 0,
              "model_id": "77851ea3371643ab9ce8915fb09e674e"
            }
          },
          "metadata": {}
        },
        {
          "output_type": "display_data",
          "data": {
            "text/plain": [
              "Running Epoch 1 of 5:   0%|          | 0/1138 [00:00<?, ?it/s]"
            ],
            "application/vnd.jupyter.widget-view+json": {
              "version_major": 2,
              "version_minor": 0,
              "model_id": "2fdc87dd2fcc46e78481d9b14f6c8936"
            }
          },
          "metadata": {}
        },
        {
          "output_type": "display_data",
          "data": {
            "text/plain": [
              "Running Epoch 2 of 5:   0%|          | 0/1138 [00:00<?, ?it/s]"
            ],
            "application/vnd.jupyter.widget-view+json": {
              "version_major": 2,
              "version_minor": 0,
              "model_id": "70a2f0bf3f444a14b297d52b0208cf3e"
            }
          },
          "metadata": {}
        },
        {
          "output_type": "display_data",
          "data": {
            "text/plain": [
              "Running Epoch 3 of 5:   0%|          | 0/1138 [00:00<?, ?it/s]"
            ],
            "application/vnd.jupyter.widget-view+json": {
              "version_major": 2,
              "version_minor": 0,
              "model_id": "8818f0cee4804763b7488c1038d273b4"
            }
          },
          "metadata": {}
        },
        {
          "output_type": "display_data",
          "data": {
            "text/plain": [
              "Running Epoch 4 of 5:   0%|          | 0/1138 [00:00<?, ?it/s]"
            ],
            "application/vnd.jupyter.widget-view+json": {
              "version_major": 2,
              "version_minor": 0,
              "model_id": "ed33ce366a2f4970951e68f92ae0b726"
            }
          },
          "metadata": {}
        },
        {
          "output_type": "execute_result",
          "data": {
            "text/plain": [
              "(5690, 0.04500676658459135)"
            ]
          },
          "metadata": {},
          "execution_count": 12
        }
      ]
    },
    {
      "cell_type": "code",
      "execution_count": 13,
      "id": "763d11fb",
      "metadata": {
        "colab": {
          "base_uri": "https://localhost:8080/",
          "height": 502,
          "referenced_widgets": [
            "d277536a54544bd8a68682b8ca00d2a5",
            "d2f30556fab64ce3ba909dd3b79802cb",
            "5bfa6d2665754af292e58d559f092fff",
            "cbbf643981b64cfab2e5b35e4e25d557",
            "ef0053adec16497faa4e29a18e8f39f1",
            "17e3788d02dc4a76990d697004dba55f",
            "1e1342239039489cbb15ae125d51e91f",
            "d7968627ad1049e3a6b336cf7263962b",
            "82597a18016548deb76e2de3df8378c1",
            "9cf4e8f0c9f34926bf5779600b30fb4b",
            "c6817b0cae9b4b8094e65a5c5b0e7c43",
            "12d18b9f5c7942d1b2a5bb010cc67522",
            "cad675e2878d4fabaf8aa8f9867ffc09",
            "43a04168af0b403d81267a3adc3da7b4",
            "83f3ddbdee8e45d38842db417a2bd7c7",
            "bd258331751848ffade9e4285757998c",
            "f0882119a70b4d8e88903e8648c676a3",
            "a49877e336014dc89442caef3f8680f1",
            "15605a7da1344ff1b1cd4320bbd155b7",
            "40657786b1d445f8a95c64e145e52d42",
            "d6a3cec28ec34a95b383389164a65ee2",
            "e031c1175869478a986f76352904e6b7"
          ]
        },
        "id": "763d11fb",
        "outputId": "d66c1519-7442-4c89-f379-40a05b21b4cb"
      },
      "outputs": [
        {
          "output_type": "stream",
          "name": "stderr",
          "text": [
            "/usr/local/lib/python3.10/dist-packages/simpletransformers/classification/classification_model.py:1454: UserWarning: Dataframe headers not specified. Falling back to using column 0 as text and column 1 as labels.\n",
            "  warnings.warn(\n"
          ]
        },
        {
          "output_type": "display_data",
          "data": {
            "text/plain": [
              "  0%|          | 0/12894 [00:00<?, ?it/s]"
            ],
            "application/vnd.jupyter.widget-view+json": {
              "version_major": 2,
              "version_minor": 0,
              "model_id": "d277536a54544bd8a68682b8ca00d2a5"
            }
          },
          "metadata": {}
        },
        {
          "output_type": "stream",
          "name": "stderr",
          "text": [
            "Token indices sequence length is longer than the specified maximum sequence length for this model (780 > 512). Running this sequence through the model will result in indexing errors\n",
            "Token indices sequence length is longer than the specified maximum sequence length for this model (599 > 512). Running this sequence through the model will result in indexing errors\n",
            "Token indices sequence length is longer than the specified maximum sequence length for this model (578 > 512). Running this sequence through the model will result in indexing errors\n",
            "Token indices sequence length is longer than the specified maximum sequence length for this model (713 > 512). Running this sequence through the model will result in indexing errors\n",
            "Token indices sequence length is longer than the specified maximum sequence length for this model (700 > 512). Running this sequence through the model will result in indexing errors\n",
            "Token indices sequence length is longer than the specified maximum sequence length for this model (594 > 512). Running this sequence through the model will result in indexing errors\n",
            "Token indices sequence length is longer than the specified maximum sequence length for this model (535 > 512). Running this sequence through the model will result in indexing errors\n",
            "Token indices sequence length is longer than the specified maximum sequence length for this model (567 > 512). Running this sequence through the model will result in indexing errors\n",
            "Token indices sequence length is longer than the specified maximum sequence length for this model (793 > 512). Running this sequence through the model will result in indexing errors\n",
            "Token indices sequence length is longer than the specified maximum sequence length for this model (742 > 512). Running this sequence through the model will result in indexing errors\n",
            "Token indices sequence length is longer than the specified maximum sequence length for this model (875 > 512). Running this sequence through the model will result in indexing errors\n",
            "Token indices sequence length is longer than the specified maximum sequence length for this model (515 > 512). Running this sequence through the model will result in indexing errors\n",
            "Token indices sequence length is longer than the specified maximum sequence length for this model (576 > 512). Running this sequence through the model will result in indexing errors\n",
            "Token indices sequence length is longer than the specified maximum sequence length for this model (543 > 512). Running this sequence through the model will result in indexing errors\n",
            "Token indices sequence length is longer than the specified maximum sequence length for this model (1117 > 512). Running this sequence through the model will result in indexing errors\n",
            "Token indices sequence length is longer than the specified maximum sequence length for this model (1172 > 512). Running this sequence through the model will result in indexing errors\n",
            "Token indices sequence length is longer than the specified maximum sequence length for this model (878 > 512). Running this sequence through the model will result in indexing errors\n",
            "Token indices sequence length is longer than the specified maximum sequence length for this model (794 > 512). Running this sequence through the model will result in indexing errors\n",
            "Token indices sequence length is longer than the specified maximum sequence length for this model (1057 > 512). Running this sequence through the model will result in indexing errors\n",
            "Token indices sequence length is longer than the specified maximum sequence length for this model (927 > 512). Running this sequence through the model will result in indexing errors\n"
          ]
        },
        {
          "output_type": "display_data",
          "data": {
            "text/plain": [
              "Running Evaluation:   0%|          | 0/286 [00:00<?, ?it/s]"
            ],
            "application/vnd.jupyter.widget-view+json": {
              "version_major": 2,
              "version_minor": 0,
              "model_id": "12d18b9f5c7942d1b2a5bb010cc67522"
            }
          },
          "metadata": {}
        }
      ],
      "source": [
        "result, model_outputs, wrong_predictions = model.eval_model(test)"
      ]
    },
    {
      "cell_type": "code",
      "execution_count": 14,
      "id": "1451ff74",
      "metadata": {
        "colab": {
          "base_uri": "https://localhost:8080/"
        },
        "id": "1451ff74",
        "outputId": "e3c36f5e-7aae-4851-e383-74f9678ac10d"
      },
      "outputs": [
        {
          "output_type": "stream",
          "name": "stdout",
          "text": [
            "Matthews correlation coefficient (MCC) : 0.9820008750423032\n",
            "True positive : 6631\n",
            "True negative : 6147\n",
            "False positive : 38\n",
            "False negative : 78\n",
            "Eval Loss : 0.040534075268160004\n"
          ]
        }
      ],
      "source": [
        "\n",
        "print(\"Matthews correlation coefficient (MCC) : {}\".format(result['mcc']))\n",
        "print(\"True positive : {}\".format(result['tp']))\n",
        "print(\"True negative : {}\".format(result['tn']))\n",
        "print(\"False positive : {}\".format(result['fp']))\n",
        "print(\"False negative : {}\".format(result['fn']))\n",
        "print(\"Eval Loss : {}\".format(result['eval_loss']))\n"
      ]
    },
    {
      "cell_type": "code",
      "source": [
        "test_data = test['clean_message']\n",
        "test_data[12891]"
      ],
      "metadata": {
        "colab": {
          "base_uri": "https://localhost:8080/",
          "height": 126
        },
        "id": "xKLCRE_cqT_z",
        "outputId": "564beb0f-8b25-4693-ef97-553c7d8f074e"
      },
      "id": "xKLCRE_cqT_z",
      "execution_count": 30,
      "outputs": [
        {
          "output_type": "execute_result",
          "data": {
            "text/plain": [
              "'donald trump president scary prospect sane americans politicians gop democrat alike way behind bloviating fool crazy dangerous violent supporters california governor jerry brown taken one step turned trump constant talk building walls right back around brown fact says california need wall trump becomes presidentbrown made statements dinner party labor union said crowd promise trump ever elected build wall around california defend rest country governor brown assured cheering laughing crowd kidding way joke like walls like bridges brown went point important immigration american workforce old white guys ought recognize whole pension system would collapse bunch young people coming country state coming coming places brown right course walls solution bridges however trump band lunatics take america wall around california anyone else wanting shield travesty might bad ideawatch video governor brown remarks belowfeatured image via screen capture jerry brown facebookca gov we’d ‘have build wall’ around state trump president video'"
            ],
            "application/vnd.google.colaboratory.intrinsic+json": {
              "type": "string"
            }
          },
          "metadata": {},
          "execution_count": 30
        }
      ]
    },
    {
      "cell_type": "code",
      "source": [
        "test_data = test['clean_message']\n",
        "predictions, raw_outputs = model.predict(test_data[12891])"
      ],
      "metadata": {
        "colab": {
          "base_uri": "https://localhost:8080/",
          "height": 81,
          "referenced_widgets": [
            "ae574e336ffe4e099419e87b22390d59",
            "65d43774311c42faa24edac7558b3c26",
            "25ef550d468647d5b2eab3ec381330e3",
            "d3109894941f4ec38810070030032d20",
            "dd90e5db65074766bcfec84343d9ba92",
            "2bc85ba35e854e2892fce83aa3457e96",
            "ffad88440b5648ddabf0501c1567f692",
            "b5bef472ee9840f9b0529878a677a848",
            "f527290a63554a9da3a1a442616b944d",
            "661b2186badf431dbaf77fcf3fda041d",
            "9b76ac4b422245c493a07c57fa710e51",
            "513db8ddbd8b4c659288d383f610f74a",
            "3e5915c4f66f498abbfec7a55b460fe3",
            "421e8e8694884a26b604087bfb68ae84",
            "5b114eeba5b84e5786c0d0324c08075c",
            "3bd81accdfba4d5497e443c0b9ff7307",
            "5de2a755b48041559a58cb42a988d25a",
            "a110cf9f66ae425aa9500b9415350a4a",
            "ea9bd059a3484da08dce1a486f15be70",
            "15e206928f0d4a3da4c7c5da85f8a878",
            "abd567bcd9124e24991c4545fa9577fd",
            "8a4ea6d77bbb4eaf9792ed084b71070a"
          ]
        },
        "id": "23S-uGGlpHc1",
        "outputId": "72ec455c-355a-43ef-c58f-916aaba98343"
      },
      "id": "23S-uGGlpHc1",
      "execution_count": 31,
      "outputs": [
        {
          "output_type": "display_data",
          "data": {
            "text/plain": [
              "  0%|          | 0/1035 [00:00<?, ?it/s]"
            ],
            "application/vnd.jupyter.widget-view+json": {
              "version_major": 2,
              "version_minor": 0,
              "model_id": "ae574e336ffe4e099419e87b22390d59"
            }
          },
          "metadata": {}
        },
        {
          "output_type": "display_data",
          "data": {
            "text/plain": [
              "  0%|          | 0/9 [00:00<?, ?it/s]"
            ],
            "application/vnd.jupyter.widget-view+json": {
              "version_major": 2,
              "version_minor": 0,
              "model_id": "513db8ddbd8b4c659288d383f610f74a"
            }
          },
          "metadata": {}
        }
      ]
    },
    {
      "cell_type": "code",
      "source": [
        "print(predictions,raw_outputs)"
      ],
      "metadata": {
        "colab": {
          "base_uri": "https://localhost:8080/"
        },
        "id": "FPoHiMzIp-4V",
        "outputId": "4784dbfb-ca79-49f6-c59c-aa237cf5f2bc"
      },
      "id": "FPoHiMzIp-4V",
      "execution_count": 32,
      "outputs": [
        {
          "output_type": "stream",
          "name": "stdout",
          "text": [
            "[1 1 0 ... 1 1 1] [array([[-1.38183594,  0.89501953]]), array([[-1.04101562,  0.546875  ]]), array([[ 0.73828125, -0.60693359]]), array([[-4.078125  ,  2.94921875]]), array([[ 0.72363281, -0.70019531]]), array([[-1.38183594,  0.89501953]]), array([[-3.52734375,  2.453125  ]]), array([[-2.39257812,  1.59667969]]), array([[ 1.71191406, -1.35058594]]), array([[-1.91894531,  1.203125  ]]), array([[-0.79785156,  0.29467773]]), array([[-1.88183594,  1.25878906]]), array([[-3.52734375,  2.453125  ]]), array([[-1.88183594,  1.25878906]]), array([[ 1.71191406, -1.35058594]]), array([[-2.09765625,  1.37402344]]), array([[-2.15429688,  1.35351562]]), array([[-1.60839844,  0.89550781]]), array([[-1.38183594,  0.89501953]]), array([[-2.09765625,  1.37402344]]), array([[ 0.73828125, -0.60693359]]), array([[-2.39257812,  1.59667969]]), array([[-3.52734375,  2.453125  ]]), array([[-2.15429688,  1.35351562]]), array([[ 1.23535156, -1.1484375 ]]), array([[-4.078125  ,  2.94921875]]), array([[ 1.71191406, -1.35058594]]), array([[-0.78417969,  0.39453125]]), array([[-3.52734375,  2.453125  ]]), array([[-1.88183594,  1.25878906]]), array([[ 1.71191406, -1.35058594]]), array([[-1.04101562,  0.546875  ]]), array([[-2.15429688,  1.35351562]]), array([[-1.88183594,  1.25878906]]), array([[-2.09765625,  1.37402344]]), array([[ 1.23535156, -1.1484375 ]]), array([[-2.39257812,  1.59667969]]), array([[-3.52734375,  2.453125  ]]), array([[-2.15429688,  1.35351562]]), array([[-4.078125  ,  2.94921875]]), array([[ 0.73828125, -0.60693359]]), array([[-2.09765625,  1.37402344]]), array([[-3.52734375,  2.453125  ]]), array([[-4.078125  ,  2.94921875]]), array([[-0.79785156,  0.29467773]]), array([[-2.09765625,  1.37402344]]), array([[ 1.71191406, -1.35058594]]), array([[-1.60839844,  0.89550781]]), array([[ 1.23535156, -1.1484375 ]]), array([[-4.078125  ,  2.94921875]]), array([[ 0.73828125, -0.60693359]]), array([[-2.15429688,  1.35351562]]), array([[-3.52734375,  2.453125  ]]), array([[-1.88183594,  1.25878906]]), array([[-1.04101562,  0.546875  ]]), array([[ 0.72363281, -0.70019531]]), array([[-1.60839844,  0.89550781]]), array([[-2.39257812,  1.59667969]]), array([[-1.60839844,  0.89550781]]), array([[ 1.23535156, -1.1484375 ]]), array([[-1.60839844,  0.89550781]]), array([[-4.078125  ,  2.94921875]]), array([[ 0.73828125, -0.60693359]]), array([[-2.15429688,  1.35351562]]), array([[-3.52734375,  2.453125  ]]), array([[ 2.0234375, -1.5      ]]), array([[-1.04101562,  0.546875  ]]), array([[-1.88183594,  1.25878906]]), array([[-3.52734375,  2.453125  ]]), array([[-1.38183594,  0.89501953]]), array([[-2.09765625,  1.37402344]]), array([[-0.79785156,  0.29467773]]), array([[-1.04101562,  0.546875  ]]), array([[ 1.23535156, -1.1484375 ]]), array([[ 1.71191406, -1.35058594]]), array([[-4.078125  ,  2.94921875]]), array([[-2.39257812,  1.59667969]]), array([[-3.52734375,  2.453125  ]]), array([[-4.078125  ,  2.94921875]]), array([[ 0.72363281, -0.70019531]]), array([[-1.60839844,  0.89550781]]), array([[-1.08984375,  0.50488281]]), array([[-2.09765625,  1.37402344]]), array([[-3.52734375,  2.453125  ]]), array([[ 0.92431641, -0.81494141]]), array([[-4.078125  ,  2.94921875]]), array([[-0.78417969,  0.39453125]]), array([[-3.52734375,  2.453125  ]]), array([[-1.47558594,  1.03417969]]), array([[-2.09765625,  1.37402344]]), array([[ 0.16943359, -0.30249023]]), array([[-1.60839844,  0.89550781]]), array([[ 0.73828125, -0.60693359]]), array([[-1.38183594,  0.89501953]]), array([[-3.52734375,  2.453125  ]]), array([[-1.47558594,  1.03417969]]), array([[ 0.72363281, -0.70019531]]), array([[-1.04101562,  0.546875  ]]), array([[-3.9296875,  2.875    ]]), array([[-1.60839844,  0.89550781]]), array([[-4.078125  ,  2.94921875]]), array([[-2.39257812,  1.59667969]]), array([[-1.60839844,  0.89550781]]), array([[ 0.73828125, -0.60693359]]), array([[ 2.0234375, -1.5      ]]), array([[-3.52734375,  2.453125  ]]), array([[ 0.29956055, -0.39697266]]), array([[-1.04101562,  0.546875  ]]), array([[-1.04101562,  0.546875  ]]), array([[ 0.72363281, -0.70019531]]), array([[-3.52734375,  2.453125  ]]), array([[ 1.23535156, -1.1484375 ]]), array([[ 1.71191406, -1.35058594]]), array([[-4.078125  ,  2.94921875]]), array([[ 1.31933594, -1.01171875]]), array([[-0.78417969,  0.39453125]]), array([[-3.52734375,  2.453125  ]]), array([[-1.38183594,  0.89501953]]), array([[-4.078125  ,  2.94921875]]), array([[ 0.73828125, -0.60693359]]), array([[ 2.0234375, -1.5      ]]), array([[-2.09765625,  1.37402344]]), array([[ 1.71191406, -1.35058594]]), array([[-1.04101562,  0.546875  ]]), array([[-1.91894531,  1.203125  ]]), array([[-2.15429688,  1.35351562]]), array([[-3.52734375,  2.453125  ]]), array([[-3.9296875,  2.875    ]]), array([[-1.60839844,  0.89550781]]), array([[-1.04101562,  0.546875  ]]), array([[ 0.72363281, -0.70019531]]), array([[-2.09765625,  1.37402344]]), array([[ 0.73828125, -0.60693359]]), array([[-2.39257812,  1.59667969]]), array([[-3.52734375,  2.453125  ]]), array([[-2.15429688,  1.35351562]]), array([[-1.91894531,  1.203125  ]]), array([[-1.88183594,  1.25878906]]), array([[-1.88183594,  1.25878906]]), array([[-1.04101562,  0.546875  ]]), array([[ 1.71191406, -1.35058594]]), array([[-2.39257812,  1.59667969]]), array([[-2.09765625,  1.37402344]]), array([[ 1.71191406, -1.35058594]]), array([[-2.15429688,  1.35351562]]), array([[-3.52734375,  2.453125  ]]), array([[ 1.23535156, -1.1484375 ]]), array([[-4.078125  ,  2.94921875]]), array([[ 0.72363281, -0.70019531]]), array([[-1.60839844,  0.89550781]]), array([[ 0.29956055, -0.39697266]]), array([[-1.04101562,  0.546875  ]]), array([[ 1.71191406, -1.35058594]]), array([[ 0.73828125, -0.60693359]]), array([[-1.60839844,  0.89550781]]), array([[-4.078125  ,  2.94921875]]), array([[-3.52734375,  2.453125  ]]), array([[ 2.0234375, -1.5      ]]), array([[-1.04101562,  0.546875  ]]), array([[-3.9296875,  2.875    ]]), array([[-2.09765625,  1.37402344]]), array([[ 1.71191406, -1.35058594]]), array([[ 0.73828125, -0.60693359]]), array([[-1.04101562,  0.546875  ]]), array([[ 1.71191406, -1.35058594]]), array([[-3.52734375,  2.453125  ]]), array([[ 0.71386719, -0.81103516]]), array([[-2.09765625,  1.37402344]]), array([[ 1.71191406, -1.35058594]]), array([[ 1.71191406, -1.35058594]]), array([[-0.78417969,  0.39453125]]), array([[-3.52734375,  2.453125  ]]), array([[-1.47558594,  1.03417969]]), array([[ 1.71191406, -1.35058594]]), array([[-1.04101562,  0.546875  ]]), array([[ 0.92431641, -0.81494141]]), array([[ 0.73828125, -0.60693359]]), array([[-3.52734375,  2.453125  ]]), array([[-2.39257812,  1.59667969]]), array([[-4.078125  ,  2.94921875]]), array([[-1.08984375,  0.50488281]]), array([[-2.09765625,  1.37402344]]), array([[ 0.73828125, -0.60693359]]), array([[-3.52734375,  2.453125  ]]), array([[-1.04101562,  0.546875  ]]), array([[ 0.73828125, -0.60693359]]), array([[-2.09765625,  1.37402344]]), array([[-3.52734375,  2.453125  ]]), array([[-2.15429688,  1.35351562]]), array([[-2.39257812,  1.59667969]]), array([[-2.09765625,  1.37402344]]), array([[-1.88183594,  1.25878906]]), array([[-3.52734375,  2.453125  ]]), array([[-2.39257812,  1.59667969]]), array([[-1.91894531,  1.203125  ]]), array([[ 1.71191406, -1.35058594]]), array([[ 0.73828125, -0.60693359]]), array([[-2.09765625,  1.37402344]]), array([[-1.38183594,  0.89501953]]), array([[-3.52734375,  2.453125  ]]), array([[-2.39257812,  1.59667969]]), array([[ 1.71191406, -1.35058594]]), array([[-1.91894531,  1.203125  ]]), array([[-0.79785156,  0.29467773]]), array([[-1.88183594,  1.25878906]]), array([[-3.52734375,  2.453125  ]]), array([[ 1.23535156, -1.1484375 ]]), array([[-1.04101562,  0.546875  ]]), array([[ 0.73828125, -0.60693359]]), array([[-2.15429688,  1.35351562]]), array([[-2.39257812,  1.59667969]]), array([[-4.078125  ,  2.94921875]]), array([[ 0.73828125, -0.60693359]]), array([[-2.39257812,  1.59667969]]), array([[-3.52734375,  2.453125  ]]), array([[-2.39257812,  1.59667969]]), array([[-4.078125  ,  2.94921875]]), array([[ 0.72363281, -0.70019531]]), array([[-1.08984375,  0.50488281]]), array([[-3.52734375,  2.453125  ]]), array([[-1.47558594,  1.03417969]]), array([[-1.91894531,  1.203125  ]]), array([[-1.60839844,  0.89550781]]), array([[ 0.72363281, -0.70019531]]), array([[-1.38183594,  0.89501953]]), array([[-1.60839844,  0.89550781]]), array([[ 0.73828125, -0.60693359]]), array([[ 2.0234375, -1.5      ]]), array([[-3.52734375,  2.453125  ]]), array([[ 0.92431641, -0.81494141]]), array([[-4.078125  ,  2.94921875]]), array([[ 0.72363281, -0.70019531]]), array([[ 0.72363281, -0.70019531]]), array([[-2.15429688,  1.35351562]]), array([[-3.52734375,  2.453125  ]]), array([[ 1.71191406, -1.35058594]]), array([[-1.60839844,  0.89550781]]), array([[ 2.0234375, -1.5      ]]), array([[ 0.16943359, -0.30249023]]), array([[-2.39257812,  1.59667969]]), array([[-3.52734375,  2.453125  ]]), array([[-1.47558594,  1.03417969]]), array([[-4.078125  ,  2.94921875]]), array([[ 1.23535156, -1.1484375 ]]), array([[-1.08984375,  0.50488281]]), array([[-3.52734375,  2.453125  ]]), array([[-4.078125  ,  2.94921875]]), array([[ 1.71191406, -1.35058594]]), array([[-1.04101562,  0.546875  ]]), array([[-1.91894531,  1.203125  ]]), array([[ 0.73828125, -0.60693359]]), array([[-1.38183594,  0.89501953]]), array([[-3.52734375,  2.453125  ]]), array([[-1.47558594,  1.03417969]]), array([[ 1.71191406, -1.35058594]]), array([[-1.04101562,  0.546875  ]]), array([[ 0.92431641, -0.81494141]]), array([[ 0.73828125, -0.60693359]]), array([[-3.52734375,  2.453125  ]]), array([[ 0.29956055, -0.39697266]]), array([[-4.078125  ,  2.94921875]]), array([[ 1.23535156, -1.1484375 ]]), array([[-2.39257812,  1.59667969]]), array([[-3.52734375,  2.453125  ]]), array([[-2.15429688,  1.35351562]]), array([[-4.078125  ,  2.94921875]]), array([[-0.78417969,  0.39453125]]), array([[-2.15429688,  1.35351562]]), array([[-3.52734375,  2.453125  ]]), array([[ 1.23535156, -1.1484375 ]]), array([[-4.078125  ,  2.94921875]]), array([[ 0.72363281, -0.70019531]]), array([[-1.60839844,  0.89550781]]), array([[ 0.29956055, -0.39697266]]), array([[-1.04101562,  0.546875  ]]), array([[ 1.71191406, -1.35058594]]), array([[ 0.73828125, -0.60693359]]), array([[-1.60839844,  0.89550781]]), array([[-4.078125  ,  2.94921875]]), array([[-3.52734375,  2.453125  ]]), array([[ 0.73828125, -0.60693359]]), array([[-2.09765625,  1.37402344]]), array([[-2.09765625,  1.37402344]]), array([[-1.38183594,  0.89501953]]), array([[-3.52734375,  2.453125  ]]), array([[ 0.92431641, -0.81494141]]), array([[-4.078125  ,  2.94921875]]), array([[ 0.72363281, -0.70019531]]), array([[ 0.72363281, -0.70019531]]), array([[-3.52734375,  2.453125  ]]), array([[-2.39257812,  1.59667969]]), array([[ 1.71191406, -1.35058594]]), array([[-1.91894531,  1.203125  ]]), array([[-0.79785156,  0.29467773]]), array([[-1.88183594,  1.25878906]]), array([[-3.52734375,  2.453125  ]]), array([[-1.47558594,  1.03417969]]), array([[-2.09765625,  1.37402344]]), array([[ 1.23535156, -1.1484375 ]]), array([[-1.04101562,  0.546875  ]]), array([[-0.79785156,  0.29467773]]), array([[-2.09765625,  1.37402344]]), array([[-2.15429688,  1.35351562]]), array([[-3.52734375,  2.453125  ]]), array([[-1.88183594,  1.25878906]]), array([[ 1.71191406, -1.35058594]]), array([[-2.09765625,  1.37402344]]), array([[-2.15429688,  1.35351562]]), array([[-1.60839844,  0.89550781]]), array([[-1.38183594,  0.89501953]]), array([[-2.09765625,  1.37402344]]), array([[ 0.73828125, -0.60693359]]), array([[-2.39257812,  1.59667969]]), array([[-1.47558594,  1.03417969]]), array([[ 1.71191406, -1.35058594]]), array([[-1.04101562,  0.546875  ]]), array([[ 0.92431641, -0.81494141]]), array([[ 0.73828125, -0.60693359]]), array([[-3.52734375,  2.453125  ]]), array([[-0.79785156,  0.29467773]]), array([[-4.078125  ,  2.94921875]]), array([[-1.38183594,  0.89501953]]), array([[-2.09765625,  1.37402344]]), array([[-3.52734375,  2.453125  ]]), array([[-2.15429688,  1.35351562]]), array([[-2.39257812,  1.59667969]]), array([[-4.078125  ,  2.94921875]]), array([[-2.39257812,  1.59667969]]), array([[-2.09765625,  1.37402344]]), array([[-0.79785156,  0.29467773]]), array([[-2.09765625,  1.37402344]]), array([[ 0.73828125, -0.60693359]]), array([[-2.39257812,  1.59667969]]), array([[-2.15429688,  1.35351562]]), array([[-3.52734375,  2.453125  ]]), array([[-1.38183594,  0.89501953]]), array([[-1.60839844,  0.89550781]]), array([[ 0.73828125, -0.60693359]]), array([[ 0.73828125, -0.60693359]]), array([[-2.09765625,  1.37402344]]), array([[ 1.71191406, -1.35058594]]), array([[-3.52734375,  2.453125  ]]), array([[-1.88183594,  1.25878906]]), array([[-4.078125  ,  2.94921875]]), array([[ 1.71191406, -1.35058594]]), array([[-2.39257812,  1.59667969]]), array([[-0.78417969,  0.39453125]]), array([[-3.52734375,  2.453125  ]]), array([[ 0.72363281, -0.70019531]]), array([[-4.078125  ,  2.94921875]]), array([[-1.47558594,  1.03417969]]), array([[-1.04101562,  0.546875  ]]), array([[ 1.71191406, -1.35058594]]), array([[-3.52734375,  2.453125  ]]), array([[-1.91894531,  1.203125  ]]), array([[ 0.73828125, -0.60693359]]), array([[-1.60839844,  0.89550781]]), array([[-1.04101562,  0.546875  ]]), array([[ 0.73828125, -0.60693359]]), array([[-3.52734375,  2.453125  ]]), array([[-2.15429688,  1.35351562]]), array([[-4.078125  ,  2.94921875]]), array([[-1.60839844,  0.89550781]]), array([[-1.38183594,  0.89501953]]), array([[-3.52734375,  2.453125  ]]), array([[ 1.23535156, -1.1484375 ]]), array([[ 1.71191406, -1.35058594]]), array([[-1.04101562,  0.546875  ]]), array([[ 0.92431641, -0.81494141]]), array([[-1.38183594,  0.89501953]]), array([[-3.52734375,  2.453125  ]]), array([[-1.88183594,  1.25878906]]), array([[ 1.71191406, -1.35058594]]), array([[-1.04101562,  0.546875  ]]), array([[-0.79785156,  0.29467773]]), array([[-1.60839844,  0.89550781]]), array([[-2.15429688,  1.35351562]]), array([[-2.09765625,  1.37402344]]), array([[-3.52734375,  2.453125  ]]), array([[-2.39257812,  1.59667969]]), array([[ 1.71191406, -1.35058594]]), array([[-1.91894531,  1.203125  ]]), array([[-0.79785156,  0.29467773]]), array([[-1.88183594,  1.25878906]]), array([[-3.52734375,  2.453125  ]]), array([[-2.09765625,  1.37402344]]), array([[-3.9296875,  2.875    ]]), array([[-2.09765625,  1.37402344]]), array([[ 1.71191406, -1.35058594]]), array([[-3.52734375,  2.453125  ]]), array([[-2.09765625,  1.37402344]]), array([[ 0.72363281, -0.70019531]]), array([[-2.09765625,  1.37402344]]), array([[ 1.23535156, -1.1484375 ]]), array([[-2.39257812,  1.59667969]]), array([[-2.09765625,  1.37402344]]), array([[-1.38183594,  0.89501953]]), array([[-3.52734375,  2.453125  ]]), array([[-1.47558594,  1.03417969]]), array([[-1.91894531,  1.203125  ]]), array([[-1.60839844,  0.89550781]]), array([[ 0.72363281, -0.70019531]]), array([[-1.38183594,  0.89501953]]), array([[-3.52734375,  2.453125  ]]), array([[ 0.92431641, -0.81494141]]), array([[-4.078125  ,  2.94921875]]), array([[ 0.72363281, -0.70019531]]), array([[ 0.72363281, -0.70019531]]), array([[-3.52734375,  2.453125  ]]), array([[-4.078125  ,  2.94921875]]), array([[ 1.71191406, -1.35058594]]), array([[-1.04101562,  0.546875  ]]), array([[-1.91894531,  1.203125  ]]), array([[ 0.73828125, -0.60693359]]), array([[-1.38183594,  0.89501953]]), array([[-3.52734375,  2.453125  ]]), array([[ 1.23535156, -1.1484375 ]]), array([[-4.078125  ,  2.94921875]]), array([[ 0.72363281, -0.70019531]]), array([[-1.60839844,  0.89550781]]), array([[ 0.29956055, -0.39697266]]), array([[-1.04101562,  0.546875  ]]), array([[ 1.71191406, -1.35058594]]), array([[ 0.73828125, -0.60693359]]), array([[-1.60839844,  0.89550781]]), array([[-4.078125  ,  2.94921875]]), array([[-3.52734375,  2.453125  ]]), array([[-1.38183594,  0.89501953]]), array([[-2.09765625,  1.37402344]]), array([[ 0.29956055, -0.39697266]]), array([[-2.09765625,  1.37402344]]), array([[ 0.73828125, -0.60693359]]), array([[-1.38183594,  0.89501953]]), array([[-3.52734375,  2.453125  ]]), array([[ 1.71191406, -1.35058594]]), array([[-2.09765625,  1.37402344]]), array([[-2.15429688,  1.35351562]]), array([[-2.39257812,  1.59667969]]), array([[-3.52734375,  2.453125  ]]), array([[ 1.23535156, -1.1484375 ]]), array([[-1.04101562,  0.546875  ]]), array([[-1.91894531,  1.203125  ]]), array([[ 0.73828125, -0.60693359]]), array([[-2.39257812,  1.59667969]]), array([[ 1.71191406, -1.35058594]]), array([[-0.78417969,  0.39453125]]), array([[-3.52734375,  2.453125  ]]), array([[ 2.0234375, -1.5      ]]), array([[-1.04101562,  0.546875  ]]), array([[-3.9296875,  2.875    ]]), array([[-2.09765625,  1.37402344]]), array([[ 1.71191406, -1.35058594]]), array([[ 0.73828125, -0.60693359]]), array([[-1.04101562,  0.546875  ]]), array([[ 1.71191406, -1.35058594]]), array([[-3.52734375,  2.453125  ]]), array([[-1.47558594,  1.03417969]]), array([[ 1.71191406, -1.35058594]]), array([[-1.04101562,  0.546875  ]]), array([[ 0.92431641, -0.81494141]]), array([[ 0.73828125, -0.60693359]]), array([[-3.52734375,  2.453125  ]]), array([[-4.078125  ,  2.94921875]]), array([[-2.15429688,  1.35351562]]), array([[-2.15429688,  1.35351562]]), array([[-1.91894531,  1.203125  ]]), array([[ 1.71191406, -1.35058594]]), array([[-2.09765625,  1.37402344]]), array([[-1.38183594,  0.89501953]]), array([[-3.52734375,  2.453125  ]]), array([[ 1.23535156, -1.1484375 ]]), array([[ 0.16943359, -0.30249023]]), array([[-2.09765625,  1.37402344]]), array([[-2.09765625,  1.37402344]]), array([[ 1.71191406, -1.35058594]]), array([[-1.60839844,  0.89550781]]), array([[ 0.73828125, -0.60693359]]), array([[ 2.0234375, -1.5      ]]), array([[-3.52734375,  2.453125  ]]), array([[ 0.72363281, -0.70019531]]), array([[-4.078125  ,  2.94921875]]), array([[-1.91894531,  1.203125  ]]), array([[ 2.0234375, -1.5      ]]), array([[ 0.16943359, -0.30249023]]), array([[-1.60839844,  0.89550781]]), array([[ 0.73828125, -0.60693359]]), array([[ 2.0234375, -1.5      ]]), array([[-3.52734375,  2.453125  ]]), array([[ 1.23535156, -1.1484375 ]]), array([[ 1.71191406, -1.35058594]]), array([[-1.04101562,  0.546875  ]]), array([[ 0.92431641, -0.81494141]]), array([[-1.38183594,  0.89501953]]), array([[-3.52734375,  2.453125  ]]), array([[-1.08984375,  0.50488281]]), array([[-1.60839844,  0.89550781]]), array([[-1.38183594,  0.89501953]]), array([[-1.38183594,  0.89501953]]), array([[-1.60839844,  0.89550781]]), array([[ 0.73828125, -0.60693359]]), array([[ 2.0234375, -1.5      ]]), array([[-3.52734375,  2.453125  ]]), array([[ 0.92431641, -0.81494141]]), array([[-4.078125  ,  2.94921875]]), array([[-0.78417969,  0.39453125]]), array([[-3.52734375,  2.453125  ]]), array([[ 0.71386719, -0.81103516]]), array([[-1.04101562,  0.546875  ]]), array([[-1.08984375,  0.50488281]]), array([[-2.09765625,  1.37402344]]), array([[-3.52734375,  2.453125  ]]), array([[ 0.72363281, -0.70019531]]), array([[-1.60839844,  0.89550781]]), array([[-1.08984375,  0.50488281]]), array([[-2.09765625,  1.37402344]]), array([[-3.52734375,  2.453125  ]]), array([[ 0.92431641, -0.81494141]]), array([[-4.078125  ,  2.94921875]]), array([[ 0.72363281, -0.70019531]]), array([[ 0.72363281, -0.70019531]]), array([[-2.15429688,  1.35351562]]), array([[-3.52734375,  2.453125  ]]), array([[ 0.72363281, -0.70019531]]), array([[-1.60839844,  0.89550781]]), array([[-1.08984375,  0.50488281]]), array([[-2.09765625,  1.37402344]]), array([[-3.52734375,  2.453125  ]]), array([[-1.47558594,  1.03417969]]), array([[ 1.71191406, -1.35058594]]), array([[-1.60839844,  0.89550781]]), array([[-1.38183594,  0.89501953]]), array([[ 2.0234375, -1.5      ]]), array([[-2.09765625,  1.37402344]]), array([[-2.15429688,  1.35351562]]), array([[-3.52734375,  2.453125  ]]), array([[-1.47558594,  1.03417969]]), array([[ 1.71191406, -1.35058594]]), array([[-1.04101562,  0.546875  ]]), array([[ 0.92431641, -0.81494141]]), array([[ 0.73828125, -0.60693359]]), array([[-3.52734375,  2.453125  ]]), array([[ 0.92431641, -0.81494141]]), array([[-2.09765625,  1.37402344]]), array([[ 0.73828125, -0.60693359]]), array([[-2.39257812,  1.59667969]]), array([[-3.52734375,  2.453125  ]]), array([[-1.88183594,  1.25878906]]), array([[-1.04101562,  0.546875  ]]), array([[-1.60839844,  0.89550781]]), array([[ 0.73828125, -0.60693359]]), array([[-2.39257812,  1.59667969]]), array([[-3.52734375,  2.453125  ]]), array([[-1.60839844,  0.89550781]]), array([[-0.79785156,  0.29467773]]), array([[-1.88183594,  1.25878906]]), array([[-1.04101562,  0.546875  ]]), array([[ 1.71191406, -1.35058594]]), array([[-2.39257812,  1.59667969]]), array([[-4.078125  ,  2.94921875]]), array([[ 0.73828125, -0.60693359]]), array([[-2.39257812,  1.59667969]]), array([[-3.52734375,  2.453125  ]]), array([[-1.60839844,  0.89550781]]), array([[-0.79785156,  0.29467773]]), array([[-0.79785156,  0.29467773]]), array([[-1.60839844,  0.89550781]]), array([[ 2.0234375, -1.5      ]]), array([[ 1.71191406, -1.35058594]]), array([[-4.078125  ,  2.94921875]]), array([[-2.39257812,  1.59667969]]), array([[-1.60839844,  0.89550781]]), array([[-1.04101562,  0.546875  ]]), array([[ 0.73828125, -0.60693359]]), array([[-3.52734375,  2.453125  ]]), array([[-4.078125  ,  2.94921875]]), array([[-0.79785156,  0.29467773]]), array([[-2.09765625,  1.37402344]]), array([[ 1.71191406, -1.35058594]]), array([[-1.60839844,  0.89550781]]), array([[ 1.23535156, -1.1484375 ]]), array([[-4.078125  ,  2.94921875]]), array([[ 0.73828125, -0.60693359]]), array([[-3.52734375,  2.453125  ]]), array([[ 0.92431641, -0.81494141]]), array([[-1.04101562,  0.546875  ]]), array([[ 1.71191406, -1.35058594]]), array([[-1.08984375,  0.50488281]]), array([[ 0.29956055, -0.39697266]]), array([[-1.04101562,  0.546875  ]]), array([[ 1.71191406, -1.35058594]]), array([[ 1.23535156, -1.1484375 ]]), array([[-2.09765625,  1.37402344]]), array([[-3.52734375,  2.453125  ]]), array([[-1.04101562,  0.546875  ]]), array([[ 0.72363281, -0.70019531]]), array([[-1.38183594,  0.89501953]]), array([[-3.52734375,  2.453125  ]]), array([[ 0.92431641, -0.81494141]]), array([[ 0.16943359, -0.30249023]]), array([[-1.60839844,  0.89550781]]), array([[-2.39257812,  1.59667969]]), array([[-2.09765625,  1.37402344]]), array([[-3.52734375,  2.453125  ]]), array([[ 2.0234375, -1.5      ]]), array([[-1.91894531,  1.203125  ]]), array([[-0.78417969,  0.39453125]]), array([[-2.15429688,  1.35351562]]), array([[-3.52734375,  2.453125  ]]), array([[-1.04101562,  0.546875  ]]), array([[-1.91894531,  1.203125  ]]), array([[ 2.0234375, -1.5      ]]), array([[ 0.16943359, -0.30249023]]), array([[-2.39257812,  1.59667969]]), array([[-3.52734375,  2.453125  ]]), array([[ 1.71191406, -1.35058594]]), array([[-2.09765625,  1.37402344]]), array([[ 1.23535156, -1.1484375 ]]), array([[-1.04101562,  0.546875  ]]), array([[ 2.0234375, -1.5      ]]), array([[ 0.73828125, -0.60693359]]), array([[-1.60839844,  0.89550781]]), array([[ 1.31933594, -1.01171875]]), array([[-2.09765625,  1.37402344]]), array([[-3.52734375,  2.453125  ]]), array([[ 0.92431641, -0.81494141]]), array([[ 0.16943359, -0.30249023]]), array([[-1.04101562,  0.546875  ]]), array([[ 0.72363281, -0.70019531]]), array([[-2.09765625,  1.37402344]]), array([[-3.52734375,  2.453125  ]]), array([[-1.88183594,  1.25878906]]), array([[-2.09765625,  1.37402344]]), array([[ 0.73828125, -0.60693359]]), array([[-2.15429688,  1.35351562]]), array([[-1.60839844,  0.89550781]]), array([[-1.04101562,  0.546875  ]]), array([[ 0.73828125, -0.60693359]]), array([[-3.52734375,  2.453125  ]]), array([[-2.15429688,  1.35351562]]), array([[-0.78417969,  0.39453125]]), array([[-2.15429688,  1.35351562]]), array([[-2.39257812,  1.59667969]]), array([[-2.09765625,  1.37402344]]), array([[-0.79785156,  0.29467773]]), array([[-3.52734375,  2.453125  ]]), array([[ 0.92431641, -0.81494141]]), array([[-1.04101562,  0.546875  ]]), array([[-1.91894531,  1.203125  ]]), array([[ 0.72363281, -0.70019531]]), array([[-1.38183594,  0.89501953]]), array([[-3.52734375,  2.453125  ]]), array([[ 1.23535156, -1.1484375 ]]), array([[-1.04101562,  0.546875  ]]), array([[ 0.72363281, -0.70019531]]), array([[ 0.72363281, -0.70019531]]), array([[-4.078125  ,  2.94921875]]), array([[-1.88183594,  1.25878906]]), array([[-2.15429688,  1.35351562]]), array([[-2.09765625,  1.37402344]]), array([[-3.52734375,  2.453125  ]]), array([[-1.47558594,  1.03417969]]), array([[-1.91894531,  1.203125  ]]), array([[ 0.73828125, -0.60693359]]), array([[ 1.23535156, -1.1484375 ]]), array([[ 0.16943359, -0.30249023]]), array([[-3.52734375,  2.453125  ]]), array([[-0.78417969,  0.39453125]]), array([[-1.04101562,  0.546875  ]]), array([[-1.91894531,  1.203125  ]]), array([[ 0.73828125, -0.60693359]]), array([[ 2.0234375, -1.5      ]]), array([[-3.52734375,  2.453125  ]]), array([[-1.88183594,  1.25878906]]), array([[-2.09765625,  1.37402344]]), array([[-1.04101562,  0.546875  ]]), array([[-1.88183594,  1.25878906]]), array([[ 0.72363281, -0.70019531]]), array([[-2.09765625,  1.37402344]]), array([[-3.52734375,  2.453125  ]]), array([[ 1.23535156, -1.1484375 ]]), array([[-1.04101562,  0.546875  ]]), array([[-0.79785156,  0.29467773]]), array([[-1.60839844,  0.89550781]]), array([[ 0.73828125, -0.60693359]]), array([[ 2.0234375, -1.5      ]]), array([[-3.52734375,  2.453125  ]]), array([[ 1.23535156, -1.1484375 ]]), array([[-1.04101562,  0.546875  ]]), array([[-1.91894531,  1.203125  ]]), array([[ 0.73828125, -0.60693359]]), array([[-2.39257812,  1.59667969]]), array([[ 1.71191406, -1.35058594]]), array([[-0.78417969,  0.39453125]]), array([[-3.52734375,  2.453125  ]]), array([[-2.15429688,  1.35351562]]), array([[-2.39257812,  1.59667969]]), array([[-4.078125  ,  2.94921875]]), array([[-2.39257812,  1.59667969]]), array([[-2.09765625,  1.37402344]]), array([[-3.52734375,  2.453125  ]]), array([[ 1.23535156, -1.1484375 ]]), array([[-1.04101562,  0.546875  ]]), array([[-0.79785156,  0.29467773]]), array([[-1.60839844,  0.89550781]]), array([[ 0.73828125, -0.60693359]]), array([[ 2.0234375, -1.5      ]]), array([[-3.52734375,  2.453125  ]]), array([[ 1.23535156, -1.1484375 ]]), array([[-1.04101562,  0.546875  ]]), array([[-0.79785156,  0.29467773]]), array([[-1.60839844,  0.89550781]]), array([[ 0.73828125, -0.60693359]]), array([[ 2.0234375, -1.5      ]]), array([[-3.52734375,  2.453125  ]]), array([[-1.88183594,  1.25878906]]), array([[ 0.72363281, -0.70019531]]), array([[-4.078125  ,  2.94921875]]), array([[ 1.23535156, -1.1484375 ]]), array([[-2.09765625,  1.37402344]]), array([[-2.15429688,  1.35351562]]), array([[-3.52734375,  2.453125  ]]), array([[-1.47558594,  1.03417969]]), array([[ 1.71191406, -1.35058594]]), array([[-1.04101562,  0.546875  ]]), array([[ 0.92431641, -0.81494141]]), array([[ 0.73828125, -0.60693359]]), array([[-3.52734375,  2.453125  ]]), array([[ 1.71191406, -1.35058594]]), array([[-1.60839844,  0.89550781]]), array([[ 2.0234375, -1.5      ]]), array([[ 0.16943359, -0.30249023]]), array([[-2.39257812,  1.59667969]]), array([[-3.52734375,  2.453125  ]]), array([[ 1.23535156, -1.1484375 ]]), array([[-1.04101562,  0.546875  ]]), array([[-1.91894531,  1.203125  ]]), array([[ 1.71191406, -1.35058594]]), array([[-2.15429688,  1.35351562]]), array([[-2.09765625,  1.37402344]]), array([[-3.52734375,  2.453125  ]]), array([[ 0.92431641, -0.81494141]]), array([[-4.078125  ,  2.94921875]]), array([[ 0.72363281, -0.70019531]]), array([[ 0.72363281, -0.70019531]]), array([[-2.15429688,  1.35351562]]), array([[-3.52734375,  2.453125  ]]), array([[-2.15429688,  1.35351562]]), array([[-1.04101562,  0.546875  ]]), array([[ 0.72363281, -0.70019531]]), array([[-1.91894531,  1.203125  ]]), array([[-2.39257812,  1.59667969]]), array([[-1.60839844,  0.89550781]]), array([[-1.04101562,  0.546875  ]]), array([[ 0.73828125, -0.60693359]]), array([[-3.52734375,  2.453125  ]]), array([[-1.47558594,  1.03417969]]), array([[ 1.71191406, -1.35058594]]), array([[-1.60839844,  0.89550781]]), array([[-1.38183594,  0.89501953]]), array([[ 2.0234375, -1.5      ]]), array([[-2.09765625,  1.37402344]]), array([[-2.15429688,  1.35351562]]), array([[-3.52734375,  2.453125  ]]), array([[ 0.16943359, -0.30249023]]), array([[-1.04101562,  0.546875  ]]), array([[ 0.92431641, -0.81494141]]), array([[-2.09765625,  1.37402344]]), array([[-3.9296875,  2.875    ]]), array([[-2.09765625,  1.37402344]]), array([[ 1.71191406, -1.35058594]]), array([[-3.52734375,  2.453125  ]]), array([[-2.39257812,  1.59667969]]), array([[ 1.71191406, -1.35058594]]), array([[-1.91894531,  1.203125  ]]), array([[-0.79785156,  0.29467773]]), array([[-1.88183594,  1.25878906]]), array([[-3.52734375,  2.453125  ]]), array([[-1.47558594,  1.03417969]]), array([[-4.078125  ,  2.94921875]]), array([[ 0.73828125, -0.60693359]]), array([[-1.38183594,  0.89501953]]), array([[-3.52734375,  2.453125  ]]), array([[ 0.72363281, -0.70019531]]), array([[-1.91894531,  1.203125  ]]), array([[ 0.73828125, -0.60693359]]), array([[-4.078125  ,  2.94921875]]), array([[-2.39257812,  1.59667969]]), array([[-1.60839844,  0.89550781]]), array([[ 1.23535156, -1.1484375 ]]), array([[-2.15429688,  1.35351562]]), array([[-3.52734375,  2.453125  ]]), array([[-2.39257812,  1.59667969]]), array([[-4.078125  ,  2.94921875]]), array([[-1.08984375,  0.50488281]]), array([[-2.09765625,  1.37402344]]), array([[-3.52734375,  2.453125  ]]), array([[-4.078125  ,  2.94921875]]), array([[-0.79785156,  0.29467773]]), array([[-2.09765625,  1.37402344]]), array([[ 1.71191406, -1.35058594]]), array([[-1.60839844,  0.89550781]]), array([[ 1.23535156, -1.1484375 ]]), array([[-4.078125  ,  2.94921875]]), array([[-3.52734375,  2.453125  ]]), array([[ 0.92431641, -0.81494141]]), array([[-4.078125  ,  2.94921875]]), array([[ 0.72363281, -0.70019531]]), array([[ 0.72363281, -0.70019531]]), array([[-3.52734375,  2.453125  ]]), array([[-4.078125  ,  2.94921875]]), array([[ 1.71191406, -1.35058594]]), array([[-1.04101562,  0.546875  ]]), array([[-1.91894531,  1.203125  ]]), array([[ 0.73828125, -0.60693359]]), array([[-1.38183594,  0.89501953]]), array([[-3.52734375,  2.453125  ]]), array([[ 1.23535156, -1.1484375 ]]), array([[-4.078125  ,  2.94921875]]), array([[ 0.72363281, -0.70019531]]), array([[-1.60839844,  0.89550781]]), array([[ 0.29956055, -0.39697266]]), array([[-1.04101562,  0.546875  ]]), array([[ 1.71191406, -1.35058594]]), array([[ 0.73828125, -0.60693359]]), array([[-1.60839844,  0.89550781]]), array([[-4.078125  ,  2.94921875]]), array([[-3.52734375,  2.453125  ]]), array([[-4.078125  ,  2.94921875]]), array([[ 0.73828125, -0.60693359]]), array([[-0.78417969,  0.39453125]]), array([[-1.04101562,  0.546875  ]]), array([[ 0.73828125, -0.60693359]]), array([[-2.09765625,  1.37402344]]), array([[-3.52734375,  2.453125  ]]), array([[-2.09765625,  1.37402344]]), array([[ 0.72363281, -0.70019531]]), array([[-2.15429688,  1.35351562]]), array([[-2.09765625,  1.37402344]]), array([[-3.52734375,  2.453125  ]]), array([[ 0.92431641, -0.81494141]]), array([[-4.078125  ,  2.94921875]]), array([[ 0.73828125, -0.60693359]]), array([[-2.39257812,  1.59667969]]), array([[-1.60839844,  0.89550781]]), array([[ 0.73828125, -0.60693359]]), array([[ 2.0234375, -1.5      ]]), array([[-3.52734375,  2.453125  ]]), array([[-2.15429688,  1.35351562]]), array([[ 0.16943359, -0.30249023]]), array([[-1.60839844,  0.89550781]]), array([[-2.09765625,  1.37402344]]), array([[ 0.72363281, -0.70019531]]), array([[-1.38183594,  0.89501953]]), array([[-3.52734375,  2.453125  ]]), array([[-2.39257812,  1.59667969]]), array([[ 1.71191406, -1.35058594]]), array([[-4.078125  ,  2.94921875]]), array([[-3.9296875,  2.875    ]]), array([[-2.09765625,  1.37402344]]), array([[-2.15429688,  1.35351562]]), array([[-2.39257812,  1.59667969]]), array([[-0.78417969,  0.39453125]]), array([[-3.52734375,  2.453125  ]]), array([[-0.79785156,  0.29467773]]), array([[-1.60839844,  0.89550781]]), array([[ 2.0234375, -1.5      ]]), array([[ 0.16943359, -0.30249023]]), array([[-2.39257812,  1.59667969]]), array([[-3.52734375,  2.453125  ]]), array([[-1.47558594,  1.03417969]]), array([[-4.078125  ,  2.94921875]]), array([[-1.38183594,  0.89501953]]), array([[-3.52734375,  2.453125  ]]), array([[-1.60839844,  0.89550781]]), array([[-1.38183594,  0.89501953]]), array([[-2.09765625,  1.37402344]]), array([[-4.078125  ,  2.94921875]]), array([[ 0.92431641, -0.81494141]]), array([[-4.078125  ,  2.94921875]]), array([[-2.39257812,  1.59667969]]), array([[ 1.23535156, -1.1484375 ]]), array([[ 0.16943359, -0.30249023]]), array([[-3.52734375,  2.453125  ]]), array([[-3.9296875,  2.875    ]]), array([[-1.60839844,  0.89550781]]), array([[-1.38183594,  0.89501953]]), array([[-2.09765625,  1.37402344]]), array([[-1.04101562,  0.546875  ]]), array([[-3.52734375,  2.453125  ]]), array([[ 2.0234375, -1.5      ]]), array([[-1.04101562,  0.546875  ]]), array([[-3.9296875,  2.875    ]]), array([[-2.09765625,  1.37402344]]), array([[ 1.71191406, -1.35058594]]), array([[ 0.73828125, -0.60693359]]), array([[-1.04101562,  0.546875  ]]), array([[ 1.71191406, -1.35058594]]), array([[-3.52734375,  2.453125  ]]), array([[-1.47558594,  1.03417969]]), array([[ 1.71191406, -1.35058594]]), array([[-1.04101562,  0.546875  ]]), array([[ 0.92431641, -0.81494141]]), array([[ 0.73828125, -0.60693359]]), array([[-3.52734375,  2.453125  ]]), array([[ 1.71191406, -1.35058594]]), array([[-2.09765625,  1.37402344]]), array([[-0.79785156,  0.29467773]]), array([[-4.078125  ,  2.94921875]]), array([[ 1.71191406, -1.35058594]]), array([[-1.08984375,  0.50488281]]), array([[-2.15429688,  1.35351562]]), array([[-3.52734375,  2.453125  ]]), array([[-1.47558594,  1.03417969]]), array([[-2.09765625,  1.37402344]]), array([[ 0.72363281, -0.70019531]]), array([[-1.04101562,  0.546875  ]]), array([[ 0.92431641, -0.81494141]]), array([[ 0.29956055, -0.39697266]]), array([[-2.09765625,  1.37402344]]), array([[-4.078125  ,  2.94921875]]), array([[-2.39257812,  1.59667969]]), array([[-1.91894531,  1.203125  ]]), array([[ 1.71191406, -1.35058594]]), array([[-2.09765625,  1.37402344]]), array([[-1.38183594,  0.89501953]]), array([[-3.52734375,  2.453125  ]]), array([[-1.60839844,  0.89550781]]), array([[-0.79785156,  0.29467773]]), array([[-4.078125  ,  2.94921875]]), array([[ 2.0234375, -1.5      ]]), array([[-2.09765625,  1.37402344]]), array([[-3.52734375,  2.453125  ]]), array([[-3.9296875,  2.875    ]]), array([[-1.60839844,  0.89550781]]), array([[-4.078125  ,  2.94921875]]), array([[-3.52734375,  2.453125  ]]), array([[-2.15429688,  1.35351562]]), array([[ 1.23535156, -1.1484375 ]]), array([[ 1.71191406, -1.35058594]]), array([[-2.09765625,  1.37402344]]), array([[-2.09765625,  1.37402344]]), array([[ 0.73828125, -0.60693359]]), array([[-3.52734375,  2.453125  ]]), array([[ 1.23535156, -1.1484375 ]]), array([[-4.078125  ,  2.94921875]]), array([[-1.88183594,  1.25878906]]), array([[-2.39257812,  1.59667969]]), array([[-1.91894531,  1.203125  ]]), array([[ 1.71191406, -1.35058594]]), array([[-2.09765625,  1.37402344]]), array([[-3.52734375,  2.453125  ]]), array([[ 0.71386719, -0.81103516]]), array([[-2.09765625,  1.37402344]]), array([[ 1.71191406, -1.35058594]]), array([[ 1.71191406, -1.35058594]]), array([[-0.78417969,  0.39453125]]), array([[-3.52734375,  2.453125  ]]), array([[-1.47558594,  1.03417969]]), array([[ 1.71191406, -1.35058594]]), array([[-1.04101562,  0.546875  ]]), array([[ 0.92431641, -0.81494141]]), array([[ 0.73828125, -0.60693359]]), array([[-3.52734375,  2.453125  ]]), array([[ 0.29956055, -0.39697266]]), array([[-4.078125  ,  2.94921875]]), array([[ 1.23535156, -1.1484375 ]]), array([[-2.09765625,  1.37402344]]), array([[-1.47558594,  1.03417969]]), array([[-1.04101562,  0.546875  ]]), array([[-1.04101562,  0.546875  ]]), array([[-1.08984375,  0.50488281]]), array([[ 1.23535156, -1.1484375 ]]), array([[-4.078125  ,  2.94921875]]), array([[-3.52734375,  2.453125  ]]), array([[ 2.0234375, -1.5      ]]), array([[-1.04101562,  0.546875  ]]), array([[-3.9296875,  2.875    ]]), array([[-3.52734375,  2.453125  ]]), array([[ 0.92431641, -0.81494141]]), array([[-2.09765625,  1.37402344]]), array([[-6.1015625 ,  4.73828125]]), array([[-1.38183594,  0.89501953]]), array([[-3.52734375,  2.453125  ]]), array([[-6.09375 ,  4.734375]]), array([[ 0.16943359, -0.30249023]]), array([[-4.078125  ,  2.94921875]]), array([[-3.9296875,  2.875    ]]), array([[-2.09765625,  1.37402344]]), array([[-3.52734375,  2.453125  ]]), array([[-1.47558594,  1.03417969]]), array([[-1.91894531,  1.203125  ]]), array([[-1.60839844,  0.89550781]]), array([[ 0.72363281, -0.70019531]]), array([[-1.38183594,  0.89501953]]), array([[-3.52734375,  2.453125  ]]), array([[ 0.92431641, -0.81494141]]), array([[-4.078125  ,  2.94921875]]), array([[ 0.72363281, -0.70019531]]), array([[ 0.72363281, -0.70019531]]), array([[-6.1015625 ,  4.73828125]]), array([[-3.52734375,  2.453125  ]]), array([[-4.078125  ,  2.94921875]]), array([[ 1.71191406, -1.35058594]]), array([[-1.04101562,  0.546875  ]]), array([[-1.91894531,  1.203125  ]]), array([[ 0.73828125, -0.60693359]]), array([[-1.38183594,  0.89501953]]), array([[-3.52734375,  2.453125  ]]), array([[-2.15429688,  1.35351562]]), array([[-2.39257812,  1.59667969]]), array([[-4.078125  ,  2.94921875]]), array([[-2.39257812,  1.59667969]]), array([[-2.09765625,  1.37402344]]), array([[-3.52734375,  2.453125  ]]), array([[-2.39257812,  1.59667969]]), array([[ 1.71191406, -1.35058594]]), array([[-1.91894531,  1.203125  ]]), array([[-0.79785156,  0.29467773]]), array([[-1.88183594,  1.25878906]]), array([[-3.52734375,  2.453125  ]]), array([[-1.88183594,  1.25878906]]), array([[ 1.71191406, -1.35058594]]), array([[-2.09765625,  1.37402344]]), array([[-2.15429688,  1.35351562]]), array([[-1.61328125,  0.89941406]]), array([[-1.38378906,  0.89746094]]), array([[-2.09570312,  1.37304688]]), array([[ 0.74121094, -0.60888672]]), array([[-2.39453125,  1.59863281]]), array([[-3.52734375,  2.45117188]]), array([[-3.92773438,  2.875     ]]), array([[-1.61328125,  0.89941406]]), array([[-1.38378906,  0.89746094]]), array([[-2.09570312,  1.37304688]]), array([[-1.03808594,  0.54492188]])]\n"
          ]
        }
      ]
    },
    {
      "cell_type": "code",
      "source": [
        "test['label'][12891]\n",
        "if predictions[0]==0:\n",
        "  print(\"News is Real\")\n",
        "else:\n",
        "  print(\"News is False\")"
      ],
      "metadata": {
        "colab": {
          "base_uri": "https://localhost:8080/"
        },
        "id": "4iwOUyFOp_TK",
        "outputId": "cad5f55d-f858-4b6f-bef3-1cbe2be97291"
      },
      "id": "4iwOUyFOp_TK",
      "execution_count": 33,
      "outputs": [
        {
          "output_type": "stream",
          "name": "stdout",
          "text": [
            "News is False\n"
          ]
        }
      ]
    },
    {
      "cell_type": "code",
      "source": [
        "test['label'][12891]"
      ],
      "metadata": {
        "colab": {
          "base_uri": "https://localhost:8080/"
        },
        "id": "G0vVkPCBsURw",
        "outputId": "93abe962-0e07-4624-c554-aea88feb4dcd"
      },
      "id": "G0vVkPCBsURw",
      "execution_count": 34,
      "outputs": [
        {
          "output_type": "execute_result",
          "data": {
            "text/plain": [
              "1"
            ]
          },
          "metadata": {},
          "execution_count": 34
        }
      ]
    },
    {
      "cell_type": "code",
      "execution_count": 35,
      "id": "c3fcfc05",
      "metadata": {
        "id": "c3fcfc05",
        "colab": {
          "base_uri": "https://localhost:8080/",
          "height": 365
        },
        "outputId": "a4b00875-c761-4b24-9654-70729b9e48db"
      },
      "outputs": [
        {
          "output_type": "error",
          "ename": "ModuleNotFoundError",
          "evalue": "ignored",
          "traceback": [
            "\u001b[0;31m---------------------------------------------------------------------------\u001b[0m",
            "\u001b[0;31mModuleNotFoundError\u001b[0m                       Traceback (most recent call last)",
            "\u001b[0;32m<ipython-input-35-587b4fe49ed4>\u001b[0m in \u001b[0;36m<cell line: 5>\u001b[0;34m()\u001b[0m\n\u001b[1;32m      3\u001b[0m \u001b[0;32mfrom\u001b[0m \u001b[0msklearn\u001b[0m\u001b[0;34m.\u001b[0m\u001b[0mfeature_extraction\u001b[0m\u001b[0;34m.\u001b[0m\u001b[0mtext\u001b[0m \u001b[0;32mimport\u001b[0m \u001b[0mCountVectorizer\u001b[0m\u001b[0;34m\u001b[0m\u001b[0;34m\u001b[0m\u001b[0m\n\u001b[1;32m      4\u001b[0m \u001b[0;32mfrom\u001b[0m \u001b[0msklearn\u001b[0m\u001b[0;34m.\u001b[0m\u001b[0mnaive_bayes\u001b[0m \u001b[0;32mimport\u001b[0m \u001b[0mMultinomialNB\u001b[0m\u001b[0;34m\u001b[0m\u001b[0;34m\u001b[0m\u001b[0m\n\u001b[0;32m----> 5\u001b[0;31m \u001b[0;32mfrom\u001b[0m \u001b[0msentence_transformers\u001b[0m \u001b[0;32mimport\u001b[0m \u001b[0mSentenceTransformer\u001b[0m\u001b[0;34m\u001b[0m\u001b[0;34m\u001b[0m\u001b[0m\n\u001b[0m",
            "\u001b[0;31mModuleNotFoundError\u001b[0m: No module named 'sentence_transformers'",
            "",
            "\u001b[0;31m---------------------------------------------------------------------------\u001b[0;32m\nNOTE: If your import is failing due to a missing package, you can\nmanually install dependencies using either !pip or !apt.\n\nTo view examples of installing some common dependencies, click the\n\"Open Examples\" button below.\n\u001b[0;31m---------------------------------------------------------------------------\u001b[0m\n"
          ],
          "errorDetails": {
            "actions": [
              {
                "action": "open_url",
                "actionText": "Open Examples",
                "url": "/notebooks/snippets/importing_libraries.ipynb"
              }
            ]
          }
        }
      ],
      "source": [
        "#학습 데이터와 검증 데이터로 나눌 train_test_split, naive bayes 모델인 MultinomialNB, clean_message에 있는 단어들의 특징 추출을 위해 문자열 데이터를 수치 벡터로 변환시켜주는 CountVectorizer를 import\n",
        "from sklearn.model_selection import train_test_split\n",
        "from sklearn.feature_extraction.text import CountVectorizer\n",
        "from sklearn.naive_bayes import MultinomialNB\n",
        "from sentence_transformers import SentenceTransformer"
      ]
    },
    {
      "cell_type": "code",
      "execution_count": null,
      "id": "246dfb08",
      "metadata": {
        "id": "246dfb08",
        "outputId": "190fe244-97d9-4444-bf59-7d3d6939c2be"
      },
      "outputs": [
        {
          "data": {
            "text/plain": [
              "29152    new york reuters swipe pen us president donald...\n",
              "38769    beirut reuters lebanese president michel aoun ...\n",
              "40618    luxembourg reuters european police forces cann...\n",
              "23604    washington reuters compromise republican tax b...\n",
              "24728    reuters us senator susan collins maine moderat...\n",
              "                               ...                        \n",
              "34765    abuja reuters united states formally agreed se...\n",
              "35445    johannesburg reuters nearly man south african ...\n",
              "28871    washington reuters president donald trump said...\n",
              "24341    washington reuters republican tax plan unveile...\n",
              "39276    sydney reuters un high commissioner refugees s...\n",
              "Name: clean_message, Length: 17133, dtype: object"
            ]
          },
          "execution_count": 50,
          "metadata": {},
          "output_type": "execute_result"
        }
      ],
      "source": [
        "real_train['clean_message']"
      ]
    },
    {
      "cell_type": "code",
      "execution_count": null,
      "id": "0f522683",
      "metadata": {
        "id": "0f522683",
        "outputId": "9b101f8f-1dda-4e86-c566-b613a95ce275"
      },
      "outputs": [
        {
          "data": {
            "text/plain": [
              "(1, 1024)"
            ]
          },
          "execution_count": 53,
          "metadata": {},
          "output_type": "execute_result"
        }
      ],
      "source": [
        "sentences = [real_train['clean_message'].iloc[0]]\n",
        "embeddings = model.encode(sentences)\n",
        "embeddings.shape"
      ]
    },
    {
      "cell_type": "markdown",
      "id": "9e978130",
      "metadata": {
        "id": "9e978130"
      },
      "source": [
        "## 단어들의 출현 빈도를 체크하기 위한 vectorizer를 생성"
      ]
    },
    {
      "cell_type": "code",
      "execution_count": null,
      "id": "f0d7809f",
      "metadata": {
        "scrolled": true,
        "id": "f0d7809f",
        "outputId": "758ae1d5-9a1d-4f95-ed0f-699bd0f76254"
      },
      "outputs": [
        {
          "data": {
            "text/plain": [
              "'donald trump wish americans happy new year leave instead give shout enemies haters dishonest fake news media former reality show star one job country rapidly grows stronger smarter want wish friends supporters enemies haters even dishonest fake news media happy healthy new year president angry pants tweeted 2018 great year america country rapidly grows stronger smarter want wish friends supporters enemies haters even dishonest fake news media happy healthy new year 2018 great year america donald j trump realdonaldtrump december 31 2017trump tweet went welll expectwhat kind president sends new year greeting like despicable petty infantile gibberish trump lack decency even allow rise gutter long enough wish american citizens happy new year bishop talbert swan talbertswan december 31 2017no one likes calvin calvinstowell december 31 2017your impeachment would make 2018 great year america also accept regaining control congress miranda yaver mirandayaver december 31 2017do hear talk include many people hate wonder hate alan sandoval alansandoval13 december 31 2017who uses word haters new years wish marlene marlene399 december 31 2017you say happy new year koren pollitt korencarpenter december 31 2017here trump new year eve tweet 2016happy new year including many enemies fought lost badly know love donald j trump realdonaldtrump december 31 2016this nothing new trump yearstrump directed messages enemies haters new year easter thanksgiving anniversary 911 pictwittercom4fpae2kypa daniel dale ddale8 december 31 2017trump holiday tweets clearly presidentialhow long work hallmark becoming president steven goodine sgoodine december 31 2017he always like difference last years filter breaking roy schulze thbthttt december 31 2017who apart teenager uses term haters wendy wendywhistles december 31 2017he fucking 5 year old knows rainyday80 december 31 2017so people voted hole thinking would change got power wrong 70yearold men change year olderphoto andrew burtongetty imagesdonald trump sends embarrassing new year’s eve message disturbing'"
            ]
          },
          "execution_count": 26,
          "metadata": {},
          "output_type": "execute_result"
        }
      ],
      "source": [
        "X_train[0]"
      ]
    },
    {
      "cell_type": "code",
      "execution_count": null,
      "id": "0d518634",
      "metadata": {
        "id": "0d518634"
      },
      "outputs": [],
      "source": [
        "vectorizer = CountVectorizer()"
      ]
    },
    {
      "cell_type": "markdown",
      "id": "665b57f0",
      "metadata": {
        "id": "665b57f0"
      },
      "source": [
        "## X_train과 X_test의 데이터를 vectorizer를 통해 수치 벡터로 만들어 X_train_docs와 X_test_docs에 넣기"
      ]
    },
    {
      "cell_type": "code",
      "execution_count": null,
      "id": "2d2756b4",
      "metadata": {
        "id": "2d2756b4",
        "outputId": "d8752299-c18f-49e8-d96a-5b3d7f725e11"
      },
      "outputs": [
        {
          "name": "stdout",
          "output_type": "stream",
          "text": [
            "(31428, 207868) (13470, 207868)\n"
          ]
        }
      ],
      "source": [
        "X_train_docs = vectorizer.fit_transform(X_train)\n",
        "X_test_docs = vectorizer.transform(X_test)\n",
        "print(X_train_docs.shape, X_test_docs.shapezz)"
      ]
    },
    {
      "cell_type": "markdown",
      "id": "8ceb6b4e",
      "metadata": {
        "id": "8ceb6b4e"
      },
      "source": [
        "##  수치 벡터로 만들어진 데이터를 넘파이 배열로 바꿔준다"
      ]
    },
    {
      "cell_type": "code",
      "execution_count": null,
      "id": "d778e1e6",
      "metadata": {
        "scrolled": true,
        "id": "d778e1e6",
        "outputId": "79bce03c-bb84-4e3a-fe33-0a30c10b29e5"
      },
      "outputs": [
        {
          "data": {
            "text/plain": [
              "array([[0, 0, 0, ..., 0, 0, 0],\n",
              "       [0, 0, 0, ..., 0, 0, 0],\n",
              "       [0, 0, 0, ..., 0, 0, 0],\n",
              "       ...,\n",
              "       [0, 0, 0, ..., 0, 0, 0],\n",
              "       [0, 0, 0, ..., 0, 0, 0],\n",
              "       [0, 0, 0, ..., 0, 0, 0]])"
            ]
          },
          "execution_count": 29,
          "metadata": {},
          "output_type": "execute_result"
        }
      ],
      "source": [
        "X_train_docs.toarray()\n",
        "X_test_docs.toarray()"
      ]
    },
    {
      "cell_type": "markdown",
      "id": "24de5f69",
      "metadata": {
        "id": "24de5f69"
      },
      "source": [
        "## MultinomialNB 모델을 alpha=1, fit_prior=True로 설정하여 navive_bayer에 저장"
      ]
    },
    {
      "cell_type": "code",
      "execution_count": null,
      "id": "c1a60229",
      "metadata": {
        "id": "c1a60229",
        "outputId": "9d64e09e-1e81-4f26-c3e0-9f658751e5b8"
      },
      "outputs": [
        {
          "data": {
            "text/html": [
              "<style>#sk-container-id-1 {color: black;background-color: white;}#sk-container-id-1 pre{padding: 0;}#sk-container-id-1 div.sk-toggleable {background-color: white;}#sk-container-id-1 label.sk-toggleable__label {cursor: pointer;display: block;width: 100%;margin-bottom: 0;padding: 0.3em;box-sizing: border-box;text-align: center;}#sk-container-id-1 label.sk-toggleable__label-arrow:before {content: \"▸\";float: left;margin-right: 0.25em;color: #696969;}#sk-container-id-1 label.sk-toggleable__label-arrow:hover:before {color: black;}#sk-container-id-1 div.sk-estimator:hover label.sk-toggleable__label-arrow:before {color: black;}#sk-container-id-1 div.sk-toggleable__content {max-height: 0;max-width: 0;overflow: hidden;text-align: left;background-color: #f0f8ff;}#sk-container-id-1 div.sk-toggleable__content pre {margin: 0.2em;color: black;border-radius: 0.25em;background-color: #f0f8ff;}#sk-container-id-1 input.sk-toggleable__control:checked~div.sk-toggleable__content {max-height: 200px;max-width: 100%;overflow: auto;}#sk-container-id-1 input.sk-toggleable__control:checked~label.sk-toggleable__label-arrow:before {content: \"▾\";}#sk-container-id-1 div.sk-estimator input.sk-toggleable__control:checked~label.sk-toggleable__label {background-color: #d4ebff;}#sk-container-id-1 div.sk-label input.sk-toggleable__control:checked~label.sk-toggleable__label {background-color: #d4ebff;}#sk-container-id-1 input.sk-hidden--visually {border: 0;clip: rect(1px 1px 1px 1px);clip: rect(1px, 1px, 1px, 1px);height: 1px;margin: -1px;overflow: hidden;padding: 0;position: absolute;width: 1px;}#sk-container-id-1 div.sk-estimator {font-family: monospace;background-color: #f0f8ff;border: 1px dotted black;border-radius: 0.25em;box-sizing: border-box;margin-bottom: 0.5em;}#sk-container-id-1 div.sk-estimator:hover {background-color: #d4ebff;}#sk-container-id-1 div.sk-parallel-item::after {content: \"\";width: 100%;border-bottom: 1px solid gray;flex-grow: 1;}#sk-container-id-1 div.sk-label:hover label.sk-toggleable__label {background-color: #d4ebff;}#sk-container-id-1 div.sk-serial::before {content: \"\";position: absolute;border-left: 1px solid gray;box-sizing: border-box;top: 0;bottom: 0;left: 50%;z-index: 0;}#sk-container-id-1 div.sk-serial {display: flex;flex-direction: column;align-items: center;background-color: white;padding-right: 0.2em;padding-left: 0.2em;position: relative;}#sk-container-id-1 div.sk-item {position: relative;z-index: 1;}#sk-container-id-1 div.sk-parallel {display: flex;align-items: stretch;justify-content: center;background-color: white;position: relative;}#sk-container-id-1 div.sk-item::before, #sk-container-id-1 div.sk-parallel-item::before {content: \"\";position: absolute;border-left: 1px solid gray;box-sizing: border-box;top: 0;bottom: 0;left: 50%;z-index: -1;}#sk-container-id-1 div.sk-parallel-item {display: flex;flex-direction: column;z-index: 1;position: relative;background-color: white;}#sk-container-id-1 div.sk-parallel-item:first-child::after {align-self: flex-end;width: 50%;}#sk-container-id-1 div.sk-parallel-item:last-child::after {align-self: flex-start;width: 50%;}#sk-container-id-1 div.sk-parallel-item:only-child::after {width: 0;}#sk-container-id-1 div.sk-dashed-wrapped {border: 1px dashed gray;margin: 0 0.4em 0.5em 0.4em;box-sizing: border-box;padding-bottom: 0.4em;background-color: white;}#sk-container-id-1 div.sk-label label {font-family: monospace;font-weight: bold;display: inline-block;line-height: 1.2em;}#sk-container-id-1 div.sk-label-container {text-align: center;}#sk-container-id-1 div.sk-container {/* jupyter's `normalize.less` sets `[hidden] { display: none; }` but bootstrap.min.css set `[hidden] { display: none !important; }` so we also need the `!important` here to be able to override the default hidden behavior on the sphinx rendered scikit-learn.org. See: https://github.com/scikit-learn/scikit-learn/issues/21755 */display: inline-block !important;position: relative;}#sk-container-id-1 div.sk-text-repr-fallback {display: none;}</style><div id=\"sk-container-id-1\" class=\"sk-top-container\"><div class=\"sk-text-repr-fallback\"><pre>MultinomialNB(alpha=1)</pre><b>In a Jupyter environment, please rerun this cell to show the HTML representation or trust the notebook. <br />On GitHub, the HTML representation is unable to render, please try loading this page with nbviewer.org.</b></div><div class=\"sk-container\" hidden><div class=\"sk-item\"><div class=\"sk-estimator sk-toggleable\"><input class=\"sk-toggleable__control sk-hidden--visually\" id=\"sk-estimator-id-1\" type=\"checkbox\" checked><label for=\"sk-estimator-id-1\" class=\"sk-toggleable__label sk-toggleable__label-arrow\">MultinomialNB</label><div class=\"sk-toggleable__content\"><pre>MultinomialNB(alpha=1)</pre></div></div></div></div></div>"
            ],
            "text/plain": [
              "MultinomialNB(alpha=1)"
            ]
          },
          "execution_count": 32,
          "metadata": {},
          "output_type": "execute_result"
        }
      ],
      "source": [
        "naive_bayes = MultinomialNB(alpha=1, fit_prior=True)\n",
        "naive_bayes.fit(X_train_docs, y_train)\n",
        "\n",
        "MultinomialNB(alpha=1)"
      ]
    },
    {
      "cell_type": "code",
      "execution_count": null,
      "id": "7d930ce7",
      "metadata": {
        "id": "7d930ce7"
      },
      "outputs": [],
      "source": [
        "#predict를 사용하면 0과 1만을 반환하여 0은 가짜 뉴스 1은 진짜 뉴스가 되게 된다."
      ]
    },
    {
      "cell_type": "code",
      "execution_count": null,
      "id": "b3c13306",
      "metadata": {
        "id": "b3c13306",
        "outputId": "2ded6a7b-0dbb-4321-8da8-995bd97a490b"
      },
      "outputs": [
        {
          "data": {
            "text/plain": [
              "array([1, 1, 1, ..., 0, 0, 0])"
            ]
          },
          "execution_count": 34,
          "metadata": {},
          "output_type": "execute_result"
        }
      ],
      "source": [
        "y_pred = naive_bayes.predict(X_test_docs)\n",
        "y_pred"
      ]
    },
    {
      "cell_type": "code",
      "execution_count": null,
      "id": "27440d84",
      "metadata": {
        "id": "27440d84"
      },
      "outputs": [],
      "source": [
        "# predict_proba를 사용하면 0일 가능성과 1일 가능성을 둘 다 출력해준다"
      ]
    },
    {
      "cell_type": "code",
      "execution_count": null,
      "id": "120e9a11",
      "metadata": {
        "id": "120e9a11",
        "outputId": "a3ab71f7-8982-4a90-a8ef-17075cd5be71"
      },
      "outputs": [
        {
          "data": {
            "text/plain": [
              "array([[1.44370683e-084, 1.00000000e+000],\n",
              "       [6.84226586e-004, 9.99315773e-001],\n",
              "       [1.54851509e-016, 1.00000000e+000],\n",
              "       ...,\n",
              "       [1.00000000e+000, 6.05089154e-119],\n",
              "       [1.00000000e+000, 3.01655703e-019],\n",
              "       [1.00000000e+000, 1.15350827e-084]])"
            ]
          },
          "execution_count": 36,
          "metadata": {},
          "output_type": "execute_result"
        }
      ],
      "source": [
        "y_pred_proba = naive_bayes.predict_proba(X_test_docs)\n",
        "y_pred_proba"
      ]
    },
    {
      "cell_type": "code",
      "execution_count": null,
      "id": "b416f690",
      "metadata": {
        "id": "b416f690",
        "outputId": "b3cc454e-93c0-4b8a-86dd-fd301af30aca"
      },
      "outputs": [
        {
          "data": {
            "image/png": "[encoded data removed]",
            "text/plain": [
              "<Figure size 800x600 with 1 Axes>"
            ]
          },
          "metadata": {},
          "output_type": "display_data"
        }
      ],
      "source": [
        "from sklearn.metrics import roc_curve, roc_auc_score\n",
        "import matplotlib.pyplot as plt\n",
        "\n",
        "# 실제 레이블과 예측 확률을 이용하여 ROC 커브를 생성\n",
        "fpr, tpr, thresholds = roc_curve(y_test, y_pred_proba[:, 1])  # y_test는 실제 레이블이어야 합니다.\n",
        "\n",
        "# AUC를 계산\n",
        "auc = roc_auc_score(y_test, y_pred_proba[:, 1])\n",
        "\n",
        "# ROC 커브 그리기\n",
        "plt.figure(figsize=(8, 6))\n",
        "plt.plot(fpr, tpr, label='ROC Curve (AUC = %.4f)' % auc)  # AUC 값을 소수점 4자리까지 표시\n",
        "plt.plot([0, 1], [0, 1], 'k--')  # 랜덤한 분류의 경우의 직선\n",
        "plt.xlim([0.0, 1.0])\n",
        "plt.ylim([0.0, 1.05])\n",
        "plt.xlabel('False Positive Rate')\n",
        "plt.ylabel('True Positive Rate')\n",
        "plt.title('ROC Curve')\n",
        "plt.legend(loc='lower right')\n",
        "plt.show()\n"
      ]
    },
    {
      "cell_type": "markdown",
      "id": "1c5548e8",
      "metadata": {
        "id": "1c5548e8"
      },
      "source": [
        "# 파리미터 튜닝"
      ]
    },
    {
      "cell_type": "markdown",
      "id": "b06e50a1",
      "metadata": {
        "id": "b06e50a1"
      },
      "source": [
        "## GridSearchCV"
      ]
    },
    {
      "cell_type": "code",
      "execution_count": null,
      "id": "72caa41f",
      "metadata": {
        "id": "72caa41f"
      },
      "outputs": [],
      "source": [
        "from sklearn.model_selection import GridSearchCV"
      ]
    },
    {
      "cell_type": "code",
      "execution_count": null,
      "id": "010009f5",
      "metadata": {
        "id": "010009f5"
      },
      "outputs": [],
      "source": [
        "parameters = {\n",
        "    'alpha': [ 0.25, 0.5 ,1],\n",
        "    'fit_prior': [True, False]\n",
        "}"
      ]
    },
    {
      "cell_type": "code",
      "execution_count": null,
      "id": "4d677597",
      "metadata": {
        "id": "4d677597"
      },
      "outputs": [],
      "source": [
        "grid_search = GridSearchCV(naive_bayes, parameters, n_jobs=-1, cv=6, scoring=\"roc_auc\")"
      ]
    },
    {
      "cell_type": "code",
      "execution_count": null,
      "id": "d0cbc3d3",
      "metadata": {
        "id": "d0cbc3d3",
        "outputId": "ef641dff-b7eb-48eb-8f72-f0bc42a7f2da"
      },
      "outputs": [
        {
          "data": {
            "text/html": [
              "<style>#sk-container-id-2 {color: black;background-color: white;}#sk-container-id-2 pre{padding: 0;}#sk-container-id-2 div.sk-toggleable {background-color: white;}#sk-container-id-2 label.sk-toggleable__label {cursor: pointer;display: block;width: 100%;margin-bottom: 0;padding: 0.3em;box-sizing: border-box;text-align: center;}#sk-container-id-2 label.sk-toggleable__label-arrow:before {content: \"▸\";float: left;margin-right: 0.25em;color: #696969;}#sk-container-id-2 label.sk-toggleable__label-arrow:hover:before {color: black;}#sk-container-id-2 div.sk-estimator:hover label.sk-toggleable__label-arrow:before {color: black;}#sk-container-id-2 div.sk-toggleable__content {max-height: 0;max-width: 0;overflow: hidden;text-align: left;background-color: #f0f8ff;}#sk-container-id-2 div.sk-toggleable__content pre {margin: 0.2em;color: black;border-radius: 0.25em;background-color: #f0f8ff;}#sk-container-id-2 input.sk-toggleable__control:checked~div.sk-toggleable__content {max-height: 200px;max-width: 100%;overflow: auto;}#sk-container-id-2 input.sk-toggleable__control:checked~label.sk-toggleable__label-arrow:before {content: \"▾\";}#sk-container-id-2 div.sk-estimator input.sk-toggleable__control:checked~label.sk-toggleable__label {background-color: #d4ebff;}#sk-container-id-2 div.sk-label input.sk-toggleable__control:checked~label.sk-toggleable__label {background-color: #d4ebff;}#sk-container-id-2 input.sk-hidden--visually {border: 0;clip: rect(1px 1px 1px 1px);clip: rect(1px, 1px, 1px, 1px);height: 1px;margin: -1px;overflow: hidden;padding: 0;position: absolute;width: 1px;}#sk-container-id-2 div.sk-estimator {font-family: monospace;background-color: #f0f8ff;border: 1px dotted black;border-radius: 0.25em;box-sizing: border-box;margin-bottom: 0.5em;}#sk-container-id-2 div.sk-estimator:hover {background-color: #d4ebff;}#sk-container-id-2 div.sk-parallel-item::after {content: \"\";width: 100%;border-bottom: 1px solid gray;flex-grow: 1;}#sk-container-id-2 div.sk-label:hover label.sk-toggleable__label {background-color: #d4ebff;}#sk-container-id-2 div.sk-serial::before {content: \"\";position: absolute;border-left: 1px solid gray;box-sizing: border-box;top: 0;bottom: 0;left: 50%;z-index: 0;}#sk-container-id-2 div.sk-serial {display: flex;flex-direction: column;align-items: center;background-color: white;padding-right: 0.2em;padding-left: 0.2em;position: relative;}#sk-container-id-2 div.sk-item {position: relative;z-index: 1;}#sk-container-id-2 div.sk-parallel {display: flex;align-items: stretch;justify-content: center;background-color: white;position: relative;}#sk-container-id-2 div.sk-item::before, #sk-container-id-2 div.sk-parallel-item::before {content: \"\";position: absolute;border-left: 1px solid gray;box-sizing: border-box;top: 0;bottom: 0;left: 50%;z-index: -1;}#sk-container-id-2 div.sk-parallel-item {display: flex;flex-direction: column;z-index: 1;position: relative;background-color: white;}#sk-container-id-2 div.sk-parallel-item:first-child::after {align-self: flex-end;width: 50%;}#sk-container-id-2 div.sk-parallel-item:last-child::after {align-self: flex-start;width: 50%;}#sk-container-id-2 div.sk-parallel-item:only-child::after {width: 0;}#sk-container-id-2 div.sk-dashed-wrapped {border: 1px dashed gray;margin: 0 0.4em 0.5em 0.4em;box-sizing: border-box;padding-bottom: 0.4em;background-color: white;}#sk-container-id-2 div.sk-label label {font-family: monospace;font-weight: bold;display: inline-block;line-height: 1.2em;}#sk-container-id-2 div.sk-label-container {text-align: center;}#sk-container-id-2 div.sk-container {/* jupyter's `normalize.less` sets `[hidden] { display: none; }` but bootstrap.min.css set `[hidden] { display: none !important; }` so we also need the `!important` here to be able to override the default hidden behavior on the sphinx rendered scikit-learn.org. See: https://github.com/scikit-learn/scikit-learn/issues/21755 */display: inline-block !important;position: relative;}#sk-container-id-2 div.sk-text-repr-fallback {display: none;}</style><div id=\"sk-container-id-2\" class=\"sk-top-container\"><div class=\"sk-text-repr-fallback\"><pre>GridSearchCV(cv=6, estimator=MultinomialNB(alpha=1), n_jobs=-1,\n",
              "             param_grid={&#x27;alpha&#x27;: [0.25, 0.5, 1], &#x27;fit_prior&#x27;: [True, False]},\n",
              "             scoring=&#x27;roc_auc&#x27;)</pre><b>In a Jupyter environment, please rerun this cell to show the HTML representation or trust the notebook. <br />On GitHub, the HTML representation is unable to render, please try loading this page with nbviewer.org.</b></div><div class=\"sk-container\" hidden><div class=\"sk-item sk-dashed-wrapped\"><div class=\"sk-label-container\"><div class=\"sk-label sk-toggleable\"><input class=\"sk-toggleable__control sk-hidden--visually\" id=\"sk-estimator-id-2\" type=\"checkbox\" ><label for=\"sk-estimator-id-2\" class=\"sk-toggleable__label sk-toggleable__label-arrow\">GridSearchCV</label><div class=\"sk-toggleable__content\"><pre>GridSearchCV(cv=6, estimator=MultinomialNB(alpha=1), n_jobs=-1,\n",
              "             param_grid={&#x27;alpha&#x27;: [0.25, 0.5, 1], &#x27;fit_prior&#x27;: [True, False]},\n",
              "             scoring=&#x27;roc_auc&#x27;)</pre></div></div></div><div class=\"sk-parallel\"><div class=\"sk-parallel-item\"><div class=\"sk-item\"><div class=\"sk-label-container\"><div class=\"sk-label sk-toggleable\"><input class=\"sk-toggleable__control sk-hidden--visually\" id=\"sk-estimator-id-3\" type=\"checkbox\" ><label for=\"sk-estimator-id-3\" class=\"sk-toggleable__label sk-toggleable__label-arrow\">estimator: MultinomialNB</label><div class=\"sk-toggleable__content\"><pre>MultinomialNB(alpha=1)</pre></div></div></div><div class=\"sk-serial\"><div class=\"sk-item\"><div class=\"sk-estimator sk-toggleable\"><input class=\"sk-toggleable__control sk-hidden--visually\" id=\"sk-estimator-id-4\" type=\"checkbox\" ><label for=\"sk-estimator-id-4\" class=\"sk-toggleable__label sk-toggleable__label-arrow\">MultinomialNB</label><div class=\"sk-toggleable__content\"><pre>MultinomialNB(alpha=1)</pre></div></div></div></div></div></div></div></div></div></div>"
            ],
            "text/plain": [
              "GridSearchCV(cv=6, estimator=MultinomialNB(alpha=1), n_jobs=-1,\n",
              "             param_grid={'alpha': [0.25, 0.5, 1], 'fit_prior': [True, False]},\n",
              "             scoring='roc_auc')"
            ]
          },
          "execution_count": 41,
          "metadata": {},
          "output_type": "execute_result"
        }
      ],
      "source": [
        "grid_search.fit(X_train_docs, y_train)\n",
        "\n",
        "GridSearchCV(cv=6, estimator=MultinomialNB(alpha=1), n_jobs=-1,\n",
        "             param_grid={'alpha': [0.25, 0.5, 1], 'fit_prior': [True, False]},\n",
        "             scoring='roc_auc')"
      ]
    },
    {
      "cell_type": "code",
      "execution_count": null,
      "id": "9b3137dc",
      "metadata": {
        "id": "9b3137dc",
        "outputId": "6a57b2b5-3419-47ce-f697-23122ac4ee37"
      },
      "outputs": [
        {
          "data": {
            "text/plain": [
              "{'alpha': 0.25, 'fit_prior': True}"
            ]
          },
          "execution_count": 42,
          "metadata": {},
          "output_type": "execute_result"
        }
      ],
      "source": [
        " #best_params_를 통해 임의로 설정한 파라미터의 값 중에서 가장 좋은 결과를 반환하는 파라미터를 알 수 있음\n",
        "\n",
        "grid_search.best_params_\n"
      ]
    },
    {
      "cell_type": "code",
      "execution_count": null,
      "id": "b039bf7d",
      "metadata": {
        "id": "b039bf7d"
      },
      "outputs": [],
      "source": [
        "naive_bayes_best = grid_search.best_estimator_\n",
        "y_pred_proba = naive_bayes_best.predict_proba(X_test_docs)"
      ]
    },
    {
      "cell_type": "code",
      "execution_count": null,
      "id": "896f61ff",
      "metadata": {
        "scrolled": false,
        "id": "896f61ff",
        "outputId": "ec02f7ad-ed76-4124-c2bb-6117fe4bef75"
      },
      "outputs": [
        {
          "data": {
            "image/png": "[encoded data removed]",
            "text/plain": [
              "<Figure size 640x480 with 1 Axes>"
            ]
          },
          "metadata": {},
          "output_type": "display_data"
        }
      ],
      "source": [
        "import matplotlib.pyplot as plt\n",
        "from sklearn.metrics import roc_curve, auc\n",
        "\n",
        "# ROC 곡선을 그리기 위한 데이터 준비\n",
        "fpr, tpr, _ = roc_curve(y_test, y_pred_proba[:, 1])\n",
        "roc_auc = auc(fpr, tpr)\n",
        "\n",
        "# AUC 값을 문자열로 형식화\n",
        "auc_str = '%.4f' % roc_auc\n",
        "\n",
        "# ROC 곡선 그리기\n",
        "plt.figure()\n",
        "plt.plot(fpr, tpr, color='darkorange', lw=2, label='ROC curve (AUC = %s)' % auc_str)\n",
        "plt.plot([0, 1], [0, 1], color='navy', lw=2, linestyle='--')\n",
        "plt.xlim([0.0, 1.0])\n",
        "plt.ylim([0.0, 1.05])\n",
        "plt.xlabel('False Positive Rate')\n",
        "plt.ylabel('True Positive Rate')\n",
        "plt.title('Receiver Operating Characteristic (ROC) Curve')\n",
        "plt.legend(loc=\"lower right\")\n",
        "\n",
        "plt.show()\n"
      ]
    },
    {
      "cell_type": "code",
      "execution_count": null,
      "id": "1cd612f2",
      "metadata": {
        "id": "1cd612f2",
        "outputId": "f564ebd2-6aad-47f7-f9c4-423f5ca2c3d0"
      },
      "outputs": [
        {
          "data": {
            "text/plain": [
              "['vectorizer.pkl']"
            ]
          },
          "execution_count": 45,
          "metadata": {},
          "output_type": "execute_result"
        }
      ],
      "source": [
        "import joblib\n",
        "\n",
        "# 모델과 벡터라이저 저장\n",
        "joblib.dump(naive_bayes_best, 'naive_bayes_best_model.pkl')\n",
        "joblib.dump(vectorizer, 'vectorizer.pkl')"
      ]
    },
    {
      "cell_type": "code",
      "execution_count": null,
      "id": "c346584f",
      "metadata": {
        "colab": {
          "referenced_widgets": [
            "ebc900ec7a8942228f23153f4bd1ed85"
          ]
        },
        "id": "c346584f",
        "outputId": "2953048a-863b-4a12-b2a5-5964f9d2ceda"
      },
      "outputs": [
        {
          "data": {
            "application/vnd.jupyter.widget-view+json": {
              "model_id": "ebc900ec7a8942228f23153f4bd1ed85",
              "version_major": 2,
              "version_minor": 0
            },
            "text/plain": [
              "VBox(children=(VBox(children=(HTML(value='<h2>뉴스 텍스트 입력</h2>'), Textarea(value='', placeholder='뉴스 텍스트를 입력해 주세…"
            ]
          },
          "metadata": {},
          "output_type": "display_data"
        }
      ],
      "source": [
        "# 기존 위젯들 및 필요한 라이브러리 임포트\n",
        "import ipywidgets as widgets\n",
        "from IPython.display import display, clear_output\n",
        "import joblib  # 모델을 저장하고 불러오기 위해 사용\n",
        "\n",
        "# 모델 불러오기\n",
        "naive_bayes_best = joblib.load('naive_bayes_best_model.pkl')  # 학습된 모델 파일\n",
        "vectorizer = joblib.load('vectorizer.pkl')  # 벡터라이저 파일\n",
        "\n",
        "# 입력 필드 설정\n",
        "text_0 = widgets.HTML(value=\"<h2>뉴스 텍스트 입력</h2>\")\n",
        "news_input = widgets.Textarea(placeholder='뉴스 텍스트를 입력해 주세요')\n",
        "\n",
        "vbox_0 = widgets.VBox([text_0, news_input])\n",
        "\n",
        "# 버튼 및 출력 설정\n",
        "search_button = widgets.Button(description='가짜 뉴스 확인하기', style={'description_width': 'initial'})\n",
        "output = widgets.Output()\n",
        "\n",
        "def on_button_clicked(event):\n",
        "    with output:\n",
        "        clear_output()\n",
        "        # 입력된 텍스트 전처리\n",
        "        cleaned_text = clean_text(news_input.value)  # clean_text 함수는 위에서 정의된 대로\n",
        "        vectorized_text = vectorizer.transform([cleaned_text])  # 벡터라이징\n",
        "        prediction = naive_bayes_best.predict(vectorized_text)  # 예측\n",
        "        if prediction[0] == 0:\n",
        "            print(\"진짜 뉴스로 예측됩니다.\")\n",
        "        else:\n",
        "            print(\"가짜 뉴스로 예측됩니다.\")\n",
        "\n",
        "search_button.on_click(on_button_clicked)\n",
        "vbox_result = widgets.VBox([search_button, output])\n",
        "\n",
        "# 최종 페이지 디스플레이\n",
        "page = widgets.VBox([vbox_0, vbox_result])\n",
        "display(page)\n"
      ]
    },
    {
      "cell_type": "code",
      "execution_count": null,
      "id": "b9ccc900",
      "metadata": {
        "id": "b9ccc900"
      },
      "outputs": [],
      "source": []
    }
  ],
  "metadata": {
    "kernelspec": {
      "display_name": "Python 3",
      "name": "python3"
    },
    "language_info": {
      "name": "python"
    },
    "toc": {
      "base_numbering": 1,
      "nav_menu": {},
      "number_sections": true,
      "sideBar": true,
      "skip_h1_title": false,
      "title_cell": "Table of Contents",
      "title_sidebar": "Contents",
      "toc_cell": false,
      "toc_position": {},
      "toc_section_display": true,
      "toc_window_display": false
    },
    "colab": {
      "provenance": [],
      "machine_shape": "hm",
      "gpuType": "A100"
    },
    "widgets": {
      "application/vnd.jupyter.widget-state+json": {
        "7508a416910d43feb3146541b6cb9b4d": {
          "model_module": "@jupyter-widgets/controls",
          "model_name": "HBoxModel",
          "model_module_version": "1.5.0",
          "state": {
            "_dom_classes": [],
            "_model_module": "@jupyter-widgets/controls",
            "_model_module_version": "1.5.0",
            "_model_name": "HBoxModel",
            "_view_count": null,
            "_view_module": "@jupyter-widgets/controls",
            "_view_module_version": "1.5.0",
            "_view_name": "HBoxView",
            "box_style": "",
            "children": [
              "IPY_MODEL_57643a6d9626437ea7d1a72b03d05255",
              "IPY_MODEL_827cda4ea35b45139f79fb898a724cbf",
              "IPY_MODEL_e21e58c78b2e4b319f4b1f5eccef02d8"
            ],
            "layout": "IPY_MODEL_6caf46dfe12d46cb8ba20b1b5c51cbf8"
          }
        },
        "57643a6d9626437ea7d1a72b03d05255": {
          "model_module": "@jupyter-widgets/controls",
          "model_name": "HTMLModel",
          "model_module_version": "1.5.0",
          "state": {
            "_dom_classes": [],
            "_model_module": "@jupyter-widgets/controls",
            "_model_module_version": "1.5.0",
            "_model_name": "HTMLModel",
            "_view_count": null,
            "_view_module": "@jupyter-widgets/controls",
            "_view_module_version": "1.5.0",
            "_view_name": "HTMLView",
            "description": "",
            "description_tooltip": null,
            "layout": "IPY_MODEL_e76e7fa59fcd4a4fb715f1d6dcc377ad",
            "placeholder": "​",
            "style": "IPY_MODEL_cc02c7991c0944d28c84cfa48e7c6256",
            "value": "Downloading (…)lve/main/config.json: 100%"
          }
        },
        "827cda4ea35b45139f79fb898a724cbf": {
          "model_module": "@jupyter-widgets/controls",
          "model_name": "FloatProgressModel",
          "model_module_version": "1.5.0",
          "state": {
            "_dom_classes": [],
            "_model_module": "@jupyter-widgets/controls",
            "_model_module_version": "1.5.0",
            "_model_name": "FloatProgressModel",
            "_view_count": null,
            "_view_module": "@jupyter-widgets/controls",
            "_view_module_version": "1.5.0",
            "_view_name": "ProgressView",
            "bar_style": "success",
            "description": "",
            "description_tooltip": null,
            "layout": "IPY_MODEL_70ae7a7b85ad46f38b3adbb16b2cc895",
            "max": 481,
            "min": 0,
            "orientation": "horizontal",
            "style": "IPY_MODEL_e2a5b1b572a344b2813ea4008b7c85c8",
            "value": 481
          }
        },
        "e21e58c78b2e4b319f4b1f5eccef02d8": {
          "model_module": "@jupyter-widgets/controls",
          "model_name": "HTMLModel",
          "model_module_version": "1.5.0",
          "state": {
            "_dom_classes": [],
            "_model_module": "@jupyter-widgets/controls",
            "_model_module_version": "1.5.0",
            "_model_name": "HTMLModel",
            "_view_count": null,
            "_view_module": "@jupyter-widgets/controls",
            "_view_module_version": "1.5.0",
            "_view_name": "HTMLView",
            "description": "",
            "description_tooltip": null,
            "layout": "IPY_MODEL_1b43c85b4ed4405c8463d79ee60f1d90",
            "placeholder": "​",
            "style": "IPY_MODEL_51d24a664b4b4a8ea1eed5cacc7fe778",
            "value": " 481/481 [00:00&lt;00:00, 40.0kB/s]"
          }
        },
        "6caf46dfe12d46cb8ba20b1b5c51cbf8": {
          "model_module": "@jupyter-widgets/base",
          "model_name": "LayoutModel",
          "model_module_version": "1.2.0",
          "state": {
            "_model_module": "@jupyter-widgets/base",
            "_model_module_version": "1.2.0",
            "_model_name": "LayoutModel",
            "_view_count": null,
            "_view_module": "@jupyter-widgets/base",
            "_view_module_version": "1.2.0",
            "_view_name": "LayoutView",
            "align_content": null,
            "align_items": null,
            "align_self": null,
            "border": null,
            "bottom": null,
            "display": null,
            "flex": null,
            "flex_flow": null,
            "grid_area": null,
            "grid_auto_columns": null,
            "grid_auto_flow": null,
            "grid_auto_rows": null,
            "grid_column": null,
            "grid_gap": null,
            "grid_row": null,
            "grid_template_areas": null,
            "grid_template_columns": null,
            "grid_template_rows": null,
            "height": null,
            "justify_content": null,
            "justify_items": null,
            "left": null,
            "margin": null,
            "max_height": null,
            "max_width": null,
            "min_height": null,
            "min_width": null,
            "object_fit": null,
            "object_position": null,
            "order": null,
            "overflow": null,
            "overflow_x": null,
            "overflow_y": null,
            "padding": null,
            "right": null,
            "top": null,
            "visibility": null,
            "width": null
          }
        },
        "e76e7fa59fcd4a4fb715f1d6dcc377ad": {
          "model_module": "@jupyter-widgets/base",
          "model_name": "LayoutModel",
          "model_module_version": "1.2.0",
          "state": {
            "_model_module": "@jupyter-widgets/base",
            "_model_module_version": "1.2.0",
            "_model_name": "LayoutModel",
            "_view_count": null,
            "_view_module": "@jupyter-widgets/base",
            "_view_module_version": "1.2.0",
            "_view_name": "LayoutView",
            "align_content": null,
            "align_items": null,
            "align_self": null,
            "border": null,
            "bottom": null,
            "display": null,
            "flex": null,
            "flex_flow": null,
            "grid_area": null,
            "grid_auto_columns": null,
            "grid_auto_flow": null,
            "grid_auto_rows": null,
            "grid_column": null,
            "grid_gap": null,
            "grid_row": null,
            "grid_template_areas": null,
            "grid_template_columns": null,
            "grid_template_rows": null,
            "height": null,
            "justify_content": null,
            "justify_items": null,
            "left": null,
            "margin": null,
            "max_height": null,
            "max_width": null,
            "min_height": null,
            "min_width": null,
            "object_fit": null,
            "object_position": null,
            "order": null,
            "overflow": null,
            "overflow_x": null,
            "overflow_y": null,
            "padding": null,
            "right": null,
            "top": null,
            "visibility": null,
            "width": null
          }
        },
        "cc02c7991c0944d28c84cfa48e7c6256": {
          "model_module": "@jupyter-widgets/controls",
          "model_name": "DescriptionStyleModel",
          "model_module_version": "1.5.0",
          "state": {
            "_model_module": "@jupyter-widgets/controls",
            "_model_module_version": "1.5.0",
            "_model_name": "DescriptionStyleModel",
            "_view_count": null,
            "_view_module": "@jupyter-widgets/base",
            "_view_module_version": "1.2.0",
            "_view_name": "StyleView",
            "description_width": ""
          }
        },
        "70ae7a7b85ad46f38b3adbb16b2cc895": {
          "model_module": "@jupyter-widgets/base",
          "model_name": "LayoutModel",
          "model_module_version": "1.2.0",
          "state": {
            "_model_module": "@jupyter-widgets/base",
            "_model_module_version": "1.2.0",
            "_model_name": "LayoutModel",
            "_view_count": null,
            "_view_module": "@jupyter-widgets/base",
            "_view_module_version": "1.2.0",
            "_view_name": "LayoutView",
            "align_content": null,
            "align_items": null,
            "align_self": null,
            "border": null,
            "bottom": null,
            "display": null,
            "flex": null,
            "flex_flow": null,
            "grid_area": null,
            "grid_auto_columns": null,
            "grid_auto_flow": null,
            "grid_auto_rows": null,
            "grid_column": null,
            "grid_gap": null,
            "grid_row": null,
            "grid_template_areas": null,
            "grid_template_columns": null,
            "grid_template_rows": null,
            "height": null,
            "justify_content": null,
            "justify_items": null,
            "left": null,
            "margin": null,
            "max_height": null,
            "max_width": null,
            "min_height": null,
            "min_width": null,
            "object_fit": null,
            "object_position": null,
            "order": null,
            "overflow": null,
            "overflow_x": null,
            "overflow_y": null,
            "padding": null,
            "right": null,
            "top": null,
            "visibility": null,
            "width": null
          }
        },
        "e2a5b1b572a344b2813ea4008b7c85c8": {
          "model_module": "@jupyter-widgets/controls",
          "model_name": "ProgressStyleModel",
          "model_module_version": "1.5.0",
          "state": {
            "_model_module": "@jupyter-widgets/controls",
            "_model_module_version": "1.5.0",
            "_model_name": "ProgressStyleModel",
            "_view_count": null,
            "_view_module": "@jupyter-widgets/base",
            "_view_module_version": "1.2.0",
            "_view_name": "StyleView",
            "bar_color": null,
            "description_width": ""
          }
        },
        "1b43c85b4ed4405c8463d79ee60f1d90": {
          "model_module": "@jupyter-widgets/base",
          "model_name": "LayoutModel",
          "model_module_version": "1.2.0",
          "state": {
            "_model_module": "@jupyter-widgets/base",
            "_model_module_version": "1.2.0",
            "_model_name": "LayoutModel",
            "_view_count": null,
            "_view_module": "@jupyter-widgets/base",
            "_view_module_version": "1.2.0",
            "_view_name": "LayoutView",
            "align_content": null,
            "align_items": null,
            "align_self": null,
            "border": null,
            "bottom": null,
            "display": null,
            "flex": null,
            "flex_flow": null,
            "grid_area": null,
            "grid_auto_columns": null,
            "grid_auto_flow": null,
            "grid_auto_rows": null,
            "grid_column": null,
            "grid_gap": null,
            "grid_row": null,
            "grid_template_areas": null,
            "grid_template_columns": null,
            "grid_template_rows": null,
            "height": null,
            "justify_content": null,
            "justify_items": null,
            "left": null,
            "margin": null,
            "max_height": null,
            "max_width": null,
            "min_height": null,
            "min_width": null,
            "object_fit": null,
            "object_position": null,
            "order": null,
            "overflow": null,
            "overflow_x": null,
            "overflow_y": null,
            "padding": null,
            "right": null,
            "top": null,
            "visibility": null,
            "width": null
          }
        },
        "51d24a664b4b4a8ea1eed5cacc7fe778": {
          "model_module": "@jupyter-widgets/controls",
          "model_name": "DescriptionStyleModel",
          "model_module_version": "1.5.0",
          "state": {
            "_model_module": "@jupyter-widgets/controls",
            "_model_module_version": "1.5.0",
            "_model_name": "DescriptionStyleModel",
            "_view_count": null,
            "_view_module": "@jupyter-widgets/base",
            "_view_module_version": "1.2.0",
            "_view_name": "StyleView",
            "description_width": ""
          }
        },
        "e7feb1b62f284e989bdcd3af1d78af97": {
          "model_module": "@jupyter-widgets/controls",
          "model_name": "HBoxModel",
          "model_module_version": "1.5.0",
          "state": {
            "_dom_classes": [],
            "_model_module": "@jupyter-widgets/controls",
            "_model_module_version": "1.5.0",
            "_model_name": "HBoxModel",
            "_view_count": null,
            "_view_module": "@jupyter-widgets/controls",
            "_view_module_version": "1.5.0",
            "_view_name": "HBoxView",
            "box_style": "",
            "children": [
              "IPY_MODEL_4c3870f6b115441ea51d766fd1d9fb0c",
              "IPY_MODEL_29ce3410924c44b186c79b06ea6abaee",
              "IPY_MODEL_68cad31cde704537ab5034844fa4c9ce"
            ],
            "layout": "IPY_MODEL_27a3a492b7c749e582eda0b471a03fb7"
          }
        },
        "4c3870f6b115441ea51d766fd1d9fb0c": {
          "model_module": "@jupyter-widgets/controls",
          "model_name": "HTMLModel",
          "model_module_version": "1.5.0",
          "state": {
            "_dom_classes": [],
            "_model_module": "@jupyter-widgets/controls",
            "_model_module_version": "1.5.0",
            "_model_name": "HTMLModel",
            "_view_count": null,
            "_view_module": "@jupyter-widgets/controls",
            "_view_module_version": "1.5.0",
            "_view_name": "HTMLView",
            "description": "",
            "description_tooltip": null,
            "layout": "IPY_MODEL_7a20f871755e46b98c79cd680c29abbd",
            "placeholder": "​",
            "style": "IPY_MODEL_981116f9144e43989427f13d3cda5a61",
            "value": "Downloading model.safetensors: 100%"
          }
        },
        "29ce3410924c44b186c79b06ea6abaee": {
          "model_module": "@jupyter-widgets/controls",
          "model_name": "FloatProgressModel",
          "model_module_version": "1.5.0",
          "state": {
            "_dom_classes": [],
            "_model_module": "@jupyter-widgets/controls",
            "_model_module_version": "1.5.0",
            "_model_name": "FloatProgressModel",
            "_view_count": null,
            "_view_module": "@jupyter-widgets/controls",
            "_view_module_version": "1.5.0",
            "_view_name": "ProgressView",
            "bar_style": "success",
            "description": "",
            "description_tooltip": null,
            "layout": "IPY_MODEL_dd9c1d7385504c1db6673f12d82c5f89",
            "max": 498818054,
            "min": 0,
            "orientation": "horizontal",
            "style": "IPY_MODEL_5be613c5210640d9a572806b1ac15cdc",
            "value": 498818054
          }
        },
        "68cad31cde704537ab5034844fa4c9ce": {
          "model_module": "@jupyter-widgets/controls",
          "model_name": "HTMLModel",
          "model_module_version": "1.5.0",
          "state": {
            "_dom_classes": [],
            "_model_module": "@jupyter-widgets/controls",
            "_model_module_version": "1.5.0",
            "_model_name": "HTMLModel",
            "_view_count": null,
            "_view_module": "@jupyter-widgets/controls",
            "_view_module_version": "1.5.0",
            "_view_name": "HTMLView",
            "description": "",
            "description_tooltip": null,
            "layout": "IPY_MODEL_a92335e0be68490ca1a74f9f71498d26",
            "placeholder": "​",
            "style": "IPY_MODEL_7758a8c814ba484b807e5d87cadfc8d0",
            "value": " 499M/499M [00:01&lt;00:00, 351MB/s]"
          }
        },
        "27a3a492b7c749e582eda0b471a03fb7": {
          "model_module": "@jupyter-widgets/base",
          "model_name": "LayoutModel",
          "model_module_version": "1.2.0",
          "state": {
            "_model_module": "@jupyter-widgets/base",
            "_model_module_version": "1.2.0",
            "_model_name": "LayoutModel",
            "_view_count": null,
            "_view_module": "@jupyter-widgets/base",
            "_view_module_version": "1.2.0",
            "_view_name": "LayoutView",
            "align_content": null,
            "align_items": null,
            "align_self": null,
            "border": null,
            "bottom": null,
            "display": null,
            "flex": null,
            "flex_flow": null,
            "grid_area": null,
            "grid_auto_columns": null,
            "grid_auto_flow": null,
            "grid_auto_rows": null,
            "grid_column": null,
            "grid_gap": null,
            "grid_row": null,
            "grid_template_areas": null,
            "grid_template_columns": null,
            "grid_template_rows": null,
            "height": null,
            "justify_content": null,
            "justify_items": null,
            "left": null,
            "margin": null,
            "max_height": null,
            "max_width": null,
            "min_height": null,
            "min_width": null,
            "object_fit": null,
            "object_position": null,
            "order": null,
            "overflow": null,
            "overflow_x": null,
            "overflow_y": null,
            "padding": null,
            "right": null,
            "top": null,
            "visibility": null,
            "width": null
          }
        },
        "7a20f871755e46b98c79cd680c29abbd": {
          "model_module": "@jupyter-widgets/base",
          "model_name": "LayoutModel",
          "model_module_version": "1.2.0",
          "state": {
            "_model_module": "@jupyter-widgets/base",
            "_model_module_version": "1.2.0",
            "_model_name": "LayoutModel",
            "_view_count": null,
            "_view_module": "@jupyter-widgets/base",
            "_view_module_version": "1.2.0",
            "_view_name": "LayoutView",
            "align_content": null,
            "align_items": null,
            "align_self": null,
            "border": null,
            "bottom": null,
            "display": null,
            "flex": null,
            "flex_flow": null,
            "grid_area": null,
            "grid_auto_columns": null,
            "grid_auto_flow": null,
            "grid_auto_rows": null,
            "grid_column": null,
            "grid_gap": null,
            "grid_row": null,
            "grid_template_areas": null,
            "grid_template_columns": null,
            "grid_template_rows": null,
            "height": null,
            "justify_content": null,
            "justify_items": null,
            "left": null,
            "margin": null,
            "max_height": null,
            "max_width": null,
            "min_height": null,
            "min_width": null,
            "object_fit": null,
            "object_position": null,
            "order": null,
            "overflow": null,
            "overflow_x": null,
            "overflow_y": null,
            "padding": null,
            "right": null,
            "top": null,
            "visibility": null,
            "width": null
          }
        },
        "981116f9144e43989427f13d3cda5a61": {
          "model_module": "@jupyter-widgets/controls",
          "model_name": "DescriptionStyleModel",
          "model_module_version": "1.5.0",
          "state": {
            "_model_module": "@jupyter-widgets/controls",
            "_model_module_version": "1.5.0",
            "_model_name": "DescriptionStyleModel",
            "_view_count": null,
            "_view_module": "@jupyter-widgets/base",
            "_view_module_version": "1.2.0",
            "_view_name": "StyleView",
            "description_width": ""
          }
        },
        "dd9c1d7385504c1db6673f12d82c5f89": {
          "model_module": "@jupyter-widgets/base",
          "model_name": "LayoutModel",
          "model_module_version": "1.2.0",
          "state": {
            "_model_module": "@jupyter-widgets/base",
            "_model_module_version": "1.2.0",
            "_model_name": "LayoutModel",
            "_view_count": null,
            "_view_module": "@jupyter-widgets/base",
            "_view_module_version": "1.2.0",
            "_view_name": "LayoutView",
            "align_content": null,
            "align_items": null,
            "align_self": null,
            "border": null,
            "bottom": null,
            "display": null,
            "flex": null,
            "flex_flow": null,
            "grid_area": null,
            "grid_auto_columns": null,
            "grid_auto_flow": null,
            "grid_auto_rows": null,
            "grid_column": null,
            "grid_gap": null,
            "grid_row": null,
            "grid_template_areas": null,
            "grid_template_columns": null,
            "grid_template_rows": null,
            "height": null,
            "justify_content": null,
            "justify_items": null,
            "left": null,
            "margin": null,
            "max_height": null,
            "max_width": null,
            "min_height": null,
            "min_width": null,
            "object_fit": null,
            "object_position": null,
            "order": null,
            "overflow": null,
            "overflow_x": null,
            "overflow_y": null,
            "padding": null,
            "right": null,
            "top": null,
            "visibility": null,
            "width": null
          }
        },
        "5be613c5210640d9a572806b1ac15cdc": {
          "model_module": "@jupyter-widgets/controls",
          "model_name": "ProgressStyleModel",
          "model_module_version": "1.5.0",
          "state": {
            "_model_module": "@jupyter-widgets/controls",
            "_model_module_version": "1.5.0",
            "_model_name": "ProgressStyleModel",
            "_view_count": null,
            "_view_module": "@jupyter-widgets/base",
            "_view_module_version": "1.2.0",
            "_view_name": "StyleView",
            "bar_color": null,
            "description_width": ""
          }
        },
        "a92335e0be68490ca1a74f9f71498d26": {
          "model_module": "@jupyter-widgets/base",
          "model_name": "LayoutModel",
          "model_module_version": "1.2.0",
          "state": {
            "_model_module": "@jupyter-widgets/base",
            "_model_module_version": "1.2.0",
            "_model_name": "LayoutModel",
            "_view_count": null,
            "_view_module": "@jupyter-widgets/base",
            "_view_module_version": "1.2.0",
            "_view_name": "LayoutView",
            "align_content": null,
            "align_items": null,
            "align_self": null,
            "border": null,
            "bottom": null,
            "display": null,
            "flex": null,
            "flex_flow": null,
            "grid_area": null,
            "grid_auto_columns": null,
            "grid_auto_flow": null,
            "grid_auto_rows": null,
            "grid_column": null,
            "grid_gap": null,
            "grid_row": null,
            "grid_template_areas": null,
            "grid_template_columns": null,
            "grid_template_rows": null,
            "height": null,
            "justify_content": null,
            "justify_items": null,
            "left": null,
            "margin": null,
            "max_height": null,
            "max_width": null,
            "min_height": null,
            "min_width": null,
            "object_fit": null,
            "object_position": null,
            "order": null,
            "overflow": null,
            "overflow_x": null,
            "overflow_y": null,
            "padding": null,
            "right": null,
            "top": null,
            "visibility": null,
            "width": null
          }
        },
        "7758a8c814ba484b807e5d87cadfc8d0": {
          "model_module": "@jupyter-widgets/controls",
          "model_name": "DescriptionStyleModel",
          "model_module_version": "1.5.0",
          "state": {
            "_model_module": "@jupyter-widgets/controls",
            "_model_module_version": "1.5.0",
            "_model_name": "DescriptionStyleModel",
            "_view_count": null,
            "_view_module": "@jupyter-widgets/base",
            "_view_module_version": "1.2.0",
            "_view_name": "StyleView",
            "description_width": ""
          }
        },
        "a84b5cf9635a4bba8acf5190ff1166fc": {
          "model_module": "@jupyter-widgets/controls",
          "model_name": "HBoxModel",
          "model_module_version": "1.5.0",
          "state": {
            "_dom_classes": [],
            "_model_module": "@jupyter-widgets/controls",
            "_model_module_version": "1.5.0",
            "_model_name": "HBoxModel",
            "_view_count": null,
            "_view_module": "@jupyter-widgets/controls",
            "_view_module_version": "1.5.0",
            "_view_name": "HBoxView",
            "box_style": "",
            "children": [
              "IPY_MODEL_19e2d45f23a14b77bb746b62558b1585",
              "IPY_MODEL_c79067093b66463fb29566cc6816e05a",
              "IPY_MODEL_d48f6fc698cd46d7ae9a4fd371495da7"
            ],
            "layout": "IPY_MODEL_57291477fcda4c93b060b3da16731d6b"
          }
        },
        "19e2d45f23a14b77bb746b62558b1585": {
          "model_module": "@jupyter-widgets/controls",
          "model_name": "HTMLModel",
          "model_module_version": "1.5.0",
          "state": {
            "_dom_classes": [],
            "_model_module": "@jupyter-widgets/controls",
            "_model_module_version": "1.5.0",
            "_model_name": "HTMLModel",
            "_view_count": null,
            "_view_module": "@jupyter-widgets/controls",
            "_view_module_version": "1.5.0",
            "_view_name": "HTMLView",
            "description": "",
            "description_tooltip": null,
            "layout": "IPY_MODEL_cf402a3270eb4de79d9c2ae49ff13544",
            "placeholder": "​",
            "style": "IPY_MODEL_3d985aaf9b164b22a6ccb406d93b2a17",
            "value": "Downloading (…)olve/main/vocab.json: 100%"
          }
        },
        "c79067093b66463fb29566cc6816e05a": {
          "model_module": "@jupyter-widgets/controls",
          "model_name": "FloatProgressModel",
          "model_module_version": "1.5.0",
          "state": {
            "_dom_classes": [],
            "_model_module": "@jupyter-widgets/controls",
            "_model_module_version": "1.5.0",
            "_model_name": "FloatProgressModel",
            "_view_count": null,
            "_view_module": "@jupyter-widgets/controls",
            "_view_module_version": "1.5.0",
            "_view_name": "ProgressView",
            "bar_style": "success",
            "description": "",
            "description_tooltip": null,
            "layout": "IPY_MODEL_b171b2c47e2a406caff1d2ae1e3391e3",
            "max": 898823,
            "min": 0,
            "orientation": "horizontal",
            "style": "IPY_MODEL_ed449c0e77cd42bdad598f025234d1ac",
            "value": 898823
          }
        },
        "d48f6fc698cd46d7ae9a4fd371495da7": {
          "model_module": "@jupyter-widgets/controls",
          "model_name": "HTMLModel",
          "model_module_version": "1.5.0",
          "state": {
            "_dom_classes": [],
            "_model_module": "@jupyter-widgets/controls",
            "_model_module_version": "1.5.0",
            "_model_name": "HTMLModel",
            "_view_count": null,
            "_view_module": "@jupyter-widgets/controls",
            "_view_module_version": "1.5.0",
            "_view_name": "HTMLView",
            "description": "",
            "description_tooltip": null,
            "layout": "IPY_MODEL_d2b79c710c1d4f5b9d6f8ce45a8b0738",
            "placeholder": "​",
            "style": "IPY_MODEL_ea47deb730834ec49a40b2252544f9b2",
            "value": " 899k/899k [00:00&lt;00:00, 916kB/s]"
          }
        },
        "57291477fcda4c93b060b3da16731d6b": {
          "model_module": "@jupyter-widgets/base",
          "model_name": "LayoutModel",
          "model_module_version": "1.2.0",
          "state": {
            "_model_module": "@jupyter-widgets/base",
            "_model_module_version": "1.2.0",
            "_model_name": "LayoutModel",
            "_view_count": null,
            "_view_module": "@jupyter-widgets/base",
            "_view_module_version": "1.2.0",
            "_view_name": "LayoutView",
            "align_content": null,
            "align_items": null,
            "align_self": null,
            "border": null,
            "bottom": null,
            "display": null,
            "flex": null,
            "flex_flow": null,
            "grid_area": null,
            "grid_auto_columns": null,
            "grid_auto_flow": null,
            "grid_auto_rows": null,
            "grid_column": null,
            "grid_gap": null,
            "grid_row": null,
            "grid_template_areas": null,
            "grid_template_columns": null,
            "grid_template_rows": null,
            "height": null,
            "justify_content": null,
            "justify_items": null,
            "left": null,
            "margin": null,
            "max_height": null,
            "max_width": null,
            "min_height": null,
            "min_width": null,
            "object_fit": null,
            "object_position": null,
            "order": null,
            "overflow": null,
            "overflow_x": null,
            "overflow_y": null,
            "padding": null,
            "right": null,
            "top": null,
            "visibility": null,
            "width": null
          }
        },
        "cf402a3270eb4de79d9c2ae49ff13544": {
          "model_module": "@jupyter-widgets/base",
          "model_name": "LayoutModel",
          "model_module_version": "1.2.0",
          "state": {
            "_model_module": "@jupyter-widgets/base",
            "_model_module_version": "1.2.0",
            "_model_name": "LayoutModel",
            "_view_count": null,
            "_view_module": "@jupyter-widgets/base",
            "_view_module_version": "1.2.0",
            "_view_name": "LayoutView",
            "align_content": null,
            "align_items": null,
            "align_self": null,
            "border": null,
            "bottom": null,
            "display": null,
            "flex": null,
            "flex_flow": null,
            "grid_area": null,
            "grid_auto_columns": null,
            "grid_auto_flow": null,
            "grid_auto_rows": null,
            "grid_column": null,
            "grid_gap": null,
            "grid_row": null,
            "grid_template_areas": null,
            "grid_template_columns": null,
            "grid_template_rows": null,
            "height": null,
            "justify_content": null,
            "justify_items": null,
            "left": null,
            "margin": null,
            "max_height": null,
            "max_width": null,
            "min_height": null,
            "min_width": null,
            "object_fit": null,
            "object_position": null,
            "order": null,
            "overflow": null,
            "overflow_x": null,
            "overflow_y": null,
            "padding": null,
            "right": null,
            "top": null,
            "visibility": null,
            "width": null
          }
        },
        "3d985aaf9b164b22a6ccb406d93b2a17": {
          "model_module": "@jupyter-widgets/controls",
          "model_name": "DescriptionStyleModel",
          "model_module_version": "1.5.0",
          "state": {
            "_model_module": "@jupyter-widgets/controls",
            "_model_module_version": "1.5.0",
            "_model_name": "DescriptionStyleModel",
            "_view_count": null,
            "_view_module": "@jupyter-widgets/base",
            "_view_module_version": "1.2.0",
            "_view_name": "StyleView",
            "description_width": ""
          }
        },
        "b171b2c47e2a406caff1d2ae1e3391e3": {
          "model_module": "@jupyter-widgets/base",
          "model_name": "LayoutModel",
          "model_module_version": "1.2.0",
          "state": {
            "_model_module": "@jupyter-widgets/base",
            "_model_module_version": "1.2.0",
            "_model_name": "LayoutModel",
            "_view_count": null,
            "_view_module": "@jupyter-widgets/base",
            "_view_module_version": "1.2.0",
            "_view_name": "LayoutView",
            "align_content": null,
            "align_items": null,
            "align_self": null,
            "border": null,
            "bottom": null,
            "display": null,
            "flex": null,
            "flex_flow": null,
            "grid_area": null,
            "grid_auto_columns": null,
            "grid_auto_flow": null,
            "grid_auto_rows": null,
            "grid_column": null,
            "grid_gap": null,
            "grid_row": null,
            "grid_template_areas": null,
            "grid_template_columns": null,
            "grid_template_rows": null,
            "height": null,
            "justify_content": null,
            "justify_items": null,
            "left": null,
            "margin": null,
            "max_height": null,
            "max_width": null,
            "min_height": null,
            "min_width": null,
            "object_fit": null,
            "object_position": null,
            "order": null,
            "overflow": null,
            "overflow_x": null,
            "overflow_y": null,
            "padding": null,
            "right": null,
            "top": null,
            "visibility": null,
            "width": null
          }
        },
        "ed449c0e77cd42bdad598f025234d1ac": {
          "model_module": "@jupyter-widgets/controls",
          "model_name": "ProgressStyleModel",
          "model_module_version": "1.5.0",
          "state": {
            "_model_module": "@jupyter-widgets/controls",
            "_model_module_version": "1.5.0",
            "_model_name": "ProgressStyleModel",
            "_view_count": null,
            "_view_module": "@jupyter-widgets/base",
            "_view_module_version": "1.2.0",
            "_view_name": "StyleView",
            "bar_color": null,
            "description_width": ""
          }
        },
        "d2b79c710c1d4f5b9d6f8ce45a8b0738": {
          "model_module": "@jupyter-widgets/base",
          "model_name": "LayoutModel",
          "model_module_version": "1.2.0",
          "state": {
            "_model_module": "@jupyter-widgets/base",
            "_model_module_version": "1.2.0",
            "_model_name": "LayoutModel",
            "_view_count": null,
            "_view_module": "@jupyter-widgets/base",
            "_view_module_version": "1.2.0",
            "_view_name": "LayoutView",
            "align_content": null,
            "align_items": null,
            "align_self": null,
            "border": null,
            "bottom": null,
            "display": null,
            "flex": null,
            "flex_flow": null,
            "grid_area": null,
            "grid_auto_columns": null,
            "grid_auto_flow": null,
            "grid_auto_rows": null,
            "grid_column": null,
            "grid_gap": null,
            "grid_row": null,
            "grid_template_areas": null,
            "grid_template_columns": null,
            "grid_template_rows": null,
            "height": null,
            "justify_content": null,
            "justify_items": null,
            "left": null,
            "margin": null,
            "max_height": null,
            "max_width": null,
            "min_height": null,
            "min_width": null,
            "object_fit": null,
            "object_position": null,
            "order": null,
            "overflow": null,
            "overflow_x": null,
            "overflow_y": null,
            "padding": null,
            "right": null,
            "top": null,
            "visibility": null,
            "width": null
          }
        },
        "ea47deb730834ec49a40b2252544f9b2": {
          "model_module": "@jupyter-widgets/controls",
          "model_name": "DescriptionStyleModel",
          "model_module_version": "1.5.0",
          "state": {
            "_model_module": "@jupyter-widgets/controls",
            "_model_module_version": "1.5.0",
            "_model_name": "DescriptionStyleModel",
            "_view_count": null,
            "_view_module": "@jupyter-widgets/base",
            "_view_module_version": "1.2.0",
            "_view_name": "StyleView",
            "description_width": ""
          }
        },
        "61a1177bb1fd46038a00c58f29590b7b": {
          "model_module": "@jupyter-widgets/controls",
          "model_name": "HBoxModel",
          "model_module_version": "1.5.0",
          "state": {
            "_dom_classes": [],
            "_model_module": "@jupyter-widgets/controls",
            "_model_module_version": "1.5.0",
            "_model_name": "HBoxModel",
            "_view_count": null,
            "_view_module": "@jupyter-widgets/controls",
            "_view_module_version": "1.5.0",
            "_view_name": "HBoxView",
            "box_style": "",
            "children": [
              "IPY_MODEL_2acefdc0eb9a47a38a119d30a17c3e18",
              "IPY_MODEL_05a9ee5ca98a4948a33b83660cc4c278",
              "IPY_MODEL_cb25952dae384302961ae831c68276d6"
            ],
            "layout": "IPY_MODEL_737fefe7876e483998df8e3992fdae6e"
          }
        },
        "2acefdc0eb9a47a38a119d30a17c3e18": {
          "model_module": "@jupyter-widgets/controls",
          "model_name": "HTMLModel",
          "model_module_version": "1.5.0",
          "state": {
            "_dom_classes": [],
            "_model_module": "@jupyter-widgets/controls",
            "_model_module_version": "1.5.0",
            "_model_name": "HTMLModel",
            "_view_count": null,
            "_view_module": "@jupyter-widgets/controls",
            "_view_module_version": "1.5.0",
            "_view_name": "HTMLView",
            "description": "",
            "description_tooltip": null,
            "layout": "IPY_MODEL_19035e1a1a8a4a34a23fec9055ba8cd2",
            "placeholder": "​",
            "style": "IPY_MODEL_92bdcd2e8fe840d291c90ddf55a0d24b",
            "value": "Downloading (…)olve/main/merges.txt: 100%"
          }
        },
        "05a9ee5ca98a4948a33b83660cc4c278": {
          "model_module": "@jupyter-widgets/controls",
          "model_name": "FloatProgressModel",
          "model_module_version": "1.5.0",
          "state": {
            "_dom_classes": [],
            "_model_module": "@jupyter-widgets/controls",
            "_model_module_version": "1.5.0",
            "_model_name": "FloatProgressModel",
            "_view_count": null,
            "_view_module": "@jupyter-widgets/controls",
            "_view_module_version": "1.5.0",
            "_view_name": "ProgressView",
            "bar_style": "success",
            "description": "",
            "description_tooltip": null,
            "layout": "IPY_MODEL_156f26b2a8b948e3ae0aa1fecf3bc95b",
            "max": 456318,
            "min": 0,
            "orientation": "horizontal",
            "style": "IPY_MODEL_1f12bd0e66ab43e7aa01c53f9ea1fb47",
            "value": 456318
          }
        },
        "cb25952dae384302961ae831c68276d6": {
          "model_module": "@jupyter-widgets/controls",
          "model_name": "HTMLModel",
          "model_module_version": "1.5.0",
          "state": {
            "_dom_classes": [],
            "_model_module": "@jupyter-widgets/controls",
            "_model_module_version": "1.5.0",
            "_model_name": "HTMLModel",
            "_view_count": null,
            "_view_module": "@jupyter-widgets/controls",
            "_view_module_version": "1.5.0",
            "_view_name": "HTMLView",
            "description": "",
            "description_tooltip": null,
            "layout": "IPY_MODEL_4ab7d88576074f819e337728370e1a90",
            "placeholder": "​",
            "style": "IPY_MODEL_d6dbaeadbb7141b2a243fa0cca71a65a",
            "value": " 456k/456k [00:00&lt;00:00, 33.1MB/s]"
          }
        },
        "737fefe7876e483998df8e3992fdae6e": {
          "model_module": "@jupyter-widgets/base",
          "model_name": "LayoutModel",
          "model_module_version": "1.2.0",
          "state": {
            "_model_module": "@jupyter-widgets/base",
            "_model_module_version": "1.2.0",
            "_model_name": "LayoutModel",
            "_view_count": null,
            "_view_module": "@jupyter-widgets/base",
            "_view_module_version": "1.2.0",
            "_view_name": "LayoutView",
            "align_content": null,
            "align_items": null,
            "align_self": null,
            "border": null,
            "bottom": null,
            "display": null,
            "flex": null,
            "flex_flow": null,
            "grid_area": null,
            "grid_auto_columns": null,
            "grid_auto_flow": null,
            "grid_auto_rows": null,
            "grid_column": null,
            "grid_gap": null,
            "grid_row": null,
            "grid_template_areas": null,
            "grid_template_columns": null,
            "grid_template_rows": null,
            "height": null,
            "justify_content": null,
            "justify_items": null,
            "left": null,
            "margin": null,
            "max_height": null,
            "max_width": null,
            "min_height": null,
            "min_width": null,
            "object_fit": null,
            "object_position": null,
            "order": null,
            "overflow": null,
            "overflow_x": null,
            "overflow_y": null,
            "padding": null,
            "right": null,
            "top": null,
            "visibility": null,
            "width": null
          }
        },
        "19035e1a1a8a4a34a23fec9055ba8cd2": {
          "model_module": "@jupyter-widgets/base",
          "model_name": "LayoutModel",
          "model_module_version": "1.2.0",
          "state": {
            "_model_module": "@jupyter-widgets/base",
            "_model_module_version": "1.2.0",
            "_model_name": "LayoutModel",
            "_view_count": null,
            "_view_module": "@jupyter-widgets/base",
            "_view_module_version": "1.2.0",
            "_view_name": "LayoutView",
            "align_content": null,
            "align_items": null,
            "align_self": null,
            "border": null,
            "bottom": null,
            "display": null,
            "flex": null,
            "flex_flow": null,
            "grid_area": null,
            "grid_auto_columns": null,
            "grid_auto_flow": null,
            "grid_auto_rows": null,
            "grid_column": null,
            "grid_gap": null,
            "grid_row": null,
            "grid_template_areas": null,
            "grid_template_columns": null,
            "grid_template_rows": null,
            "height": null,
            "justify_content": null,
            "justify_items": null,
            "left": null,
            "margin": null,
            "max_height": null,
            "max_width": null,
            "min_height": null,
            "min_width": null,
            "object_fit": null,
            "object_position": null,
            "order": null,
            "overflow": null,
            "overflow_x": null,
            "overflow_y": null,
            "padding": null,
            "right": null,
            "top": null,
            "visibility": null,
            "width": null
          }
        },
        "92bdcd2e8fe840d291c90ddf55a0d24b": {
          "model_module": "@jupyter-widgets/controls",
          "model_name": "DescriptionStyleModel",
          "model_module_version": "1.5.0",
          "state": {
            "_model_module": "@jupyter-widgets/controls",
            "_model_module_version": "1.5.0",
            "_model_name": "DescriptionStyleModel",
            "_view_count": null,
            "_view_module": "@jupyter-widgets/base",
            "_view_module_version": "1.2.0",
            "_view_name": "StyleView",
            "description_width": ""
          }
        },
        "156f26b2a8b948e3ae0aa1fecf3bc95b": {
          "model_module": "@jupyter-widgets/base",
          "model_name": "LayoutModel",
          "model_module_version": "1.2.0",
          "state": {
            "_model_module": "@jupyter-widgets/base",
            "_model_module_version": "1.2.0",
            "_model_name": "LayoutModel",
            "_view_count": null,
            "_view_module": "@jupyter-widgets/base",
            "_view_module_version": "1.2.0",
            "_view_name": "LayoutView",
            "align_content": null,
            "align_items": null,
            "align_self": null,
            "border": null,
            "bottom": null,
            "display": null,
            "flex": null,
            "flex_flow": null,
            "grid_area": null,
            "grid_auto_columns": null,
            "grid_auto_flow": null,
            "grid_auto_rows": null,
            "grid_column": null,
            "grid_gap": null,
            "grid_row": null,
            "grid_template_areas": null,
            "grid_template_columns": null,
            "grid_template_rows": null,
            "height": null,
            "justify_content": null,
            "justify_items": null,
            "left": null,
            "margin": null,
            "max_height": null,
            "max_width": null,
            "min_height": null,
            "min_width": null,
            "object_fit": null,
            "object_position": null,
            "order": null,
            "overflow": null,
            "overflow_x": null,
            "overflow_y": null,
            "padding": null,
            "right": null,
            "top": null,
            "visibility": null,
            "width": null
          }
        },
        "1f12bd0e66ab43e7aa01c53f9ea1fb47": {
          "model_module": "@jupyter-widgets/controls",
          "model_name": "ProgressStyleModel",
          "model_module_version": "1.5.0",
          "state": {
            "_model_module": "@jupyter-widgets/controls",
            "_model_module_version": "1.5.0",
            "_model_name": "ProgressStyleModel",
            "_view_count": null,
            "_view_module": "@jupyter-widgets/base",
            "_view_module_version": "1.2.0",
            "_view_name": "StyleView",
            "bar_color": null,
            "description_width": ""
          }
        },
        "4ab7d88576074f819e337728370e1a90": {
          "model_module": "@jupyter-widgets/base",
          "model_name": "LayoutModel",
          "model_module_version": "1.2.0",
          "state": {
            "_model_module": "@jupyter-widgets/base",
            "_model_module_version": "1.2.0",
            "_model_name": "LayoutModel",
            "_view_count": null,
            "_view_module": "@jupyter-widgets/base",
            "_view_module_version": "1.2.0",
            "_view_name": "LayoutView",
            "align_content": null,
            "align_items": null,
            "align_self": null,
            "border": null,
            "bottom": null,
            "display": null,
            "flex": null,
            "flex_flow": null,
            "grid_area": null,
            "grid_auto_columns": null,
            "grid_auto_flow": null,
            "grid_auto_rows": null,
            "grid_column": null,
            "grid_gap": null,
            "grid_row": null,
            "grid_template_areas": null,
            "grid_template_columns": null,
            "grid_template_rows": null,
            "height": null,
            "justify_content": null,
            "justify_items": null,
            "left": null,
            "margin": null,
            "max_height": null,
            "max_width": null,
            "min_height": null,
            "min_width": null,
            "object_fit": null,
            "object_position": null,
            "order": null,
            "overflow": null,
            "overflow_x": null,
            "overflow_y": null,
            "padding": null,
            "right": null,
            "top": null,
            "visibility": null,
            "width": null
          }
        },
        "d6dbaeadbb7141b2a243fa0cca71a65a": {
          "model_module": "@jupyter-widgets/controls",
          "model_name": "DescriptionStyleModel",
          "model_module_version": "1.5.0",
          "state": {
            "_model_module": "@jupyter-widgets/controls",
            "_model_module_version": "1.5.0",
            "_model_name": "DescriptionStyleModel",
            "_view_count": null,
            "_view_module": "@jupyter-widgets/base",
            "_view_module_version": "1.2.0",
            "_view_name": "StyleView",
            "description_width": ""
          }
        },
        "0d81894a64254562a6b6252543d111ab": {
          "model_module": "@jupyter-widgets/controls",
          "model_name": "HBoxModel",
          "model_module_version": "1.5.0",
          "state": {
            "_dom_classes": [],
            "_model_module": "@jupyter-widgets/controls",
            "_model_module_version": "1.5.0",
            "_model_name": "HBoxModel",
            "_view_count": null,
            "_view_module": "@jupyter-widgets/controls",
            "_view_module_version": "1.5.0",
            "_view_name": "HBoxView",
            "box_style": "",
            "children": [
              "IPY_MODEL_b61e16860aeb4cb887fea14e731b5bac",
              "IPY_MODEL_5e0034b907034659a765be6e2bba14cf",
              "IPY_MODEL_95b4a9ad64b145cdadcce74cdc8464f7"
            ],
            "layout": "IPY_MODEL_8c07e47941b34fe2b381efcc4b9e53a6"
          }
        },
        "b61e16860aeb4cb887fea14e731b5bac": {
          "model_module": "@jupyter-widgets/controls",
          "model_name": "HTMLModel",
          "model_module_version": "1.5.0",
          "state": {
            "_dom_classes": [],
            "_model_module": "@jupyter-widgets/controls",
            "_model_module_version": "1.5.0",
            "_model_name": "HTMLModel",
            "_view_count": null,
            "_view_module": "@jupyter-widgets/controls",
            "_view_module_version": "1.5.0",
            "_view_name": "HTMLView",
            "description": "",
            "description_tooltip": null,
            "layout": "IPY_MODEL_7de17a63f2c5412fa639a26ca2a8b147",
            "placeholder": "​",
            "style": "IPY_MODEL_f17d957d2d7e4844a7f48a211a2709bd",
            "value": "Downloading (…)/main/tokenizer.json: 100%"
          }
        },
        "5e0034b907034659a765be6e2bba14cf": {
          "model_module": "@jupyter-widgets/controls",
          "model_name": "FloatProgressModel",
          "model_module_version": "1.5.0",
          "state": {
            "_dom_classes": [],
            "_model_module": "@jupyter-widgets/controls",
            "_model_module_version": "1.5.0",
            "_model_name": "FloatProgressModel",
            "_view_count": null,
            "_view_module": "@jupyter-widgets/controls",
            "_view_module_version": "1.5.0",
            "_view_name": "ProgressView",
            "bar_style": "success",
            "description": "",
            "description_tooltip": null,
            "layout": "IPY_MODEL_75d0944156074b8da46618e1367a21c0",
            "max": 1355863,
            "min": 0,
            "orientation": "horizontal",
            "style": "IPY_MODEL_c4d9e5a5f6224f0f81817371ddc13995",
            "value": 1355863
          }
        },
        "95b4a9ad64b145cdadcce74cdc8464f7": {
          "model_module": "@jupyter-widgets/controls",
          "model_name": "HTMLModel",
          "model_module_version": "1.5.0",
          "state": {
            "_dom_classes": [],
            "_model_module": "@jupyter-widgets/controls",
            "_model_module_version": "1.5.0",
            "_model_name": "HTMLModel",
            "_view_count": null,
            "_view_module": "@jupyter-widgets/controls",
            "_view_module_version": "1.5.0",
            "_view_name": "HTMLView",
            "description": "",
            "description_tooltip": null,
            "layout": "IPY_MODEL_d620cfda77154d20ace5a8a41f2e0d65",
            "placeholder": "​",
            "style": "IPY_MODEL_306c2ffe03db4efc99053e71ced994c0",
            "value": " 1.36M/1.36M [00:00&lt;00:00, 1.85MB/s]"
          }
        },
        "8c07e47941b34fe2b381efcc4b9e53a6": {
          "model_module": "@jupyter-widgets/base",
          "model_name": "LayoutModel",
          "model_module_version": "1.2.0",
          "state": {
            "_model_module": "@jupyter-widgets/base",
            "_model_module_version": "1.2.0",
            "_model_name": "LayoutModel",
            "_view_count": null,
            "_view_module": "@jupyter-widgets/base",
            "_view_module_version": "1.2.0",
            "_view_name": "LayoutView",
            "align_content": null,
            "align_items": null,
            "align_self": null,
            "border": null,
            "bottom": null,
            "display": null,
            "flex": null,
            "flex_flow": null,
            "grid_area": null,
            "grid_auto_columns": null,
            "grid_auto_flow": null,
            "grid_auto_rows": null,
            "grid_column": null,
            "grid_gap": null,
            "grid_row": null,
            "grid_template_areas": null,
            "grid_template_columns": null,
            "grid_template_rows": null,
            "height": null,
            "justify_content": null,
            "justify_items": null,
            "left": null,
            "margin": null,
            "max_height": null,
            "max_width": null,
            "min_height": null,
            "min_width": null,
            "object_fit": null,
            "object_position": null,
            "order": null,
            "overflow": null,
            "overflow_x": null,
            "overflow_y": null,
            "padding": null,
            "right": null,
            "top": null,
            "visibility": null,
            "width": null
          }
        },
        "7de17a63f2c5412fa639a26ca2a8b147": {
          "model_module": "@jupyter-widgets/base",
          "model_name": "LayoutModel",
          "model_module_version": "1.2.0",
          "state": {
            "_model_module": "@jupyter-widgets/base",
            "_model_module_version": "1.2.0",
            "_model_name": "LayoutModel",
            "_view_count": null,
            "_view_module": "@jupyter-widgets/base",
            "_view_module_version": "1.2.0",
            "_view_name": "LayoutView",
            "align_content": null,
            "align_items": null,
            "align_self": null,
            "border": null,
            "bottom": null,
            "display": null,
            "flex": null,
            "flex_flow": null,
            "grid_area": null,
            "grid_auto_columns": null,
            "grid_auto_flow": null,
            "grid_auto_rows": null,
            "grid_column": null,
            "grid_gap": null,
            "grid_row": null,
            "grid_template_areas": null,
            "grid_template_columns": null,
            "grid_template_rows": null,
            "height": null,
            "justify_content": null,
            "justify_items": null,
            "left": null,
            "margin": null,
            "max_height": null,
            "max_width": null,
            "min_height": null,
            "min_width": null,
            "object_fit": null,
            "object_position": null,
            "order": null,
            "overflow": null,
            "overflow_x": null,
            "overflow_y": null,
            "padding": null,
            "right": null,
            "top": null,
            "visibility": null,
            "width": null
          }
        },
        "f17d957d2d7e4844a7f48a211a2709bd": {
          "model_module": "@jupyter-widgets/controls",
          "model_name": "DescriptionStyleModel",
          "model_module_version": "1.5.0",
          "state": {
            "_model_module": "@jupyter-widgets/controls",
            "_model_module_version": "1.5.0",
            "_model_name": "DescriptionStyleModel",
            "_view_count": null,
            "_view_module": "@jupyter-widgets/base",
            "_view_module_version": "1.2.0",
            "_view_name": "StyleView",
            "description_width": ""
          }
        },
        "75d0944156074b8da46618e1367a21c0": {
          "model_module": "@jupyter-widgets/base",
          "model_name": "LayoutModel",
          "model_module_version": "1.2.0",
          "state": {
            "_model_module": "@jupyter-widgets/base",
            "_model_module_version": "1.2.0",
            "_model_name": "LayoutModel",
            "_view_count": null,
            "_view_module": "@jupyter-widgets/base",
            "_view_module_version": "1.2.0",
            "_view_name": "LayoutView",
            "align_content": null,
            "align_items": null,
            "align_self": null,
            "border": null,
            "bottom": null,
            "display": null,
            "flex": null,
            "flex_flow": null,
            "grid_area": null,
            "grid_auto_columns": null,
            "grid_auto_flow": null,
            "grid_auto_rows": null,
            "grid_column": null,
            "grid_gap": null,
            "grid_row": null,
            "grid_template_areas": null,
            "grid_template_columns": null,
            "grid_template_rows": null,
            "height": null,
            "justify_content": null,
            "justify_items": null,
            "left": null,
            "margin": null,
            "max_height": null,
            "max_width": null,
            "min_height": null,
            "min_width": null,
            "object_fit": null,
            "object_position": null,
            "order": null,
            "overflow": null,
            "overflow_x": null,
            "overflow_y": null,
            "padding": null,
            "right": null,
            "top": null,
            "visibility": null,
            "width": null
          }
        },
        "c4d9e5a5f6224f0f81817371ddc13995": {
          "model_module": "@jupyter-widgets/controls",
          "model_name": "ProgressStyleModel",
          "model_module_version": "1.5.0",
          "state": {
            "_model_module": "@jupyter-widgets/controls",
            "_model_module_version": "1.5.0",
            "_model_name": "ProgressStyleModel",
            "_view_count": null,
            "_view_module": "@jupyter-widgets/base",
            "_view_module_version": "1.2.0",
            "_view_name": "StyleView",
            "bar_color": null,
            "description_width": ""
          }
        },
        "d620cfda77154d20ace5a8a41f2e0d65": {
          "model_module": "@jupyter-widgets/base",
          "model_name": "LayoutModel",
          "model_module_version": "1.2.0",
          "state": {
            "_model_module": "@jupyter-widgets/base",
            "_model_module_version": "1.2.0",
            "_model_name": "LayoutModel",
            "_view_count": null,
            "_view_module": "@jupyter-widgets/base",
            "_view_module_version": "1.2.0",
            "_view_name": "LayoutView",
            "align_content": null,
            "align_items": null,
            "align_self": null,
            "border": null,
            "bottom": null,
            "display": null,
            "flex": null,
            "flex_flow": null,
            "grid_area": null,
            "grid_auto_columns": null,
            "grid_auto_flow": null,
            "grid_auto_rows": null,
            "grid_column": null,
            "grid_gap": null,
            "grid_row": null,
            "grid_template_areas": null,
            "grid_template_columns": null,
            "grid_template_rows": null,
            "height": null,
            "justify_content": null,
            "justify_items": null,
            "left": null,
            "margin": null,
            "max_height": null,
            "max_width": null,
            "min_height": null,
            "min_width": null,
            "object_fit": null,
            "object_position": null,
            "order": null,
            "overflow": null,
            "overflow_x": null,
            "overflow_y": null,
            "padding": null,
            "right": null,
            "top": null,
            "visibility": null,
            "width": null
          }
        },
        "306c2ffe03db4efc99053e71ced994c0": {
          "model_module": "@jupyter-widgets/controls",
          "model_name": "DescriptionStyleModel",
          "model_module_version": "1.5.0",
          "state": {
            "_model_module": "@jupyter-widgets/controls",
            "_model_module_version": "1.5.0",
            "_model_name": "DescriptionStyleModel",
            "_view_count": null,
            "_view_module": "@jupyter-widgets/base",
            "_view_module_version": "1.2.0",
            "_view_name": "StyleView",
            "description_width": ""
          }
        },
        "3058a98b05c242819804853e68d21f31": {
          "model_module": "@jupyter-widgets/controls",
          "model_name": "HBoxModel",
          "model_module_version": "1.5.0",
          "state": {
            "_dom_classes": [],
            "_model_module": "@jupyter-widgets/controls",
            "_model_module_version": "1.5.0",
            "_model_name": "HBoxModel",
            "_view_count": null,
            "_view_module": "@jupyter-widgets/controls",
            "_view_module_version": "1.5.0",
            "_view_name": "HBoxView",
            "box_style": "",
            "children": [
              "IPY_MODEL_1d54b44c819947a78b5540966deb94a6",
              "IPY_MODEL_708cc555e752457e82a98f12e333538f",
              "IPY_MODEL_9ec5aad3dd6a492f817cc0a3112abb8f"
            ],
            "layout": "IPY_MODEL_5d7d14cce9ec4af3a5306f7e291740ae"
          }
        },
        "1d54b44c819947a78b5540966deb94a6": {
          "model_module": "@jupyter-widgets/controls",
          "model_name": "HTMLModel",
          "model_module_version": "1.5.0",
          "state": {
            "_dom_classes": [],
            "_model_module": "@jupyter-widgets/controls",
            "_model_module_version": "1.5.0",
            "_model_name": "HTMLModel",
            "_view_count": null,
            "_view_module": "@jupyter-widgets/controls",
            "_view_module_version": "1.5.0",
            "_view_name": "HTMLView",
            "description": "",
            "description_tooltip": null,
            "layout": "IPY_MODEL_b18ab9bd253f4a01b87f0b277ef2bb69",
            "placeholder": "​",
            "style": "IPY_MODEL_5e72e924fb3d4a6eb3ed68e52058eb79",
            "value": "100%"
          }
        },
        "708cc555e752457e82a98f12e333538f": {
          "model_module": "@jupyter-widgets/controls",
          "model_name": "FloatProgressModel",
          "model_module_version": "1.5.0",
          "state": {
            "_dom_classes": [],
            "_model_module": "@jupyter-widgets/controls",
            "_model_module_version": "1.5.0",
            "_model_name": "FloatProgressModel",
            "_view_count": null,
            "_view_module": "@jupyter-widgets/controls",
            "_view_module_version": "1.5.0",
            "_view_name": "ProgressView",
            "bar_style": "success",
            "description": "",
            "description_tooltip": null,
            "layout": "IPY_MODEL_6d99cecf6a86489f9e4bbd604fe55eb1",
            "max": 51574,
            "min": 0,
            "orientation": "horizontal",
            "style": "IPY_MODEL_7dddc12e61bb462a85860c8f4a405ee3",
            "value": 51574
          }
        },
        "9ec5aad3dd6a492f817cc0a3112abb8f": {
          "model_module": "@jupyter-widgets/controls",
          "model_name": "HTMLModel",
          "model_module_version": "1.5.0",
          "state": {
            "_dom_classes": [],
            "_model_module": "@jupyter-widgets/controls",
            "_model_module_version": "1.5.0",
            "_model_name": "HTMLModel",
            "_view_count": null,
            "_view_module": "@jupyter-widgets/controls",
            "_view_module_version": "1.5.0",
            "_view_name": "HTMLView",
            "description": "",
            "description_tooltip": null,
            "layout": "IPY_MODEL_06b8255ed5264a8cafc54b5051a9eb62",
            "placeholder": "​",
            "style": "IPY_MODEL_455aabe8813e4c77ba54f47010e4a2df",
            "value": " 51574/51574 [00:11&lt;00:00, 12436.82it/s]"
          }
        },
        "5d7d14cce9ec4af3a5306f7e291740ae": {
          "model_module": "@jupyter-widgets/base",
          "model_name": "LayoutModel",
          "model_module_version": "1.2.0",
          "state": {
            "_model_module": "@jupyter-widgets/base",
            "_model_module_version": "1.2.0",
            "_model_name": "LayoutModel",
            "_view_count": null,
            "_view_module": "@jupyter-widgets/base",
            "_view_module_version": "1.2.0",
            "_view_name": "LayoutView",
            "align_content": null,
            "align_items": null,
            "align_self": null,
            "border": null,
            "bottom": null,
            "display": null,
            "flex": null,
            "flex_flow": null,
            "grid_area": null,
            "grid_auto_columns": null,
            "grid_auto_flow": null,
            "grid_auto_rows": null,
            "grid_column": null,
            "grid_gap": null,
            "grid_row": null,
            "grid_template_areas": null,
            "grid_template_columns": null,
            "grid_template_rows": null,
            "height": null,
            "justify_content": null,
            "justify_items": null,
            "left": null,
            "margin": null,
            "max_height": null,
            "max_width": null,
            "min_height": null,
            "min_width": null,
            "object_fit": null,
            "object_position": null,
            "order": null,
            "overflow": null,
            "overflow_x": null,
            "overflow_y": null,
            "padding": null,
            "right": null,
            "top": null,
            "visibility": null,
            "width": null
          }
        },
        "b18ab9bd253f4a01b87f0b277ef2bb69": {
          "model_module": "@jupyter-widgets/base",
          "model_name": "LayoutModel",
          "model_module_version": "1.2.0",
          "state": {
            "_model_module": "@jupyter-widgets/base",
            "_model_module_version": "1.2.0",
            "_model_name": "LayoutModel",
            "_view_count": null,
            "_view_module": "@jupyter-widgets/base",
            "_view_module_version": "1.2.0",
            "_view_name": "LayoutView",
            "align_content": null,
            "align_items": null,
            "align_self": null,
            "border": null,
            "bottom": null,
            "display": null,
            "flex": null,
            "flex_flow": null,
            "grid_area": null,
            "grid_auto_columns": null,
            "grid_auto_flow": null,
            "grid_auto_rows": null,
            "grid_column": null,
            "grid_gap": null,
            "grid_row": null,
            "grid_template_areas": null,
            "grid_template_columns": null,
            "grid_template_rows": null,
            "height": null,
            "justify_content": null,
            "justify_items": null,
            "left": null,
            "margin": null,
            "max_height": null,
            "max_width": null,
            "min_height": null,
            "min_width": null,
            "object_fit": null,
            "object_position": null,
            "order": null,
            "overflow": null,
            "overflow_x": null,
            "overflow_y": null,
            "padding": null,
            "right": null,
            "top": null,
            "visibility": null,
            "width": null
          }
        },
        "5e72e924fb3d4a6eb3ed68e52058eb79": {
          "model_module": "@jupyter-widgets/controls",
          "model_name": "DescriptionStyleModel",
          "model_module_version": "1.5.0",
          "state": {
            "_model_module": "@jupyter-widgets/controls",
            "_model_module_version": "1.5.0",
            "_model_name": "DescriptionStyleModel",
            "_view_count": null,
            "_view_module": "@jupyter-widgets/base",
            "_view_module_version": "1.2.0",
            "_view_name": "StyleView",
            "description_width": ""
          }
        },
        "6d99cecf6a86489f9e4bbd604fe55eb1": {
          "model_module": "@jupyter-widgets/base",
          "model_name": "LayoutModel",
          "model_module_version": "1.2.0",
          "state": {
            "_model_module": "@jupyter-widgets/base",
            "_model_module_version": "1.2.0",
            "_model_name": "LayoutModel",
            "_view_count": null,
            "_view_module": "@jupyter-widgets/base",
            "_view_module_version": "1.2.0",
            "_view_name": "LayoutView",
            "align_content": null,
            "align_items": null,
            "align_self": null,
            "border": null,
            "bottom": null,
            "display": null,
            "flex": null,
            "flex_flow": null,
            "grid_area": null,
            "grid_auto_columns": null,
            "grid_auto_flow": null,
            "grid_auto_rows": null,
            "grid_column": null,
            "grid_gap": null,
            "grid_row": null,
            "grid_template_areas": null,
            "grid_template_columns": null,
            "grid_template_rows": null,
            "height": null,
            "justify_content": null,
            "justify_items": null,
            "left": null,
            "margin": null,
            "max_height": null,
            "max_width": null,
            "min_height": null,
            "min_width": null,
            "object_fit": null,
            "object_position": null,
            "order": null,
            "overflow": null,
            "overflow_x": null,
            "overflow_y": null,
            "padding": null,
            "right": null,
            "top": null,
            "visibility": null,
            "width": null
          }
        },
        "7dddc12e61bb462a85860c8f4a405ee3": {
          "model_module": "@jupyter-widgets/controls",
          "model_name": "ProgressStyleModel",
          "model_module_version": "1.5.0",
          "state": {
            "_model_module": "@jupyter-widgets/controls",
            "_model_module_version": "1.5.0",
            "_model_name": "ProgressStyleModel",
            "_view_count": null,
            "_view_module": "@jupyter-widgets/base",
            "_view_module_version": "1.2.0",
            "_view_name": "StyleView",
            "bar_color": null,
            "description_width": ""
          }
        },
        "06b8255ed5264a8cafc54b5051a9eb62": {
          "model_module": "@jupyter-widgets/base",
          "model_name": "LayoutModel",
          "model_module_version": "1.2.0",
          "state": {
            "_model_module": "@jupyter-widgets/base",
            "_model_module_version": "1.2.0",
            "_model_name": "LayoutModel",
            "_view_count": null,
            "_view_module": "@jupyter-widgets/base",
            "_view_module_version": "1.2.0",
            "_view_name": "LayoutView",
            "align_content": null,
            "align_items": null,
            "align_self": null,
            "border": null,
            "bottom": null,
            "display": null,
            "flex": null,
            "flex_flow": null,
            "grid_area": null,
            "grid_auto_columns": null,
            "grid_auto_flow": null,
            "grid_auto_rows": null,
            "grid_column": null,
            "grid_gap": null,
            "grid_row": null,
            "grid_template_areas": null,
            "grid_template_columns": null,
            "grid_template_rows": null,
            "height": null,
            "justify_content": null,
            "justify_items": null,
            "left": null,
            "margin": null,
            "max_height": null,
            "max_width": null,
            "min_height": null,
            "min_width": null,
            "object_fit": null,
            "object_position": null,
            "order": null,
            "overflow": null,
            "overflow_x": null,
            "overflow_y": null,
            "padding": null,
            "right": null,
            "top": null,
            "visibility": null,
            "width": null
          }
        },
        "455aabe8813e4c77ba54f47010e4a2df": {
          "model_module": "@jupyter-widgets/controls",
          "model_name": "DescriptionStyleModel",
          "model_module_version": "1.5.0",
          "state": {
            "_model_module": "@jupyter-widgets/controls",
            "_model_module_version": "1.5.0",
            "_model_name": "DescriptionStyleModel",
            "_view_count": null,
            "_view_module": "@jupyter-widgets/base",
            "_view_module_version": "1.2.0",
            "_view_name": "StyleView",
            "description_width": ""
          }
        },
        "8b35eacd3fd242fd899c9d5dbd577987": {
          "model_module": "@jupyter-widgets/controls",
          "model_name": "HBoxModel",
          "model_module_version": "1.5.0",
          "state": {
            "_dom_classes": [],
            "_model_module": "@jupyter-widgets/controls",
            "_model_module_version": "1.5.0",
            "_model_name": "HBoxModel",
            "_view_count": null,
            "_view_module": "@jupyter-widgets/controls",
            "_view_module_version": "1.5.0",
            "_view_name": "HBoxView",
            "box_style": "",
            "children": [
              "IPY_MODEL_bf42019a8592470884cbea1d8a626f1a",
              "IPY_MODEL_97fd647c0c49451abe8f54bd2f6e90e5",
              "IPY_MODEL_570873c83e8349589b274450a2909148"
            ],
            "layout": "IPY_MODEL_e338c9d1f7504bdf9f480b495ae547da"
          }
        },
        "bf42019a8592470884cbea1d8a626f1a": {
          "model_module": "@jupyter-widgets/controls",
          "model_name": "HTMLModel",
          "model_module_version": "1.5.0",
          "state": {
            "_dom_classes": [],
            "_model_module": "@jupyter-widgets/controls",
            "_model_module_version": "1.5.0",
            "_model_name": "HTMLModel",
            "_view_count": null,
            "_view_module": "@jupyter-widgets/controls",
            "_view_module_version": "1.5.0",
            "_view_name": "HTMLView",
            "description": "",
            "description_tooltip": null,
            "layout": "IPY_MODEL_cdc92a9685084de1af3d99e20230486c",
            "placeholder": "​",
            "style": "IPY_MODEL_ce5edb302e164c2f805da9db1b763bb0",
            "value": "Epoch 5 of 5: 100%"
          }
        },
        "97fd647c0c49451abe8f54bd2f6e90e5": {
          "model_module": "@jupyter-widgets/controls",
          "model_name": "FloatProgressModel",
          "model_module_version": "1.5.0",
          "state": {
            "_dom_classes": [],
            "_model_module": "@jupyter-widgets/controls",
            "_model_module_version": "1.5.0",
            "_model_name": "FloatProgressModel",
            "_view_count": null,
            "_view_module": "@jupyter-widgets/controls",
            "_view_module_version": "1.5.0",
            "_view_name": "ProgressView",
            "bar_style": "success",
            "description": "",
            "description_tooltip": null,
            "layout": "IPY_MODEL_b5746ac80de04273be7f585860c93baa",
            "max": 5,
            "min": 0,
            "orientation": "horizontal",
            "style": "IPY_MODEL_e123823ab0e84852b202c7d08bac040f",
            "value": 5
          }
        },
        "570873c83e8349589b274450a2909148": {
          "model_module": "@jupyter-widgets/controls",
          "model_name": "HTMLModel",
          "model_module_version": "1.5.0",
          "state": {
            "_dom_classes": [],
            "_model_module": "@jupyter-widgets/controls",
            "_model_module_version": "1.5.0",
            "_model_name": "HTMLModel",
            "_view_count": null,
            "_view_module": "@jupyter-widgets/controls",
            "_view_module_version": "1.5.0",
            "_view_name": "HTMLView",
            "description": "",
            "description_tooltip": null,
            "layout": "IPY_MODEL_e18f12fb3caf492a867f3f08f1b3fc6e",
            "placeholder": "​",
            "style": "IPY_MODEL_303d1f6a437942bba803e4771a8b1faf",
            "value": " 5/5 [12:22&lt;00:00, 147.89s/it]"
          }
        },
        "e338c9d1f7504bdf9f480b495ae547da": {
          "model_module": "@jupyter-widgets/base",
          "model_name": "LayoutModel",
          "model_module_version": "1.2.0",
          "state": {
            "_model_module": "@jupyter-widgets/base",
            "_model_module_version": "1.2.0",
            "_model_name": "LayoutModel",
            "_view_count": null,
            "_view_module": "@jupyter-widgets/base",
            "_view_module_version": "1.2.0",
            "_view_name": "LayoutView",
            "align_content": null,
            "align_items": null,
            "align_self": null,
            "border": null,
            "bottom": null,
            "display": null,
            "flex": null,
            "flex_flow": null,
            "grid_area": null,
            "grid_auto_columns": null,
            "grid_auto_flow": null,
            "grid_auto_rows": null,
            "grid_column": null,
            "grid_gap": null,
            "grid_row": null,
            "grid_template_areas": null,
            "grid_template_columns": null,
            "grid_template_rows": null,
            "height": null,
            "justify_content": null,
            "justify_items": null,
            "left": null,
            "margin": null,
            "max_height": null,
            "max_width": null,
            "min_height": null,
            "min_width": null,
            "object_fit": null,
            "object_position": null,
            "order": null,
            "overflow": null,
            "overflow_x": null,
            "overflow_y": null,
            "padding": null,
            "right": null,
            "top": null,
            "visibility": null,
            "width": null
          }
        },
        "cdc92a9685084de1af3d99e20230486c": {
          "model_module": "@jupyter-widgets/base",
          "model_name": "LayoutModel",
          "model_module_version": "1.2.0",
          "state": {
            "_model_module": "@jupyter-widgets/base",
            "_model_module_version": "1.2.0",
            "_model_name": "LayoutModel",
            "_view_count": null,
            "_view_module": "@jupyter-widgets/base",
            "_view_module_version": "1.2.0",
            "_view_name": "LayoutView",
            "align_content": null,
            "align_items": null,
            "align_self": null,
            "border": null,
            "bottom": null,
            "display": null,
            "flex": null,
            "flex_flow": null,
            "grid_area": null,
            "grid_auto_columns": null,
            "grid_auto_flow": null,
            "grid_auto_rows": null,
            "grid_column": null,
            "grid_gap": null,
            "grid_row": null,
            "grid_template_areas": null,
            "grid_template_columns": null,
            "grid_template_rows": null,
            "height": null,
            "justify_content": null,
            "justify_items": null,
            "left": null,
            "margin": null,
            "max_height": null,
            "max_width": null,
            "min_height": null,
            "min_width": null,
            "object_fit": null,
            "object_position": null,
            "order": null,
            "overflow": null,
            "overflow_x": null,
            "overflow_y": null,
            "padding": null,
            "right": null,
            "top": null,
            "visibility": null,
            "width": null
          }
        },
        "ce5edb302e164c2f805da9db1b763bb0": {
          "model_module": "@jupyter-widgets/controls",
          "model_name": "DescriptionStyleModel",
          "model_module_version": "1.5.0",
          "state": {
            "_model_module": "@jupyter-widgets/controls",
            "_model_module_version": "1.5.0",
            "_model_name": "DescriptionStyleModel",
            "_view_count": null,
            "_view_module": "@jupyter-widgets/base",
            "_view_module_version": "1.2.0",
            "_view_name": "StyleView",
            "description_width": ""
          }
        },
        "b5746ac80de04273be7f585860c93baa": {
          "model_module": "@jupyter-widgets/base",
          "model_name": "LayoutModel",
          "model_module_version": "1.2.0",
          "state": {
            "_model_module": "@jupyter-widgets/base",
            "_model_module_version": "1.2.0",
            "_model_name": "LayoutModel",
            "_view_count": null,
            "_view_module": "@jupyter-widgets/base",
            "_view_module_version": "1.2.0",
            "_view_name": "LayoutView",
            "align_content": null,
            "align_items": null,
            "align_self": null,
            "border": null,
            "bottom": null,
            "display": null,
            "flex": null,
            "flex_flow": null,
            "grid_area": null,
            "grid_auto_columns": null,
            "grid_auto_flow": null,
            "grid_auto_rows": null,
            "grid_column": null,
            "grid_gap": null,
            "grid_row": null,
            "grid_template_areas": null,
            "grid_template_columns": null,
            "grid_template_rows": null,
            "height": null,
            "justify_content": null,
            "justify_items": null,
            "left": null,
            "margin": null,
            "max_height": null,
            "max_width": null,
            "min_height": null,
            "min_width": null,
            "object_fit": null,
            "object_position": null,
            "order": null,
            "overflow": null,
            "overflow_x": null,
            "overflow_y": null,
            "padding": null,
            "right": null,
            "top": null,
            "visibility": null,
            "width": null
          }
        },
        "e123823ab0e84852b202c7d08bac040f": {
          "model_module": "@jupyter-widgets/controls",
          "model_name": "ProgressStyleModel",
          "model_module_version": "1.5.0",
          "state": {
            "_model_module": "@jupyter-widgets/controls",
            "_model_module_version": "1.5.0",
            "_model_name": "ProgressStyleModel",
            "_view_count": null,
            "_view_module": "@jupyter-widgets/base",
            "_view_module_version": "1.2.0",
            "_view_name": "StyleView",
            "bar_color": null,
            "description_width": ""
          }
        },
        "e18f12fb3caf492a867f3f08f1b3fc6e": {
          "model_module": "@jupyter-widgets/base",
          "model_name": "LayoutModel",
          "model_module_version": "1.2.0",
          "state": {
            "_model_module": "@jupyter-widgets/base",
            "_model_module_version": "1.2.0",
            "_model_name": "LayoutModel",
            "_view_count": null,
            "_view_module": "@jupyter-widgets/base",
            "_view_module_version": "1.2.0",
            "_view_name": "LayoutView",
            "align_content": null,
            "align_items": null,
            "align_self": null,
            "border": null,
            "bottom": null,
            "display": null,
            "flex": null,
            "flex_flow": null,
            "grid_area": null,
            "grid_auto_columns": null,
            "grid_auto_flow": null,
            "grid_auto_rows": null,
            "grid_column": null,
            "grid_gap": null,
            "grid_row": null,
            "grid_template_areas": null,
            "grid_template_columns": null,
            "grid_template_rows": null,
            "height": null,
            "justify_content": null,
            "justify_items": null,
            "left": null,
            "margin": null,
            "max_height": null,
            "max_width": null,
            "min_height": null,
            "min_width": null,
            "object_fit": null,
            "object_position": null,
            "order": null,
            "overflow": null,
            "overflow_x": null,
            "overflow_y": null,
            "padding": null,
            "right": null,
            "top": null,
            "visibility": null,
            "width": null
          }
        },
        "303d1f6a437942bba803e4771a8b1faf": {
          "model_module": "@jupyter-widgets/controls",
          "model_name": "DescriptionStyleModel",
          "model_module_version": "1.5.0",
          "state": {
            "_model_module": "@jupyter-widgets/controls",
            "_model_module_version": "1.5.0",
            "_model_name": "DescriptionStyleModel",
            "_view_count": null,
            "_view_module": "@jupyter-widgets/base",
            "_view_module_version": "1.2.0",
            "_view_name": "StyleView",
            "description_width": ""
          }
        },
        "77851ea3371643ab9ce8915fb09e674e": {
          "model_module": "@jupyter-widgets/controls",
          "model_name": "HBoxModel",
          "model_module_version": "1.5.0",
          "state": {
            "_dom_classes": [],
            "_model_module": "@jupyter-widgets/controls",
            "_model_module_version": "1.5.0",
            "_model_name": "HBoxModel",
            "_view_count": null,
            "_view_module": "@jupyter-widgets/controls",
            "_view_module_version": "1.5.0",
            "_view_name": "HBoxView",
            "box_style": "",
            "children": [
              "IPY_MODEL_de3f287bcee64042a4f0bfdf63e148ec",
              "IPY_MODEL_f40dc9a319b94ba2ae839a642c626089",
              "IPY_MODEL_712edd533d9747609ea7852fc90b46cd"
            ],
            "layout": "IPY_MODEL_296327f5f0914dfdbe2145e02c161c19"
          }
        },
        "de3f287bcee64042a4f0bfdf63e148ec": {
          "model_module": "@jupyter-widgets/controls",
          "model_name": "HTMLModel",
          "model_module_version": "1.5.0",
          "state": {
            "_dom_classes": [],
            "_model_module": "@jupyter-widgets/controls",
            "_model_module_version": "1.5.0",
            "_model_name": "HTMLModel",
            "_view_count": null,
            "_view_module": "@jupyter-widgets/controls",
            "_view_module_version": "1.5.0",
            "_view_name": "HTMLView",
            "description": "",
            "description_tooltip": null,
            "layout": "IPY_MODEL_81b21702ff1b4d9eab0159f3e9135680",
            "placeholder": "​",
            "style": "IPY_MODEL_3fa65a7c83b74022a3062d5689ab38fa",
            "value": "Epochs 0/5. Running Loss:    0.1516: 100%"
          }
        },
        "f40dc9a319b94ba2ae839a642c626089": {
          "model_module": "@jupyter-widgets/controls",
          "model_name": "FloatProgressModel",
          "model_module_version": "1.5.0",
          "state": {
            "_dom_classes": [],
            "_model_module": "@jupyter-widgets/controls",
            "_model_module_version": "1.5.0",
            "_model_name": "FloatProgressModel",
            "_view_count": null,
            "_view_module": "@jupyter-widgets/controls",
            "_view_module_version": "1.5.0",
            "_view_name": "ProgressView",
            "bar_style": "success",
            "description": "",
            "description_tooltip": null,
            "layout": "IPY_MODEL_64b5b35169a44d2eb5faf66d11585a5c",
            "max": 1138,
            "min": 0,
            "orientation": "horizontal",
            "style": "IPY_MODEL_c81fa4444c8345cb999dcabb151bfc0b",
            "value": 1138
          }
        },
        "712edd533d9747609ea7852fc90b46cd": {
          "model_module": "@jupyter-widgets/controls",
          "model_name": "HTMLModel",
          "model_module_version": "1.5.0",
          "state": {
            "_dom_classes": [],
            "_model_module": "@jupyter-widgets/controls",
            "_model_module_version": "1.5.0",
            "_model_name": "HTMLModel",
            "_view_count": null,
            "_view_module": "@jupyter-widgets/controls",
            "_view_module_version": "1.5.0",
            "_view_name": "HTMLView",
            "description": "",
            "description_tooltip": null,
            "layout": "IPY_MODEL_dcd3441faf2845ecafaf68350b5ba0a1",
            "placeholder": "​",
            "style": "IPY_MODEL_c3dbf36122f34cee9d2ccdeb64becd29",
            "value": " 1138/1138 [02:27&lt;00:00,  8.50it/s]"
          }
        },
        "296327f5f0914dfdbe2145e02c161c19": {
          "model_module": "@jupyter-widgets/base",
          "model_name": "LayoutModel",
          "model_module_version": "1.2.0",
          "state": {
            "_model_module": "@jupyter-widgets/base",
            "_model_module_version": "1.2.0",
            "_model_name": "LayoutModel",
            "_view_count": null,
            "_view_module": "@jupyter-widgets/base",
            "_view_module_version": "1.2.0",
            "_view_name": "LayoutView",
            "align_content": null,
            "align_items": null,
            "align_self": null,
            "border": null,
            "bottom": null,
            "display": null,
            "flex": null,
            "flex_flow": null,
            "grid_area": null,
            "grid_auto_columns": null,
            "grid_auto_flow": null,
            "grid_auto_rows": null,
            "grid_column": null,
            "grid_gap": null,
            "grid_row": null,
            "grid_template_areas": null,
            "grid_template_columns": null,
            "grid_template_rows": null,
            "height": null,
            "justify_content": null,
            "justify_items": null,
            "left": null,
            "margin": null,
            "max_height": null,
            "max_width": null,
            "min_height": null,
            "min_width": null,
            "object_fit": null,
            "object_position": null,
            "order": null,
            "overflow": null,
            "overflow_x": null,
            "overflow_y": null,
            "padding": null,
            "right": null,
            "top": null,
            "visibility": null,
            "width": null
          }
        },
        "81b21702ff1b4d9eab0159f3e9135680": {
          "model_module": "@jupyter-widgets/base",
          "model_name": "LayoutModel",
          "model_module_version": "1.2.0",
          "state": {
            "_model_module": "@jupyter-widgets/base",
            "_model_module_version": "1.2.0",
            "_model_name": "LayoutModel",
            "_view_count": null,
            "_view_module": "@jupyter-widgets/base",
            "_view_module_version": "1.2.0",
            "_view_name": "LayoutView",
            "align_content": null,
            "align_items": null,
            "align_self": null,
            "border": null,
            "bottom": null,
            "display": null,
            "flex": null,
            "flex_flow": null,
            "grid_area": null,
            "grid_auto_columns": null,
            "grid_auto_flow": null,
            "grid_auto_rows": null,
            "grid_column": null,
            "grid_gap": null,
            "grid_row": null,
            "grid_template_areas": null,
            "grid_template_columns": null,
            "grid_template_rows": null,
            "height": null,
            "justify_content": null,
            "justify_items": null,
            "left": null,
            "margin": null,
            "max_height": null,
            "max_width": null,
            "min_height": null,
            "min_width": null,
            "object_fit": null,
            "object_position": null,
            "order": null,
            "overflow": null,
            "overflow_x": null,
            "overflow_y": null,
            "padding": null,
            "right": null,
            "top": null,
            "visibility": null,
            "width": null
          }
        },
        "3fa65a7c83b74022a3062d5689ab38fa": {
          "model_module": "@jupyter-widgets/controls",
          "model_name": "DescriptionStyleModel",
          "model_module_version": "1.5.0",
          "state": {
            "_model_module": "@jupyter-widgets/controls",
            "_model_module_version": "1.5.0",
            "_model_name": "DescriptionStyleModel",
            "_view_count": null,
            "_view_module": "@jupyter-widgets/base",
            "_view_module_version": "1.2.0",
            "_view_name": "StyleView",
            "description_width": ""
          }
        },
        "64b5b35169a44d2eb5faf66d11585a5c": {
          "model_module": "@jupyter-widgets/base",
          "model_name": "LayoutModel",
          "model_module_version": "1.2.0",
          "state": {
            "_model_module": "@jupyter-widgets/base",
            "_model_module_version": "1.2.0",
            "_model_name": "LayoutModel",
            "_view_count": null,
            "_view_module": "@jupyter-widgets/base",
            "_view_module_version": "1.2.0",
            "_view_name": "LayoutView",
            "align_content": null,
            "align_items": null,
            "align_self": null,
            "border": null,
            "bottom": null,
            "display": null,
            "flex": null,
            "flex_flow": null,
            "grid_area": null,
            "grid_auto_columns": null,
            "grid_auto_flow": null,
            "grid_auto_rows": null,
            "grid_column": null,
            "grid_gap": null,
            "grid_row": null,
            "grid_template_areas": null,
            "grid_template_columns": null,
            "grid_template_rows": null,
            "height": null,
            "justify_content": null,
            "justify_items": null,
            "left": null,
            "margin": null,
            "max_height": null,
            "max_width": null,
            "min_height": null,
            "min_width": null,
            "object_fit": null,
            "object_position": null,
            "order": null,
            "overflow": null,
            "overflow_x": null,
            "overflow_y": null,
            "padding": null,
            "right": null,
            "top": null,
            "visibility": null,
            "width": null
          }
        },
        "c81fa4444c8345cb999dcabb151bfc0b": {
          "model_module": "@jupyter-widgets/controls",
          "model_name": "ProgressStyleModel",
          "model_module_version": "1.5.0",
          "state": {
            "_model_module": "@jupyter-widgets/controls",
            "_model_module_version": "1.5.0",
            "_model_name": "ProgressStyleModel",
            "_view_count": null,
            "_view_module": "@jupyter-widgets/base",
            "_view_module_version": "1.2.0",
            "_view_name": "StyleView",
            "bar_color": null,
            "description_width": ""
          }
        },
        "dcd3441faf2845ecafaf68350b5ba0a1": {
          "model_module": "@jupyter-widgets/base",
          "model_name": "LayoutModel",
          "model_module_version": "1.2.0",
          "state": {
            "_model_module": "@jupyter-widgets/base",
            "_model_module_version": "1.2.0",
            "_model_name": "LayoutModel",
            "_view_count": null,
            "_view_module": "@jupyter-widgets/base",
            "_view_module_version": "1.2.0",
            "_view_name": "LayoutView",
            "align_content": null,
            "align_items": null,
            "align_self": null,
            "border": null,
            "bottom": null,
            "display": null,
            "flex": null,
            "flex_flow": null,
            "grid_area": null,
            "grid_auto_columns": null,
            "grid_auto_flow": null,
            "grid_auto_rows": null,
            "grid_column": null,
            "grid_gap": null,
            "grid_row": null,
            "grid_template_areas": null,
            "grid_template_columns": null,
            "grid_template_rows": null,
            "height": null,
            "justify_content": null,
            "justify_items": null,
            "left": null,
            "margin": null,
            "max_height": null,
            "max_width": null,
            "min_height": null,
            "min_width": null,
            "object_fit": null,
            "object_position": null,
            "order": null,
            "overflow": null,
            "overflow_x": null,
            "overflow_y": null,
            "padding": null,
            "right": null,
            "top": null,
            "visibility": null,
            "width": null
          }
        },
        "c3dbf36122f34cee9d2ccdeb64becd29": {
          "model_module": "@jupyter-widgets/controls",
          "model_name": "DescriptionStyleModel",
          "model_module_version": "1.5.0",
          "state": {
            "_model_module": "@jupyter-widgets/controls",
            "_model_module_version": "1.5.0",
            "_model_name": "DescriptionStyleModel",
            "_view_count": null,
            "_view_module": "@jupyter-widgets/base",
            "_view_module_version": "1.2.0",
            "_view_name": "StyleView",
            "description_width": ""
          }
        },
        "2fdc87dd2fcc46e78481d9b14f6c8936": {
          "model_module": "@jupyter-widgets/controls",
          "model_name": "HBoxModel",
          "model_module_version": "1.5.0",
          "state": {
            "_dom_classes": [],
            "_model_module": "@jupyter-widgets/controls",
            "_model_module_version": "1.5.0",
            "_model_name": "HBoxModel",
            "_view_count": null,
            "_view_module": "@jupyter-widgets/controls",
            "_view_module_version": "1.5.0",
            "_view_name": "HBoxView",
            "box_style": "",
            "children": [
              "IPY_MODEL_756825c387384a28a6886eb6c8a24e53",
              "IPY_MODEL_beb5f6256cff4d1dabf8554ad61b1c84",
              "IPY_MODEL_f5c56b4cff164536ac3c70608adfffe3"
            ],
            "layout": "IPY_MODEL_56fa9e01532847ad89df47ce96cf119e"
          }
        },
        "756825c387384a28a6886eb6c8a24e53": {
          "model_module": "@jupyter-widgets/controls",
          "model_name": "HTMLModel",
          "model_module_version": "1.5.0",
          "state": {
            "_dom_classes": [],
            "_model_module": "@jupyter-widgets/controls",
            "_model_module_version": "1.5.0",
            "_model_name": "HTMLModel",
            "_view_count": null,
            "_view_module": "@jupyter-widgets/controls",
            "_view_module_version": "1.5.0",
            "_view_name": "HTMLView",
            "description": "",
            "description_tooltip": null,
            "layout": "IPY_MODEL_1d17fb4064524d608033feeb19e21a6b",
            "placeholder": "​",
            "style": "IPY_MODEL_83d3e0ffaeee4cafbe83b3a12dca8a88",
            "value": "Epochs 1/5. Running Loss:    0.0116: 100%"
          }
        },
        "beb5f6256cff4d1dabf8554ad61b1c84": {
          "model_module": "@jupyter-widgets/controls",
          "model_name": "FloatProgressModel",
          "model_module_version": "1.5.0",
          "state": {
            "_dom_classes": [],
            "_model_module": "@jupyter-widgets/controls",
            "_model_module_version": "1.5.0",
            "_model_name": "FloatProgressModel",
            "_view_count": null,
            "_view_module": "@jupyter-widgets/controls",
            "_view_module_version": "1.5.0",
            "_view_name": "ProgressView",
            "bar_style": "success",
            "description": "",
            "description_tooltip": null,
            "layout": "IPY_MODEL_aa7d71bb0afa4d288f620708919dc4bc",
            "max": 1138,
            "min": 0,
            "orientation": "horizontal",
            "style": "IPY_MODEL_928a26fa86a844129a50d7c36c90177b",
            "value": 1138
          }
        },
        "f5c56b4cff164536ac3c70608adfffe3": {
          "model_module": "@jupyter-widgets/controls",
          "model_name": "HTMLModel",
          "model_module_version": "1.5.0",
          "state": {
            "_dom_classes": [],
            "_model_module": "@jupyter-widgets/controls",
            "_model_module_version": "1.5.0",
            "_model_name": "HTMLModel",
            "_view_count": null,
            "_view_module": "@jupyter-widgets/controls",
            "_view_module_version": "1.5.0",
            "_view_name": "HTMLView",
            "description": "",
            "description_tooltip": null,
            "layout": "IPY_MODEL_765af0e1cc5b4effbe344b49353d0f69",
            "placeholder": "​",
            "style": "IPY_MODEL_437bbcf93f7c47f9a8603384b5e707b4",
            "value": " 1138/1138 [02:27&lt;00:00,  8.57it/s]"
          }
        },
        "56fa9e01532847ad89df47ce96cf119e": {
          "model_module": "@jupyter-widgets/base",
          "model_name": "LayoutModel",
          "model_module_version": "1.2.0",
          "state": {
            "_model_module": "@jupyter-widgets/base",
            "_model_module_version": "1.2.0",
            "_model_name": "LayoutModel",
            "_view_count": null,
            "_view_module": "@jupyter-widgets/base",
            "_view_module_version": "1.2.0",
            "_view_name": "LayoutView",
            "align_content": null,
            "align_items": null,
            "align_self": null,
            "border": null,
            "bottom": null,
            "display": null,
            "flex": null,
            "flex_flow": null,
            "grid_area": null,
            "grid_auto_columns": null,
            "grid_auto_flow": null,
            "grid_auto_rows": null,
            "grid_column": null,
            "grid_gap": null,
            "grid_row": null,
            "grid_template_areas": null,
            "grid_template_columns": null,
            "grid_template_rows": null,
            "height": null,
            "justify_content": null,
            "justify_items": null,
            "left": null,
            "margin": null,
            "max_height": null,
            "max_width": null,
            "min_height": null,
            "min_width": null,
            "object_fit": null,
            "object_position": null,
            "order": null,
            "overflow": null,
            "overflow_x": null,
            "overflow_y": null,
            "padding": null,
            "right": null,
            "top": null,
            "visibility": null,
            "width": null
          }
        },
        "1d17fb4064524d608033feeb19e21a6b": {
          "model_module": "@jupyter-widgets/base",
          "model_name": "LayoutModel",
          "model_module_version": "1.2.0",
          "state": {
            "_model_module": "@jupyter-widgets/base",
            "_model_module_version": "1.2.0",
            "_model_name": "LayoutModel",
            "_view_count": null,
            "_view_module": "@jupyter-widgets/base",
            "_view_module_version": "1.2.0",
            "_view_name": "LayoutView",
            "align_content": null,
            "align_items": null,
            "align_self": null,
            "border": null,
            "bottom": null,
            "display": null,
            "flex": null,
            "flex_flow": null,
            "grid_area": null,
            "grid_auto_columns": null,
            "grid_auto_flow": null,
            "grid_auto_rows": null,
            "grid_column": null,
            "grid_gap": null,
            "grid_row": null,
            "grid_template_areas": null,
            "grid_template_columns": null,
            "grid_template_rows": null,
            "height": null,
            "justify_content": null,
            "justify_items": null,
            "left": null,
            "margin": null,
            "max_height": null,
            "max_width": null,
            "min_height": null,
            "min_width": null,
            "object_fit": null,
            "object_position": null,
            "order": null,
            "overflow": null,
            "overflow_x": null,
            "overflow_y": null,
            "padding": null,
            "right": null,
            "top": null,
            "visibility": null,
            "width": null
          }
        },
        "83d3e0ffaeee4cafbe83b3a12dca8a88": {
          "model_module": "@jupyter-widgets/controls",
          "model_name": "DescriptionStyleModel",
          "model_module_version": "1.5.0",
          "state": {
            "_model_module": "@jupyter-widgets/controls",
            "_model_module_version": "1.5.0",
            "_model_name": "DescriptionStyleModel",
            "_view_count": null,
            "_view_module": "@jupyter-widgets/base",
            "_view_module_version": "1.2.0",
            "_view_name": "StyleView",
            "description_width": ""
          }
        },
        "aa7d71bb0afa4d288f620708919dc4bc": {
          "model_module": "@jupyter-widgets/base",
          "model_name": "LayoutModel",
          "model_module_version": "1.2.0",
          "state": {
            "_model_module": "@jupyter-widgets/base",
            "_model_module_version": "1.2.0",
            "_model_name": "LayoutModel",
            "_view_count": null,
            "_view_module": "@jupyter-widgets/base",
            "_view_module_version": "1.2.0",
            "_view_name": "LayoutView",
            "align_content": null,
            "align_items": null,
            "align_self": null,
            "border": null,
            "bottom": null,
            "display": null,
            "flex": null,
            "flex_flow": null,
            "grid_area": null,
            "grid_auto_columns": null,
            "grid_auto_flow": null,
            "grid_auto_rows": null,
            "grid_column": null,
            "grid_gap": null,
            "grid_row": null,
            "grid_template_areas": null,
            "grid_template_columns": null,
            "grid_template_rows": null,
            "height": null,
            "justify_content": null,
            "justify_items": null,
            "left": null,
            "margin": null,
            "max_height": null,
            "max_width": null,
            "min_height": null,
            "min_width": null,
            "object_fit": null,
            "object_position": null,
            "order": null,
            "overflow": null,
            "overflow_x": null,
            "overflow_y": null,
            "padding": null,
            "right": null,
            "top": null,
            "visibility": null,
            "width": null
          }
        },
        "928a26fa86a844129a50d7c36c90177b": {
          "model_module": "@jupyter-widgets/controls",
          "model_name": "ProgressStyleModel",
          "model_module_version": "1.5.0",
          "state": {
            "_model_module": "@jupyter-widgets/controls",
            "_model_module_version": "1.5.0",
            "_model_name": "ProgressStyleModel",
            "_view_count": null,
            "_view_module": "@jupyter-widgets/base",
            "_view_module_version": "1.2.0",
            "_view_name": "StyleView",
            "bar_color": null,
            "description_width": ""
          }
        },
        "765af0e1cc5b4effbe344b49353d0f69": {
          "model_module": "@jupyter-widgets/base",
          "model_name": "LayoutModel",
          "model_module_version": "1.2.0",
          "state": {
            "_model_module": "@jupyter-widgets/base",
            "_model_module_version": "1.2.0",
            "_model_name": "LayoutModel",
            "_view_count": null,
            "_view_module": "@jupyter-widgets/base",
            "_view_module_version": "1.2.0",
            "_view_name": "LayoutView",
            "align_content": null,
            "align_items": null,
            "align_self": null,
            "border": null,
            "bottom": null,
            "display": null,
            "flex": null,
            "flex_flow": null,
            "grid_area": null,
            "grid_auto_columns": null,
            "grid_auto_flow": null,
            "grid_auto_rows": null,
            "grid_column": null,
            "grid_gap": null,
            "grid_row": null,
            "grid_template_areas": null,
            "grid_template_columns": null,
            "grid_template_rows": null,
            "height": null,
            "justify_content": null,
            "justify_items": null,
            "left": null,
            "margin": null,
            "max_height": null,
            "max_width": null,
            "min_height": null,
            "min_width": null,
            "object_fit": null,
            "object_position": null,
            "order": null,
            "overflow": null,
            "overflow_x": null,
            "overflow_y": null,
            "padding": null,
            "right": null,
            "top": null,
            "visibility": null,
            "width": null
          }
        },
        "437bbcf93f7c47f9a8603384b5e707b4": {
          "model_module": "@jupyter-widgets/controls",
          "model_name": "DescriptionStyleModel",
          "model_module_version": "1.5.0",
          "state": {
            "_model_module": "@jupyter-widgets/controls",
            "_model_module_version": "1.5.0",
            "_model_name": "DescriptionStyleModel",
            "_view_count": null,
            "_view_module": "@jupyter-widgets/base",
            "_view_module_version": "1.2.0",
            "_view_name": "StyleView",
            "description_width": ""
          }
        },
        "70a2f0bf3f444a14b297d52b0208cf3e": {
          "model_module": "@jupyter-widgets/controls",
          "model_name": "HBoxModel",
          "model_module_version": "1.5.0",
          "state": {
            "_dom_classes": [],
            "_model_module": "@jupyter-widgets/controls",
            "_model_module_version": "1.5.0",
            "_model_name": "HBoxModel",
            "_view_count": null,
            "_view_module": "@jupyter-widgets/controls",
            "_view_module_version": "1.5.0",
            "_view_name": "HBoxView",
            "box_style": "",
            "children": [
              "IPY_MODEL_0ca58a6f80f045ff83c40065a8b95188",
              "IPY_MODEL_3512bd7526284318b0736c5faf6fe7e7",
              "IPY_MODEL_cae2b99f9605429ba0758acc68fb508a"
            ],
            "layout": "IPY_MODEL_66c9e091122048f2940d2f2bd70e84d5"
          }
        },
        "0ca58a6f80f045ff83c40065a8b95188": {
          "model_module": "@jupyter-widgets/controls",
          "model_name": "HTMLModel",
          "model_module_version": "1.5.0",
          "state": {
            "_dom_classes": [],
            "_model_module": "@jupyter-widgets/controls",
            "_model_module_version": "1.5.0",
            "_model_name": "HTMLModel",
            "_view_count": null,
            "_view_module": "@jupyter-widgets/controls",
            "_view_module_version": "1.5.0",
            "_view_name": "HTMLView",
            "description": "",
            "description_tooltip": null,
            "layout": "IPY_MODEL_2cf55790cfe54e21867f6abdf20d8777",
            "placeholder": "​",
            "style": "IPY_MODEL_f2d3fd0a3da94d12b4411173b9b61c08",
            "value": "Epochs 2/5. Running Loss:    0.0084: 100%"
          }
        },
        "3512bd7526284318b0736c5faf6fe7e7": {
          "model_module": "@jupyter-widgets/controls",
          "model_name": "FloatProgressModel",
          "model_module_version": "1.5.0",
          "state": {
            "_dom_classes": [],
            "_model_module": "@jupyter-widgets/controls",
            "_model_module_version": "1.5.0",
            "_model_name": "FloatProgressModel",
            "_view_count": null,
            "_view_module": "@jupyter-widgets/controls",
            "_view_module_version": "1.5.0",
            "_view_name": "ProgressView",
            "bar_style": "success",
            "description": "",
            "description_tooltip": null,
            "layout": "IPY_MODEL_196a9ab078884a64941df6a6ace1ff59",
            "max": 1138,
            "min": 0,
            "orientation": "horizontal",
            "style": "IPY_MODEL_cf6e1598ac27473abca30888f615d5db",
            "value": 1138
          }
        },
        "cae2b99f9605429ba0758acc68fb508a": {
          "model_module": "@jupyter-widgets/controls",
          "model_name": "HTMLModel",
          "model_module_version": "1.5.0",
          "state": {
            "_dom_classes": [],
            "_model_module": "@jupyter-widgets/controls",
            "_model_module_version": "1.5.0",
            "_model_name": "HTMLModel",
            "_view_count": null,
            "_view_module": "@jupyter-widgets/controls",
            "_view_module_version": "1.5.0",
            "_view_name": "HTMLView",
            "description": "",
            "description_tooltip": null,
            "layout": "IPY_MODEL_b918215c73e9469e89d05a92f3203ece",
            "placeholder": "​",
            "style": "IPY_MODEL_5cbe32e3ea31437496dde2a15d59251b",
            "value": " 1138/1138 [02:24&lt;00:00,  8.56it/s]"
          }
        },
        "66c9e091122048f2940d2f2bd70e84d5": {
          "model_module": "@jupyter-widgets/base",
          "model_name": "LayoutModel",
          "model_module_version": "1.2.0",
          "state": {
            "_model_module": "@jupyter-widgets/base",
            "_model_module_version": "1.2.0",
            "_model_name": "LayoutModel",
            "_view_count": null,
            "_view_module": "@jupyter-widgets/base",
            "_view_module_version": "1.2.0",
            "_view_name": "LayoutView",
            "align_content": null,
            "align_items": null,
            "align_self": null,
            "border": null,
            "bottom": null,
            "display": null,
            "flex": null,
            "flex_flow": null,
            "grid_area": null,
            "grid_auto_columns": null,
            "grid_auto_flow": null,
            "grid_auto_rows": null,
            "grid_column": null,
            "grid_gap": null,
            "grid_row": null,
            "grid_template_areas": null,
            "grid_template_columns": null,
            "grid_template_rows": null,
            "height": null,
            "justify_content": null,
            "justify_items": null,
            "left": null,
            "margin": null,
            "max_height": null,
            "max_width": null,
            "min_height": null,
            "min_width": null,
            "object_fit": null,
            "object_position": null,
            "order": null,
            "overflow": null,
            "overflow_x": null,
            "overflow_y": null,
            "padding": null,
            "right": null,
            "top": null,
            "visibility": null,
            "width": null
          }
        },
        "2cf55790cfe54e21867f6abdf20d8777": {
          "model_module": "@jupyter-widgets/base",
          "model_name": "LayoutModel",
          "model_module_version": "1.2.0",
          "state": {
            "_model_module": "@jupyter-widgets/base",
            "_model_module_version": "1.2.0",
            "_model_name": "LayoutModel",
            "_view_count": null,
            "_view_module": "@jupyter-widgets/base",
            "_view_module_version": "1.2.0",
            "_view_name": "LayoutView",
            "align_content": null,
            "align_items": null,
            "align_self": null,
            "border": null,
            "bottom": null,
            "display": null,
            "flex": null,
            "flex_flow": null,
            "grid_area": null,
            "grid_auto_columns": null,
            "grid_auto_flow": null,
            "grid_auto_rows": null,
            "grid_column": null,
            "grid_gap": null,
            "grid_row": null,
            "grid_template_areas": null,
            "grid_template_columns": null,
            "grid_template_rows": null,
            "height": null,
            "justify_content": null,
            "justify_items": null,
            "left": null,
            "margin": null,
            "max_height": null,
            "max_width": null,
            "min_height": null,
            "min_width": null,
            "object_fit": null,
            "object_position": null,
            "order": null,
            "overflow": null,
            "overflow_x": null,
            "overflow_y": null,
            "padding": null,
            "right": null,
            "top": null,
            "visibility": null,
            "width": null
          }
        },
        "f2d3fd0a3da94d12b4411173b9b61c08": {
          "model_module": "@jupyter-widgets/controls",
          "model_name": "DescriptionStyleModel",
          "model_module_version": "1.5.0",
          "state": {
            "_model_module": "@jupyter-widgets/controls",
            "_model_module_version": "1.5.0",
            "_model_name": "DescriptionStyleModel",
            "_view_count": null,
            "_view_module": "@jupyter-widgets/base",
            "_view_module_version": "1.2.0",
            "_view_name": "StyleView",
            "description_width": ""
          }
        },
        "196a9ab078884a64941df6a6ace1ff59": {
          "model_module": "@jupyter-widgets/base",
          "model_name": "LayoutModel",
          "model_module_version": "1.2.0",
          "state": {
            "_model_module": "@jupyter-widgets/base",
            "_model_module_version": "1.2.0",
            "_model_name": "LayoutModel",
            "_view_count": null,
            "_view_module": "@jupyter-widgets/base",
            "_view_module_version": "1.2.0",
            "_view_name": "LayoutView",
            "align_content": null,
            "align_items": null,
            "align_self": null,
            "border": null,
            "bottom": null,
            "display": null,
            "flex": null,
            "flex_flow": null,
            "grid_area": null,
            "grid_auto_columns": null,
            "grid_auto_flow": null,
            "grid_auto_rows": null,
            "grid_column": null,
            "grid_gap": null,
            "grid_row": null,
            "grid_template_areas": null,
            "grid_template_columns": null,
            "grid_template_rows": null,
            "height": null,
            "justify_content": null,
            "justify_items": null,
            "left": null,
            "margin": null,
            "max_height": null,
            "max_width": null,
            "min_height": null,
            "min_width": null,
            "object_fit": null,
            "object_position": null,
            "order": null,
            "overflow": null,
            "overflow_x": null,
            "overflow_y": null,
            "padding": null,
            "right": null,
            "top": null,
            "visibility": null,
            "width": null
          }
        },
        "cf6e1598ac27473abca30888f615d5db": {
          "model_module": "@jupyter-widgets/controls",
          "model_name": "ProgressStyleModel",
          "model_module_version": "1.5.0",
          "state": {
            "_model_module": "@jupyter-widgets/controls",
            "_model_module_version": "1.5.0",
            "_model_name": "ProgressStyleModel",
            "_view_count": null,
            "_view_module": "@jupyter-widgets/base",
            "_view_module_version": "1.2.0",
            "_view_name": "StyleView",
            "bar_color": null,
            "description_width": ""
          }
        },
        "b918215c73e9469e89d05a92f3203ece": {
          "model_module": "@jupyter-widgets/base",
          "model_name": "LayoutModel",
          "model_module_version": "1.2.0",
          "state": {
            "_model_module": "@jupyter-widgets/base",
            "_model_module_version": "1.2.0",
            "_model_name": "LayoutModel",
            "_view_count": null,
            "_view_module": "@jupyter-widgets/base",
            "_view_module_version": "1.2.0",
            "_view_name": "LayoutView",
            "align_content": null,
            "align_items": null,
            "align_self": null,
            "border": null,
            "bottom": null,
            "display": null,
            "flex": null,
            "flex_flow": null,
            "grid_area": null,
            "grid_auto_columns": null,
            "grid_auto_flow": null,
            "grid_auto_rows": null,
            "grid_column": null,
            "grid_gap": null,
            "grid_row": null,
            "grid_template_areas": null,
            "grid_template_columns": null,
            "grid_template_rows": null,
            "height": null,
            "justify_content": null,
            "justify_items": null,
            "left": null,
            "margin": null,
            "max_height": null,
            "max_width": null,
            "min_height": null,
            "min_width": null,
            "object_fit": null,
            "object_position": null,
            "order": null,
            "overflow": null,
            "overflow_x": null,
            "overflow_y": null,
            "padding": null,
            "right": null,
            "top": null,
            "visibility": null,
            "width": null
          }
        },
        "5cbe32e3ea31437496dde2a15d59251b": {
          "model_module": "@jupyter-widgets/controls",
          "model_name": "DescriptionStyleModel",
          "model_module_version": "1.5.0",
          "state": {
            "_model_module": "@jupyter-widgets/controls",
            "_model_module_version": "1.5.0",
            "_model_name": "DescriptionStyleModel",
            "_view_count": null,
            "_view_module": "@jupyter-widgets/base",
            "_view_module_version": "1.2.0",
            "_view_name": "StyleView",
            "description_width": ""
          }
        },
        "8818f0cee4804763b7488c1038d273b4": {
          "model_module": "@jupyter-widgets/controls",
          "model_name": "HBoxModel",
          "model_module_version": "1.5.0",
          "state": {
            "_dom_classes": [],
            "_model_module": "@jupyter-widgets/controls",
            "_model_module_version": "1.5.0",
            "_model_name": "HBoxModel",
            "_view_count": null,
            "_view_module": "@jupyter-widgets/controls",
            "_view_module_version": "1.5.0",
            "_view_name": "HBoxView",
            "box_style": "",
            "children": [
              "IPY_MODEL_d9a4be98fd2145209b0f9ddbc9adecd2",
              "IPY_MODEL_c103f4b8895343fa97a2a6c2ca2ea39b",
              "IPY_MODEL_363a047ebc6543b3b6b347b8197489cd"
            ],
            "layout": "IPY_MODEL_50fe12d11ced4b3a9afd0bdd56323865"
          }
        },
        "d9a4be98fd2145209b0f9ddbc9adecd2": {
          "model_module": "@jupyter-widgets/controls",
          "model_name": "HTMLModel",
          "model_module_version": "1.5.0",
          "state": {
            "_dom_classes": [],
            "_model_module": "@jupyter-widgets/controls",
            "_model_module_version": "1.5.0",
            "_model_name": "HTMLModel",
            "_view_count": null,
            "_view_module": "@jupyter-widgets/controls",
            "_view_module_version": "1.5.0",
            "_view_name": "HTMLView",
            "description": "",
            "description_tooltip": null,
            "layout": "IPY_MODEL_e11019e73ebd49d5a6cef2bdc65a9e5d",
            "placeholder": "​",
            "style": "IPY_MODEL_65a2ad34bb32412f84aff53691991bb8",
            "value": "Epochs 3/5. Running Loss:    0.0012: 100%"
          }
        },
        "c103f4b8895343fa97a2a6c2ca2ea39b": {
          "model_module": "@jupyter-widgets/controls",
          "model_name": "FloatProgressModel",
          "model_module_version": "1.5.0",
          "state": {
            "_dom_classes": [],
            "_model_module": "@jupyter-widgets/controls",
            "_model_module_version": "1.5.0",
            "_model_name": "FloatProgressModel",
            "_view_count": null,
            "_view_module": "@jupyter-widgets/controls",
            "_view_module_version": "1.5.0",
            "_view_name": "ProgressView",
            "bar_style": "success",
            "description": "",
            "description_tooltip": null,
            "layout": "IPY_MODEL_8a87ef2dee9c48628b58e01cde603d71",
            "max": 1138,
            "min": 0,
            "orientation": "horizontal",
            "style": "IPY_MODEL_985b0cb3c75545839b343086fec99cec",
            "value": 1138
          }
        },
        "363a047ebc6543b3b6b347b8197489cd": {
          "model_module": "@jupyter-widgets/controls",
          "model_name": "HTMLModel",
          "model_module_version": "1.5.0",
          "state": {
            "_dom_classes": [],
            "_model_module": "@jupyter-widgets/controls",
            "_model_module_version": "1.5.0",
            "_model_name": "HTMLModel",
            "_view_count": null,
            "_view_module": "@jupyter-widgets/controls",
            "_view_module_version": "1.5.0",
            "_view_name": "HTMLView",
            "description": "",
            "description_tooltip": null,
            "layout": "IPY_MODEL_ce540eb1442b49af8456efeff2309000",
            "placeholder": "​",
            "style": "IPY_MODEL_565117f9e02b4e54b632ba5d5d55cd64",
            "value": " 1138/1138 [02:26&lt;00:00,  8.56it/s]"
          }
        },
        "50fe12d11ced4b3a9afd0bdd56323865": {
          "model_module": "@jupyter-widgets/base",
          "model_name": "LayoutModel",
          "model_module_version": "1.2.0",
          "state": {
            "_model_module": "@jupyter-widgets/base",
            "_model_module_version": "1.2.0",
            "_model_name": "LayoutModel",
            "_view_count": null,
            "_view_module": "@jupyter-widgets/base",
            "_view_module_version": "1.2.0",
            "_view_name": "LayoutView",
            "align_content": null,
            "align_items": null,
            "align_self": null,
            "border": null,
            "bottom": null,
            "display": null,
            "flex": null,
            "flex_flow": null,
            "grid_area": null,
            "grid_auto_columns": null,
            "grid_auto_flow": null,
            "grid_auto_rows": null,
            "grid_column": null,
            "grid_gap": null,
            "grid_row": null,
            "grid_template_areas": null,
            "grid_template_columns": null,
            "grid_template_rows": null,
            "height": null,
            "justify_content": null,
            "justify_items": null,
            "left": null,
            "margin": null,
            "max_height": null,
            "max_width": null,
            "min_height": null,
            "min_width": null,
            "object_fit": null,
            "object_position": null,
            "order": null,
            "overflow": null,
            "overflow_x": null,
            "overflow_y": null,
            "padding": null,
            "right": null,
            "top": null,
            "visibility": null,
            "width": null
          }
        },
        "e11019e73ebd49d5a6cef2bdc65a9e5d": {
          "model_module": "@jupyter-widgets/base",
          "model_name": "LayoutModel",
          "model_module_version": "1.2.0",
          "state": {
            "_model_module": "@jupyter-widgets/base",
            "_model_module_version": "1.2.0",
            "_model_name": "LayoutModel",
            "_view_count": null,
            "_view_module": "@jupyter-widgets/base",
            "_view_module_version": "1.2.0",
            "_view_name": "LayoutView",
            "align_content": null,
            "align_items": null,
            "align_self": null,
            "border": null,
            "bottom": null,
            "display": null,
            "flex": null,
            "flex_flow": null,
            "grid_area": null,
            "grid_auto_columns": null,
            "grid_auto_flow": null,
            "grid_auto_rows": null,
            "grid_column": null,
            "grid_gap": null,
            "grid_row": null,
            "grid_template_areas": null,
            "grid_template_columns": null,
            "grid_template_rows": null,
            "height": null,
            "justify_content": null,
            "justify_items": null,
            "left": null,
            "margin": null,
            "max_height": null,
            "max_width": null,
            "min_height": null,
            "min_width": null,
            "object_fit": null,
            "object_position": null,
            "order": null,
            "overflow": null,
            "overflow_x": null,
            "overflow_y": null,
            "padding": null,
            "right": null,
            "top": null,
            "visibility": null,
            "width": null
          }
        },
        "65a2ad34bb32412f84aff53691991bb8": {
          "model_module": "@jupyter-widgets/controls",
          "model_name": "DescriptionStyleModel",
          "model_module_version": "1.5.0",
          "state": {
            "_model_module": "@jupyter-widgets/controls",
            "_model_module_version": "1.5.0",
            "_model_name": "DescriptionStyleModel",
            "_view_count": null,
            "_view_module": "@jupyter-widgets/base",
            "_view_module_version": "1.2.0",
            "_view_name": "StyleView",
            "description_width": ""
          }
        },
        "8a87ef2dee9c48628b58e01cde603d71": {
          "model_module": "@jupyter-widgets/base",
          "model_name": "LayoutModel",
          "model_module_version": "1.2.0",
          "state": {
            "_model_module": "@jupyter-widgets/base",
            "_model_module_version": "1.2.0",
            "_model_name": "LayoutModel",
            "_view_count": null,
            "_view_module": "@jupyter-widgets/base",
            "_view_module_version": "1.2.0",
            "_view_name": "LayoutView",
            "align_content": null,
            "align_items": null,
            "align_self": null,
            "border": null,
            "bottom": null,
            "display": null,
            "flex": null,
            "flex_flow": null,
            "grid_area": null,
            "grid_auto_columns": null,
            "grid_auto_flow": null,
            "grid_auto_rows": null,
            "grid_column": null,
            "grid_gap": null,
            "grid_row": null,
            "grid_template_areas": null,
            "grid_template_columns": null,
            "grid_template_rows": null,
            "height": null,
            "justify_content": null,
            "justify_items": null,
            "left": null,
            "margin": null,
            "max_height": null,
            "max_width": null,
            "min_height": null,
            "min_width": null,
            "object_fit": null,
            "object_position": null,
            "order": null,
            "overflow": null,
            "overflow_x": null,
            "overflow_y": null,
            "padding": null,
            "right": null,
            "top": null,
            "visibility": null,
            "width": null
          }
        },
        "985b0cb3c75545839b343086fec99cec": {
          "model_module": "@jupyter-widgets/controls",
          "model_name": "ProgressStyleModel",
          "model_module_version": "1.5.0",
          "state": {
            "_model_module": "@jupyter-widgets/controls",
            "_model_module_version": "1.5.0",
            "_model_name": "ProgressStyleModel",
            "_view_count": null,
            "_view_module": "@jupyter-widgets/base",
            "_view_module_version": "1.2.0",
            "_view_name": "StyleView",
            "bar_color": null,
            "description_width": ""
          }
        },
        "ce540eb1442b49af8456efeff2309000": {
          "model_module": "@jupyter-widgets/base",
          "model_name": "LayoutModel",
          "model_module_version": "1.2.0",
          "state": {
            "_model_module": "@jupyter-widgets/base",
            "_model_module_version": "1.2.0",
            "_model_name": "LayoutModel",
            "_view_count": null,
            "_view_module": "@jupyter-widgets/base",
            "_view_module_version": "1.2.0",
            "_view_name": "LayoutView",
            "align_content": null,
            "align_items": null,
            "align_self": null,
            "border": null,
            "bottom": null,
            "display": null,
            "flex": null,
            "flex_flow": null,
            "grid_area": null,
            "grid_auto_columns": null,
            "grid_auto_flow": null,
            "grid_auto_rows": null,
            "grid_column": null,
            "grid_gap": null,
            "grid_row": null,
            "grid_template_areas": null,
            "grid_template_columns": null,
            "grid_template_rows": null,
            "height": null,
            "justify_content": null,
            "justify_items": null,
            "left": null,
            "margin": null,
            "max_height": null,
            "max_width": null,
            "min_height": null,
            "min_width": null,
            "object_fit": null,
            "object_position": null,
            "order": null,
            "overflow": null,
            "overflow_x": null,
            "overflow_y": null,
            "padding": null,
            "right": null,
            "top": null,
            "visibility": null,
            "width": null
          }
        },
        "565117f9e02b4e54b632ba5d5d55cd64": {
          "model_module": "@jupyter-widgets/controls",
          "model_name": "DescriptionStyleModel",
          "model_module_version": "1.5.0",
          "state": {
            "_model_module": "@jupyter-widgets/controls",
            "_model_module_version": "1.5.0",
            "_model_name": "DescriptionStyleModel",
            "_view_count": null,
            "_view_module": "@jupyter-widgets/base",
            "_view_module_version": "1.2.0",
            "_view_name": "StyleView",
            "description_width": ""
          }
        },
        "ed33ce366a2f4970951e68f92ae0b726": {
          "model_module": "@jupyter-widgets/controls",
          "model_name": "HBoxModel",
          "model_module_version": "1.5.0",
          "state": {
            "_dom_classes": [],
            "_model_module": "@jupyter-widgets/controls",
            "_model_module_version": "1.5.0",
            "_model_name": "HBoxModel",
            "_view_count": null,
            "_view_module": "@jupyter-widgets/controls",
            "_view_module_version": "1.5.0",
            "_view_name": "HBoxView",
            "box_style": "",
            "children": [
              "IPY_MODEL_3be388bfff444f859ba4c8595d27ddea",
              "IPY_MODEL_db1b76eed3144e22ba9052e23da44049",
              "IPY_MODEL_a9c665d99b6c4885a89d8c09eb52358a"
            ],
            "layout": "IPY_MODEL_0cb45ed7e9884047aafe85d5208c490c"
          }
        },
        "3be388bfff444f859ba4c8595d27ddea": {
          "model_module": "@jupyter-widgets/controls",
          "model_name": "HTMLModel",
          "model_module_version": "1.5.0",
          "state": {
            "_dom_classes": [],
            "_model_module": "@jupyter-widgets/controls",
            "_model_module_version": "1.5.0",
            "_model_name": "HTMLModel",
            "_view_count": null,
            "_view_module": "@jupyter-widgets/controls",
            "_view_module_version": "1.5.0",
            "_view_name": "HTMLView",
            "description": "",
            "description_tooltip": null,
            "layout": "IPY_MODEL_34ebef5826244231a04be5cd163906f8",
            "placeholder": "​",
            "style": "IPY_MODEL_993b806f648345f7b77acff64db54201",
            "value": "Epochs 4/5. Running Loss:    0.0001: 100%"
          }
        },
        "db1b76eed3144e22ba9052e23da44049": {
          "model_module": "@jupyter-widgets/controls",
          "model_name": "FloatProgressModel",
          "model_module_version": "1.5.0",
          "state": {
            "_dom_classes": [],
            "_model_module": "@jupyter-widgets/controls",
            "_model_module_version": "1.5.0",
            "_model_name": "FloatProgressModel",
            "_view_count": null,
            "_view_module": "@jupyter-widgets/controls",
            "_view_module_version": "1.5.0",
            "_view_name": "ProgressView",
            "bar_style": "success",
            "description": "",
            "description_tooltip": null,
            "layout": "IPY_MODEL_739884c5afe84a48b506e24233d67a9c",
            "max": 1138,
            "min": 0,
            "orientation": "horizontal",
            "style": "IPY_MODEL_266b8ca6d5e74eb3beeba63f292c29d9",
            "value": 1138
          }
        },
        "a9c665d99b6c4885a89d8c09eb52358a": {
          "model_module": "@jupyter-widgets/controls",
          "model_name": "HTMLModel",
          "model_module_version": "1.5.0",
          "state": {
            "_dom_classes": [],
            "_model_module": "@jupyter-widgets/controls",
            "_model_module_version": "1.5.0",
            "_model_name": "HTMLModel",
            "_view_count": null,
            "_view_module": "@jupyter-widgets/controls",
            "_view_module_version": "1.5.0",
            "_view_name": "HTMLView",
            "description": "",
            "description_tooltip": null,
            "layout": "IPY_MODEL_c837270ec87c465ba3c2db611bcab597",
            "placeholder": "​",
            "style": "IPY_MODEL_6bc571d116434601b4b527a7870602bb",
            "value": " 1138/1138 [02:24&lt;00:00,  8.48it/s]"
          }
        },
        "0cb45ed7e9884047aafe85d5208c490c": {
          "model_module": "@jupyter-widgets/base",
          "model_name": "LayoutModel",
          "model_module_version": "1.2.0",
          "state": {
            "_model_module": "@jupyter-widgets/base",
            "_model_module_version": "1.2.0",
            "_model_name": "LayoutModel",
            "_view_count": null,
            "_view_module": "@jupyter-widgets/base",
            "_view_module_version": "1.2.0",
            "_view_name": "LayoutView",
            "align_content": null,
            "align_items": null,
            "align_self": null,
            "border": null,
            "bottom": null,
            "display": null,
            "flex": null,
            "flex_flow": null,
            "grid_area": null,
            "grid_auto_columns": null,
            "grid_auto_flow": null,
            "grid_auto_rows": null,
            "grid_column": null,
            "grid_gap": null,
            "grid_row": null,
            "grid_template_areas": null,
            "grid_template_columns": null,
            "grid_template_rows": null,
            "height": null,
            "justify_content": null,
            "justify_items": null,
            "left": null,
            "margin": null,
            "max_height": null,
            "max_width": null,
            "min_height": null,
            "min_width": null,
            "object_fit": null,
            "object_position": null,
            "order": null,
            "overflow": null,
            "overflow_x": null,
            "overflow_y": null,
            "padding": null,
            "right": null,
            "top": null,
            "visibility": null,
            "width": null
          }
        },
        "34ebef5826244231a04be5cd163906f8": {
          "model_module": "@jupyter-widgets/base",
          "model_name": "LayoutModel",
          "model_module_version": "1.2.0",
          "state": {
            "_model_module": "@jupyter-widgets/base",
            "_model_module_version": "1.2.0",
            "_model_name": "LayoutModel",
            "_view_count": null,
            "_view_module": "@jupyter-widgets/base",
            "_view_module_version": "1.2.0",
            "_view_name": "LayoutView",
            "align_content": null,
            "align_items": null,
            "align_self": null,
            "border": null,
            "bottom": null,
            "display": null,
            "flex": null,
            "flex_flow": null,
            "grid_area": null,
            "grid_auto_columns": null,
            "grid_auto_flow": null,
            "grid_auto_rows": null,
            "grid_column": null,
            "grid_gap": null,
            "grid_row": null,
            "grid_template_areas": null,
            "grid_template_columns": null,
            "grid_template_rows": null,
            "height": null,
            "justify_content": null,
            "justify_items": null,
            "left": null,
            "margin": null,
            "max_height": null,
            "max_width": null,
            "min_height": null,
            "min_width": null,
            "object_fit": null,
            "object_position": null,
            "order": null,
            "overflow": null,
            "overflow_x": null,
            "overflow_y": null,
            "padding": null,
            "right": null,
            "top": null,
            "visibility": null,
            "width": null
          }
        },
        "993b806f648345f7b77acff64db54201": {
          "model_module": "@jupyter-widgets/controls",
          "model_name": "DescriptionStyleModel",
          "model_module_version": "1.5.0",
          "state": {
            "_model_module": "@jupyter-widgets/controls",
            "_model_module_version": "1.5.0",
            "_model_name": "DescriptionStyleModel",
            "_view_count": null,
            "_view_module": "@jupyter-widgets/base",
            "_view_module_version": "1.2.0",
            "_view_name": "StyleView",
            "description_width": ""
          }
        },
        "739884c5afe84a48b506e24233d67a9c": {
          "model_module": "@jupyter-widgets/base",
          "model_name": "LayoutModel",
          "model_module_version": "1.2.0",
          "state": {
            "_model_module": "@jupyter-widgets/base",
            "_model_module_version": "1.2.0",
            "_model_name": "LayoutModel",
            "_view_count": null,
            "_view_module": "@jupyter-widgets/base",
            "_view_module_version": "1.2.0",
            "_view_name": "LayoutView",
            "align_content": null,
            "align_items": null,
            "align_self": null,
            "border": null,
            "bottom": null,
            "display": null,
            "flex": null,
            "flex_flow": null,
            "grid_area": null,
            "grid_auto_columns": null,
            "grid_auto_flow": null,
            "grid_auto_rows": null,
            "grid_column": null,
            "grid_gap": null,
            "grid_row": null,
            "grid_template_areas": null,
            "grid_template_columns": null,
            "grid_template_rows": null,
            "height": null,
            "justify_content": null,
            "justify_items": null,
            "left": null,
            "margin": null,
            "max_height": null,
            "max_width": null,
            "min_height": null,
            "min_width": null,
            "object_fit": null,
            "object_position": null,
            "order": null,
            "overflow": null,
            "overflow_x": null,
            "overflow_y": null,
            "padding": null,
            "right": null,
            "top": null,
            "visibility": null,
            "width": null
          }
        },
        "266b8ca6d5e74eb3beeba63f292c29d9": {
          "model_module": "@jupyter-widgets/controls",
          "model_name": "ProgressStyleModel",
          "model_module_version": "1.5.0",
          "state": {
            "_model_module": "@jupyter-widgets/controls",
            "_model_module_version": "1.5.0",
            "_model_name": "ProgressStyleModel",
            "_view_count": null,
            "_view_module": "@jupyter-widgets/base",
            "_view_module_version": "1.2.0",
            "_view_name": "StyleView",
            "bar_color": null,
            "description_width": ""
          }
        },
        "c837270ec87c465ba3c2db611bcab597": {
          "model_module": "@jupyter-widgets/base",
          "model_name": "LayoutModel",
          "model_module_version": "1.2.0",
          "state": {
            "_model_module": "@jupyter-widgets/base",
            "_model_module_version": "1.2.0",
            "_model_name": "LayoutModel",
            "_view_count": null,
            "_view_module": "@jupyter-widgets/base",
            "_view_module_version": "1.2.0",
            "_view_name": "LayoutView",
            "align_content": null,
            "align_items": null,
            "align_self": null,
            "border": null,
            "bottom": null,
            "display": null,
            "flex": null,
            "flex_flow": null,
            "grid_area": null,
            "grid_auto_columns": null,
            "grid_auto_flow": null,
            "grid_auto_rows": null,
            "grid_column": null,
            "grid_gap": null,
            "grid_row": null,
            "grid_template_areas": null,
            "grid_template_columns": null,
            "grid_template_rows": null,
            "height": null,
            "justify_content": null,
            "justify_items": null,
            "left": null,
            "margin": null,
            "max_height": null,
            "max_width": null,
            "min_height": null,
            "min_width": null,
            "object_fit": null,
            "object_position": null,
            "order": null,
            "overflow": null,
            "overflow_x": null,
            "overflow_y": null,
            "padding": null,
            "right": null,
            "top": null,
            "visibility": null,
            "width": null
          }
        },
        "6bc571d116434601b4b527a7870602bb": {
          "model_module": "@jupyter-widgets/controls",
          "model_name": "DescriptionStyleModel",
          "model_module_version": "1.5.0",
          "state": {
            "_model_module": "@jupyter-widgets/controls",
            "_model_module_version": "1.5.0",
            "_model_name": "DescriptionStyleModel",
            "_view_count": null,
            "_view_module": "@jupyter-widgets/base",
            "_view_module_version": "1.2.0",
            "_view_name": "StyleView",
            "description_width": ""
          }
        },
        "d277536a54544bd8a68682b8ca00d2a5": {
          "model_module": "@jupyter-widgets/controls",
          "model_name": "HBoxModel",
          "model_module_version": "1.5.0",
          "state": {
            "_dom_classes": [],
            "_model_module": "@jupyter-widgets/controls",
            "_model_module_version": "1.5.0",
            "_model_name": "HBoxModel",
            "_view_count": null,
            "_view_module": "@jupyter-widgets/controls",
            "_view_module_version": "1.5.0",
            "_view_name": "HBoxView",
            "box_style": "",
            "children": [
              "IPY_MODEL_d2f30556fab64ce3ba909dd3b79802cb",
              "IPY_MODEL_5bfa6d2665754af292e58d559f092fff",
              "IPY_MODEL_cbbf643981b64cfab2e5b35e4e25d557"
            ],
            "layout": "IPY_MODEL_ef0053adec16497faa4e29a18e8f39f1"
          }
        },
        "d2f30556fab64ce3ba909dd3b79802cb": {
          "model_module": "@jupyter-widgets/controls",
          "model_name": "HTMLModel",
          "model_module_version": "1.5.0",
          "state": {
            "_dom_classes": [],
            "_model_module": "@jupyter-widgets/controls",
            "_model_module_version": "1.5.0",
            "_model_name": "HTMLModel",
            "_view_count": null,
            "_view_module": "@jupyter-widgets/controls",
            "_view_module_version": "1.5.0",
            "_view_name": "HTMLView",
            "description": "",
            "description_tooltip": null,
            "layout": "IPY_MODEL_17e3788d02dc4a76990d697004dba55f",
            "placeholder": "​",
            "style": "IPY_MODEL_1e1342239039489cbb15ae125d51e91f",
            "value": "100%"
          }
        },
        "5bfa6d2665754af292e58d559f092fff": {
          "model_module": "@jupyter-widgets/controls",
          "model_name": "FloatProgressModel",
          "model_module_version": "1.5.0",
          "state": {
            "_dom_classes": [],
            "_model_module": "@jupyter-widgets/controls",
            "_model_module_version": "1.5.0",
            "_model_name": "FloatProgressModel",
            "_view_count": null,
            "_view_module": "@jupyter-widgets/controls",
            "_view_module_version": "1.5.0",
            "_view_name": "ProgressView",
            "bar_style": "success",
            "description": "",
            "description_tooltip": null,
            "layout": "IPY_MODEL_d7968627ad1049e3a6b336cf7263962b",
            "max": 12894,
            "min": 0,
            "orientation": "horizontal",
            "style": "IPY_MODEL_82597a18016548deb76e2de3df8378c1",
            "value": 12894
          }
        },
        "cbbf643981b64cfab2e5b35e4e25d557": {
          "model_module": "@jupyter-widgets/controls",
          "model_name": "HTMLModel",
          "model_module_version": "1.5.0",
          "state": {
            "_dom_classes": [],
            "_model_module": "@jupyter-widgets/controls",
            "_model_module_version": "1.5.0",
            "_model_name": "HTMLModel",
            "_view_count": null,
            "_view_module": "@jupyter-widgets/controls",
            "_view_module_version": "1.5.0",
            "_view_name": "HTMLView",
            "description": "",
            "description_tooltip": null,
            "layout": "IPY_MODEL_9cf4e8f0c9f34926bf5779600b30fb4b",
            "placeholder": "​",
            "style": "IPY_MODEL_c6817b0cae9b4b8094e65a5c5b0e7c43",
            "value": " 12894/12894 [00:04&lt;00:00, 3251.48it/s]"
          }
        },
        "ef0053adec16497faa4e29a18e8f39f1": {
          "model_module": "@jupyter-widgets/base",
          "model_name": "LayoutModel",
          "model_module_version": "1.2.0",
          "state": {
            "_model_module": "@jupyter-widgets/base",
            "_model_module_version": "1.2.0",
            "_model_name": "LayoutModel",
            "_view_count": null,
            "_view_module": "@jupyter-widgets/base",
            "_view_module_version": "1.2.0",
            "_view_name": "LayoutView",
            "align_content": null,
            "align_items": null,
            "align_self": null,
            "border": null,
            "bottom": null,
            "display": null,
            "flex": null,
            "flex_flow": null,
            "grid_area": null,
            "grid_auto_columns": null,
            "grid_auto_flow": null,
            "grid_auto_rows": null,
            "grid_column": null,
            "grid_gap": null,
            "grid_row": null,
            "grid_template_areas": null,
            "grid_template_columns": null,
            "grid_template_rows": null,
            "height": null,
            "justify_content": null,
            "justify_items": null,
            "left": null,
            "margin": null,
            "max_height": null,
            "max_width": null,
            "min_height": null,
            "min_width": null,
            "object_fit": null,
            "object_position": null,
            "order": null,
            "overflow": null,
            "overflow_x": null,
            "overflow_y": null,
            "padding": null,
            "right": null,
            "top": null,
            "visibility": null,
            "width": null
          }
        },
        "17e3788d02dc4a76990d697004dba55f": {
          "model_module": "@jupyter-widgets/base",
          "model_name": "LayoutModel",
          "model_module_version": "1.2.0",
          "state": {
            "_model_module": "@jupyter-widgets/base",
            "_model_module_version": "1.2.0",
            "_model_name": "LayoutModel",
            "_view_count": null,
            "_view_module": "@jupyter-widgets/base",
            "_view_module_version": "1.2.0",
            "_view_name": "LayoutView",
            "align_content": null,
            "align_items": null,
            "align_self": null,
            "border": null,
            "bottom": null,
            "display": null,
            "flex": null,
            "flex_flow": null,
            "grid_area": null,
            "grid_auto_columns": null,
            "grid_auto_flow": null,
            "grid_auto_rows": null,
            "grid_column": null,
            "grid_gap": null,
            "grid_row": null,
            "grid_template_areas": null,
            "grid_template_columns": null,
            "grid_template_rows": null,
            "height": null,
            "justify_content": null,
            "justify_items": null,
            "left": null,
            "margin": null,
            "max_height": null,
            "max_width": null,
            "min_height": null,
            "min_width": null,
            "object_fit": null,
            "object_position": null,
            "order": null,
            "overflow": null,
            "overflow_x": null,
            "overflow_y": null,
            "padding": null,
            "right": null,
            "top": null,
            "visibility": null,
            "width": null
          }
        },
        "1e1342239039489cbb15ae125d51e91f": {
          "model_module": "@jupyter-widgets/controls",
          "model_name": "DescriptionStyleModel",
          "model_module_version": "1.5.0",
          "state": {
            "_model_module": "@jupyter-widgets/controls",
            "_model_module_version": "1.5.0",
            "_model_name": "DescriptionStyleModel",
            "_view_count": null,
            "_view_module": "@jupyter-widgets/base",
            "_view_module_version": "1.2.0",
            "_view_name": "StyleView",
            "description_width": ""
          }
        },
        "d7968627ad1049e3a6b336cf7263962b": {
          "model_module": "@jupyter-widgets/base",
          "model_name": "LayoutModel",
          "model_module_version": "1.2.0",
          "state": {
            "_model_module": "@jupyter-widgets/base",
            "_model_module_version": "1.2.0",
            "_model_name": "LayoutModel",
            "_view_count": null,
            "_view_module": "@jupyter-widgets/base",
            "_view_module_version": "1.2.0",
            "_view_name": "LayoutView",
            "align_content": null,
            "align_items": null,
            "align_self": null,
            "border": null,
            "bottom": null,
            "display": null,
            "flex": null,
            "flex_flow": null,
            "grid_area": null,
            "grid_auto_columns": null,
            "grid_auto_flow": null,
            "grid_auto_rows": null,
            "grid_column": null,
            "grid_gap": null,
            "grid_row": null,
            "grid_template_areas": null,
            "grid_template_columns": null,
            "grid_template_rows": null,
            "height": null,
            "justify_content": null,
            "justify_items": null,
            "left": null,
            "margin": null,
            "max_height": null,
            "max_width": null,
            "min_height": null,
            "min_width": null,
            "object_fit": null,
            "object_position": null,
            "order": null,
            "overflow": null,
            "overflow_x": null,
            "overflow_y": null,
            "padding": null,
            "right": null,
            "top": null,
            "visibility": null,
            "width": null
          }
        },
        "82597a18016548deb76e2de3df8378c1": {
          "model_module": "@jupyter-widgets/controls",
          "model_name": "ProgressStyleModel",
          "model_module_version": "1.5.0",
          "state": {
            "_model_module": "@jupyter-widgets/controls",
            "_model_module_version": "1.5.0",
            "_model_name": "ProgressStyleModel",
            "_view_count": null,
            "_view_module": "@jupyter-widgets/base",
            "_view_module_version": "1.2.0",
            "_view_name": "StyleView",
            "bar_color": null,
            "description_width": ""
          }
        },
        "9cf4e8f0c9f34926bf5779600b30fb4b": {
          "model_module": "@jupyter-widgets/base",
          "model_name": "LayoutModel",
          "model_module_version": "1.2.0",
          "state": {
            "_model_module": "@jupyter-widgets/base",
            "_model_module_version": "1.2.0",
            "_model_name": "LayoutModel",
            "_view_count": null,
            "_view_module": "@jupyter-widgets/base",
            "_view_module_version": "1.2.0",
            "_view_name": "LayoutView",
            "align_content": null,
            "align_items": null,
            "align_self": null,
            "border": null,
            "bottom": null,
            "display": null,
            "flex": null,
            "flex_flow": null,
            "grid_area": null,
            "grid_auto_columns": null,
            "grid_auto_flow": null,
            "grid_auto_rows": null,
            "grid_column": null,
            "grid_gap": null,
            "grid_row": null,
            "grid_template_areas": null,
            "grid_template_columns": null,
            "grid_template_rows": null,
            "height": null,
            "justify_content": null,
            "justify_items": null,
            "left": null,
            "margin": null,
            "max_height": null,
            "max_width": null,
            "min_height": null,
            "min_width": null,
            "object_fit": null,
            "object_position": null,
            "order": null,
            "overflow": null,
            "overflow_x": null,
            "overflow_y": null,
            "padding": null,
            "right": null,
            "top": null,
            "visibility": null,
            "width": null
          }
        },
        "c6817b0cae9b4b8094e65a5c5b0e7c43": {
          "model_module": "@jupyter-widgets/controls",
          "model_name": "DescriptionStyleModel",
          "model_module_version": "1.5.0",
          "state": {
            "_model_module": "@jupyter-widgets/controls",
            "_model_module_version": "1.5.0",
            "_model_name": "DescriptionStyleModel",
            "_view_count": null,
            "_view_module": "@jupyter-widgets/base",
            "_view_module_version": "1.2.0",
            "_view_name": "StyleView",
            "description_width": ""
          }
        },
        "12d18b9f5c7942d1b2a5bb010cc67522": {
          "model_module": "@jupyter-widgets/controls",
          "model_name": "HBoxModel",
          "model_module_version": "1.5.0",
          "state": {
            "_dom_classes": [],
            "_model_module": "@jupyter-widgets/controls",
            "_model_module_version": "1.5.0",
            "_model_name": "HBoxModel",
            "_view_count": null,
            "_view_module": "@jupyter-widgets/controls",
            "_view_module_version": "1.5.0",
            "_view_name": "HBoxView",
            "box_style": "",
            "children": [
              "IPY_MODEL_cad675e2878d4fabaf8aa8f9867ffc09",
              "IPY_MODEL_43a04168af0b403d81267a3adc3da7b4",
              "IPY_MODEL_83f3ddbdee8e45d38842db417a2bd7c7"
            ],
            "layout": "IPY_MODEL_bd258331751848ffade9e4285757998c"
          }
        },
        "cad675e2878d4fabaf8aa8f9867ffc09": {
          "model_module": "@jupyter-widgets/controls",
          "model_name": "HTMLModel",
          "model_module_version": "1.5.0",
          "state": {
            "_dom_classes": [],
            "_model_module": "@jupyter-widgets/controls",
            "_model_module_version": "1.5.0",
            "_model_name": "HTMLModel",
            "_view_count": null,
            "_view_module": "@jupyter-widgets/controls",
            "_view_module_version": "1.5.0",
            "_view_name": "HTMLView",
            "description": "",
            "description_tooltip": null,
            "layout": "IPY_MODEL_f0882119a70b4d8e88903e8648c676a3",
            "placeholder": "​",
            "style": "IPY_MODEL_a49877e336014dc89442caef3f8680f1",
            "value": "Running Evaluation: 100%"
          }
        },
        "43a04168af0b403d81267a3adc3da7b4": {
          "model_module": "@jupyter-widgets/controls",
          "model_name": "FloatProgressModel",
          "model_module_version": "1.5.0",
          "state": {
            "_dom_classes": [],
            "_model_module": "@jupyter-widgets/controls",
            "_model_module_version": "1.5.0",
            "_model_name": "FloatProgressModel",
            "_view_count": null,
            "_view_module": "@jupyter-widgets/controls",
            "_view_module_version": "1.5.0",
            "_view_name": "ProgressView",
            "bar_style": "success",
            "description": "",
            "description_tooltip": null,
            "layout": "IPY_MODEL_15605a7da1344ff1b1cd4320bbd155b7",
            "max": 286,
            "min": 0,
            "orientation": "horizontal",
            "style": "IPY_MODEL_40657786b1d445f8a95c64e145e52d42",
            "value": 286
          }
        },
        "83f3ddbdee8e45d38842db417a2bd7c7": {
          "model_module": "@jupyter-widgets/controls",
          "model_name": "HTMLModel",
          "model_module_version": "1.5.0",
          "state": {
            "_dom_classes": [],
            "_model_module": "@jupyter-widgets/controls",
            "_model_module_version": "1.5.0",
            "_model_name": "HTMLModel",
            "_view_count": null,
            "_view_module": "@jupyter-widgets/controls",
            "_view_module_version": "1.5.0",
            "_view_name": "HTMLView",
            "description": "",
            "description_tooltip": null,
            "layout": "IPY_MODEL_d6a3cec28ec34a95b383389164a65ee2",
            "placeholder": "​",
            "style": "IPY_MODEL_e031c1175869478a986f76352904e6b7",
            "value": " 286/286 [00:11&lt;00:00, 25.88it/s]"
          }
        },
        "bd258331751848ffade9e4285757998c": {
          "model_module": "@jupyter-widgets/base",
          "model_name": "LayoutModel",
          "model_module_version": "1.2.0",
          "state": {
            "_model_module": "@jupyter-widgets/base",
            "_model_module_version": "1.2.0",
            "_model_name": "LayoutModel",
            "_view_count": null,
            "_view_module": "@jupyter-widgets/base",
            "_view_module_version": "1.2.0",
            "_view_name": "LayoutView",
            "align_content": null,
            "align_items": null,
            "align_self": null,
            "border": null,
            "bottom": null,
            "display": null,
            "flex": null,
            "flex_flow": null,
            "grid_area": null,
            "grid_auto_columns": null,
            "grid_auto_flow": null,
            "grid_auto_rows": null,
            "grid_column": null,
            "grid_gap": null,
            "grid_row": null,
            "grid_template_areas": null,
            "grid_template_columns": null,
            "grid_template_rows": null,
            "height": null,
            "justify_content": null,
            "justify_items": null,
            "left": null,
            "margin": null,
            "max_height": null,
            "max_width": null,
            "min_height": null,
            "min_width": null,
            "object_fit": null,
            "object_position": null,
            "order": null,
            "overflow": null,
            "overflow_x": null,
            "overflow_y": null,
            "padding": null,
            "right": null,
            "top": null,
            "visibility": null,
            "width": null
          }
        },
        "f0882119a70b4d8e88903e8648c676a3": {
          "model_module": "@jupyter-widgets/base",
          "model_name": "LayoutModel",
          "model_module_version": "1.2.0",
          "state": {
            "_model_module": "@jupyter-widgets/base",
            "_model_module_version": "1.2.0",
            "_model_name": "LayoutModel",
            "_view_count": null,
            "_view_module": "@jupyter-widgets/base",
            "_view_module_version": "1.2.0",
            "_view_name": "LayoutView",
            "align_content": null,
            "align_items": null,
            "align_self": null,
            "border": null,
            "bottom": null,
            "display": null,
            "flex": null,
            "flex_flow": null,
            "grid_area": null,
            "grid_auto_columns": null,
            "grid_auto_flow": null,
            "grid_auto_rows": null,
            "grid_column": null,
            "grid_gap": null,
            "grid_row": null,
            "grid_template_areas": null,
            "grid_template_columns": null,
            "grid_template_rows": null,
            "height": null,
            "justify_content": null,
            "justify_items": null,
            "left": null,
            "margin": null,
            "max_height": null,
            "max_width": null,
            "min_height": null,
            "min_width": null,
            "object_fit": null,
            "object_position": null,
            "order": null,
            "overflow": null,
            "overflow_x": null,
            "overflow_y": null,
            "padding": null,
            "right": null,
            "top": null,
            "visibility": null,
            "width": null
          }
        },
        "a49877e336014dc89442caef3f8680f1": {
          "model_module": "@jupyter-widgets/controls",
          "model_name": "DescriptionStyleModel",
          "model_module_version": "1.5.0",
          "state": {
            "_model_module": "@jupyter-widgets/controls",
            "_model_module_version": "1.5.0",
            "_model_name": "DescriptionStyleModel",
            "_view_count": null,
            "_view_module": "@jupyter-widgets/base",
            "_view_module_version": "1.2.0",
            "_view_name": "StyleView",
            "description_width": ""
          }
        },
        "15605a7da1344ff1b1cd4320bbd155b7": {
          "model_module": "@jupyter-widgets/base",
          "model_name": "LayoutModel",
          "model_module_version": "1.2.0",
          "state": {
            "_model_module": "@jupyter-widgets/base",
            "_model_module_version": "1.2.0",
            "_model_name": "LayoutModel",
            "_view_count": null,
            "_view_module": "@jupyter-widgets/base",
            "_view_module_version": "1.2.0",
            "_view_name": "LayoutView",
            "align_content": null,
            "align_items": null,
            "align_self": null,
            "border": null,
            "bottom": null,
            "display": null,
            "flex": null,
            "flex_flow": null,
            "grid_area": null,
            "grid_auto_columns": null,
            "grid_auto_flow": null,
            "grid_auto_rows": null,
            "grid_column": null,
            "grid_gap": null,
            "grid_row": null,
            "grid_template_areas": null,
            "grid_template_columns": null,
            "grid_template_rows": null,
            "height": null,
            "justify_content": null,
            "justify_items": null,
            "left": null,
            "margin": null,
            "max_height": null,
            "max_width": null,
            "min_height": null,
            "min_width": null,
            "object_fit": null,
            "object_position": null,
            "order": null,
            "overflow": null,
            "overflow_x": null,
            "overflow_y": null,
            "padding": null,
            "right": null,
            "top": null,
            "visibility": null,
            "width": null
          }
        },
        "40657786b1d445f8a95c64e145e52d42": {
          "model_module": "@jupyter-widgets/controls",
          "model_name": "ProgressStyleModel",
          "model_module_version": "1.5.0",
          "state": {
            "_model_module": "@jupyter-widgets/controls",
            "_model_module_version": "1.5.0",
            "_model_name": "ProgressStyleModel",
            "_view_count": null,
            "_view_module": "@jupyter-widgets/base",
            "_view_module_version": "1.2.0",
            "_view_name": "StyleView",
            "bar_color": null,
            "description_width": ""
          }
        },
        "d6a3cec28ec34a95b383389164a65ee2": {
          "model_module": "@jupyter-widgets/base",
          "model_name": "LayoutModel",
          "model_module_version": "1.2.0",
          "state": {
            "_model_module": "@jupyter-widgets/base",
            "_model_module_version": "1.2.0",
            "_model_name": "LayoutModel",
            "_view_count": null,
            "_view_module": "@jupyter-widgets/base",
            "_view_module_version": "1.2.0",
            "_view_name": "LayoutView",
            "align_content": null,
            "align_items": null,
            "align_self": null,
            "border": null,
            "bottom": null,
            "display": null,
            "flex": null,
            "flex_flow": null,
            "grid_area": null,
            "grid_auto_columns": null,
            "grid_auto_flow": null,
            "grid_auto_rows": null,
            "grid_column": null,
            "grid_gap": null,
            "grid_row": null,
            "grid_template_areas": null,
            "grid_template_columns": null,
            "grid_template_rows": null,
            "height": null,
            "justify_content": null,
            "justify_items": null,
            "left": null,
            "margin": null,
            "max_height": null,
            "max_width": null,
            "min_height": null,
            "min_width": null,
            "object_fit": null,
            "object_position": null,
            "order": null,
            "overflow": null,
            "overflow_x": null,
            "overflow_y": null,
            "padding": null,
            "right": null,
            "top": null,
            "visibility": null,
            "width": null
          }
        },
        "e031c1175869478a986f76352904e6b7": {
          "model_module": "@jupyter-widgets/controls",
          "model_name": "DescriptionStyleModel",
          "model_module_version": "1.5.0",
          "state": {
            "_model_module": "@jupyter-widgets/controls",
            "_model_module_version": "1.5.0",
            "_model_name": "DescriptionStyleModel",
            "_view_count": null,
            "_view_module": "@jupyter-widgets/base",
            "_view_module_version": "1.2.0",
            "_view_name": "StyleView",
            "description_width": ""
          }
        },
        "ae574e336ffe4e099419e87b22390d59": {
          "model_module": "@jupyter-widgets/controls",
          "model_name": "HBoxModel",
          "model_module_version": "1.5.0",
          "state": {
            "_dom_classes": [],
            "_model_module": "@jupyter-widgets/controls",
            "_model_module_version": "1.5.0",
            "_model_name": "HBoxModel",
            "_view_count": null,
            "_view_module": "@jupyter-widgets/controls",
            "_view_module_version": "1.5.0",
            "_view_name": "HBoxView",
            "box_style": "",
            "children": [
              "IPY_MODEL_65d43774311c42faa24edac7558b3c26",
              "IPY_MODEL_25ef550d468647d5b2eab3ec381330e3",
              "IPY_MODEL_d3109894941f4ec38810070030032d20"
            ],
            "layout": "IPY_MODEL_dd90e5db65074766bcfec84343d9ba92"
          }
        },
        "65d43774311c42faa24edac7558b3c26": {
          "model_module": "@jupyter-widgets/controls",
          "model_name": "HTMLModel",
          "model_module_version": "1.5.0",
          "state": {
            "_dom_classes": [],
            "_model_module": "@jupyter-widgets/controls",
            "_model_module_version": "1.5.0",
            "_model_name": "HTMLModel",
            "_view_count": null,
            "_view_module": "@jupyter-widgets/controls",
            "_view_module_version": "1.5.0",
            "_view_name": "HTMLView",
            "description": "",
            "description_tooltip": null,
            "layout": "IPY_MODEL_2bc85ba35e854e2892fce83aa3457e96",
            "placeholder": "​",
            "style": "IPY_MODEL_ffad88440b5648ddabf0501c1567f692",
            "value": "100%"
          }
        },
        "25ef550d468647d5b2eab3ec381330e3": {
          "model_module": "@jupyter-widgets/controls",
          "model_name": "FloatProgressModel",
          "model_module_version": "1.5.0",
          "state": {
            "_dom_classes": [],
            "_model_module": "@jupyter-widgets/controls",
            "_model_module_version": "1.5.0",
            "_model_name": "FloatProgressModel",
            "_view_count": null,
            "_view_module": "@jupyter-widgets/controls",
            "_view_module_version": "1.5.0",
            "_view_name": "ProgressView",
            "bar_style": "success",
            "description": "",
            "description_tooltip": null,
            "layout": "IPY_MODEL_b5bef472ee9840f9b0529878a677a848",
            "max": 1035,
            "min": 0,
            "orientation": "horizontal",
            "style": "IPY_MODEL_f527290a63554a9da3a1a442616b944d",
            "value": 1035
          }
        },
        "d3109894941f4ec38810070030032d20": {
          "model_module": "@jupyter-widgets/controls",
          "model_name": "HTMLModel",
          "model_module_version": "1.5.0",
          "state": {
            "_dom_classes": [],
            "_model_module": "@jupyter-widgets/controls",
            "_model_module_version": "1.5.0",
            "_model_name": "HTMLModel",
            "_view_count": null,
            "_view_module": "@jupyter-widgets/controls",
            "_view_module_version": "1.5.0",
            "_view_name": "HTMLView",
            "description": "",
            "description_tooltip": null,
            "layout": "IPY_MODEL_661b2186badf431dbaf77fcf3fda041d",
            "placeholder": "​",
            "style": "IPY_MODEL_9b76ac4b422245c493a07c57fa710e51",
            "value": " 1035/1035 [00:00&lt;00:00,  4.35it/s]"
          }
        },
        "dd90e5db65074766bcfec84343d9ba92": {
          "model_module": "@jupyter-widgets/base",
          "model_name": "LayoutModel",
          "model_module_version": "1.2.0",
          "state": {
            "_model_module": "@jupyter-widgets/base",
            "_model_module_version": "1.2.0",
            "_model_name": "LayoutModel",
            "_view_count": null,
            "_view_module": "@jupyter-widgets/base",
            "_view_module_version": "1.2.0",
            "_view_name": "LayoutView",
            "align_content": null,
            "align_items": null,
            "align_self": null,
            "border": null,
            "bottom": null,
            "display": null,
            "flex": null,
            "flex_flow": null,
            "grid_area": null,
            "grid_auto_columns": null,
            "grid_auto_flow": null,
            "grid_auto_rows": null,
            "grid_column": null,
            "grid_gap": null,
            "grid_row": null,
            "grid_template_areas": null,
            "grid_template_columns": null,
            "grid_template_rows": null,
            "height": null,
            "justify_content": null,
            "justify_items": null,
            "left": null,
            "margin": null,
            "max_height": null,
            "max_width": null,
            "min_height": null,
            "min_width": null,
            "object_fit": null,
            "object_position": null,
            "order": null,
            "overflow": null,
            "overflow_x": null,
            "overflow_y": null,
            "padding": null,
            "right": null,
            "top": null,
            "visibility": null,
            "width": null
          }
        },
        "2bc85ba35e854e2892fce83aa3457e96": {
          "model_module": "@jupyter-widgets/base",
          "model_name": "LayoutModel",
          "model_module_version": "1.2.0",
          "state": {
            "_model_module": "@jupyter-widgets/base",
            "_model_module_version": "1.2.0",
            "_model_name": "LayoutModel",
            "_view_count": null,
            "_view_module": "@jupyter-widgets/base",
            "_view_module_version": "1.2.0",
            "_view_name": "LayoutView",
            "align_content": null,
            "align_items": null,
            "align_self": null,
            "border": null,
            "bottom": null,
            "display": null,
            "flex": null,
            "flex_flow": null,
            "grid_area": null,
            "grid_auto_columns": null,
            "grid_auto_flow": null,
            "grid_auto_rows": null,
            "grid_column": null,
            "grid_gap": null,
            "grid_row": null,
            "grid_template_areas": null,
            "grid_template_columns": null,
            "grid_template_rows": null,
            "height": null,
            "justify_content": null,
            "justify_items": null,
            "left": null,
            "margin": null,
            "max_height": null,
            "max_width": null,
            "min_height": null,
            "min_width": null,
            "object_fit": null,
            "object_position": null,
            "order": null,
            "overflow": null,
            "overflow_x": null,
            "overflow_y": null,
            "padding": null,
            "right": null,
            "top": null,
            "visibility": null,
            "width": null
          }
        },
        "ffad88440b5648ddabf0501c1567f692": {
          "model_module": "@jupyter-widgets/controls",
          "model_name": "DescriptionStyleModel",
          "model_module_version": "1.5.0",
          "state": {
            "_model_module": "@jupyter-widgets/controls",
            "_model_module_version": "1.5.0",
            "_model_name": "DescriptionStyleModel",
            "_view_count": null,
            "_view_module": "@jupyter-widgets/base",
            "_view_module_version": "1.2.0",
            "_view_name": "StyleView",
            "description_width": ""
          }
        },
        "b5bef472ee9840f9b0529878a677a848": {
          "model_module": "@jupyter-widgets/base",
          "model_name": "LayoutModel",
          "model_module_version": "1.2.0",
          "state": {
            "_model_module": "@jupyter-widgets/base",
            "_model_module_version": "1.2.0",
            "_model_name": "LayoutModel",
            "_view_count": null,
            "_view_module": "@jupyter-widgets/base",
            "_view_module_version": "1.2.0",
            "_view_name": "LayoutView",
            "align_content": null,
            "align_items": null,
            "align_self": null,
            "border": null,
            "bottom": null,
            "display": null,
            "flex": null,
            "flex_flow": null,
            "grid_area": null,
            "grid_auto_columns": null,
            "grid_auto_flow": null,
            "grid_auto_rows": null,
            "grid_column": null,
            "grid_gap": null,
            "grid_row": null,
            "grid_template_areas": null,
            "grid_template_columns": null,
            "grid_template_rows": null,
            "height": null,
            "justify_content": null,
            "justify_items": null,
            "left": null,
            "margin": null,
            "max_height": null,
            "max_width": null,
            "min_height": null,
            "min_width": null,
            "object_fit": null,
            "object_position": null,
            "order": null,
            "overflow": null,
            "overflow_x": null,
            "overflow_y": null,
            "padding": null,
            "right": null,
            "top": null,
            "visibility": null,
            "width": null
          }
        },
        "f527290a63554a9da3a1a442616b944d": {
          "model_module": "@jupyter-widgets/controls",
          "model_name": "ProgressStyleModel",
          "model_module_version": "1.5.0",
          "state": {
            "_model_module": "@jupyter-widgets/controls",
            "_model_module_version": "1.5.0",
            "_model_name": "ProgressStyleModel",
            "_view_count": null,
            "_view_module": "@jupyter-widgets/base",
            "_view_module_version": "1.2.0",
            "_view_name": "StyleView",
            "bar_color": null,
            "description_width": ""
          }
        },
        "661b2186badf431dbaf77fcf3fda041d": {
          "model_module": "@jupyter-widgets/base",
          "model_name": "LayoutModel",
          "model_module_version": "1.2.0",
          "state": {
            "_model_module": "@jupyter-widgets/base",
            "_model_module_version": "1.2.0",
            "_model_name": "LayoutModel",
            "_view_count": null,
            "_view_module": "@jupyter-widgets/base",
            "_view_module_version": "1.2.0",
            "_view_name": "LayoutView",
            "align_content": null,
            "align_items": null,
            "align_self": null,
            "border": null,
            "bottom": null,
            "display": null,
            "flex": null,
            "flex_flow": null,
            "grid_area": null,
            "grid_auto_columns": null,
            "grid_auto_flow": null,
            "grid_auto_rows": null,
            "grid_column": null,
            "grid_gap": null,
            "grid_row": null,
            "grid_template_areas": null,
            "grid_template_columns": null,
            "grid_template_rows": null,
            "height": null,
            "justify_content": null,
            "justify_items": null,
            "left": null,
            "margin": null,
            "max_height": null,
            "max_width": null,
            "min_height": null,
            "min_width": null,
            "object_fit": null,
            "object_position": null,
            "order": null,
            "overflow": null,
            "overflow_x": null,
            "overflow_y": null,
            "padding": null,
            "right": null,
            "top": null,
            "visibility": null,
            "width": null
          }
        },
        "9b76ac4b422245c493a07c57fa710e51": {
          "model_module": "@jupyter-widgets/controls",
          "model_name": "DescriptionStyleModel",
          "model_module_version": "1.5.0",
          "state": {
            "_model_module": "@jupyter-widgets/controls",
            "_model_module_version": "1.5.0",
            "_model_name": "DescriptionStyleModel",
            "_view_count": null,
            "_view_module": "@jupyter-widgets/base",
            "_view_module_version": "1.2.0",
            "_view_name": "StyleView",
            "description_width": ""
          }
        },
        "513db8ddbd8b4c659288d383f610f74a": {
          "model_module": "@jupyter-widgets/controls",
          "model_name": "HBoxModel",
          "model_module_version": "1.5.0",
          "state": {
            "_dom_classes": [],
            "_model_module": "@jupyter-widgets/controls",
            "_model_module_version": "1.5.0",
            "_model_name": "HBoxModel",
            "_view_count": null,
            "_view_module": "@jupyter-widgets/controls",
            "_view_module_version": "1.5.0",
            "_view_name": "HBoxView",
            "box_style": "",
            "children": [
              "IPY_MODEL_3e5915c4f66f498abbfec7a55b460fe3",
              "IPY_MODEL_421e8e8694884a26b604087bfb68ae84",
              "IPY_MODEL_5b114eeba5b84e5786c0d0324c08075c"
            ],
            "layout": "IPY_MODEL_3bd81accdfba4d5497e443c0b9ff7307"
          }
        },
        "3e5915c4f66f498abbfec7a55b460fe3": {
          "model_module": "@jupyter-widgets/controls",
          "model_name": "HTMLModel",
          "model_module_version": "1.5.0",
          "state": {
            "_dom_classes": [],
            "_model_module": "@jupyter-widgets/controls",
            "_model_module_version": "1.5.0",
            "_model_name": "HTMLModel",
            "_view_count": null,
            "_view_module": "@jupyter-widgets/controls",
            "_view_module_version": "1.5.0",
            "_view_name": "HTMLView",
            "description": "",
            "description_tooltip": null,
            "layout": "IPY_MODEL_5de2a755b48041559a58cb42a988d25a",
            "placeholder": "​",
            "style": "IPY_MODEL_a110cf9f66ae425aa9500b9415350a4a",
            "value": "100%"
          }
        },
        "421e8e8694884a26b604087bfb68ae84": {
          "model_module": "@jupyter-widgets/controls",
          "model_name": "FloatProgressModel",
          "model_module_version": "1.5.0",
          "state": {
            "_dom_classes": [],
            "_model_module": "@jupyter-widgets/controls",
            "_model_module_version": "1.5.0",
            "_model_name": "FloatProgressModel",
            "_view_count": null,
            "_view_module": "@jupyter-widgets/controls",
            "_view_module_version": "1.5.0",
            "_view_name": "ProgressView",
            "bar_style": "success",
            "description": "",
            "description_tooltip": null,
            "layout": "IPY_MODEL_ea9bd059a3484da08dce1a486f15be70",
            "max": 9,
            "min": 0,
            "orientation": "horizontal",
            "style": "IPY_MODEL_15e206928f0d4a3da4c7c5da85f8a878",
            "value": 9
          }
        },
        "5b114eeba5b84e5786c0d0324c08075c": {
          "model_module": "@jupyter-widgets/controls",
          "model_name": "HTMLModel",
          "model_module_version": "1.5.0",
          "state": {
            "_dom_classes": [],
            "_model_module": "@jupyter-widgets/controls",
            "_model_module_version": "1.5.0",
            "_model_name": "HTMLModel",
            "_view_count": null,
            "_view_module": "@jupyter-widgets/controls",
            "_view_module_version": "1.5.0",
            "_view_name": "HTMLView",
            "description": "",
            "description_tooltip": null,
            "layout": "IPY_MODEL_abd567bcd9124e24991c4545fa9577fd",
            "placeholder": "​",
            "style": "IPY_MODEL_8a4ea6d77bbb4eaf9792ed084b71070a",
            "value": " 9/9 [00:00&lt;00:00, 22.09it/s]"
          }
        },
        "3bd81accdfba4d5497e443c0b9ff7307": {
          "model_module": "@jupyter-widgets/base",
          "model_name": "LayoutModel",
          "model_module_version": "1.2.0",
          "state": {
            "_model_module": "@jupyter-widgets/base",
            "_model_module_version": "1.2.0",
            "_model_name": "LayoutModel",
            "_view_count": null,
            "_view_module": "@jupyter-widgets/base",
            "_view_module_version": "1.2.0",
            "_view_name": "LayoutView",
            "align_content": null,
            "align_items": null,
            "align_self": null,
            "border": null,
            "bottom": null,
            "display": null,
            "flex": null,
            "flex_flow": null,
            "grid_area": null,
            "grid_auto_columns": null,
            "grid_auto_flow": null,
            "grid_auto_rows": null,
            "grid_column": null,
            "grid_gap": null,
            "grid_row": null,
            "grid_template_areas": null,
            "grid_template_columns": null,
            "grid_template_rows": null,
            "height": null,
            "justify_content": null,
            "justify_items": null,
            "left": null,
            "margin": null,
            "max_height": null,
            "max_width": null,
            "min_height": null,
            "min_width": null,
            "object_fit": null,
            "object_position": null,
            "order": null,
            "overflow": null,
            "overflow_x": null,
            "overflow_y": null,
            "padding": null,
            "right": null,
            "top": null,
            "visibility": null,
            "width": null
          }
        },
        "5de2a755b48041559a58cb42a988d25a": {
          "model_module": "@jupyter-widgets/base",
          "model_name": "LayoutModel",
          "model_module_version": "1.2.0",
          "state": {
            "_model_module": "@jupyter-widgets/base",
            "_model_module_version": "1.2.0",
            "_model_name": "LayoutModel",
            "_view_count": null,
            "_view_module": "@jupyter-widgets/base",
            "_view_module_version": "1.2.0",
            "_view_name": "LayoutView",
            "align_content": null,
            "align_items": null,
            "align_self": null,
            "border": null,
            "bottom": null,
            "display": null,
            "flex": null,
            "flex_flow": null,
            "grid_area": null,
            "grid_auto_columns": null,
            "grid_auto_flow": null,
            "grid_auto_rows": null,
            "grid_column": null,
            "grid_gap": null,
            "grid_row": null,
            "grid_template_areas": null,
            "grid_template_columns": null,
            "grid_template_rows": null,
            "height": null,
            "justify_content": null,
            "justify_items": null,
            "left": null,
            "margin": null,
            "max_height": null,
            "max_width": null,
            "min_height": null,
            "min_width": null,
            "object_fit": null,
            "object_position": null,
            "order": null,
            "overflow": null,
            "overflow_x": null,
            "overflow_y": null,
            "padding": null,
            "right": null,
            "top": null,
            "visibility": null,
            "width": null
          }
        },
        "a110cf9f66ae425aa9500b9415350a4a": {
          "model_module": "@jupyter-widgets/controls",
          "model_name": "DescriptionStyleModel",
          "model_module_version": "1.5.0",
          "state": {
            "_model_module": "@jupyter-widgets/controls",
            "_model_module_version": "1.5.0",
            "_model_name": "DescriptionStyleModel",
            "_view_count": null,
            "_view_module": "@jupyter-widgets/base",
            "_view_module_version": "1.2.0",
            "_view_name": "StyleView",
            "description_width": ""
          }
        },
        "ea9bd059a3484da08dce1a486f15be70": {
          "model_module": "@jupyter-widgets/base",
          "model_name": "LayoutModel",
          "model_module_version": "1.2.0",
          "state": {
            "_model_module": "@jupyter-widgets/base",
            "_model_module_version": "1.2.0",
            "_model_name": "LayoutModel",
            "_view_count": null,
            "_view_module": "@jupyter-widgets/base",
            "_view_module_version": "1.2.0",
            "_view_name": "LayoutView",
            "align_content": null,
            "align_items": null,
            "align_self": null,
            "border": null,
            "bottom": null,
            "display": null,
            "flex": null,
            "flex_flow": null,
            "grid_area": null,
            "grid_auto_columns": null,
            "grid_auto_flow": null,
            "grid_auto_rows": null,
            "grid_column": null,
            "grid_gap": null,
            "grid_row": null,
            "grid_template_areas": null,
            "grid_template_columns": null,
            "grid_template_rows": null,
            "height": null,
            "justify_content": null,
            "justify_items": null,
            "left": null,
            "margin": null,
            "max_height": null,
            "max_width": null,
            "min_height": null,
            "min_width": null,
            "object_fit": null,
            "object_position": null,
            "order": null,
            "overflow": null,
            "overflow_x": null,
            "overflow_y": null,
            "padding": null,
            "right": null,
            "top": null,
            "visibility": null,
            "width": null
          }
        },
        "15e206928f0d4a3da4c7c5da85f8a878": {
          "model_module": "@jupyter-widgets/controls",
          "model_name": "ProgressStyleModel",
          "model_module_version": "1.5.0",
          "state": {
            "_model_module": "@jupyter-widgets/controls",
            "_model_module_version": "1.5.0",
            "_model_name": "ProgressStyleModel",
            "_view_count": null,
            "_view_module": "@jupyter-widgets/base",
            "_view_module_version": "1.2.0",
            "_view_name": "StyleView",
            "bar_color": null,
            "description_width": ""
          }
        },
        "abd567bcd9124e24991c4545fa9577fd": {
          "model_module": "@jupyter-widgets/base",
          "model_name": "LayoutModel",
          "model_module_version": "1.2.0",
          "state": {
            "_model_module": "@jupyter-widgets/base",
            "_model_module_version": "1.2.0",
            "_model_name": "LayoutModel",
            "_view_count": null,
            "_view_module": "@jupyter-widgets/base",
            "_view_module_version": "1.2.0",
            "_view_name": "LayoutView",
            "align_content": null,
            "align_items": null,
            "align_self": null,
            "border": null,
            "bottom": null,
            "display": null,
            "flex": null,
            "flex_flow": null,
            "grid_area": null,
            "grid_auto_columns": null,
            "grid_auto_flow": null,
            "grid_auto_rows": null,
            "grid_column": null,
            "grid_gap": null,
            "grid_row": null,
            "grid_template_areas": null,
            "grid_template_columns": null,
            "grid_template_rows": null,
            "height": null,
            "justify_content": null,
            "justify_items": null,
            "left": null,
            "margin": null,
            "max_height": null,
            "max_width": null,
            "min_height": null,
            "min_width": null,
            "object_fit": null,
            "object_position": null,
            "order": null,
            "overflow": null,
            "overflow_x": null,
            "overflow_y": null,
            "padding": null,
            "right": null,
            "top": null,
            "visibility": null,
            "width": null
          }
        },
        "8a4ea6d77bbb4eaf9792ed084b71070a": {
          "model_module": "@jupyter-widgets/controls",
          "model_name": "DescriptionStyleModel",
          "model_module_version": "1.5.0",
          "state": {
            "_model_module": "@jupyter-widgets/controls",
            "_model_module_version": "1.5.0",
            "_model_name": "DescriptionStyleModel",
            "_view_count": null,
            "_view_module": "@jupyter-widgets/base",
            "_view_module_version": "1.2.0",
            "_view_name": "StyleView",
            "description_width": ""
          }
        }
      }
    },
    "accelerator": "GPU"
  },
  "nbformat": 4,
  "nbformat_minor": 5
}